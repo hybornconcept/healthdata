{
 "cells": [
  {
   "cell_type": "markdown",
   "metadata": {},
   "source": [
    "#### Importing Libaries and packages  need"
   ]
  },
  {
   "cell_type": "code",
   "execution_count": 24,
   "metadata": {},
   "outputs": [],
   "source": [
    "import pandas as pd\n",
    "import numpy as np\n",
    "import missingno as msno\n",
    "import plotly.express as px\n"
   ]
  },
  {
   "cell_type": "markdown",
   "metadata": {},
   "source": [
    "#### Reading the files( 'doctors.csv ','hospital_visits.csv','patients.csv')"
   ]
  },
  {
   "cell_type": "code",
   "execution_count": 25,
   "metadata": {},
   "outputs": [],
   "source": [
    "\n",
    "# import module\n",
    "import pandas as pd\n",
    "\n",
    "# assign dataset names\n",
    "list_of_names = ['doctors','hospital_visits','patients']\n",
    "  \n",
    "# create empty list\n",
    "dataframes_list = []\n",
    "  \n",
    "# append datasets into teh list\n",
    "for i in range(len(list_of_names)):\n",
    "    temp_df = pd.read_csv(\"./\"+list_of_names[i]+\".csv\")\n",
    "    dataframes_list.append(temp_df)\n",
    "\n",
    "doctor_df = dataframes_list[0]\n",
    "hospital_visits_df = dataframes_list[1]\n",
    "patients_df = dataframes_list[2]"
   ]
  },
  {
   "cell_type": "markdown",
   "metadata": {},
   "source": [
    "##### Merging the files"
   ]
  },
  {
   "cell_type": "code",
   "execution_count": 26,
   "metadata": {},
   "outputs": [
    {
     "data": {
      "text/html": [
       "<div>\n",
       "<style scoped>\n",
       "    .dataframe tbody tr th:only-of-type {\n",
       "        vertical-align: middle;\n",
       "    }\n",
       "\n",
       "    .dataframe tbody tr th {\n",
       "        vertical-align: top;\n",
       "    }\n",
       "\n",
       "    .dataframe thead th {\n",
       "        text-align: right;\n",
       "    }\n",
       "</style>\n",
       "<table border=\"1\" class=\"dataframe\">\n",
       "  <thead>\n",
       "    <tr style=\"text-align: right;\">\n",
       "      <th></th>\n",
       "      <th>id_x</th>\n",
       "      <th>name_x</th>\n",
       "      <th>created_at_x</th>\n",
       "      <th>sex</th>\n",
       "      <th>id_y</th>\n",
       "      <th>patient_id</th>\n",
       "      <th>doctor_id</th>\n",
       "      <th>created_at_y</th>\n",
       "      <th>type</th>\n",
       "      <th>id</th>\n",
       "      <th>name_y</th>\n",
       "      <th>created_at</th>\n",
       "    </tr>\n",
       "  </thead>\n",
       "  <tbody>\n",
       "    <tr>\n",
       "      <th>0</th>\n",
       "      <td>8zlBdIYb3JINAF8JsJPpOg==</td>\n",
       "      <td>GTcUo1tETRlRsHyyZP+av9h6YQGY6IWzc4693Dk+OEE=</td>\n",
       "      <td>2020-03-08</td>\n",
       "      <td>male</td>\n",
       "      <td>vGGugcf8Sxjje0ke3rQyEw==</td>\n",
       "      <td>8zlBdIYb3JINAF8JsJPpOg==</td>\n",
       "      <td>SdYno7IhBPsZxFawi3VT9g==</td>\n",
       "      <td>2021-06-24</td>\n",
       "      <td>out-patient</td>\n",
       "      <td>SdYno7IhBPsZxFawi3VT9g==</td>\n",
       "      <td>WDiDokM3moCTG3lVg+lQmMhh+QDhtMlF/jHj3tjrSDw=</td>\n",
       "      <td>2021-01-03</td>\n",
       "    </tr>\n",
       "    <tr>\n",
       "      <th>1</th>\n",
       "      <td>mIkieJ8/hFBn8WhL7obM7A==</td>\n",
       "      <td>XHB0+FAjJtcape6I90URgLIO5A4ipN8zjkeBpmJLc9s=</td>\n",
       "      <td>2018-10-04</td>\n",
       "      <td>male</td>\n",
       "      <td>VDbW5RQnLvgpIYucwgkOog==</td>\n",
       "      <td>mIkieJ8/hFBn8WhL7obM7A==</td>\n",
       "      <td>SdYno7IhBPsZxFawi3VT9g==</td>\n",
       "      <td>2021-06-28</td>\n",
       "      <td>out-patient</td>\n",
       "      <td>SdYno7IhBPsZxFawi3VT9g==</td>\n",
       "      <td>WDiDokM3moCTG3lVg+lQmMhh+QDhtMlF/jHj3tjrSDw=</td>\n",
       "      <td>2021-01-03</td>\n",
       "    </tr>\n",
       "    <tr>\n",
       "      <th>2</th>\n",
       "      <td>mIkieJ8/hFBn8WhL7obM7A==</td>\n",
       "      <td>XHB0+FAjJtcape6I90URgLIO5A4ipN8zjkeBpmJLc9s=</td>\n",
       "      <td>2018-10-04</td>\n",
       "      <td>male</td>\n",
       "      <td>HuFXRWg3IIYuo+ukPfYDdg==</td>\n",
       "      <td>mIkieJ8/hFBn8WhL7obM7A==</td>\n",
       "      <td>SdYno7IhBPsZxFawi3VT9g==</td>\n",
       "      <td>2021-07-23</td>\n",
       "      <td>out-patient</td>\n",
       "      <td>SdYno7IhBPsZxFawi3VT9g==</td>\n",
       "      <td>WDiDokM3moCTG3lVg+lQmMhh+QDhtMlF/jHj3tjrSDw=</td>\n",
       "      <td>2021-01-03</td>\n",
       "    </tr>\n",
       "    <tr>\n",
       "      <th>3</th>\n",
       "      <td>mIkieJ8/hFBn8WhL7obM7A==</td>\n",
       "      <td>XHB0+FAjJtcape6I90URgLIO5A4ipN8zjkeBpmJLc9s=</td>\n",
       "      <td>2018-10-04</td>\n",
       "      <td>male</td>\n",
       "      <td>zwQMUlFKe5fR8MDRNIo/BQ==</td>\n",
       "      <td>mIkieJ8/hFBn8WhL7obM7A==</td>\n",
       "      <td>SdYno7IhBPsZxFawi3VT9g==</td>\n",
       "      <td>2021-07-24</td>\n",
       "      <td>out-patient</td>\n",
       "      <td>SdYno7IhBPsZxFawi3VT9g==</td>\n",
       "      <td>WDiDokM3moCTG3lVg+lQmMhh+QDhtMlF/jHj3tjrSDw=</td>\n",
       "      <td>2021-01-03</td>\n",
       "    </tr>\n",
       "    <tr>\n",
       "      <th>4</th>\n",
       "      <td>JSXrHQsVDhig9bSnGhjiCg==</td>\n",
       "      <td>sBg1WcRRfMVX/Fn5gSQvQMWXAsXHYR8XJBzGOH5he5I=</td>\n",
       "      <td>2018-07-05</td>\n",
       "      <td>male</td>\n",
       "      <td>ZBCUl3ShAWowAQwhAkaa6A==</td>\n",
       "      <td>JSXrHQsVDhig9bSnGhjiCg==</td>\n",
       "      <td>SdYno7IhBPsZxFawi3VT9g==</td>\n",
       "      <td>2021-06-24</td>\n",
       "      <td>out-patient</td>\n",
       "      <td>SdYno7IhBPsZxFawi3VT9g==</td>\n",
       "      <td>WDiDokM3moCTG3lVg+lQmMhh+QDhtMlF/jHj3tjrSDw=</td>\n",
       "      <td>2021-01-03</td>\n",
       "    </tr>\n",
       "  </tbody>\n",
       "</table>\n",
       "</div>"
      ],
      "text/plain": [
       "                       id_x                                        name_x  \\\n",
       "0  8zlBdIYb3JINAF8JsJPpOg==  GTcUo1tETRlRsHyyZP+av9h6YQGY6IWzc4693Dk+OEE=   \n",
       "1  mIkieJ8/hFBn8WhL7obM7A==  XHB0+FAjJtcape6I90URgLIO5A4ipN8zjkeBpmJLc9s=   \n",
       "2  mIkieJ8/hFBn8WhL7obM7A==  XHB0+FAjJtcape6I90URgLIO5A4ipN8zjkeBpmJLc9s=   \n",
       "3  mIkieJ8/hFBn8WhL7obM7A==  XHB0+FAjJtcape6I90URgLIO5A4ipN8zjkeBpmJLc9s=   \n",
       "4  JSXrHQsVDhig9bSnGhjiCg==  sBg1WcRRfMVX/Fn5gSQvQMWXAsXHYR8XJBzGOH5he5I=   \n",
       "\n",
       "  created_at_x   sex                      id_y                patient_id  \\\n",
       "0   2020-03-08  male  vGGugcf8Sxjje0ke3rQyEw==  8zlBdIYb3JINAF8JsJPpOg==   \n",
       "1   2018-10-04  male  VDbW5RQnLvgpIYucwgkOog==  mIkieJ8/hFBn8WhL7obM7A==   \n",
       "2   2018-10-04  male  HuFXRWg3IIYuo+ukPfYDdg==  mIkieJ8/hFBn8WhL7obM7A==   \n",
       "3   2018-10-04  male  zwQMUlFKe5fR8MDRNIo/BQ==  mIkieJ8/hFBn8WhL7obM7A==   \n",
       "4   2018-07-05  male  ZBCUl3ShAWowAQwhAkaa6A==  JSXrHQsVDhig9bSnGhjiCg==   \n",
       "\n",
       "                  doctor_id created_at_y         type  \\\n",
       "0  SdYno7IhBPsZxFawi3VT9g==   2021-06-24  out-patient   \n",
       "1  SdYno7IhBPsZxFawi3VT9g==   2021-06-28  out-patient   \n",
       "2  SdYno7IhBPsZxFawi3VT9g==   2021-07-23  out-patient   \n",
       "3  SdYno7IhBPsZxFawi3VT9g==   2021-07-24  out-patient   \n",
       "4  SdYno7IhBPsZxFawi3VT9g==   2021-06-24  out-patient   \n",
       "\n",
       "                         id                                        name_y  \\\n",
       "0  SdYno7IhBPsZxFawi3VT9g==  WDiDokM3moCTG3lVg+lQmMhh+QDhtMlF/jHj3tjrSDw=   \n",
       "1  SdYno7IhBPsZxFawi3VT9g==  WDiDokM3moCTG3lVg+lQmMhh+QDhtMlF/jHj3tjrSDw=   \n",
       "2  SdYno7IhBPsZxFawi3VT9g==  WDiDokM3moCTG3lVg+lQmMhh+QDhtMlF/jHj3tjrSDw=   \n",
       "3  SdYno7IhBPsZxFawi3VT9g==  WDiDokM3moCTG3lVg+lQmMhh+QDhtMlF/jHj3tjrSDw=   \n",
       "4  SdYno7IhBPsZxFawi3VT9g==  WDiDokM3moCTG3lVg+lQmMhh+QDhtMlF/jHj3tjrSDw=   \n",
       "\n",
       "   created_at  \n",
       "0  2021-01-03  \n",
       "1  2021-01-03  \n",
       "2  2021-01-03  \n",
       "3  2021-01-03  \n",
       "4  2021-01-03  "
      ]
     },
     "execution_count": 26,
     "metadata": {},
     "output_type": "execute_result"
    }
   ],
   "source": [
    "# merging  patients.csv and hospital_visits\n",
    "merged_df =patients_df.merge(hospital_visits_df, left_on=\"id\", right_on='patient_id')\n",
    "# adding doctors.csv to the mix\n",
    "final_df = merged_df.merge(doctor_df, left_on=\"doctor_id\", right_on='id')\n",
    "final_df.head(5)\n"
   ]
  },
  {
   "cell_type": "markdown",
   "metadata": {},
   "source": [
    "#### Cleaning the dataframe\n",
    "##### dropping rendundant columns and renaming columns appropriately"
   ]
  },
  {
   "cell_type": "markdown",
   "metadata": {},
   "source": [
    "drop id_x and id_y created at x,id,created_at\n",
    "rename name to patient name \n",
    "rename created_at_y to date of visit\n",
    "rename name_y to Doctors_name"
   ]
  },
  {
   "cell_type": "code",
   "execution_count": 27,
   "metadata": {},
   "outputs": [
    {
     "data": {
      "text/html": [
       "<div>\n",
       "<style scoped>\n",
       "    .dataframe tbody tr th:only-of-type {\n",
       "        vertical-align: middle;\n",
       "    }\n",
       "\n",
       "    .dataframe tbody tr th {\n",
       "        vertical-align: top;\n",
       "    }\n",
       "\n",
       "    .dataframe thead th {\n",
       "        text-align: right;\n",
       "    }\n",
       "</style>\n",
       "<table border=\"1\" class=\"dataframe\">\n",
       "  <thead>\n",
       "    <tr style=\"text-align: right;\">\n",
       "      <th></th>\n",
       "      <th>Patient_Name</th>\n",
       "      <th>sex</th>\n",
       "      <th>patient_id</th>\n",
       "      <th>doctor_id</th>\n",
       "      <th>date_of_visit</th>\n",
       "      <th>type</th>\n",
       "      <th>Doctors_name</th>\n",
       "    </tr>\n",
       "  </thead>\n",
       "  <tbody>\n",
       "    <tr>\n",
       "      <th>0</th>\n",
       "      <td>GTcUo1tETRlRsHyyZP+av9h6YQGY6IWzc4693Dk+OEE=</td>\n",
       "      <td>male</td>\n",
       "      <td>8zlBdIYb3JINAF8JsJPpOg==</td>\n",
       "      <td>SdYno7IhBPsZxFawi3VT9g==</td>\n",
       "      <td>2021-06-24</td>\n",
       "      <td>out-patient</td>\n",
       "      <td>WDiDokM3moCTG3lVg+lQmMhh+QDhtMlF/jHj3tjrSDw=</td>\n",
       "    </tr>\n",
       "    <tr>\n",
       "      <th>1</th>\n",
       "      <td>XHB0+FAjJtcape6I90URgLIO5A4ipN8zjkeBpmJLc9s=</td>\n",
       "      <td>male</td>\n",
       "      <td>mIkieJ8/hFBn8WhL7obM7A==</td>\n",
       "      <td>SdYno7IhBPsZxFawi3VT9g==</td>\n",
       "      <td>2021-06-28</td>\n",
       "      <td>out-patient</td>\n",
       "      <td>WDiDokM3moCTG3lVg+lQmMhh+QDhtMlF/jHj3tjrSDw=</td>\n",
       "    </tr>\n",
       "    <tr>\n",
       "      <th>2</th>\n",
       "      <td>XHB0+FAjJtcape6I90URgLIO5A4ipN8zjkeBpmJLc9s=</td>\n",
       "      <td>male</td>\n",
       "      <td>mIkieJ8/hFBn8WhL7obM7A==</td>\n",
       "      <td>SdYno7IhBPsZxFawi3VT9g==</td>\n",
       "      <td>2021-07-23</td>\n",
       "      <td>out-patient</td>\n",
       "      <td>WDiDokM3moCTG3lVg+lQmMhh+QDhtMlF/jHj3tjrSDw=</td>\n",
       "    </tr>\n",
       "    <tr>\n",
       "      <th>3</th>\n",
       "      <td>XHB0+FAjJtcape6I90URgLIO5A4ipN8zjkeBpmJLc9s=</td>\n",
       "      <td>male</td>\n",
       "      <td>mIkieJ8/hFBn8WhL7obM7A==</td>\n",
       "      <td>SdYno7IhBPsZxFawi3VT9g==</td>\n",
       "      <td>2021-07-24</td>\n",
       "      <td>out-patient</td>\n",
       "      <td>WDiDokM3moCTG3lVg+lQmMhh+QDhtMlF/jHj3tjrSDw=</td>\n",
       "    </tr>\n",
       "    <tr>\n",
       "      <th>4</th>\n",
       "      <td>sBg1WcRRfMVX/Fn5gSQvQMWXAsXHYR8XJBzGOH5he5I=</td>\n",
       "      <td>male</td>\n",
       "      <td>JSXrHQsVDhig9bSnGhjiCg==</td>\n",
       "      <td>SdYno7IhBPsZxFawi3VT9g==</td>\n",
       "      <td>2021-06-24</td>\n",
       "      <td>out-patient</td>\n",
       "      <td>WDiDokM3moCTG3lVg+lQmMhh+QDhtMlF/jHj3tjrSDw=</td>\n",
       "    </tr>\n",
       "    <tr>\n",
       "      <th>5</th>\n",
       "      <td>WOT8SypkGrG3diUySsRkALqLMBElbjv9ukGpeyYGKm0=</td>\n",
       "      <td>male</td>\n",
       "      <td>5Lq6of1mUksbAbOwXzUoEg==</td>\n",
       "      <td>SdYno7IhBPsZxFawi3VT9g==</td>\n",
       "      <td>2021-06-12</td>\n",
       "      <td>out-patient</td>\n",
       "      <td>WDiDokM3moCTG3lVg+lQmMhh+QDhtMlF/jHj3tjrSDw=</td>\n",
       "    </tr>\n",
       "    <tr>\n",
       "      <th>6</th>\n",
       "      <td>9Cqo7DlBAVddElVxybe5Qea7VX9N9vWs+EwCaWnQXa8=</td>\n",
       "      <td>male</td>\n",
       "      <td>JBImqBVGoVBuKpSeoaqlLw==</td>\n",
       "      <td>SdYno7IhBPsZxFawi3VT9g==</td>\n",
       "      <td>2021-05-12</td>\n",
       "      <td>out-patient</td>\n",
       "      <td>WDiDokM3moCTG3lVg+lQmMhh+QDhtMlF/jHj3tjrSDw=</td>\n",
       "    </tr>\n",
       "    <tr>\n",
       "      <th>7</th>\n",
       "      <td>oZ7uFc8dnMBpK4nxCCVDE6vArp+ZhQtZsCMIdnNXks4=</td>\n",
       "      <td>male</td>\n",
       "      <td>Q45oywTW2s7E8J5W1arnDw==</td>\n",
       "      <td>SdYno7IhBPsZxFawi3VT9g==</td>\n",
       "      <td>2021-06-03</td>\n",
       "      <td>out-patient</td>\n",
       "      <td>WDiDokM3moCTG3lVg+lQmMhh+QDhtMlF/jHj3tjrSDw=</td>\n",
       "    </tr>\n",
       "    <tr>\n",
       "      <th>8</th>\n",
       "      <td>dFQX4SEs3peoA4YJac3xrgE0TAQkSPusFvUhA7OmS7o=</td>\n",
       "      <td>male</td>\n",
       "      <td>NwmL+egj3X/vzjg0CBqoig==</td>\n",
       "      <td>SdYno7IhBPsZxFawi3VT9g==</td>\n",
       "      <td>2021-07-09</td>\n",
       "      <td>out-patient</td>\n",
       "      <td>WDiDokM3moCTG3lVg+lQmMhh+QDhtMlF/jHj3tjrSDw=</td>\n",
       "    </tr>\n",
       "    <tr>\n",
       "      <th>9</th>\n",
       "      <td>CMah9d/i9Z+YqHKLOUuBCBgDMu237f7RuCfC3kHpgM4=</td>\n",
       "      <td>male</td>\n",
       "      <td>sbbhl7zz5hwgQF3bs6ObOw==</td>\n",
       "      <td>SdYno7IhBPsZxFawi3VT9g==</td>\n",
       "      <td>2021-05-03</td>\n",
       "      <td>out-patient</td>\n",
       "      <td>WDiDokM3moCTG3lVg+lQmMhh+QDhtMlF/jHj3tjrSDw=</td>\n",
       "    </tr>\n",
       "  </tbody>\n",
       "</table>\n",
       "</div>"
      ],
      "text/plain": [
       "                                   Patient_Name   sex  \\\n",
       "0  GTcUo1tETRlRsHyyZP+av9h6YQGY6IWzc4693Dk+OEE=  male   \n",
       "1  XHB0+FAjJtcape6I90URgLIO5A4ipN8zjkeBpmJLc9s=  male   \n",
       "2  XHB0+FAjJtcape6I90URgLIO5A4ipN8zjkeBpmJLc9s=  male   \n",
       "3  XHB0+FAjJtcape6I90URgLIO5A4ipN8zjkeBpmJLc9s=  male   \n",
       "4  sBg1WcRRfMVX/Fn5gSQvQMWXAsXHYR8XJBzGOH5he5I=  male   \n",
       "5  WOT8SypkGrG3diUySsRkALqLMBElbjv9ukGpeyYGKm0=  male   \n",
       "6  9Cqo7DlBAVddElVxybe5Qea7VX9N9vWs+EwCaWnQXa8=  male   \n",
       "7  oZ7uFc8dnMBpK4nxCCVDE6vArp+ZhQtZsCMIdnNXks4=  male   \n",
       "8  dFQX4SEs3peoA4YJac3xrgE0TAQkSPusFvUhA7OmS7o=  male   \n",
       "9  CMah9d/i9Z+YqHKLOUuBCBgDMu237f7RuCfC3kHpgM4=  male   \n",
       "\n",
       "                 patient_id                 doctor_id date_of_visit  \\\n",
       "0  8zlBdIYb3JINAF8JsJPpOg==  SdYno7IhBPsZxFawi3VT9g==    2021-06-24   \n",
       "1  mIkieJ8/hFBn8WhL7obM7A==  SdYno7IhBPsZxFawi3VT9g==    2021-06-28   \n",
       "2  mIkieJ8/hFBn8WhL7obM7A==  SdYno7IhBPsZxFawi3VT9g==    2021-07-23   \n",
       "3  mIkieJ8/hFBn8WhL7obM7A==  SdYno7IhBPsZxFawi3VT9g==    2021-07-24   \n",
       "4  JSXrHQsVDhig9bSnGhjiCg==  SdYno7IhBPsZxFawi3VT9g==    2021-06-24   \n",
       "5  5Lq6of1mUksbAbOwXzUoEg==  SdYno7IhBPsZxFawi3VT9g==    2021-06-12   \n",
       "6  JBImqBVGoVBuKpSeoaqlLw==  SdYno7IhBPsZxFawi3VT9g==    2021-05-12   \n",
       "7  Q45oywTW2s7E8J5W1arnDw==  SdYno7IhBPsZxFawi3VT9g==    2021-06-03   \n",
       "8  NwmL+egj3X/vzjg0CBqoig==  SdYno7IhBPsZxFawi3VT9g==    2021-07-09   \n",
       "9  sbbhl7zz5hwgQF3bs6ObOw==  SdYno7IhBPsZxFawi3VT9g==    2021-05-03   \n",
       "\n",
       "          type                                  Doctors_name  \n",
       "0  out-patient  WDiDokM3moCTG3lVg+lQmMhh+QDhtMlF/jHj3tjrSDw=  \n",
       "1  out-patient  WDiDokM3moCTG3lVg+lQmMhh+QDhtMlF/jHj3tjrSDw=  \n",
       "2  out-patient  WDiDokM3moCTG3lVg+lQmMhh+QDhtMlF/jHj3tjrSDw=  \n",
       "3  out-patient  WDiDokM3moCTG3lVg+lQmMhh+QDhtMlF/jHj3tjrSDw=  \n",
       "4  out-patient  WDiDokM3moCTG3lVg+lQmMhh+QDhtMlF/jHj3tjrSDw=  \n",
       "5  out-patient  WDiDokM3moCTG3lVg+lQmMhh+QDhtMlF/jHj3tjrSDw=  \n",
       "6  out-patient  WDiDokM3moCTG3lVg+lQmMhh+QDhtMlF/jHj3tjrSDw=  \n",
       "7  out-patient  WDiDokM3moCTG3lVg+lQmMhh+QDhtMlF/jHj3tjrSDw=  \n",
       "8  out-patient  WDiDokM3moCTG3lVg+lQmMhh+QDhtMlF/jHj3tjrSDw=  \n",
       "9  out-patient  WDiDokM3moCTG3lVg+lQmMhh+QDhtMlF/jHj3tjrSDw=  "
      ]
     },
     "execution_count": 27,
     "metadata": {},
     "output_type": "execute_result"
    }
   ],
   "source": [
    "#dropping clumns\n",
    "final_df.drop(['id_x', 'id_y','created_at_x','id', 'created_at'], axis = 1 ,inplace=True)\n",
    "final_df.head()\n",
    "\n",
    "\n",
    "#Renaming columns\n",
    "final_df.rename(columns = {'name_x': 'Patient_Name','created_at_y':'date_of_visit','name_y':'Doctors_name' }, inplace = True)\n",
    "final_df.head(10)"
   ]
  },
  {
   "cell_type": "markdown",
   "metadata": {},
   "source": [
    "#### Checking the shape of the data\n"
   ]
  },
  {
   "cell_type": "code",
   "execution_count": 28,
   "metadata": {},
   "outputs": [
    {
     "data": {
      "text/plain": [
       "(1611, 7)"
      ]
     },
     "execution_count": 28,
     "metadata": {},
     "output_type": "execute_result"
    }
   ],
   "source": [
    "final_df.shape"
   ]
  },
  {
   "cell_type": "markdown",
   "metadata": {},
   "source": [
    "##### Expot final dataset"
   ]
  },
  {
   "cell_type": "markdown",
   "metadata": {},
   "source": []
  },
  {
   "cell_type": "markdown",
   "metadata": {},
   "source": [
    "#### Checking for Missind data"
   ]
  },
  {
   "cell_type": "code",
   "execution_count": 29,
   "metadata": {},
   "outputs": [
    {
     "data": {
      "text/plain": [
       "<AxesSubplot:>"
      ]
     },
     "execution_count": 29,
     "metadata": {},
     "output_type": "execute_result"
    },
    {
     "data": {
      "image/png": "[encoded data removed]",
      "text/plain": [
       "<Figure size 1728x720 with 3 Axes>"
      ]
     },
     "metadata": {
      "needs_background": "light"
     },
     "output_type": "display_data"
    }
   ],
   "source": [
    "msno.bar(final_df)\n",
    "\n",
    "# Mo missing data in the dataframw"
   ]
  },
  {
   "cell_type": "markdown",
   "metadata": {},
   "source": [
    "#### Checking the datatypes of the dataframe"
   ]
  },
  {
   "cell_type": "code",
   "execution_count": 30,
   "metadata": {},
   "outputs": [
    {
     "name": "stdout",
     "output_type": "stream",
     "text": [
      "<class 'pandas.core.frame.DataFrame'>\n",
      "Int64Index: 1611 entries, 0 to 1610\n",
      "Data columns (total 7 columns):\n",
      " #   Column         Non-Null Count  Dtype \n",
      "---  ------         --------------  ----- \n",
      " 0   Patient_Name   1611 non-null   object\n",
      " 1   sex            1611 non-null   object\n",
      " 2   patient_id     1611 non-null   object\n",
      " 3   doctor_id      1611 non-null   object\n",
      " 4   date_of_visit  1611 non-null   object\n",
      " 5   type           1611 non-null   object\n",
      " 6   Doctors_name   1611 non-null   object\n",
      "dtypes: object(7)\n",
      "memory usage: 100.7+ KB\n"
     ]
    }
   ],
   "source": [
    "final_df.info()"
   ]
  },
  {
   "cell_type": "markdown",
   "metadata": {},
   "source": [
    "###    Answer 1: Number of hospital visits per day over the period"
   ]
  },
  {
   "cell_type": "code",
   "execution_count": null,
   "metadata": {},
   "outputs": [],
   "source": []
  },
  {
   "cell_type": "markdown",
   "metadata": {},
   "source": [
    "##### Adding a count column"
   ]
  },
  {
   "cell_type": "code",
   "execution_count": 31,
   "metadata": {},
   "outputs": [
    {
     "data": {
      "text/html": [
       "<div>\n",
       "<style scoped>\n",
       "    .dataframe tbody tr th:only-of-type {\n",
       "        vertical-align: middle;\n",
       "    }\n",
       "\n",
       "    .dataframe tbody tr th {\n",
       "        vertical-align: top;\n",
       "    }\n",
       "\n",
       "    .dataframe thead th {\n",
       "        text-align: right;\n",
       "    }\n",
       "</style>\n",
       "<table border=\"1\" class=\"dataframe\">\n",
       "  <thead>\n",
       "    <tr style=\"text-align: right;\">\n",
       "      <th></th>\n",
       "      <th>Patient_Name</th>\n",
       "      <th>sex</th>\n",
       "      <th>patient_id</th>\n",
       "      <th>doctor_id</th>\n",
       "      <th>date_of_visit</th>\n",
       "      <th>type</th>\n",
       "      <th>Doctors_name</th>\n",
       "      <th>count</th>\n",
       "    </tr>\n",
       "  </thead>\n",
       "  <tbody>\n",
       "    <tr>\n",
       "      <th>0</th>\n",
       "      <td>GTcUo1tETRlRsHyyZP+av9h6YQGY6IWzc4693Dk+OEE=</td>\n",
       "      <td>male</td>\n",
       "      <td>8zlBdIYb3JINAF8JsJPpOg==</td>\n",
       "      <td>SdYno7IhBPsZxFawi3VT9g==</td>\n",
       "      <td>2021-06-24</td>\n",
       "      <td>out-patient</td>\n",
       "      <td>WDiDokM3moCTG3lVg+lQmMhh+QDhtMlF/jHj3tjrSDw=</td>\n",
       "      <td>1</td>\n",
       "    </tr>\n",
       "    <tr>\n",
       "      <th>1</th>\n",
       "      <td>XHB0+FAjJtcape6I90URgLIO5A4ipN8zjkeBpmJLc9s=</td>\n",
       "      <td>male</td>\n",
       "      <td>mIkieJ8/hFBn8WhL7obM7A==</td>\n",
       "      <td>SdYno7IhBPsZxFawi3VT9g==</td>\n",
       "      <td>2021-06-28</td>\n",
       "      <td>out-patient</td>\n",
       "      <td>WDiDokM3moCTG3lVg+lQmMhh+QDhtMlF/jHj3tjrSDw=</td>\n",
       "      <td>1</td>\n",
       "    </tr>\n",
       "    <tr>\n",
       "      <th>2</th>\n",
       "      <td>XHB0+FAjJtcape6I90URgLIO5A4ipN8zjkeBpmJLc9s=</td>\n",
       "      <td>male</td>\n",
       "      <td>mIkieJ8/hFBn8WhL7obM7A==</td>\n",
       "      <td>SdYno7IhBPsZxFawi3VT9g==</td>\n",
       "      <td>2021-07-23</td>\n",
       "      <td>out-patient</td>\n",
       "      <td>WDiDokM3moCTG3lVg+lQmMhh+QDhtMlF/jHj3tjrSDw=</td>\n",
       "      <td>1</td>\n",
       "    </tr>\n",
       "    <tr>\n",
       "      <th>3</th>\n",
       "      <td>XHB0+FAjJtcape6I90URgLIO5A4ipN8zjkeBpmJLc9s=</td>\n",
       "      <td>male</td>\n",
       "      <td>mIkieJ8/hFBn8WhL7obM7A==</td>\n",
       "      <td>SdYno7IhBPsZxFawi3VT9g==</td>\n",
       "      <td>2021-07-24</td>\n",
       "      <td>out-patient</td>\n",
       "      <td>WDiDokM3moCTG3lVg+lQmMhh+QDhtMlF/jHj3tjrSDw=</td>\n",
       "      <td>1</td>\n",
       "    </tr>\n",
       "    <tr>\n",
       "      <th>4</th>\n",
       "      <td>sBg1WcRRfMVX/Fn5gSQvQMWXAsXHYR8XJBzGOH5he5I=</td>\n",
       "      <td>male</td>\n",
       "      <td>JSXrHQsVDhig9bSnGhjiCg==</td>\n",
       "      <td>SdYno7IhBPsZxFawi3VT9g==</td>\n",
       "      <td>2021-06-24</td>\n",
       "      <td>out-patient</td>\n",
       "      <td>WDiDokM3moCTG3lVg+lQmMhh+QDhtMlF/jHj3tjrSDw=</td>\n",
       "      <td>1</td>\n",
       "    </tr>\n",
       "  </tbody>\n",
       "</table>\n",
       "</div>"
      ],
      "text/plain": [
       "                                   Patient_Name   sex  \\\n",
       "0  GTcUo1tETRlRsHyyZP+av9h6YQGY6IWzc4693Dk+OEE=  male   \n",
       "1  XHB0+FAjJtcape6I90URgLIO5A4ipN8zjkeBpmJLc9s=  male   \n",
       "2  XHB0+FAjJtcape6I90URgLIO5A4ipN8zjkeBpmJLc9s=  male   \n",
       "3  XHB0+FAjJtcape6I90URgLIO5A4ipN8zjkeBpmJLc9s=  male   \n",
       "4  sBg1WcRRfMVX/Fn5gSQvQMWXAsXHYR8XJBzGOH5he5I=  male   \n",
       "\n",
       "                 patient_id                 doctor_id date_of_visit  \\\n",
       "0  8zlBdIYb3JINAF8JsJPpOg==  SdYno7IhBPsZxFawi3VT9g==    2021-06-24   \n",
       "1  mIkieJ8/hFBn8WhL7obM7A==  SdYno7IhBPsZxFawi3VT9g==    2021-06-28   \n",
       "2  mIkieJ8/hFBn8WhL7obM7A==  SdYno7IhBPsZxFawi3VT9g==    2021-07-23   \n",
       "3  mIkieJ8/hFBn8WhL7obM7A==  SdYno7IhBPsZxFawi3VT9g==    2021-07-24   \n",
       "4  JSXrHQsVDhig9bSnGhjiCg==  SdYno7IhBPsZxFawi3VT9g==    2021-06-24   \n",
       "\n",
       "          type                                  Doctors_name  count  \n",
       "0  out-patient  WDiDokM3moCTG3lVg+lQmMhh+QDhtMlF/jHj3tjrSDw=      1  \n",
       "1  out-patient  WDiDokM3moCTG3lVg+lQmMhh+QDhtMlF/jHj3tjrSDw=      1  \n",
       "2  out-patient  WDiDokM3moCTG3lVg+lQmMhh+QDhtMlF/jHj3tjrSDw=      1  \n",
       "3  out-patient  WDiDokM3moCTG3lVg+lQmMhh+QDhtMlF/jHj3tjrSDw=      1  \n",
       "4  out-patient  WDiDokM3moCTG3lVg+lQmMhh+QDhtMlF/jHj3tjrSDw=      1  "
      ]
     },
     "execution_count": 31,
     "metadata": {},
     "output_type": "execute_result"
    }
   ],
   "source": [
    "final_df['count'] = 1\n",
    "\n",
    "final_df.head()"
   ]
  },
  {
   "cell_type": "markdown",
   "metadata": {},
   "source": [
    "##### Changing the date_of_visit to Date Type"
   ]
  },
  {
   "cell_type": "code",
   "execution_count": 32,
   "metadata": {},
   "outputs": [
    {
     "data": {
      "text/html": [
       "<div>\n",
       "<style scoped>\n",
       "    .dataframe tbody tr th:only-of-type {\n",
       "        vertical-align: middle;\n",
       "    }\n",
       "\n",
       "    .dataframe tbody tr th {\n",
       "        vertical-align: top;\n",
       "    }\n",
       "\n",
       "    .dataframe thead th {\n",
       "        text-align: right;\n",
       "    }\n",
       "</style>\n",
       "<table border=\"1\" class=\"dataframe\">\n",
       "  <thead>\n",
       "    <tr style=\"text-align: right;\">\n",
       "      <th></th>\n",
       "      <th>Patient_Name</th>\n",
       "      <th>sex</th>\n",
       "      <th>patient_id</th>\n",
       "      <th>doctor_id</th>\n",
       "      <th>date_of_visit</th>\n",
       "      <th>type</th>\n",
       "      <th>Doctors_name</th>\n",
       "      <th>count</th>\n",
       "    </tr>\n",
       "  </thead>\n",
       "  <tbody>\n",
       "    <tr>\n",
       "      <th>0</th>\n",
       "      <td>GTcUo1tETRlRsHyyZP+av9h6YQGY6IWzc4693Dk+OEE=</td>\n",
       "      <td>male</td>\n",
       "      <td>8zlBdIYb3JINAF8JsJPpOg==</td>\n",
       "      <td>SdYno7IhBPsZxFawi3VT9g==</td>\n",
       "      <td>2021-06-24</td>\n",
       "      <td>out-patient</td>\n",
       "      <td>WDiDokM3moCTG3lVg+lQmMhh+QDhtMlF/jHj3tjrSDw=</td>\n",
       "      <td>1</td>\n",
       "    </tr>\n",
       "    <tr>\n",
       "      <th>1</th>\n",
       "      <td>XHB0+FAjJtcape6I90URgLIO5A4ipN8zjkeBpmJLc9s=</td>\n",
       "      <td>male</td>\n",
       "      <td>mIkieJ8/hFBn8WhL7obM7A==</td>\n",
       "      <td>SdYno7IhBPsZxFawi3VT9g==</td>\n",
       "      <td>2021-06-28</td>\n",
       "      <td>out-patient</td>\n",
       "      <td>WDiDokM3moCTG3lVg+lQmMhh+QDhtMlF/jHj3tjrSDw=</td>\n",
       "      <td>1</td>\n",
       "    </tr>\n",
       "    <tr>\n",
       "      <th>2</th>\n",
       "      <td>XHB0+FAjJtcape6I90URgLIO5A4ipN8zjkeBpmJLc9s=</td>\n",
       "      <td>male</td>\n",
       "      <td>mIkieJ8/hFBn8WhL7obM7A==</td>\n",
       "      <td>SdYno7IhBPsZxFawi3VT9g==</td>\n",
       "      <td>2021-07-23</td>\n",
       "      <td>out-patient</td>\n",
       "      <td>WDiDokM3moCTG3lVg+lQmMhh+QDhtMlF/jHj3tjrSDw=</td>\n",
       "      <td>1</td>\n",
       "    </tr>\n",
       "    <tr>\n",
       "      <th>3</th>\n",
       "      <td>XHB0+FAjJtcape6I90URgLIO5A4ipN8zjkeBpmJLc9s=</td>\n",
       "      <td>male</td>\n",
       "      <td>mIkieJ8/hFBn8WhL7obM7A==</td>\n",
       "      <td>SdYno7IhBPsZxFawi3VT9g==</td>\n",
       "      <td>2021-07-24</td>\n",
       "      <td>out-patient</td>\n",
       "      <td>WDiDokM3moCTG3lVg+lQmMhh+QDhtMlF/jHj3tjrSDw=</td>\n",
       "      <td>1</td>\n",
       "    </tr>\n",
       "    <tr>\n",
       "      <th>4</th>\n",
       "      <td>sBg1WcRRfMVX/Fn5gSQvQMWXAsXHYR8XJBzGOH5he5I=</td>\n",
       "      <td>male</td>\n",
       "      <td>JSXrHQsVDhig9bSnGhjiCg==</td>\n",
       "      <td>SdYno7IhBPsZxFawi3VT9g==</td>\n",
       "      <td>2021-06-24</td>\n",
       "      <td>out-patient</td>\n",
       "      <td>WDiDokM3moCTG3lVg+lQmMhh+QDhtMlF/jHj3tjrSDw=</td>\n",
       "      <td>1</td>\n",
       "    </tr>\n",
       "  </tbody>\n",
       "</table>\n",
       "</div>"
      ],
      "text/plain": [
       "                                   Patient_Name   sex  \\\n",
       "0  GTcUo1tETRlRsHyyZP+av9h6YQGY6IWzc4693Dk+OEE=  male   \n",
       "1  XHB0+FAjJtcape6I90URgLIO5A4ipN8zjkeBpmJLc9s=  male   \n",
       "2  XHB0+FAjJtcape6I90URgLIO5A4ipN8zjkeBpmJLc9s=  male   \n",
       "3  XHB0+FAjJtcape6I90URgLIO5A4ipN8zjkeBpmJLc9s=  male   \n",
       "4  sBg1WcRRfMVX/Fn5gSQvQMWXAsXHYR8XJBzGOH5he5I=  male   \n",
       "\n",
       "                 patient_id                 doctor_id date_of_visit  \\\n",
       "0  8zlBdIYb3JINAF8JsJPpOg==  SdYno7IhBPsZxFawi3VT9g==    2021-06-24   \n",
       "1  mIkieJ8/hFBn8WhL7obM7A==  SdYno7IhBPsZxFawi3VT9g==    2021-06-28   \n",
       "2  mIkieJ8/hFBn8WhL7obM7A==  SdYno7IhBPsZxFawi3VT9g==    2021-07-23   \n",
       "3  mIkieJ8/hFBn8WhL7obM7A==  SdYno7IhBPsZxFawi3VT9g==    2021-07-24   \n",
       "4  JSXrHQsVDhig9bSnGhjiCg==  SdYno7IhBPsZxFawi3VT9g==    2021-06-24   \n",
       "\n",
       "          type                                  Doctors_name  count  \n",
       "0  out-patient  WDiDokM3moCTG3lVg+lQmMhh+QDhtMlF/jHj3tjrSDw=      1  \n",
       "1  out-patient  WDiDokM3moCTG3lVg+lQmMhh+QDhtMlF/jHj3tjrSDw=      1  \n",
       "2  out-patient  WDiDokM3moCTG3lVg+lQmMhh+QDhtMlF/jHj3tjrSDw=      1  \n",
       "3  out-patient  WDiDokM3moCTG3lVg+lQmMhh+QDhtMlF/jHj3tjrSDw=      1  \n",
       "4  out-patient  WDiDokM3moCTG3lVg+lQmMhh+QDhtMlF/jHj3tjrSDw=      1  "
      ]
     },
     "execution_count": 32,
     "metadata": {},
     "output_type": "execute_result"
    }
   ],
   "source": [
    "final_df[[\"date_of_visit\"]].apply(pd.to_datetime)\n",
    "\n",
    "final_df.head()"
   ]
  },
  {
   "cell_type": "code",
   "execution_count": 33,
   "metadata": {},
   "outputs": [],
   "source": [
    "visits_per_day = final_df.groupby(final_df['date_of_visit']).sum().reset_index()"
   ]
  },
  {
   "cell_type": "markdown",
   "metadata": {},
   "source": [
    "##### Visualizing the Output in Area Chart"
   ]
  },
  {
   "cell_type": "code",
   "execution_count": 34,
   "metadata": {},
   "outputs": [
    {
     "data": {
      "application/vnd.plotly.v1+json": {
       "config": {
        "plotlyServerURL": "https://plot.ly"
       },
       "data": [
        {
         "hovertemplate": "date_of_visit=%{x}<br>count=%{y}<extra></extra>",
         "legendgroup": "",
         "line": {
          "color": "#636efa"
         },
         "marker": {
          "symbol": "circle"
         },
         "mode": "lines",
         "name": "",
         "orientation": "v",
         "showlegend": false,
         "stackgroup": "1",
         "type": "scatter",
         "x": [
          "2021-05-01",
          "2021-05-02",
          "2021-05-03",
          "2021-05-04",
          "2021-05-05",
          "2021-05-06",
          "2021-05-07",
          "2021-05-08",
          "2021-05-09",
          "2021-05-10",
          "2021-05-11",
          "2021-05-12",
          "2021-05-13",
          "2021-05-14",
          "2021-05-15",
          "2021-05-16",
          "2021-05-17",
          "2021-05-18",
          "2021-05-19",
          "2021-05-20",
          "2021-05-21",
          "2021-05-22",
          "2021-05-23",
          "2021-05-24",
          "2021-05-25",
          "2021-05-26",
          "2021-05-27",
          "2021-05-28",
          "2021-05-29",
          "2021-05-30",
          "2021-05-31",
          "2021-06-01",
          "2021-06-02",
          "2021-06-03",
          "2021-06-04",
          "2021-06-05",
          "2021-06-06",
          "2021-06-07",
          "2021-06-08",
          "2021-06-09",
          "2021-06-10",
          "2021-06-11",
          "2021-06-12",
          "2021-06-13",
          "2021-06-14",
          "2021-06-15",
          "2021-06-16",
          "2021-06-17",
          "2021-06-18",
          "2021-06-19",
          "2021-06-20",
          "2021-06-21",
          "2021-06-22",
          "2021-06-23",
          "2021-06-24",
          "2021-06-25",
          "2021-06-26",
          "2021-06-27",
          "2021-06-28",
          "2021-06-29",
          "2021-06-30",
          "2021-07-01",
          "2021-07-02",
          "2021-07-03",
          "2021-07-04",
          "2021-07-05",
          "2021-07-06",
          "2021-07-07",
          "2021-07-08",
          "2021-07-09",
          "2021-07-10",
          "2021-07-11",
          "2021-07-12",
          "2021-07-13",
          "2021-07-14",
          "2021-07-15",
          "2021-07-16",
          "2021-07-17",
          "2021-07-18",
          "2021-07-19",
          "2021-07-20",
          "2021-07-21",
          "2021-07-22",
          "2021-07-23",
          "2021-07-24",
          "2021-07-25",
          "2021-07-26",
          "2021-07-27",
          "2021-07-28",
          "2021-07-29",
          "2021-07-30"
         ],
         "xaxis": "x",
         "y": [
          13,
          10,
          28,
          13,
          31,
          22,
          25,
          10,
          8,
          19,
          21,
          34,
          23,
          20,
          8,
          14,
          17,
          11,
          20,
          23,
          23,
          16,
          11,
          24,
          11,
          17,
          14,
          15,
          15,
          8,
          18,
          16,
          30,
          30,
          17,
          13,
          13,
          19,
          25,
          34,
          22,
          20,
          10,
          6,
          13,
          15,
          20,
          21,
          12,
          14,
          2,
          18,
          8,
          22,
          16,
          19,
          18,
          7,
          21,
          10,
          23,
          23,
          19,
          10,
          6,
          16,
          19,
          27,
          27,
          19,
          10,
          8,
          24,
          14,
          23,
          18,
          7,
          12,
          10,
          19,
          14,
          27,
          19,
          15,
          16,
          14,
          32,
          24,
          38,
          26,
          19
         ],
         "yaxis": "y"
        }
       ],
       "layout": {
        "legend": {
         "tracegroupgap": 0
        },
        "template": {
         "data": {
          "bar": [
           {
            "error_x": {
             "color": "#2a3f5f"
            },
            "error_y": {
             "color": "#2a3f5f"
            },
            "marker": {
             "line": {
              "color": "#E5ECF6",
              "width": 0.5
             },
             "pattern": {
              "fillmode": "overlay",
              "size": 10,
              "solidity": 0.2
             }
            },
            "type": "bar"
           }
          ],
          "barpolar": [
           {
            "marker": {
             "line": {
              "color": "#E5ECF6",
              "width": 0.5
             },
             "pattern": {
              "fillmode": "overlay",
              "size": 10,
              "solidity": 0.2
             }
            },
            "type": "barpolar"
           }
          ],
          "carpet": [
           {
            "aaxis": {
             "endlinecolor": "#2a3f5f",
             "gridcolor": "white",
             "linecolor": "white",
             "minorgridcolor": "white",
             "startlinecolor": "#2a3f5f"
            },
            "baxis": {
             "endlinecolor": "#2a3f5f",
             "gridcolor": "white",
             "linecolor": "white",
             "minorgridcolor": "white",
             "startlinecolor": "#2a3f5f"
            },
            "type": "carpet"
           }
          ],
          "choropleth": [
           {
            "colorbar": {
             "outlinewidth": 0,
             "ticks": ""
            },
            "type": "choropleth"
           }
          ],
          "contour": [
           {
            "colorbar": {
             "outlinewidth": 0,
             "ticks": ""
            },
            "colorscale": [
             [
              0,
              "#0d0887"
             ],
             [
              0.1111111111111111,
              "#46039f"
             ],
             [
              0.2222222222222222,
              "#7201a8"
             ],
             [
              0.3333333333333333,
              "#9c179e"
             ],
             [
              0.4444444444444444,
              "#bd3786"
             ],
             [
              0.5555555555555556,
              "#d8576b"
             ],
             [
              0.6666666666666666,
              "#ed7953"
             ],
             [
              0.7777777777777778,
              "#fb9f3a"
             ],
             [
              0.8888888888888888,
              "#fdca26"
             ],
             [
              1,
              "#f0f921"
             ]
            ],
            "type": "contour"
           }
          ],
          "contourcarpet": [
           {
            "colorbar": {
             "outlinewidth": 0,
             "ticks": ""
            },
            "type": "contourcarpet"
           }
          ],
          "heatmap": [
           {
            "colorbar": {
             "outlinewidth": 0,
             "ticks": ""
            },
            "colorscale": [
             [
              0,
              "#0d0887"
             ],
             [
              0.1111111111111111,
              "#46039f"
             ],
             [
              0.2222222222222222,
              "#7201a8"
             ],
             [
              0.3333333333333333,
              "#9c179e"
             ],
             [
              0.4444444444444444,
              "#bd3786"
             ],
             [
              0.5555555555555556,
              "#d8576b"
             ],
             [
              0.6666666666666666,
              "#ed7953"
             ],
             [
              0.7777777777777778,
              "#fb9f3a"
             ],
             [
              0.8888888888888888,
              "#fdca26"
             ],
             [
              1,
              "#f0f921"
             ]
            ],
            "type": "heatmap"
           }
          ],
          "heatmapgl": [
           {
            "colorbar": {
             "outlinewidth": 0,
             "ticks": ""
            },
            "colorscale": [
             [
              0,
              "#0d0887"
             ],
             [
              0.1111111111111111,
              "#46039f"
             ],
             [
              0.2222222222222222,
              "#7201a8"
             ],
             [
              0.3333333333333333,
              "#9c179e"
             ],
             [
              0.4444444444444444,
              "#bd3786"
             ],
             [
              0.5555555555555556,
              "#d8576b"
             ],
             [
              0.6666666666666666,
              "#ed7953"
             ],
             [
              0.7777777777777778,
              "#fb9f3a"
             ],
             [
              0.8888888888888888,
              "#fdca26"
             ],
             [
              1,
              "#f0f921"
             ]
            ],
            "type": "heatmapgl"
           }
          ],
          "histogram": [
           {
            "marker": {
             "pattern": {
              "fillmode": "overlay",
              "size": 10,
              "solidity": 0.2
             }
            },
            "type": "histogram"
           }
          ],
          "histogram2d": [
           {
            "colorbar": {
             "outlinewidth": 0,
             "ticks": ""
            },
            "colorscale": [
             [
              0,
              "#0d0887"
             ],
             [
              0.1111111111111111,
              "#46039f"
             ],
             [
              0.2222222222222222,
              "#7201a8"
             ],
             [
              0.3333333333333333,
              "#9c179e"
             ],
             [
              0.4444444444444444,
              "#bd3786"
             ],
             [
              0.5555555555555556,
              "#d8576b"
             ],
             [
              0.6666666666666666,
              "#ed7953"
             ],
             [
              0.7777777777777778,
              "#fb9f3a"
             ],
             [
              0.8888888888888888,
              "#fdca26"
             ],
             [
              1,
              "#f0f921"
             ]
            ],
            "type": "histogram2d"
           }
          ],
          "histogram2dcontour": [
           {
            "colorbar": {
             "outlinewidth": 0,
             "ticks": ""
            },
            "colorscale": [
             [
              0,
              "#0d0887"
             ],
             [
              0.1111111111111111,
              "#46039f"
             ],
             [
              0.2222222222222222,
              "#7201a8"
             ],
             [
              0.3333333333333333,
              "#9c179e"
             ],
             [
              0.4444444444444444,
              "#bd3786"
             ],
             [
              0.5555555555555556,
              "#d8576b"
             ],
             [
              0.6666666666666666,
              "#ed7953"
             ],
             [
              0.7777777777777778,
              "#fb9f3a"
             ],
             [
              0.8888888888888888,
              "#fdca26"
             ],
             [
              1,
              "#f0f921"
             ]
            ],
            "type": "histogram2dcontour"
           }
          ],
          "mesh3d": [
           {
            "colorbar": {
             "outlinewidth": 0,
             "ticks": ""
            },
            "type": "mesh3d"
           }
          ],
          "parcoords": [
           {
            "line": {
             "colorbar": {
              "outlinewidth": 0,
              "ticks": ""
             }
            },
            "type": "parcoords"
           }
          ],
          "pie": [
           {
            "automargin": true,
            "type": "pie"
           }
          ],
          "scatter": [
           {
            "marker": {
             "colorbar": {
              "outlinewidth": 0,
              "ticks": ""
             }
            },
            "type": "scatter"
           }
          ],
          "scatter3d": [
           {
            "line": {
             "colorbar": {
              "outlinewidth": 0,
              "ticks": ""
             }
            },
            "marker": {
             "colorbar": {
              "outlinewidth": 0,
              "ticks": ""
             }
            },
            "type": "scatter3d"
           }
          ],
          "scattercarpet": [
           {
            "marker": {
             "colorbar": {
              "outlinewidth": 0,
              "ticks": ""
             }
            },
            "type": "scattercarpet"
           }
          ],
          "scattergeo": [
           {
            "marker": {
             "colorbar": {
              "outlinewidth": 0,
              "ticks": ""
             }
            },
            "type": "scattergeo"
           }
          ],
          "scattergl": [
           {
            "marker": {
             "colorbar": {
              "outlinewidth": 0,
              "ticks": ""
             }
            },
            "type": "scattergl"
           }
          ],
          "scattermapbox": [
           {
            "marker": {
             "colorbar": {
              "outlinewidth": 0,
              "ticks": ""
             }
            },
            "type": "scattermapbox"
           }
          ],
          "scatterpolar": [
           {
            "marker": {
             "colorbar": {
              "outlinewidth": 0,
              "ticks": ""
             }
            },
            "type": "scatterpolar"
           }
          ],
          "scatterpolargl": [
           {
            "marker": {
             "colorbar": {
              "outlinewidth": 0,
              "ticks": ""
             }
            },
            "type": "scatterpolargl"
           }
          ],
          "scatterternary": [
           {
            "marker": {
             "colorbar": {
              "outlinewidth": 0,
              "ticks": ""
             }
            },
            "type": "scatterternary"
           }
          ],
          "surface": [
           {
            "colorbar": {
             "outlinewidth": 0,
             "ticks": ""
            },
            "colorscale": [
             [
              0,
              "#0d0887"
             ],
             [
              0.1111111111111111,
              "#46039f"
             ],
             [
              0.2222222222222222,
              "#7201a8"
             ],
             [
              0.3333333333333333,
              "#9c179e"
             ],
             [
              0.4444444444444444,
              "#bd3786"
             ],
             [
              0.5555555555555556,
              "#d8576b"
             ],
             [
              0.6666666666666666,
              "#ed7953"
             ],
             [
              0.7777777777777778,
              "#fb9f3a"
             ],
             [
              0.8888888888888888,
              "#fdca26"
             ],
             [
              1,
              "#f0f921"
             ]
            ],
            "type": "surface"
           }
          ],
          "table": [
           {
            "cells": {
             "fill": {
              "color": "#EBF0F8"
             },
             "line": {
              "color": "white"
             }
            },
            "header": {
             "fill": {
              "color": "#C8D4E3"
             },
             "line": {
              "color": "white"
             }
            },
            "type": "table"
           }
          ]
         },
         "layout": {
          "annotationdefaults": {
           "arrowcolor": "#2a3f5f",
           "arrowhead": 0,
           "arrowwidth": 1
          },
          "autotypenumbers": "strict",
          "coloraxis": {
           "colorbar": {
            "outlinewidth": 0,
            "ticks": ""
           }
          },
          "colorscale": {
           "diverging": [
            [
             0,
             "#8e0152"
            ],
            [
             0.1,
             "#c51b7d"
            ],
            [
             0.2,
             "#de77ae"
            ],
            [
             0.3,
             "#f1b6da"
            ],
            [
             0.4,
             "#fde0ef"
            ],
            [
             0.5,
             "#f7f7f7"
            ],
            [
             0.6,
             "#e6f5d0"
            ],
            [
             0.7,
             "#b8e186"
            ],
            [
             0.8,
             "#7fbc41"
            ],
            [
             0.9,
             "#4d9221"
            ],
            [
             1,
             "#276419"
            ]
           ],
           "sequential": [
            [
             0,
             "#0d0887"
            ],
            [
             0.1111111111111111,
             "#46039f"
            ],
            [
             0.2222222222222222,
             "#7201a8"
            ],
            [
             0.3333333333333333,
             "#9c179e"
            ],
            [
             0.4444444444444444,
             "#bd3786"
            ],
            [
             0.5555555555555556,
             "#d8576b"
            ],
            [
             0.6666666666666666,
             "#ed7953"
            ],
            [
             0.7777777777777778,
             "#fb9f3a"
            ],
            [
             0.8888888888888888,
             "#fdca26"
            ],
            [
             1,
             "#f0f921"
            ]
           ],
           "sequentialminus": [
            [
             0,
             "#0d0887"
            ],
            [
             0.1111111111111111,
             "#46039f"
            ],
            [
             0.2222222222222222,
             "#7201a8"
            ],
            [
             0.3333333333333333,
             "#9c179e"
            ],
            [
             0.4444444444444444,
             "#bd3786"
            ],
            [
             0.5555555555555556,
             "#d8576b"
            ],
            [
             0.6666666666666666,
             "#ed7953"
            ],
            [
             0.7777777777777778,
             "#fb9f3a"
            ],
            [
             0.8888888888888888,
             "#fdca26"
            ],
            [
             1,
             "#f0f921"
            ]
           ]
          },
          "colorway": [
           "#636efa",
           "#EF553B",
           "#00cc96",
           "#ab63fa",
           "#FFA15A",
           "#19d3f3",
           "#FF6692",
           "#B6E880",
           "#FF97FF",
           "#FECB52"
          ],
          "font": {
           "color": "#2a3f5f"
          },
          "geo": {
           "bgcolor": "white",
           "lakecolor": "white",
           "landcolor": "#E5ECF6",
           "showlakes": true,
           "showland": true,
           "subunitcolor": "white"
          },
          "hoverlabel": {
           "align": "left"
          },
          "hovermode": "closest",
          "mapbox": {
           "style": "light"
          },
          "paper_bgcolor": "white",
          "plot_bgcolor": "#E5ECF6",
          "polar": {
           "angularaxis": {
            "gridcolor": "white",
            "linecolor": "white",
            "ticks": ""
           },
           "bgcolor": "#E5ECF6",
           "radialaxis": {
            "gridcolor": "white",
            "linecolor": "white",
            "ticks": ""
           }
          },
          "scene": {
           "xaxis": {
            "backgroundcolor": "#E5ECF6",
            "gridcolor": "white",
            "gridwidth": 2,
            "linecolor": "white",
            "showbackground": true,
            "ticks": "",
            "zerolinecolor": "white"
           },
           "yaxis": {
            "backgroundcolor": "#E5ECF6",
            "gridcolor": "white",
            "gridwidth": 2,
            "linecolor": "white",
            "showbackground": true,
            "ticks": "",
            "zerolinecolor": "white"
           },
           "zaxis": {
            "backgroundcolor": "#E5ECF6",
            "gridcolor": "white",
            "gridwidth": 2,
            "linecolor": "white",
            "showbackground": true,
            "ticks": "",
            "zerolinecolor": "white"
           }
          },
          "shapedefaults": {
           "line": {
            "color": "#2a3f5f"
           }
          },
          "ternary": {
           "aaxis": {
            "gridcolor": "white",
            "linecolor": "white",
            "ticks": ""
           },
           "baxis": {
            "gridcolor": "white",
            "linecolor": "white",
            "ticks": ""
           },
           "bgcolor": "#E5ECF6",
           "caxis": {
            "gridcolor": "white",
            "linecolor": "white",
            "ticks": ""
           }
          },
          "title": {
           "x": 0.05
          },
          "xaxis": {
           "automargin": true,
           "gridcolor": "white",
           "linecolor": "white",
           "ticks": "",
           "title": {
            "standoff": 15
           },
           "zerolinecolor": "white",
           "zerolinewidth": 2
          },
          "yaxis": {
           "automargin": true,
           "gridcolor": "white",
           "linecolor": "white",
           "ticks": "",
           "title": {
            "standoff": 15
           },
           "zerolinecolor": "white",
           "zerolinewidth": 2
          }
         }
        },
        "title": {
         "text": "Plot of Patient Vists vs Date of Visits (Area Chart)"
        },
        "xaxis": {
         "anchor": "y",
         "domain": [
          0,
          1
         ],
         "title": {
          "text": "date_of_visit"
         }
        },
        "yaxis": {
         "anchor": "x",
         "domain": [
          0,
          1
         ],
         "title": {
          "text": "count"
         }
        }
       }
      }
     },
     "metadata": {},
     "output_type": "display_data"
    }
   ],
   "source": [
    "\n",
    "\n",
    "fig = px.area(visits_per_day, x='date_of_visit', y=\"count\", title=\"Plot of Patient Vists vs Date of Visits (Area Chart)\")\n",
    "fig.show()"
   ]
  },
  {
   "cell_type": "markdown",
   "metadata": {},
   "source": [
    "##### Visualizing the Output in Bar Chart"
   ]
  },
  {
   "cell_type": "code",
   "execution_count": 35,
   "metadata": {},
   "outputs": [
    {
     "data": {
      "application/vnd.plotly.v1+json": {
       "config": {
        "plotlyServerURL": "https://plot.ly"
       },
       "data": [
        {
         "alignmentgroup": "True",
         "hovertemplate": "date_of_visit=%{x}<br>count=%{y}<extra></extra>",
         "legendgroup": "",
         "marker": {
          "color": "#636efa",
          "pattern": {
           "shape": ""
          }
         },
         "name": "",
         "offsetgroup": "",
         "orientation": "v",
         "showlegend": false,
         "textposition": "auto",
         "type": "bar",
         "x": [
          "2021-05-01",
          "2021-05-02",
          "2021-05-03",
          "2021-05-04",
          "2021-05-05",
          "2021-05-06",
          "2021-05-07",
          "2021-05-08",
          "2021-05-09",
          "2021-05-10",
          "2021-05-11",
          "2021-05-12",
          "2021-05-13",
          "2021-05-14",
          "2021-05-15",
          "2021-05-16",
          "2021-05-17",
          "2021-05-18",
          "2021-05-19",
          "2021-05-20",
          "2021-05-21",
          "2021-05-22",
          "2021-05-23",
          "2021-05-24",
          "2021-05-25",
          "2021-05-26",
          "2021-05-27",
          "2021-05-28",
          "2021-05-29",
          "2021-05-30",
          "2021-05-31",
          "2021-06-01",
          "2021-06-02",
          "2021-06-03",
          "2021-06-04",
          "2021-06-05",
          "2021-06-06",
          "2021-06-07",
          "2021-06-08",
          "2021-06-09",
          "2021-06-10",
          "2021-06-11",
          "2021-06-12",
          "2021-06-13",
          "2021-06-14",
          "2021-06-15",
          "2021-06-16",
          "2021-06-17",
          "2021-06-18",
          "2021-06-19",
          "2021-06-20",
          "2021-06-21",
          "2021-06-22",
          "2021-06-23",
          "2021-06-24",
          "2021-06-25",
          "2021-06-26",
          "2021-06-27",
          "2021-06-28",
          "2021-06-29",
          "2021-06-30",
          "2021-07-01",
          "2021-07-02",
          "2021-07-03",
          "2021-07-04",
          "2021-07-05",
          "2021-07-06",
          "2021-07-07",
          "2021-07-08",
          "2021-07-09",
          "2021-07-10",
          "2021-07-11",
          "2021-07-12",
          "2021-07-13",
          "2021-07-14",
          "2021-07-15",
          "2021-07-16",
          "2021-07-17",
          "2021-07-18",
          "2021-07-19",
          "2021-07-20",
          "2021-07-21",
          "2021-07-22",
          "2021-07-23",
          "2021-07-24",
          "2021-07-25",
          "2021-07-26",
          "2021-07-27",
          "2021-07-28",
          "2021-07-29",
          "2021-07-30"
         ],
         "xaxis": "x",
         "y": [
          13,
          10,
          28,
          13,
          31,
          22,
          25,
          10,
          8,
          19,
          21,
          34,
          23,
          20,
          8,
          14,
          17,
          11,
          20,
          23,
          23,
          16,
          11,
          24,
          11,
          17,
          14,
          15,
          15,
          8,
          18,
          16,
          30,
          30,
          17,
          13,
          13,
          19,
          25,
          34,
          22,
          20,
          10,
          6,
          13,
          15,
          20,
          21,
          12,
          14,
          2,
          18,
          8,
          22,
          16,
          19,
          18,
          7,
          21,
          10,
          23,
          23,
          19,
          10,
          6,
          16,
          19,
          27,
          27,
          19,
          10,
          8,
          24,
          14,
          23,
          18,
          7,
          12,
          10,
          19,
          14,
          27,
          19,
          15,
          16,
          14,
          32,
          24,
          38,
          26,
          19
         ],
         "yaxis": "y"
        }
       ],
       "layout": {
        "barmode": "relative",
        "legend": {
         "tracegroupgap": 0
        },
        "template": {
         "data": {
          "bar": [
           {
            "error_x": {
             "color": "#2a3f5f"
            },
            "error_y": {
             "color": "#2a3f5f"
            },
            "marker": {
             "line": {
              "color": "#E5ECF6",
              "width": 0.5
             },
             "pattern": {
              "fillmode": "overlay",
              "size": 10,
              "solidity": 0.2
             }
            },
            "type": "bar"
           }
          ],
          "barpolar": [
           {
            "marker": {
             "line": {
              "color": "#E5ECF6",
              "width": 0.5
             },
             "pattern": {
              "fillmode": "overlay",
              "size": 10,
              "solidity": 0.2
             }
            },
            "type": "barpolar"
           }
          ],
          "carpet": [
           {
            "aaxis": {
             "endlinecolor": "#2a3f5f",
             "gridcolor": "white",
             "linecolor": "white",
             "minorgridcolor": "white",
             "startlinecolor": "#2a3f5f"
            },
            "baxis": {
             "endlinecolor": "#2a3f5f",
             "gridcolor": "white",
             "linecolor": "white",
             "minorgridcolor": "white",
             "startlinecolor": "#2a3f5f"
            },
            "type": "carpet"
           }
          ],
          "choropleth": [
           {
            "colorbar": {
             "outlinewidth": 0,
             "ticks": ""
            },
            "type": "choropleth"
           }
          ],
          "contour": [
           {
            "colorbar": {
             "outlinewidth": 0,
             "ticks": ""
            },
            "colorscale": [
             [
              0,
              "#0d0887"
             ],
             [
              0.1111111111111111,
              "#46039f"
             ],
             [
              0.2222222222222222,
              "#7201a8"
             ],
             [
              0.3333333333333333,
              "#9c179e"
             ],
             [
              0.4444444444444444,
              "#bd3786"
             ],
             [
              0.5555555555555556,
              "#d8576b"
             ],
             [
              0.6666666666666666,
              "#ed7953"
             ],
             [
              0.7777777777777778,
              "#fb9f3a"
             ],
             [
              0.8888888888888888,
              "#fdca26"
             ],
             [
              1,
              "#f0f921"
             ]
            ],
            "type": "contour"
           }
          ],
          "contourcarpet": [
           {
            "colorbar": {
             "outlinewidth": 0,
             "ticks": ""
            },
            "type": "contourcarpet"
           }
          ],
          "heatmap": [
           {
            "colorbar": {
             "outlinewidth": 0,
             "ticks": ""
            },
            "colorscale": [
             [
              0,
              "#0d0887"
             ],
             [
              0.1111111111111111,
              "#46039f"
             ],
             [
              0.2222222222222222,
              "#7201a8"
             ],
             [
              0.3333333333333333,
              "#9c179e"
             ],
             [
              0.4444444444444444,
              "#bd3786"
             ],
             [
              0.5555555555555556,
              "#d8576b"
             ],
             [
              0.6666666666666666,
              "#ed7953"
             ],
             [
              0.7777777777777778,
              "#fb9f3a"
             ],
             [
              0.8888888888888888,
              "#fdca26"
             ],
             [
              1,
              "#f0f921"
             ]
            ],
            "type": "heatmap"
           }
          ],
          "heatmapgl": [
           {
            "colorbar": {
             "outlinewidth": 0,
             "ticks": ""
            },
            "colorscale": [
             [
              0,
              "#0d0887"
             ],
             [
              0.1111111111111111,
              "#46039f"
             ],
             [
              0.2222222222222222,
              "#7201a8"
             ],
             [
              0.3333333333333333,
              "#9c179e"
             ],
             [
              0.4444444444444444,
              "#bd3786"
             ],
             [
              0.5555555555555556,
              "#d8576b"
             ],
             [
              0.6666666666666666,
              "#ed7953"
             ],
             [
              0.7777777777777778,
              "#fb9f3a"
             ],
             [
              0.8888888888888888,
              "#fdca26"
             ],
             [
              1,
              "#f0f921"
             ]
            ],
            "type": "heatmapgl"
           }
          ],
          "histogram": [
           {
            "marker": {
             "pattern": {
              "fillmode": "overlay",
              "size": 10,
              "solidity": 0.2
             }
            },
            "type": "histogram"
           }
          ],
          "histogram2d": [
           {
            "colorbar": {
             "outlinewidth": 0,
             "ticks": ""
            },
            "colorscale": [
             [
              0,
              "#0d0887"
             ],
             [
              0.1111111111111111,
              "#46039f"
             ],
             [
              0.2222222222222222,
              "#7201a8"
             ],
             [
              0.3333333333333333,
              "#9c179e"
             ],
             [
              0.4444444444444444,
              "#bd3786"
             ],
             [
              0.5555555555555556,
              "#d8576b"
             ],
             [
              0.6666666666666666,
              "#ed7953"
             ],
             [
              0.7777777777777778,
              "#fb9f3a"
             ],
             [
              0.8888888888888888,
              "#fdca26"
             ],
             [
              1,
              "#f0f921"
             ]
            ],
            "type": "histogram2d"
           }
          ],
          "histogram2dcontour": [
           {
            "colorbar": {
             "outlinewidth": 0,
             "ticks": ""
            },
            "colorscale": [
             [
              0,
              "#0d0887"
             ],
             [
              0.1111111111111111,
              "#46039f"
             ],
             [
              0.2222222222222222,
              "#7201a8"
             ],
             [
              0.3333333333333333,
              "#9c179e"
             ],
             [
              0.4444444444444444,
              "#bd3786"
             ],
             [
              0.5555555555555556,
              "#d8576b"
             ],
             [
              0.6666666666666666,
              "#ed7953"
             ],
             [
              0.7777777777777778,
              "#fb9f3a"
             ],
             [
              0.8888888888888888,
              "#fdca26"
             ],
             [
              1,
              "#f0f921"
             ]
            ],
            "type": "histogram2dcontour"
           }
          ],
          "mesh3d": [
           {
            "colorbar": {
             "outlinewidth": 0,
             "ticks": ""
            },
            "type": "mesh3d"
           }
          ],
          "parcoords": [
           {
            "line": {
             "colorbar": {
              "outlinewidth": 0,
              "ticks": ""
             }
            },
            "type": "parcoords"
           }
          ],
          "pie": [
           {
            "automargin": true,
            "type": "pie"
           }
          ],
          "scatter": [
           {
            "marker": {
             "colorbar": {
              "outlinewidth": 0,
              "ticks": ""
             }
            },
            "type": "scatter"
           }
          ],
          "scatter3d": [
           {
            "line": {
             "colorbar": {
              "outlinewidth": 0,
              "ticks": ""
             }
            },
            "marker": {
             "colorbar": {
              "outlinewidth": 0,
              "ticks": ""
             }
            },
            "type": "scatter3d"
           }
          ],
          "scattercarpet": [
           {
            "marker": {
             "colorbar": {
              "outlinewidth": 0,
              "ticks": ""
             }
            },
            "type": "scattercarpet"
           }
          ],
          "scattergeo": [
           {
            "marker": {
             "colorbar": {
              "outlinewidth": 0,
              "ticks": ""
             }
            },
            "type": "scattergeo"
           }
          ],
          "scattergl": [
           {
            "marker": {
             "colorbar": {
              "outlinewidth": 0,
              "ticks": ""
             }
            },
            "type": "scattergl"
           }
          ],
          "scattermapbox": [
           {
            "marker": {
             "colorbar": {
              "outlinewidth": 0,
              "ticks": ""
             }
            },
            "type": "scattermapbox"
           }
          ],
          "scatterpolar": [
           {
            "marker": {
             "colorbar": {
              "outlinewidth": 0,
              "ticks": ""
             }
            },
            "type": "scatterpolar"
           }
          ],
          "scatterpolargl": [
           {
            "marker": {
             "colorbar": {
              "outlinewidth": 0,
              "ticks": ""
             }
            },
            "type": "scatterpolargl"
           }
          ],
          "scatterternary": [
           {
            "marker": {
             "colorbar": {
              "outlinewidth": 0,
              "ticks": ""
             }
            },
            "type": "scatterternary"
           }
          ],
          "surface": [
           {
            "colorbar": {
             "outlinewidth": 0,
             "ticks": ""
            },
            "colorscale": [
             [
              0,
              "#0d0887"
             ],
             [
              0.1111111111111111,
              "#46039f"
             ],
             [
              0.2222222222222222,
              "#7201a8"
             ],
             [
              0.3333333333333333,
              "#9c179e"
             ],
             [
              0.4444444444444444,
              "#bd3786"
             ],
             [
              0.5555555555555556,
              "#d8576b"
             ],
             [
              0.6666666666666666,
              "#ed7953"
             ],
             [
              0.7777777777777778,
              "#fb9f3a"
             ],
             [
              0.8888888888888888,
              "#fdca26"
             ],
             [
              1,
              "#f0f921"
             ]
            ],
            "type": "surface"
           }
          ],
          "table": [
           {
            "cells": {
             "fill": {
              "color": "#EBF0F8"
             },
             "line": {
              "color": "white"
             }
            },
            "header": {
             "fill": {
              "color": "#C8D4E3"
             },
             "line": {
              "color": "white"
             }
            },
            "type": "table"
           }
          ]
         },
         "layout": {
          "annotationdefaults": {
           "arrowcolor": "#2a3f5f",
           "arrowhead": 0,
           "arrowwidth": 1
          },
          "autotypenumbers": "strict",
          "coloraxis": {
           "colorbar": {
            "outlinewidth": 0,
            "ticks": ""
           }
          },
          "colorscale": {
           "diverging": [
            [
             0,
             "#8e0152"
            ],
            [
             0.1,
             "#c51b7d"
            ],
            [
             0.2,
             "#de77ae"
            ],
            [
             0.3,
             "#f1b6da"
            ],
            [
             0.4,
             "#fde0ef"
            ],
            [
             0.5,
             "#f7f7f7"
            ],
            [
             0.6,
             "#e6f5d0"
            ],
            [
             0.7,
             "#b8e186"
            ],
            [
             0.8,
             "#7fbc41"
            ],
            [
             0.9,
             "#4d9221"
            ],
            [
             1,
             "#276419"
            ]
           ],
           "sequential": [
            [
             0,
             "#0d0887"
            ],
            [
             0.1111111111111111,
             "#46039f"
            ],
            [
             0.2222222222222222,
             "#7201a8"
            ],
            [
             0.3333333333333333,
             "#9c179e"
            ],
            [
             0.4444444444444444,
             "#bd3786"
            ],
            [
             0.5555555555555556,
             "#d8576b"
            ],
            [
             0.6666666666666666,
             "#ed7953"
            ],
            [
             0.7777777777777778,
             "#fb9f3a"
            ],
            [
             0.8888888888888888,
             "#fdca26"
            ],
            [
             1,
             "#f0f921"
            ]
           ],
           "sequentialminus": [
            [
             0,
             "#0d0887"
            ],
            [
             0.1111111111111111,
             "#46039f"
            ],
            [
             0.2222222222222222,
             "#7201a8"
            ],
            [
             0.3333333333333333,
             "#9c179e"
            ],
            [
             0.4444444444444444,
             "#bd3786"
            ],
            [
             0.5555555555555556,
             "#d8576b"
            ],
            [
             0.6666666666666666,
             "#ed7953"
            ],
            [
             0.7777777777777778,
             "#fb9f3a"
            ],
            [
             0.8888888888888888,
             "#fdca26"
            ],
            [
             1,
             "#f0f921"
            ]
           ]
          },
          "colorway": [
           "#636efa",
           "#EF553B",
           "#00cc96",
           "#ab63fa",
           "#FFA15A",
           "#19d3f3",
           "#FF6692",
           "#B6E880",
           "#FF97FF",
           "#FECB52"
          ],
          "font": {
           "color": "#2a3f5f"
          },
          "geo": {
           "bgcolor": "white",
           "lakecolor": "white",
           "landcolor": "#E5ECF6",
           "showlakes": true,
           "showland": true,
           "subunitcolor": "white"
          },
          "hoverlabel": {
           "align": "left"
          },
          "hovermode": "closest",
          "mapbox": {
           "style": "light"
          },
          "paper_bgcolor": "white",
          "plot_bgcolor": "#E5ECF6",
          "polar": {
           "angularaxis": {
            "gridcolor": "white",
            "linecolor": "white",
            "ticks": ""
           },
           "bgcolor": "#E5ECF6",
           "radialaxis": {
            "gridcolor": "white",
            "linecolor": "white",
            "ticks": ""
           }
          },
          "scene": {
           "xaxis": {
            "backgroundcolor": "#E5ECF6",
            "gridcolor": "white",
            "gridwidth": 2,
            "linecolor": "white",
            "showbackground": true,
            "ticks": "",
            "zerolinecolor": "white"
           },
           "yaxis": {
            "backgroundcolor": "#E5ECF6",
            "gridcolor": "white",
            "gridwidth": 2,
            "linecolor": "white",
            "showbackground": true,
            "ticks": "",
            "zerolinecolor": "white"
           },
           "zaxis": {
            "backgroundcolor": "#E5ECF6",
            "gridcolor": "white",
            "gridwidth": 2,
            "linecolor": "white",
            "showbackground": true,
            "ticks": "",
            "zerolinecolor": "white"
           }
          },
          "shapedefaults": {
           "line": {
            "color": "#2a3f5f"
           }
          },
          "ternary": {
           "aaxis": {
            "gridcolor": "white",
            "linecolor": "white",
            "ticks": ""
           },
           "baxis": {
            "gridcolor": "white",
            "linecolor": "white",
            "ticks": ""
           },
           "bgcolor": "#E5ECF6",
           "caxis": {
            "gridcolor": "white",
            "linecolor": "white",
            "ticks": ""
           }
          },
          "title": {
           "x": 0.05
          },
          "xaxis": {
           "automargin": true,
           "gridcolor": "white",
           "linecolor": "white",
           "ticks": "",
           "title": {
            "standoff": 15
           },
           "zerolinecolor": "white",
           "zerolinewidth": 2
          },
          "yaxis": {
           "automargin": true,
           "gridcolor": "white",
           "linecolor": "white",
           "ticks": "",
           "title": {
            "standoff": 15
           },
           "zerolinecolor": "white",
           "zerolinewidth": 2
          }
         }
        },
        "title": {
         "text": "Plot of Patient Visits vs Date of Visits (Bar Chart)"
        },
        "xaxis": {
         "anchor": "y",
         "domain": [
          0,
          1
         ],
         "title": {
          "text": "date_of_visit"
         }
        },
        "yaxis": {
         "anchor": "x",
         "domain": [
          0,
          1
         ],
         "title": {
          "text": "count"
         }
        }
       }
      }
     },
     "metadata": {},
     "output_type": "display_data"
    }
   ],
   "source": [
    "fig = px.bar(visits_per_day, x='date_of_visit', y=\"count\" ,title=\"Plot of Patient Visits vs Date of Visits (Bar Chart)\")\n",
    "fig.show()"
   ]
  },
  {
   "cell_type": "markdown",
   "metadata": {},
   "source": [
    "###  Answer 2: Number of patients attended to per doctor per month showing their names"
   ]
  },
  {
   "cell_type": "markdown",
   "metadata": {},
   "source": [
    "##### Creating the Month-Year Column"
   ]
  },
  {
   "cell_type": "code",
   "execution_count": 36,
   "metadata": {},
   "outputs": [],
   "source": [
    "\n",
    "final_df['Month_Year'] = pd.to_datetime(final_df['date_of_visit']).dt.month_name().map(str) + \" \"+  pd.to_datetime(final_df['date_of_visit']).dt.year.map(str)\n",
    "\n",
    "final_df.to_clipboard()\n"
   ]
  },
  {
   "cell_type": "markdown",
   "metadata": {},
   "source": [
    "##### Dropping Duplicate clients to get Unique clients per Month"
   ]
  },
  {
   "cell_type": "code",
   "execution_count": 37,
   "metadata": {},
   "outputs": [
    {
     "data": {
      "text/plain": [
       "(837, 9)"
      ]
     },
     "execution_count": 37,
     "metadata": {},
     "output_type": "execute_result"
    }
   ],
   "source": [
    "patient_df = final_df[final_df.duplicated(subset=[ 'patient_id','Month_Year'])].drop_duplicates(keep='first')   \n",
    "# patient_df = final_df.drop_duplicates(subset=['patient_id'], keep='first')\n",
    "patient_df.shape\n"
   ]
  },
  {
   "cell_type": "code",
   "execution_count": 38,
   "metadata": {},
   "outputs": [
    {
     "data": {
      "text/html": [
       "<div>\n",
       "<style scoped>\n",
       "    .dataframe tbody tr th:only-of-type {\n",
       "        vertical-align: middle;\n",
       "    }\n",
       "\n",
       "    .dataframe tbody tr th {\n",
       "        vertical-align: top;\n",
       "    }\n",
       "\n",
       "    .dataframe thead th {\n",
       "        text-align: right;\n",
       "    }\n",
       "</style>\n",
       "<table border=\"1\" class=\"dataframe\">\n",
       "  <thead>\n",
       "    <tr style=\"text-align: right;\">\n",
       "      <th></th>\n",
       "      <th>Patient_Name</th>\n",
       "      <th>sex</th>\n",
       "      <th>patient_id</th>\n",
       "      <th>doctor_id</th>\n",
       "      <th>date_of_visit</th>\n",
       "      <th>type</th>\n",
       "      <th>Doctors_name</th>\n",
       "      <th>count</th>\n",
       "      <th>Month_Year</th>\n",
       "    </tr>\n",
       "  </thead>\n",
       "  <tbody>\n",
       "    <tr>\n",
       "      <th>3</th>\n",
       "      <td>XHB0+FAjJtcape6I90URgLIO5A4ipN8zjkeBpmJLc9s=</td>\n",
       "      <td>male</td>\n",
       "      <td>mIkieJ8/hFBn8WhL7obM7A==</td>\n",
       "      <td>SdYno7IhBPsZxFawi3VT9g==</td>\n",
       "      <td>2021-07-24</td>\n",
       "      <td>out-patient</td>\n",
       "      <td>WDiDokM3moCTG3lVg+lQmMhh+QDhtMlF/jHj3tjrSDw=</td>\n",
       "      <td>1</td>\n",
       "      <td>July 2021</td>\n",
       "    </tr>\n",
       "    <tr>\n",
       "      <th>11</th>\n",
       "      <td>sAgUtYoEcFqYZCure5kAaMXKLZbT6lo/mT1DXd70Q6M=</td>\n",
       "      <td>male</td>\n",
       "      <td>mNxrJP5zMwQPeROrCkYIpA==</td>\n",
       "      <td>SdYno7IhBPsZxFawi3VT9g==</td>\n",
       "      <td>2021-05-13</td>\n",
       "      <td>out-patient</td>\n",
       "      <td>WDiDokM3moCTG3lVg+lQmMhh+QDhtMlF/jHj3tjrSDw=</td>\n",
       "      <td>1</td>\n",
       "      <td>May 2021</td>\n",
       "    </tr>\n",
       "    <tr>\n",
       "      <th>12</th>\n",
       "      <td>sAgUtYoEcFqYZCure5kAaMXKLZbT6lo/mT1DXd70Q6M=</td>\n",
       "      <td>male</td>\n",
       "      <td>mNxrJP5zMwQPeROrCkYIpA==</td>\n",
       "      <td>SdYno7IhBPsZxFawi3VT9g==</td>\n",
       "      <td>2021-05-16</td>\n",
       "      <td>out-patient</td>\n",
       "      <td>WDiDokM3moCTG3lVg+lQmMhh+QDhtMlF/jHj3tjrSDw=</td>\n",
       "      <td>1</td>\n",
       "      <td>May 2021</td>\n",
       "    </tr>\n",
       "    <tr>\n",
       "      <th>14</th>\n",
       "      <td>sAgUtYoEcFqYZCure5kAaMXKLZbT6lo/mT1DXd70Q6M=</td>\n",
       "      <td>male</td>\n",
       "      <td>mNxrJP5zMwQPeROrCkYIpA==</td>\n",
       "      <td>SdYno7IhBPsZxFawi3VT9g==</td>\n",
       "      <td>2021-06-23</td>\n",
       "      <td>out-patient</td>\n",
       "      <td>WDiDokM3moCTG3lVg+lQmMhh+QDhtMlF/jHj3tjrSDw=</td>\n",
       "      <td>1</td>\n",
       "      <td>June 2021</td>\n",
       "    </tr>\n",
       "    <tr>\n",
       "      <th>17</th>\n",
       "      <td>T24s2IPX1yFVoT19u944/OhjmyOXxK9Bx3iErOIo3LM=</td>\n",
       "      <td>male</td>\n",
       "      <td>V7TZHOZ+xRdjBeA2EkzRSw==</td>\n",
       "      <td>SdYno7IhBPsZxFawi3VT9g==</td>\n",
       "      <td>2021-07-16</td>\n",
       "      <td>out-patient</td>\n",
       "      <td>WDiDokM3moCTG3lVg+lQmMhh+QDhtMlF/jHj3tjrSDw=</td>\n",
       "      <td>1</td>\n",
       "      <td>July 2021</td>\n",
       "    </tr>\n",
       "    <tr>\n",
       "      <th>...</th>\n",
       "      <td>...</td>\n",
       "      <td>...</td>\n",
       "      <td>...</td>\n",
       "      <td>...</td>\n",
       "      <td>...</td>\n",
       "      <td>...</td>\n",
       "      <td>...</td>\n",
       "      <td>...</td>\n",
       "      <td>...</td>\n",
       "    </tr>\n",
       "    <tr>\n",
       "      <th>1606</th>\n",
       "      <td>y1BBWWuDXC8v5B5rr2kSvf9kunlS6ZyFzBRIhXP9kbI=</td>\n",
       "      <td>female</td>\n",
       "      <td>e67Sh4UJHMew+ztSvl7i1g==</td>\n",
       "      <td>4/de+E7w0FRjaRuXcf1Zag==</td>\n",
       "      <td>2021-07-22</td>\n",
       "      <td>out-patient</td>\n",
       "      <td>QTdef3Okr1/FcXUMYAbUgMO9bafMgbWrQnNuF0z2h5U=</td>\n",
       "      <td>1</td>\n",
       "      <td>July 2021</td>\n",
       "    </tr>\n",
       "    <tr>\n",
       "      <th>1607</th>\n",
       "      <td>83xy5lZEOhVMW9euw/7N+Kfv5DmemCcpbSSGb8B3xWE=</td>\n",
       "      <td>female</td>\n",
       "      <td>OfWaf4IxQ1F+0r0riCWZGQ==</td>\n",
       "      <td>4/de+E7w0FRjaRuXcf1Zag==</td>\n",
       "      <td>2021-07-26</td>\n",
       "      <td>out-patient</td>\n",
       "      <td>QTdef3Okr1/FcXUMYAbUgMO9bafMgbWrQnNuF0z2h5U=</td>\n",
       "      <td>1</td>\n",
       "      <td>July 2021</td>\n",
       "    </tr>\n",
       "    <tr>\n",
       "      <th>1608</th>\n",
       "      <td>cOn1XZ4Kfv9pWWghvZrpWL98WfVgqlFORxDMhM4Ph/c=</td>\n",
       "      <td>male</td>\n",
       "      <td>lkrYHiSDmJxjdrmCn+E5cQ==</td>\n",
       "      <td>4/de+E7w0FRjaRuXcf1Zag==</td>\n",
       "      <td>2021-07-22</td>\n",
       "      <td>out-patient</td>\n",
       "      <td>QTdef3Okr1/FcXUMYAbUgMO9bafMgbWrQnNuF0z2h5U=</td>\n",
       "      <td>1</td>\n",
       "      <td>July 2021</td>\n",
       "    </tr>\n",
       "    <tr>\n",
       "      <th>1609</th>\n",
       "      <td>F+eP4TVjfrwY4iwyzDvjlbrNC2sjpMEkxtd7xyayndI=</td>\n",
       "      <td>female</td>\n",
       "      <td>dy1Quog5pLYfpxTzXO4eXw==</td>\n",
       "      <td>4/de+E7w0FRjaRuXcf1Zag==</td>\n",
       "      <td>2021-07-22</td>\n",
       "      <td>out-patient</td>\n",
       "      <td>QTdef3Okr1/FcXUMYAbUgMO9bafMgbWrQnNuF0z2h5U=</td>\n",
       "      <td>1</td>\n",
       "      <td>July 2021</td>\n",
       "    </tr>\n",
       "    <tr>\n",
       "      <th>1610</th>\n",
       "      <td>2baXNfhJgScKsbXzI2hgF7m+4T7cw3xsNUSOzfjVo38=</td>\n",
       "      <td>male</td>\n",
       "      <td>2Wf00BvI0soOOapLiG4uAw==</td>\n",
       "      <td>whYS6yKN/9cyyB/l649ong==</td>\n",
       "      <td>2021-07-29</td>\n",
       "      <td>out-patient</td>\n",
       "      <td>4Fcj3Nu/+rPXeQjXIxqt+XwRSVXywSEMhEQIpfB+SJw=</td>\n",
       "      <td>1</td>\n",
       "      <td>July 2021</td>\n",
       "    </tr>\n",
       "  </tbody>\n",
       "</table>\n",
       "<p>837 rows × 9 columns</p>\n",
       "</div>"
      ],
      "text/plain": [
       "                                      Patient_Name     sex  \\\n",
       "3     XHB0+FAjJtcape6I90URgLIO5A4ipN8zjkeBpmJLc9s=    male   \n",
       "11    sAgUtYoEcFqYZCure5kAaMXKLZbT6lo/mT1DXd70Q6M=    male   \n",
       "12    sAgUtYoEcFqYZCure5kAaMXKLZbT6lo/mT1DXd70Q6M=    male   \n",
       "14    sAgUtYoEcFqYZCure5kAaMXKLZbT6lo/mT1DXd70Q6M=    male   \n",
       "17    T24s2IPX1yFVoT19u944/OhjmyOXxK9Bx3iErOIo3LM=    male   \n",
       "...                                            ...     ...   \n",
       "1606  y1BBWWuDXC8v5B5rr2kSvf9kunlS6ZyFzBRIhXP9kbI=  female   \n",
       "1607  83xy5lZEOhVMW9euw/7N+Kfv5DmemCcpbSSGb8B3xWE=  female   \n",
       "1608  cOn1XZ4Kfv9pWWghvZrpWL98WfVgqlFORxDMhM4Ph/c=    male   \n",
       "1609  F+eP4TVjfrwY4iwyzDvjlbrNC2sjpMEkxtd7xyayndI=  female   \n",
       "1610  2baXNfhJgScKsbXzI2hgF7m+4T7cw3xsNUSOzfjVo38=    male   \n",
       "\n",
       "                    patient_id                 doctor_id date_of_visit  \\\n",
       "3     mIkieJ8/hFBn8WhL7obM7A==  SdYno7IhBPsZxFawi3VT9g==    2021-07-24   \n",
       "11    mNxrJP5zMwQPeROrCkYIpA==  SdYno7IhBPsZxFawi3VT9g==    2021-05-13   \n",
       "12    mNxrJP5zMwQPeROrCkYIpA==  SdYno7IhBPsZxFawi3VT9g==    2021-05-16   \n",
       "14    mNxrJP5zMwQPeROrCkYIpA==  SdYno7IhBPsZxFawi3VT9g==    2021-06-23   \n",
       "17    V7TZHOZ+xRdjBeA2EkzRSw==  SdYno7IhBPsZxFawi3VT9g==    2021-07-16   \n",
       "...                        ...                       ...           ...   \n",
       "1606  e67Sh4UJHMew+ztSvl7i1g==  4/de+E7w0FRjaRuXcf1Zag==    2021-07-22   \n",
       "1607  OfWaf4IxQ1F+0r0riCWZGQ==  4/de+E7w0FRjaRuXcf1Zag==    2021-07-26   \n",
       "1608  lkrYHiSDmJxjdrmCn+E5cQ==  4/de+E7w0FRjaRuXcf1Zag==    2021-07-22   \n",
       "1609  dy1Quog5pLYfpxTzXO4eXw==  4/de+E7w0FRjaRuXcf1Zag==    2021-07-22   \n",
       "1610  2Wf00BvI0soOOapLiG4uAw==  whYS6yKN/9cyyB/l649ong==    2021-07-29   \n",
       "\n",
       "             type                                  Doctors_name  count  \\\n",
       "3     out-patient  WDiDokM3moCTG3lVg+lQmMhh+QDhtMlF/jHj3tjrSDw=      1   \n",
       "11    out-patient  WDiDokM3moCTG3lVg+lQmMhh+QDhtMlF/jHj3tjrSDw=      1   \n",
       "12    out-patient  WDiDokM3moCTG3lVg+lQmMhh+QDhtMlF/jHj3tjrSDw=      1   \n",
       "14    out-patient  WDiDokM3moCTG3lVg+lQmMhh+QDhtMlF/jHj3tjrSDw=      1   \n",
       "17    out-patient  WDiDokM3moCTG3lVg+lQmMhh+QDhtMlF/jHj3tjrSDw=      1   \n",
       "...           ...                                           ...    ...   \n",
       "1606  out-patient  QTdef3Okr1/FcXUMYAbUgMO9bafMgbWrQnNuF0z2h5U=      1   \n",
       "1607  out-patient  QTdef3Okr1/FcXUMYAbUgMO9bafMgbWrQnNuF0z2h5U=      1   \n",
       "1608  out-patient  QTdef3Okr1/FcXUMYAbUgMO9bafMgbWrQnNuF0z2h5U=      1   \n",
       "1609  out-patient  QTdef3Okr1/FcXUMYAbUgMO9bafMgbWrQnNuF0z2h5U=      1   \n",
       "1610  out-patient  4Fcj3Nu/+rPXeQjXIxqt+XwRSVXywSEMhEQIpfB+SJw=      1   \n",
       "\n",
       "     Month_Year  \n",
       "3     July 2021  \n",
       "11     May 2021  \n",
       "12     May 2021  \n",
       "14    June 2021  \n",
       "17    July 2021  \n",
       "...         ...  \n",
       "1606  July 2021  \n",
       "1607  July 2021  \n",
       "1608  July 2021  \n",
       "1609  July 2021  \n",
       "1610  July 2021  \n",
       "\n",
       "[837 rows x 9 columns]"
      ]
     },
     "execution_count": 38,
     "metadata": {},
     "output_type": "execute_result"
    }
   ],
   "source": [
    "patient_df"
   ]
  },
  {
   "cell_type": "code",
   "execution_count": 39,
   "metadata": {},
   "outputs": [
    {
     "data": {
      "text/html": [
       "<div>\n",
       "<style scoped>\n",
       "    .dataframe tbody tr th:only-of-type {\n",
       "        vertical-align: middle;\n",
       "    }\n",
       "\n",
       "    .dataframe tbody tr th {\n",
       "        vertical-align: top;\n",
       "    }\n",
       "\n",
       "    .dataframe thead th {\n",
       "        text-align: right;\n",
       "    }\n",
       "</style>\n",
       "<table border=\"1\" class=\"dataframe\">\n",
       "  <thead>\n",
       "    <tr style=\"text-align: right;\">\n",
       "      <th></th>\n",
       "      <th>Patient_Name</th>\n",
       "      <th>sex</th>\n",
       "      <th>patient_id</th>\n",
       "      <th>doctor_id</th>\n",
       "      <th>date_of_visit</th>\n",
       "      <th>type</th>\n",
       "      <th>Doctors_name</th>\n",
       "      <th>count</th>\n",
       "      <th>Month_Year</th>\n",
       "      <th>grouped</th>\n",
       "    </tr>\n",
       "  </thead>\n",
       "  <tbody>\n",
       "    <tr>\n",
       "      <th>3</th>\n",
       "      <td>XHB0+FAjJtcape6I90URgLIO5A4ipN8zjkeBpmJLc9s=</td>\n",
       "      <td>male</td>\n",
       "      <td>mIkieJ8/hFBn8WhL7obM7A==</td>\n",
       "      <td>SdYno7IhBPsZxFawi3VT9g==</td>\n",
       "      <td>2021-07-24</td>\n",
       "      <td>out-patient</td>\n",
       "      <td>WDiDokM3moCTG3lVg+lQmMhh+QDhtMlF/jHj3tjrSDw=</td>\n",
       "      <td>1</td>\n",
       "      <td>July 2021</td>\n",
       "      <td>XHB0+FAjJtcape6I90URgLIO5A4ipN8zjkeBpmJLc9s=,T24s2IPX1yFVoT19u944/OhjmyOXxK9Bx3iErOIo3LM=,+wBKI48Sb9UBnCAP5e9jfd4DL2Hie2cJz9GvsiylvyQ=,MPOvxX2y4Jc8/bd5d83KdtQEdeWPwIInVUHIColCyhk=,tQ/rDqu8bDyAJf/PnxQZnVu3/F+1zht1IUWuBx3I5ss=,tQ/rDqu8bDyAJf/PnxQZnVu3/F+1zht1IUWuBx3I5ss=,YTFtleDxcMOrSbBfDfWwpOLiBQLWpDZml7Y3JgN6038=,n+uvyzwXo655sNRCeYPp/jOm2CHnz7f9S5ZIhfOvIMo=,BNtTH0ScIZE3LEmVyeSI411C7ez4okV4ostU9yac/Qw=,TcVBZX95c+UtKuwyxv9y7Gd1bNfeGLHJsHTV4Nfd3a8=,TcVBZX95c+UtKuwyxv9y7Gd1bNfeGLHJsHTV4Nfd3a8=,TcVBZX95c+UtKuwyxv9y7Gd1bNfeGLHJsHTV4Nfd3a8=,hznxDbjh9jkMCqm7Q3jjPSiWtvtvunxwacmzFc1RDfE=,hznxDbjh9jkMCqm7Q3jjPSiWtvtvunxwacmzFc1RDfE=,AS79hGMKfr0Rrvvu3rOZUHVgDlUGLXKnZKJ2Zc6X7Ds=,AS79hGMKfr0Rrvvu3rOZUHVgDlUGLXKnZKJ2Zc6X7Ds=,Z6jQTveKFFz83PkJjHHrESbfBLqoMgpJr1L+DtkCaO4=,Z6jQTveKFFz83PkJjHHrESbfBLqoMgpJr1L+DtkCaO4=,Z6jQTveKFFz83PkJjHHrESbfBLqoMgpJr1L+DtkCaO4=,Z6jQTveKFFz83PkJjHHrESbfBLqoMgpJr1L+DtkCaO4=,Z6jQTveKFFz83PkJjHHrESbfBLqoMgpJr1L+DtkCaO4=,WiMNZx33Tnizxqov4EVuSxs+2otRnrcH/d0lDeNFCxQ=,WiMNZx33Tnizxqov4EVuSxs+2otRnrcH/d0lDeNFCxQ=,WiMNZx33Tnizxqov4EVuSxs+2otRnrcH/d0lDeNFCxQ=,vF9DTQe1+VsxGKQUwh23nRcBrplJ998rqnOAT0P3jKE=,mncGfoVLCx169sNN6z12MnOPxWq4prD+Y6CKuS4HP7Y=,VidFjxyDrJN26U9BoJQSqrhGkjx2LOVtmFGQzs+vJwc=,6LNYgn4Ypd0F9p1K3BoOF1/HsXQKKlv3HY+x/N0ZCyQ=,/+P65fqjgYbrAS6U5aKjhKHENn2EHodHADkKAwUwLYA=,1lXJzObcVr1UkdOKR/b/hmS9T35bYLCdk2uKVYlTlGs=,vInv88xo8vMXAlWtNMmjqDbipAGH+GoJWK2eWN6bZ/o=,0p3LgsqMNC+YswJ8ye55lLah7LZLmt8F45MMwW74yqk=,0p3LgsqMNC+YswJ8ye55lLah7LZLmt8F45MMwW74yqk=,YDjoY5pwwam3w5iKH4REdbmYH0nbZInj5sXy2WJJNV8=,fODWSpmizNnrUgi6PKn7VpIj1kUAh7xCVwFwtBtjoSE=,tZ6j3V7gRsjB3pWRJMng90mIwIW6K7uGz0KSJCokqAg=,tZ6j3V7gRsjB3pWRJMng90mIwIW6K7uGz0KSJCokqAg=,s2KroBlvK1YwnLA0pN4x5B+ZC48190bcdOAeEnu8ogU=,OJwj235ORrkduYzfIRekh6/7+2E/Vf0cHupi4Pka1n0=,yRqI+kW5HvA3dNUg0pjXpFSdYESmI6aBW1mVXIhD54w=,OcTNGd3JYpW0zJuTXDJfs6sEl7Rc+Wc2nCnF0xFszpI=,sBcu74PRagv0GwiRl9vG2nXaAnq0NwzVx3stRQNrSiU=,FsytFzwV0xaw6EtKzIoYwwl0dsnoQKKe/0wGBr/qZUA=,FsytFzwV0xaw6EtKzIoYwwl0dsnoQKKe/0wGBr/qZUA=,FsytFzwV0xaw6EtKzIoYwwl0dsnoQKKe/0wGBr/qZUA=,FsytFzwV0xaw6EtKzIoYwwl0dsnoQKKe/0wGBr/qZUA=,FsytFzwV0xaw6EtKzIoYwwl0dsnoQKKe/0wGBr/qZUA=,HZj0IqdmUBUBh2WVzsg5UQGVqp1aeio0etI0vR4mpHw=,AaSYqz1flDCNjiyWrVboufoNIYI1ejbExaI2kRTsGiI=,ZEzFRolvK0HFGLY3U26okd3jwHBuua4ndj3+5N05Tp4=,ZEzFRolvK0HFGLY3U26okd3jwHBuua4ndj3+5N05Tp4=,QRNe6y1MYK03yLIano3UBKoxko2SS46i9BBt0p8wxGY=,gs85NSXLfUJflqyP1BfNb/7hfcggpvtSvoG6BdJ1js4=,tG9oEB52RFZgr2w9dRLsokoYIMu8ltGxCKxwmBW2Gfs=,tG9oEB52RFZgr2w9dRLsokoYIMu8ltGxCKxwmBW2Gfs=,SXfDY+aUtLS3FJgd+JZz0jWcNJGcqrkKuTt1mpHbb6Q=,O1ehWJ81/FnFdgmuIc+oXnlDJqGpRWXh/sGIp9qoTXc=,HZBdcyaQ1pkdVAAVOfr4pQpnL/6fPdX7A0ZIcgmy8lo=,dda4tJ5bT+vVhzBobN6TwLuKIDXviBI6Y1lTPBgV92Y=,IzNDUbtvXfKGcHIwHwVnhoYB0o52O9GRkV6SYJAMkps=,IzNDUbtvXfKGcHIwHwVnhoYB0o52O9GRkV6SYJAMkps=,StVRfVcTAU5RJr0x6Ji1tGnx9aSfNpeSXCj1pCO3Xys=,LEJztQjZHc/aNvgOujNRFcqlgsPLMXESoL706exOsx4=,bFokb77EpcF2H1mx+LoZH0+298BBPq8gwoUWFoN/K1A=,dUoF+P3ImnRib+Wp4YGUx+GLlD2THS00bIrAVbnPYuQ=,wQFgUxb6rxUoYWUFjNoGGowK/ZFJCG9DXG0FEbVEiaQ=,BOID2T30rY0PCqqO4RBkTuUkLeo+V5QxjNjzvzSgvJw=,BOID2T30rY0PCqqO4RBkTuUkLeo+V5QxjNjzvzSgvJw=,qD3ecVOe+hvmdhOJlDyEXYv0dVLL8pn3KeB8vClLYI4=,cOn1XZ4Kfv9pWWghvZrpWL98WfVgqlFORxDMhM4Ph/c=,cOn1XZ4Kfv9pWWghvZrpWL98WfVgqlFORxDMhM4Ph/c=,cOn1XZ4Kfv9pWWghvZrpWL98WfVgqlFORxDMhM4Ph/c=,cOn1XZ4Kfv9pWWghvZrpWL98WfVgqlFORxDMhM4Ph/c=,cOn1XZ4Kfv9pWWghvZrpWL98WfVgqlFORxDMhM4Ph/c=,cOn1XZ4Kfv9pWWghvZrpWL98WfVgqlFORxDMhM4Ph/c=,jgyzmA14NE4KlN2UQEM3cId91D0O6brHSTzxxCWWgz0=,jgyzmA14NE4KlN2UQEM3cId91D0O6brHSTzxxCWWgz0=,Q43VvP8sALi4XgTBARkMZNcugwEWQj7TZixYsXXToOY=,lRZS0+a+NyY0Hhtz63Xk2jZWxDmVDQdyrKfIVDf9HNE=,lRZS0+a+NyY0Hhtz63Xk2jZWxDmVDQdyrKfIVDf9HNE=,lRZS0+a+NyY0Hhtz63Xk2jZWxDmVDQdyrKfIVDf9HNE=,lRZS0+a+NyY0Hhtz63Xk2jZWxDmVDQdyrKfIVDf9HNE=,aYqXLPIi7V4HQfhZqsoljpTqwr6gaMpKA+FP0/bdh+s=,Z24/0nbGI5spzFSM4KUFc9ONNLuZ/ddFcOAy3JEno6Y=,Z24/0nbGI5spzFSM4KUFc9ONNLuZ/ddFcOAy3JEno6Y=,IMgPyzAIrB6vRX9qTjzZlEEQboPgxiakMQgY4SG+D5I=,DiYfIPQn1aW3y1c0SKilXBQb0SKiR521IVmNI38vZPM=,DiYfIPQn1aW3y1c0SKilXBQb0SKiR521IVmNI38vZPM=,EEZjlKEE57ViCYPQ9ewbj+JVGZvthmdnidllO0m6WUQ=,YgZuhrQ9E0eZXu3elQmVv8M4gz3YryYxcQDTd4EsxyQ=,L9J/FQEN7D8bid7jdG3r65shQjN0X2Jrc2KBhMeImeQ=,ktzxQh3oDl2VkY8XGYbA8OcCDmZ3Ey+aSyis9JH1kUU=,g7u+fvutvoXI9m2EwbhLjKH3d3JEwuGzVGnH17OgZ/M=,dMK3uo+QKzowbAF23lNmyp+7xAFXWa1NiLa2XxOEInU=,dMK3uo+QKzowbAF23lNmyp+7xAFXWa1NiLa2XxOEInU=,6eNNAfNce/qGa9k14hw/Pb69OEbGUZlwwemVHXSYpds=,Hw4MXrEX2gfNgweUgtDDlFqCcK/HRhTTPJ8apX1kkj0=,51NBgvieu18+vCKDA8cAGOwT2hBzy+hS0otgYO1D640=,Rngqvtbmcdhiv4LBdY8SNDGmDhz0MvmWxRJuV+kSHTY=,RrlFfxBC9+xCuKmx5eZy5FyrQshldtc7y7JgMEtlpGQ=,BaJWBjIJPLs8qu2w2JCc3KOh0K+7340HyX3DvLTvHq8=,R6zCjUio9QB77Z7jzMTB58Hq9AKP0p/lggBqcR+IRrM=,vBCwbi0m4oi/g7K9eK0hApu/SzZrMM8A1GlkTFtdxgA=,zAIIcHVzSGEcJbo6PUVI9sxCf4HCBt1qJyGAC1t2IsI=,YECXNhI3qD4ezQwsza4dkvfk+IxvxwwtDTue2nlxbBg=,YECXNhI3qD4ezQwsza4dkvfk+IxvxwwtDTue2nlxbBg=,F+eP4TVjfrwY4iwyzDvjlbrNC2sjpMEkxtd7xyayndI=,aV5ehX+inDq61uW4D9P98Max2UI1HZL0o0aGKZBlz0w=,5CyNu5QdzU2WJCA+hskS9XZQxHZOA+FhIEpjlT9+jtQ=,EnvDuccJ9PBblaUNY5fHHi/exPMwCdhDcSP9xJcxo1A=,baYxaTtXgxJFmXY+YGCxD7e5fKpuZzg7EwFF94qdonw=,96K+2btjolFGy+5ZWZG1e6rgrWLi/MFDl7uRDqj+iJE=</td>\n",
       "    </tr>\n",
       "    <tr>\n",
       "      <th>11</th>\n",
       "      <td>sAgUtYoEcFqYZCure5kAaMXKLZbT6lo/mT1DXd70Q6M=</td>\n",
       "      <td>male</td>\n",
       "      <td>mNxrJP5zMwQPeROrCkYIpA==</td>\n",
       "      <td>SdYno7IhBPsZxFawi3VT9g==</td>\n",
       "      <td>2021-05-13</td>\n",
       "      <td>out-patient</td>\n",
       "      <td>WDiDokM3moCTG3lVg+lQmMhh+QDhtMlF/jHj3tjrSDw=</td>\n",
       "      <td>1</td>\n",
       "      <td>May 2021</td>\n",
       "      <td>sAgUtYoEcFqYZCure5kAaMXKLZbT6lo/mT1DXd70Q6M=,sAgUtYoEcFqYZCure5kAaMXKLZbT6lo/mT1DXd70Q6M=,JvkK05gF0vhlJhjMCS77uORDXBkJ82kArIiUNFbBVSk=,tQ/rDqu8bDyAJf/PnxQZnVu3/F+1zht1IUWuBx3I5ss=,tQ/rDqu8bDyAJf/PnxQZnVu3/F+1zht1IUWuBx3I5ss=,tQ/rDqu8bDyAJf/PnxQZnVu3/F+1zht1IUWuBx3I5ss=,tQ/rDqu8bDyAJf/PnxQZnVu3/F+1zht1IUWuBx3I5ss=,cuLmSzA0HZSRrRWSeJ7gRU/J1nsVMhxViVuHYrEYwdk=,0yVQiASirbpv+ZM2xE48t5SHjwkGEtv8s3pxXhmzYT8=,JoflRp3Q9wpbaXqplEkrs85f1U477NyDz52FwUsiANY=,S+2aN5yiznCmxfYH8rq2uLJavAN4D9gBAwUvUobyhEo=,LMdMUByx+Smr29kSgebEOH+K6ZpETVPu7N9yiPLVLdE=,8qYOGnyIX9EV7ABRrOtxXyCLLQ0OOzcIMqVFmprCgJE=,8qYOGnyIX9EV7ABRrOtxXyCLLQ0OOzcIMqVFmprCgJE=,WiMNZx33Tnizxqov4EVuSxs+2otRnrcH/d0lDeNFCxQ=,vF9DTQe1+VsxGKQUwh23nRcBrplJ998rqnOAT0P3jKE=,w/FptKloFIhQN4PS+vQW4kkvY/GQC8TP+p6gx3IU5v0=,w/FptKloFIhQN4PS+vQW4kkvY/GQC8TP+p6gx3IU5v0=,w/FptKloFIhQN4PS+vQW4kkvY/GQC8TP+p6gx3IU5v0=,w/FptKloFIhQN4PS+vQW4kkvY/GQC8TP+p6gx3IU5v0=,8XW4qrLM+AXfkeJ3RP6iES+CCLUTjsBqDbHzIkh9o6c=,0Bd558J+lSGjMhi7+LvcRo/ogpxJQs5oYExkucW5mc8=,eGUE8S3H79nkkhbtYwqokSaD9fi0cQwwdfs4zMFJ+mE=,eGUE8S3H79nkkhbtYwqokSaD9fi0cQwwdfs4zMFJ+mE=,/+P65fqjgYbrAS6U5aKjhKHENn2EHodHADkKAwUwLYA=,Dg3vPGvTaMxUOQTC8MsDPCd+q/FFd22eCviPp8oBKDA=,1lXJzObcVr1UkdOKR/b/hmS9T35bYLCdk2uKVYlTlGs=,vInv88xo8vMXAlWtNMmjqDbipAGH+GoJWK2eWN6bZ/o=,b1u+3zFPp4I9C6RHrtnBrk3cP5w08YeqNZ0AueTONK4=,vDulzcMSkm/sFigKY5webjmIY10TcP3RyQCxN2IUjdU=,ESPecLeQDa1TV3EcEwkM2NxGs18vbzBiYCercHUv9FY=,mQLOE52TAOr8V0CX4EmzTjzP+EgpMpWNLThhVbirU7E=,mQLOE52TAOr8V0CX4EmzTjzP+EgpMpWNLThhVbirU7E=,mQLOE52TAOr8V0CX4EmzTjzP+EgpMpWNLThhVbirU7E=,mQLOE52TAOr8V0CX4EmzTjzP+EgpMpWNLThhVbirU7E=,/s7c7tBKFfWGvC0SF4eH0hoObT1lN3FPBor/Mi74p5w=,/s7c7tBKFfWGvC0SF4eH0hoObT1lN3FPBor/Mi74p5w=,/s7c7tBKFfWGvC0SF4eH0hoObT1lN3FPBor/Mi74p5w=,/s7c7tBKFfWGvC0SF4eH0hoObT1lN3FPBor/Mi74p5w=,/s7c7tBKFfWGvC0SF4eH0hoObT1lN3FPBor/Mi74p5w=,pyljnOmnO9PUKw/E1So0DsMkJMQgaYU4hbnENgC5fMs=,pyljnOmnO9PUKw/E1So0DsMkJMQgaYU4hbnENgC5fMs=,yRqI+kW5HvA3dNUg0pjXpFSdYESmI6aBW1mVXIhD54w=,7EY0uoVw31m4DYtfHkqn8xZBs7fmQtMtoQMEZuKVEfg=,X9TY8ORkkGZzseSgWjCuIKJsuWrZBk16YPSly+8EXos=,YWwaIcjBsh2pGGFSS0QgvHDOZaJXBySAnMVp8F7/AVU=,YWwaIcjBsh2pGGFSS0QgvHDOZaJXBySAnMVp8F7/AVU=,YWwaIcjBsh2pGGFSS0QgvHDOZaJXBySAnMVp8F7/AVU=,KWrQaxWIk8rH+92J4lGLHA2KYvKmUcDTVfP7b/l5ZM8=,5VOxnoq2Z1ec4/DbcB2k8cB17FZk3fOX98vgL71V50c=,fQJqnZ3SlOddfhB2gkSC3mNIhEC1nXcRPA3ka2/63tU=,FsytFzwV0xaw6EtKzIoYwwl0dsnoQKKe/0wGBr/qZUA=,QRNe6y1MYK03yLIano3UBKoxko2SS46i9BBt0p8wxGY=,QIYC6I8ZFGkLzRtCpSJYBLY//X9g/juHqX7AnKk+P8Y=,QIYC6I8ZFGkLzRtCpSJYBLY//X9g/juHqX7AnKk+P8Y=,QIYC6I8ZFGkLzRtCpSJYBLY//X9g/juHqX7AnKk+P8Y=,QIYC6I8ZFGkLzRtCpSJYBLY//X9g/juHqX7AnKk+P8Y=,QIYC6I8ZFGkLzRtCpSJYBLY//X9g/juHqX7AnKk+P8Y=,QIYC6I8ZFGkLzRtCpSJYBLY//X9g/juHqX7AnKk+P8Y=,QIYC6I8ZFGkLzRtCpSJYBLY//X9g/juHqX7AnKk+P8Y=,ii0TwvP17fuUwxcXQd4wJTNuJeKUAHH0/2cKhituPTs=,gOO+qYJzDss9vSUX1t4N/oPoP/Jk+7Jj7XXcIOJlgek=,gOO+qYJzDss9vSUX1t4N/oPoP/Jk+7Jj7XXcIOJlgek=,1o78NI1FQYndVDwXQ5ElLh2Y5XKZC9H+HPCKPIIWwFI=,1o78NI1FQYndVDwXQ5ElLh2Y5XKZC9H+HPCKPIIWwFI=,erqeLmP+KyOS8d7fPNybot1fmFZKEkefCPatTdSY3Q4=,erqeLmP+KyOS8d7fPNybot1fmFZKEkefCPatTdSY3Q4=,jr64WV2Wr2gSaOviJ1ibja5/DtWiYBX7BhOHJQ8tbnw=,jr64WV2Wr2gSaOviJ1ibja5/DtWiYBX7BhOHJQ8tbnw=,jr64WV2Wr2gSaOviJ1ibja5/DtWiYBX7BhOHJQ8tbnw=,lhMB6CFtJybzTg7qUhEl1C33g4UC8ayTcOilvN39cUQ=,JBobAv4PTG4yh+FFtt4p20cVxsY3wBA+rmbT5zqD2QE=,JBobAv4PTG4yh+FFtt4p20cVxsY3wBA+rmbT5zqD2QE=,JBobAv4PTG4yh+FFtt4p20cVxsY3wBA+rmbT5zqD2QE=,OoW+9pI+I9TQ2fDl9YVU7ut51bjZnDq8Au67rSosLIM=,IgwXrdHeR1Ln60ZHFxne2jDkXslLfUUduYgP1bvmqCs=,IgwXrdHeR1Ln60ZHFxne2jDkXslLfUUduYgP1bvmqCs=,IgwXrdHeR1Ln60ZHFxne2jDkXslLfUUduYgP1bvmqCs=,IgwXrdHeR1Ln60ZHFxne2jDkXslLfUUduYgP1bvmqCs=,Zng48TZ3yijnBk6r4sgKwCz3ty703xLmte9WYaD04vI=,r3oiXm4d8wxb97spbSrNMa//2AhUJ7G8o+YDuKeunZQ=,L4IYqh1bCAJkFdOcxbES1q+v0QqPrv5h+xK4+KbbB5g=,FgpHOCrMC9/x4gkO8aXr/pN0rywLswOO4VSeMsWptXw=,TWF5Jz7TPT/ieIduPmHWpQWM7911jG65IM8qJ4Xieyo=,TWF5Jz7TPT/ieIduPmHWpQWM7911jG65IM8qJ4Xieyo=,1J4h8n/aoon7VGCrDDsTCi8yn/yJReTc0pKo1AWLUQ8=,UoPyHLWkuM4iXkbc1qF8HPe5VkXBTJEfJw+GuxKcduc=,kozRYqdhthteimJpzv3vBfXNpJAuEe5UxPhwaNxPgws=,kozRYqdhthteimJpzv3vBfXNpJAuEe5UxPhwaNxPgws=,kozRYqdhthteimJpzv3vBfXNpJAuEe5UxPhwaNxPgws=,QA3+zOvTcGTh5H70sv5A1efMKCKu0SwZwbW26b5VBVM=,O1ehWJ81/FnFdgmuIc+oXnlDJqGpRWXh/sGIp9qoTXc=,O1ehWJ81/FnFdgmuIc+oXnlDJqGpRWXh/sGIp9qoTXc=,ykRC459iJQMQmV/KsCQmy46TFtsASUhFbLfCFsWjwNA=,iaPoxc4SBEr0sT4F//B/sEQYr3IyiDfgjwy4RbQ6Kwc=,iaPoxc4SBEr0sT4F//B/sEQYr3IyiDfgjwy4RbQ6Kwc=,76+kRoO7bi3NHSt7AegUA5hvhzhWDwJYwMPJi2kd91o=,v6MHAuikHgqZeRz+fllbkYzK7O+XmXvCbL8DospyVhc=,71DcLp8udgV5Nqm4dl5VGSgLgvPQsRoX2CmWdhNoTrk=,qD3ecVOe+hvmdhOJlDyEXYv0dVLL8pn3KeB8vClLYI4=,qD3ecVOe+hvmdhOJlDyEXYv0dVLL8pn3KeB8vClLYI4=,tvFtbwlCNmvEG3Ur6tt6yHU4Aq/pIgPxrpxJa0jUXkQ=,Ky0n1Dj5YwVrecA+l5yYCuxai0TfzvMPu3KLrxFcbiM=,EdBVT/Aca1W+ykd0Koc0n9kErcLnJ6MgJbVfHVCHHls=,EdBVT/Aca1W+ykd0Koc0n9kErcLnJ6MgJbVfHVCHHls=,1wNfiB/xw1RYYUw8QZB2k+saBckgsUpc/E4FKMVigtc=,DgRXp7PfbfNj3BlqnH+hyiDXgD/8bfxy1ebi8b0bB8Q=,ujFi7EwD4HT0L2DzJGylU0+canX9DKMOktpU64eOGeo=</td>\n",
       "    </tr>\n",
       "    <tr>\n",
       "      <th>12</th>\n",
       "      <td>sAgUtYoEcFqYZCure5kAaMXKLZbT6lo/mT1DXd70Q6M=</td>\n",
       "      <td>male</td>\n",
       "      <td>mNxrJP5zMwQPeROrCkYIpA==</td>\n",
       "      <td>SdYno7IhBPsZxFawi3VT9g==</td>\n",
       "      <td>2021-05-16</td>\n",
       "      <td>out-patient</td>\n",
       "      <td>WDiDokM3moCTG3lVg+lQmMhh+QDhtMlF/jHj3tjrSDw=</td>\n",
       "      <td>1</td>\n",
       "      <td>May 2021</td>\n",
       "      <td>sAgUtYoEcFqYZCure5kAaMXKLZbT6lo/mT1DXd70Q6M=,sAgUtYoEcFqYZCure5kAaMXKLZbT6lo/mT1DXd70Q6M=,JvkK05gF0vhlJhjMCS77uORDXBkJ82kArIiUNFbBVSk=,tQ/rDqu8bDyAJf/PnxQZnVu3/F+1zht1IUWuBx3I5ss=,tQ/rDqu8bDyAJf/PnxQZnVu3/F+1zht1IUWuBx3I5ss=,tQ/rDqu8bDyAJf/PnxQZnVu3/F+1zht1IUWuBx3I5ss=,tQ/rDqu8bDyAJf/PnxQZnVu3/F+1zht1IUWuBx3I5ss=,cuLmSzA0HZSRrRWSeJ7gRU/J1nsVMhxViVuHYrEYwdk=,0yVQiASirbpv+ZM2xE48t5SHjwkGEtv8s3pxXhmzYT8=,JoflRp3Q9wpbaXqplEkrs85f1U477NyDz52FwUsiANY=,S+2aN5yiznCmxfYH8rq2uLJavAN4D9gBAwUvUobyhEo=,LMdMUByx+Smr29kSgebEOH+K6ZpETVPu7N9yiPLVLdE=,8qYOGnyIX9EV7ABRrOtxXyCLLQ0OOzcIMqVFmprCgJE=,8qYOGnyIX9EV7ABRrOtxXyCLLQ0OOzcIMqVFmprCgJE=,WiMNZx33Tnizxqov4EVuSxs+2otRnrcH/d0lDeNFCxQ=,vF9DTQe1+VsxGKQUwh23nRcBrplJ998rqnOAT0P3jKE=,w/FptKloFIhQN4PS+vQW4kkvY/GQC8TP+p6gx3IU5v0=,w/FptKloFIhQN4PS+vQW4kkvY/GQC8TP+p6gx3IU5v0=,w/FptKloFIhQN4PS+vQW4kkvY/GQC8TP+p6gx3IU5v0=,w/FptKloFIhQN4PS+vQW4kkvY/GQC8TP+p6gx3IU5v0=,8XW4qrLM+AXfkeJ3RP6iES+CCLUTjsBqDbHzIkh9o6c=,0Bd558J+lSGjMhi7+LvcRo/ogpxJQs5oYExkucW5mc8=,eGUE8S3H79nkkhbtYwqokSaD9fi0cQwwdfs4zMFJ+mE=,eGUE8S3H79nkkhbtYwqokSaD9fi0cQwwdfs4zMFJ+mE=,/+P65fqjgYbrAS6U5aKjhKHENn2EHodHADkKAwUwLYA=,Dg3vPGvTaMxUOQTC8MsDPCd+q/FFd22eCviPp8oBKDA=,1lXJzObcVr1UkdOKR/b/hmS9T35bYLCdk2uKVYlTlGs=,vInv88xo8vMXAlWtNMmjqDbipAGH+GoJWK2eWN6bZ/o=,b1u+3zFPp4I9C6RHrtnBrk3cP5w08YeqNZ0AueTONK4=,vDulzcMSkm/sFigKY5webjmIY10TcP3RyQCxN2IUjdU=,ESPecLeQDa1TV3EcEwkM2NxGs18vbzBiYCercHUv9FY=,mQLOE52TAOr8V0CX4EmzTjzP+EgpMpWNLThhVbirU7E=,mQLOE52TAOr8V0CX4EmzTjzP+EgpMpWNLThhVbirU7E=,mQLOE52TAOr8V0CX4EmzTjzP+EgpMpWNLThhVbirU7E=,mQLOE52TAOr8V0CX4EmzTjzP+EgpMpWNLThhVbirU7E=,/s7c7tBKFfWGvC0SF4eH0hoObT1lN3FPBor/Mi74p5w=,/s7c7tBKFfWGvC0SF4eH0hoObT1lN3FPBor/Mi74p5w=,/s7c7tBKFfWGvC0SF4eH0hoObT1lN3FPBor/Mi74p5w=,/s7c7tBKFfWGvC0SF4eH0hoObT1lN3FPBor/Mi74p5w=,/s7c7tBKFfWGvC0SF4eH0hoObT1lN3FPBor/Mi74p5w=,pyljnOmnO9PUKw/E1So0DsMkJMQgaYU4hbnENgC5fMs=,pyljnOmnO9PUKw/E1So0DsMkJMQgaYU4hbnENgC5fMs=,yRqI+kW5HvA3dNUg0pjXpFSdYESmI6aBW1mVXIhD54w=,7EY0uoVw31m4DYtfHkqn8xZBs7fmQtMtoQMEZuKVEfg=,X9TY8ORkkGZzseSgWjCuIKJsuWrZBk16YPSly+8EXos=,YWwaIcjBsh2pGGFSS0QgvHDOZaJXBySAnMVp8F7/AVU=,YWwaIcjBsh2pGGFSS0QgvHDOZaJXBySAnMVp8F7/AVU=,YWwaIcjBsh2pGGFSS0QgvHDOZaJXBySAnMVp8F7/AVU=,KWrQaxWIk8rH+92J4lGLHA2KYvKmUcDTVfP7b/l5ZM8=,5VOxnoq2Z1ec4/DbcB2k8cB17FZk3fOX98vgL71V50c=,fQJqnZ3SlOddfhB2gkSC3mNIhEC1nXcRPA3ka2/63tU=,FsytFzwV0xaw6EtKzIoYwwl0dsnoQKKe/0wGBr/qZUA=,QRNe6y1MYK03yLIano3UBKoxko2SS46i9BBt0p8wxGY=,QIYC6I8ZFGkLzRtCpSJYBLY//X9g/juHqX7AnKk+P8Y=,QIYC6I8ZFGkLzRtCpSJYBLY//X9g/juHqX7AnKk+P8Y=,QIYC6I8ZFGkLzRtCpSJYBLY//X9g/juHqX7AnKk+P8Y=,QIYC6I8ZFGkLzRtCpSJYBLY//X9g/juHqX7AnKk+P8Y=,QIYC6I8ZFGkLzRtCpSJYBLY//X9g/juHqX7AnKk+P8Y=,QIYC6I8ZFGkLzRtCpSJYBLY//X9g/juHqX7AnKk+P8Y=,QIYC6I8ZFGkLzRtCpSJYBLY//X9g/juHqX7AnKk+P8Y=,ii0TwvP17fuUwxcXQd4wJTNuJeKUAHH0/2cKhituPTs=,gOO+qYJzDss9vSUX1t4N/oPoP/Jk+7Jj7XXcIOJlgek=,gOO+qYJzDss9vSUX1t4N/oPoP/Jk+7Jj7XXcIOJlgek=,1o78NI1FQYndVDwXQ5ElLh2Y5XKZC9H+HPCKPIIWwFI=,1o78NI1FQYndVDwXQ5ElLh2Y5XKZC9H+HPCKPIIWwFI=,erqeLmP+KyOS8d7fPNybot1fmFZKEkefCPatTdSY3Q4=,erqeLmP+KyOS8d7fPNybot1fmFZKEkefCPatTdSY3Q4=,jr64WV2Wr2gSaOviJ1ibja5/DtWiYBX7BhOHJQ8tbnw=,jr64WV2Wr2gSaOviJ1ibja5/DtWiYBX7BhOHJQ8tbnw=,jr64WV2Wr2gSaOviJ1ibja5/DtWiYBX7BhOHJQ8tbnw=,lhMB6CFtJybzTg7qUhEl1C33g4UC8ayTcOilvN39cUQ=,JBobAv4PTG4yh+FFtt4p20cVxsY3wBA+rmbT5zqD2QE=,JBobAv4PTG4yh+FFtt4p20cVxsY3wBA+rmbT5zqD2QE=,JBobAv4PTG4yh+FFtt4p20cVxsY3wBA+rmbT5zqD2QE=,OoW+9pI+I9TQ2fDl9YVU7ut51bjZnDq8Au67rSosLIM=,IgwXrdHeR1Ln60ZHFxne2jDkXslLfUUduYgP1bvmqCs=,IgwXrdHeR1Ln60ZHFxne2jDkXslLfUUduYgP1bvmqCs=,IgwXrdHeR1Ln60ZHFxne2jDkXslLfUUduYgP1bvmqCs=,IgwXrdHeR1Ln60ZHFxne2jDkXslLfUUduYgP1bvmqCs=,Zng48TZ3yijnBk6r4sgKwCz3ty703xLmte9WYaD04vI=,r3oiXm4d8wxb97spbSrNMa//2AhUJ7G8o+YDuKeunZQ=,L4IYqh1bCAJkFdOcxbES1q+v0QqPrv5h+xK4+KbbB5g=,FgpHOCrMC9/x4gkO8aXr/pN0rywLswOO4VSeMsWptXw=,TWF5Jz7TPT/ieIduPmHWpQWM7911jG65IM8qJ4Xieyo=,TWF5Jz7TPT/ieIduPmHWpQWM7911jG65IM8qJ4Xieyo=,1J4h8n/aoon7VGCrDDsTCi8yn/yJReTc0pKo1AWLUQ8=,UoPyHLWkuM4iXkbc1qF8HPe5VkXBTJEfJw+GuxKcduc=,kozRYqdhthteimJpzv3vBfXNpJAuEe5UxPhwaNxPgws=,kozRYqdhthteimJpzv3vBfXNpJAuEe5UxPhwaNxPgws=,kozRYqdhthteimJpzv3vBfXNpJAuEe5UxPhwaNxPgws=,QA3+zOvTcGTh5H70sv5A1efMKCKu0SwZwbW26b5VBVM=,O1ehWJ81/FnFdgmuIc+oXnlDJqGpRWXh/sGIp9qoTXc=,O1ehWJ81/FnFdgmuIc+oXnlDJqGpRWXh/sGIp9qoTXc=,ykRC459iJQMQmV/KsCQmy46TFtsASUhFbLfCFsWjwNA=,iaPoxc4SBEr0sT4F//B/sEQYr3IyiDfgjwy4RbQ6Kwc=,iaPoxc4SBEr0sT4F//B/sEQYr3IyiDfgjwy4RbQ6Kwc=,76+kRoO7bi3NHSt7AegUA5hvhzhWDwJYwMPJi2kd91o=,v6MHAuikHgqZeRz+fllbkYzK7O+XmXvCbL8DospyVhc=,71DcLp8udgV5Nqm4dl5VGSgLgvPQsRoX2CmWdhNoTrk=,qD3ecVOe+hvmdhOJlDyEXYv0dVLL8pn3KeB8vClLYI4=,qD3ecVOe+hvmdhOJlDyEXYv0dVLL8pn3KeB8vClLYI4=,tvFtbwlCNmvEG3Ur6tt6yHU4Aq/pIgPxrpxJa0jUXkQ=,Ky0n1Dj5YwVrecA+l5yYCuxai0TfzvMPu3KLrxFcbiM=,EdBVT/Aca1W+ykd0Koc0n9kErcLnJ6MgJbVfHVCHHls=,EdBVT/Aca1W+ykd0Koc0n9kErcLnJ6MgJbVfHVCHHls=,1wNfiB/xw1RYYUw8QZB2k+saBckgsUpc/E4FKMVigtc=,DgRXp7PfbfNj3BlqnH+hyiDXgD/8bfxy1ebi8b0bB8Q=,ujFi7EwD4HT0L2DzJGylU0+canX9DKMOktpU64eOGeo=</td>\n",
       "    </tr>\n",
       "    <tr>\n",
       "      <th>14</th>\n",
       "      <td>sAgUtYoEcFqYZCure5kAaMXKLZbT6lo/mT1DXd70Q6M=</td>\n",
       "      <td>male</td>\n",
       "      <td>mNxrJP5zMwQPeROrCkYIpA==</td>\n",
       "      <td>SdYno7IhBPsZxFawi3VT9g==</td>\n",
       "      <td>2021-06-23</td>\n",
       "      <td>out-patient</td>\n",
       "      <td>WDiDokM3moCTG3lVg+lQmMhh+QDhtMlF/jHj3tjrSDw=</td>\n",
       "      <td>1</td>\n",
       "      <td>June 2021</td>\n",
       "      <td>sAgUtYoEcFqYZCure5kAaMXKLZbT6lo/mT1DXd70Q6M=,EAYNXzUJ7wqQxhWfsV9x7bz0mbyXBsbc73JwBAf2KCk=,WiMNZx33Tnizxqov4EVuSxs+2otRnrcH/d0lDeNFCxQ=,WiMNZx33Tnizxqov4EVuSxs+2otRnrcH/d0lDeNFCxQ=,vF9DTQe1+VsxGKQUwh23nRcBrplJ998rqnOAT0P3jKE=,t0dYhaEUwRi8x83TwxZD8bdcEZ0iAOtmq8FwauAnE+g=,8XW4qrLM+AXfkeJ3RP6iES+CCLUTjsBqDbHzIkh9o6c=,eGUE8S3H79nkkhbtYwqokSaD9fi0cQwwdfs4zMFJ+mE=,eGUE8S3H79nkkhbtYwqokSaD9fi0cQwwdfs4zMFJ+mE=,eGUE8S3H79nkkhbtYwqokSaD9fi0cQwwdfs4zMFJ+mE=,eGUE8S3H79nkkhbtYwqokSaD9fi0cQwwdfs4zMFJ+mE=,cJAToSkibD4z2ADMfiAGSoO4pFwEzL7d4SzH/t2RG+c=,0p3LgsqMNC+YswJ8ye55lLah7LZLmt8F45MMwW74yqk=,7HucRn3d6O58aBQqG98kEALvzM0z+8ki51JkBtjxQl4=,H11Dk69Jro8rLieOsLCMNQlfzCShp0MaTLaurtmPMsI=,H11Dk69Jro8rLieOsLCMNQlfzCShp0MaTLaurtmPMsI=,H11Dk69Jro8rLieOsLCMNQlfzCShp0MaTLaurtmPMsI=,H11Dk69Jro8rLieOsLCMNQlfzCShp0MaTLaurtmPMsI=,H11Dk69Jro8rLieOsLCMNQlfzCShp0MaTLaurtmPMsI=,H11Dk69Jro8rLieOsLCMNQlfzCShp0MaTLaurtmPMsI=,H11Dk69Jro8rLieOsLCMNQlfzCShp0MaTLaurtmPMsI=,yRqI+kW5HvA3dNUg0pjXpFSdYESmI6aBW1mVXIhD54w=,w7BYBL82bReXPzbWkZ3ZBWjGUj0301OGzs1ANO5+GT4=,/JMqmzGWwVGZITnBYE1cSStA8ZpliOGSHWvoJWCAwv0=,RAR9awgE+w8tN6wPFCRIDLHHrMm3Y9IWZcJGir3YdT8=,wtt5NyOgax20eYcLRfjVOWxTMJe2tv9EWaiOv2KrXbk=,1J4h8n/aoon7VGCrDDsTCi8yn/yJReTc0pKo1AWLUQ8=,y2+qElyRyZLvNJPIJrSxbdERUHdez5wYOP6F+eCP23k=,y2+qElyRyZLvNJPIJrSxbdERUHdez5wYOP6F+eCP23k=,y2+qElyRyZLvNJPIJrSxbdERUHdez5wYOP6F+eCP23k=,T8aYqayX84G0YI7UWh4D2X8tUJFdO01dXzFs5YyZRlI=,T8aYqayX84G0YI7UWh4D2X8tUJFdO01dXzFs5YyZRlI=,T8aYqayX84G0YI7UWh4D2X8tUJFdO01dXzFs5YyZRlI=,XOQDcIyR5+AbD0exLJH66Cwih8Q0S2g6ptwRqpSuEYY=,XOQDcIyR5+AbD0exLJH66Cwih8Q0S2g6ptwRqpSuEYY=,XOQDcIyR5+AbD0exLJH66Cwih8Q0S2g6ptwRqpSuEYY=,fzGZiO4b2FUDP8chv6GVWVmSPUq7+4xnZFtepyD+ODo=,XjV48rtjjze/Pwxar/80piHVa2AfmM8w73+R/sioYaA=,POoS02JRfZxjzoIX8u8jPj1mDnq05loi9IxV4fsfGVY=,0hiFVLSYslJLJWdHkS3LDCr1JisRsvsWl8MD5A0x2ec=,mYbc7wUF1QSwbg2rBEvi4odfOIsA+Hn1MNpT09UfClA=,mYbc7wUF1QSwbg2rBEvi4odfOIsA+Hn1MNpT09UfClA=,KEKNgL7+daigDPe8N9oU5sp+Bmd8Ob7IrtlIPXM1f0w=,385ZIpQiH8ZidWZBPI6YWrdiM7pbcDUbwDyVKn5ep/w=,9Ttabboo+kmtQ5RhcW3yz2hpLqxDKDQj63rD/zRAvcs=,SFwF5QzibKWlpbVRT2TpPl31GyJt9LVpTqrrLLirJuU=,SFwF5QzibKWlpbVRT2TpPl31GyJt9LVpTqrrLLirJuU=,SFwF5QzibKWlpbVRT2TpPl31GyJt9LVpTqrrLLirJuU=,SFwF5QzibKWlpbVRT2TpPl31GyJt9LVpTqrrLLirJuU=,SFwF5QzibKWlpbVRT2TpPl31GyJt9LVpTqrrLLirJuU=,RIgma+PpAlrn4yHKuVG4usfYmMqB38bXXZ5sFmfFvHU=,FMtZL6gFOmSD7YnH1sOwR7HV/aEKPUQx9MqJ7vjAvuM=,IzNDUbtvXfKGcHIwHwVnhoYB0o52O9GRkV6SYJAMkps=,IzNDUbtvXfKGcHIwHwVnhoYB0o52O9GRkV6SYJAMkps=,StVRfVcTAU5RJr0x6Ji1tGnx9aSfNpeSXCj1pCO3Xys=,StVRfVcTAU5RJr0x6Ji1tGnx9aSfNpeSXCj1pCO3Xys=,StVRfVcTAU5RJr0x6Ji1tGnx9aSfNpeSXCj1pCO3Xys=,+hP9sxIR/YXMquMAqRNzlXUp7Anz8ATODLiSyPhUQwQ=,wQFgUxb6rxUoYWUFjNoGGowK/ZFJCG9DXG0FEbVEiaQ=,0D7/GFeK4w/n95VGOn8aQ7qDM9c9mEzsY1aWHyp0Y4k=,15GkTTI81cjUmaPihs/RnDtWuppH36urHgzX/7KIK5Y=,Sl/evqJ890ScmZTV49ajYPXXdZAAUn8ckbbtfAZXZdw=,BbYiAijHAj7A2XKDzScHXpOXu/S31kVIdbUG53rYNLE=,BbYiAijHAj7A2XKDzScHXpOXu/S31kVIdbUG53rYNLE=,BbYiAijHAj7A2XKDzScHXpOXu/S31kVIdbUG53rYNLE=,jHbdfOdqg5dLhmkx/MChZONfNtqmjbiRjL8uPkPImB0=</td>\n",
       "    </tr>\n",
       "    <tr>\n",
       "      <th>17</th>\n",
       "      <td>T24s2IPX1yFVoT19u944/OhjmyOXxK9Bx3iErOIo3LM=</td>\n",
       "      <td>male</td>\n",
       "      <td>V7TZHOZ+xRdjBeA2EkzRSw==</td>\n",
       "      <td>SdYno7IhBPsZxFawi3VT9g==</td>\n",
       "      <td>2021-07-16</td>\n",
       "      <td>out-patient</td>\n",
       "      <td>WDiDokM3moCTG3lVg+lQmMhh+QDhtMlF/jHj3tjrSDw=</td>\n",
       "      <td>1</td>\n",
       "      <td>July 2021</td>\n",
       "      <td>XHB0+FAjJtcape6I90URgLIO5A4ipN8zjkeBpmJLc9s=,T24s2IPX1yFVoT19u944/OhjmyOXxK9Bx3iErOIo3LM=,+wBKI48Sb9UBnCAP5e9jfd4DL2Hie2cJz9GvsiylvyQ=,MPOvxX2y4Jc8/bd5d83KdtQEdeWPwIInVUHIColCyhk=,tQ/rDqu8bDyAJf/PnxQZnVu3/F+1zht1IUWuBx3I5ss=,tQ/rDqu8bDyAJf/PnxQZnVu3/F+1zht1IUWuBx3I5ss=,YTFtleDxcMOrSbBfDfWwpOLiBQLWpDZml7Y3JgN6038=,n+uvyzwXo655sNRCeYPp/jOm2CHnz7f9S5ZIhfOvIMo=,BNtTH0ScIZE3LEmVyeSI411C7ez4okV4ostU9yac/Qw=,TcVBZX95c+UtKuwyxv9y7Gd1bNfeGLHJsHTV4Nfd3a8=,TcVBZX95c+UtKuwyxv9y7Gd1bNfeGLHJsHTV4Nfd3a8=,TcVBZX95c+UtKuwyxv9y7Gd1bNfeGLHJsHTV4Nfd3a8=,hznxDbjh9jkMCqm7Q3jjPSiWtvtvunxwacmzFc1RDfE=,hznxDbjh9jkMCqm7Q3jjPSiWtvtvunxwacmzFc1RDfE=,AS79hGMKfr0Rrvvu3rOZUHVgDlUGLXKnZKJ2Zc6X7Ds=,AS79hGMKfr0Rrvvu3rOZUHVgDlUGLXKnZKJ2Zc6X7Ds=,Z6jQTveKFFz83PkJjHHrESbfBLqoMgpJr1L+DtkCaO4=,Z6jQTveKFFz83PkJjHHrESbfBLqoMgpJr1L+DtkCaO4=,Z6jQTveKFFz83PkJjHHrESbfBLqoMgpJr1L+DtkCaO4=,Z6jQTveKFFz83PkJjHHrESbfBLqoMgpJr1L+DtkCaO4=,Z6jQTveKFFz83PkJjHHrESbfBLqoMgpJr1L+DtkCaO4=,WiMNZx33Tnizxqov4EVuSxs+2otRnrcH/d0lDeNFCxQ=,WiMNZx33Tnizxqov4EVuSxs+2otRnrcH/d0lDeNFCxQ=,WiMNZx33Tnizxqov4EVuSxs+2otRnrcH/d0lDeNFCxQ=,vF9DTQe1+VsxGKQUwh23nRcBrplJ998rqnOAT0P3jKE=,mncGfoVLCx169sNN6z12MnOPxWq4prD+Y6CKuS4HP7Y=,VidFjxyDrJN26U9BoJQSqrhGkjx2LOVtmFGQzs+vJwc=,6LNYgn4Ypd0F9p1K3BoOF1/HsXQKKlv3HY+x/N0ZCyQ=,/+P65fqjgYbrAS6U5aKjhKHENn2EHodHADkKAwUwLYA=,1lXJzObcVr1UkdOKR/b/hmS9T35bYLCdk2uKVYlTlGs=,vInv88xo8vMXAlWtNMmjqDbipAGH+GoJWK2eWN6bZ/o=,0p3LgsqMNC+YswJ8ye55lLah7LZLmt8F45MMwW74yqk=,0p3LgsqMNC+YswJ8ye55lLah7LZLmt8F45MMwW74yqk=,YDjoY5pwwam3w5iKH4REdbmYH0nbZInj5sXy2WJJNV8=,fODWSpmizNnrUgi6PKn7VpIj1kUAh7xCVwFwtBtjoSE=,tZ6j3V7gRsjB3pWRJMng90mIwIW6K7uGz0KSJCokqAg=,tZ6j3V7gRsjB3pWRJMng90mIwIW6K7uGz0KSJCokqAg=,s2KroBlvK1YwnLA0pN4x5B+ZC48190bcdOAeEnu8ogU=,OJwj235ORrkduYzfIRekh6/7+2E/Vf0cHupi4Pka1n0=,yRqI+kW5HvA3dNUg0pjXpFSdYESmI6aBW1mVXIhD54w=,OcTNGd3JYpW0zJuTXDJfs6sEl7Rc+Wc2nCnF0xFszpI=,sBcu74PRagv0GwiRl9vG2nXaAnq0NwzVx3stRQNrSiU=,FsytFzwV0xaw6EtKzIoYwwl0dsnoQKKe/0wGBr/qZUA=,FsytFzwV0xaw6EtKzIoYwwl0dsnoQKKe/0wGBr/qZUA=,FsytFzwV0xaw6EtKzIoYwwl0dsnoQKKe/0wGBr/qZUA=,FsytFzwV0xaw6EtKzIoYwwl0dsnoQKKe/0wGBr/qZUA=,FsytFzwV0xaw6EtKzIoYwwl0dsnoQKKe/0wGBr/qZUA=,HZj0IqdmUBUBh2WVzsg5UQGVqp1aeio0etI0vR4mpHw=,AaSYqz1flDCNjiyWrVboufoNIYI1ejbExaI2kRTsGiI=,ZEzFRolvK0HFGLY3U26okd3jwHBuua4ndj3+5N05Tp4=,ZEzFRolvK0HFGLY3U26okd3jwHBuua4ndj3+5N05Tp4=,QRNe6y1MYK03yLIano3UBKoxko2SS46i9BBt0p8wxGY=,gs85NSXLfUJflqyP1BfNb/7hfcggpvtSvoG6BdJ1js4=,tG9oEB52RFZgr2w9dRLsokoYIMu8ltGxCKxwmBW2Gfs=,tG9oEB52RFZgr2w9dRLsokoYIMu8ltGxCKxwmBW2Gfs=,SXfDY+aUtLS3FJgd+JZz0jWcNJGcqrkKuTt1mpHbb6Q=,O1ehWJ81/FnFdgmuIc+oXnlDJqGpRWXh/sGIp9qoTXc=,HZBdcyaQ1pkdVAAVOfr4pQpnL/6fPdX7A0ZIcgmy8lo=,dda4tJ5bT+vVhzBobN6TwLuKIDXviBI6Y1lTPBgV92Y=,IzNDUbtvXfKGcHIwHwVnhoYB0o52O9GRkV6SYJAMkps=,IzNDUbtvXfKGcHIwHwVnhoYB0o52O9GRkV6SYJAMkps=,StVRfVcTAU5RJr0x6Ji1tGnx9aSfNpeSXCj1pCO3Xys=,LEJztQjZHc/aNvgOujNRFcqlgsPLMXESoL706exOsx4=,bFokb77EpcF2H1mx+LoZH0+298BBPq8gwoUWFoN/K1A=,dUoF+P3ImnRib+Wp4YGUx+GLlD2THS00bIrAVbnPYuQ=,wQFgUxb6rxUoYWUFjNoGGowK/ZFJCG9DXG0FEbVEiaQ=,BOID2T30rY0PCqqO4RBkTuUkLeo+V5QxjNjzvzSgvJw=,BOID2T30rY0PCqqO4RBkTuUkLeo+V5QxjNjzvzSgvJw=,qD3ecVOe+hvmdhOJlDyEXYv0dVLL8pn3KeB8vClLYI4=,cOn1XZ4Kfv9pWWghvZrpWL98WfVgqlFORxDMhM4Ph/c=,cOn1XZ4Kfv9pWWghvZrpWL98WfVgqlFORxDMhM4Ph/c=,cOn1XZ4Kfv9pWWghvZrpWL98WfVgqlFORxDMhM4Ph/c=,cOn1XZ4Kfv9pWWghvZrpWL98WfVgqlFORxDMhM4Ph/c=,cOn1XZ4Kfv9pWWghvZrpWL98WfVgqlFORxDMhM4Ph/c=,cOn1XZ4Kfv9pWWghvZrpWL98WfVgqlFORxDMhM4Ph/c=,jgyzmA14NE4KlN2UQEM3cId91D0O6brHSTzxxCWWgz0=,jgyzmA14NE4KlN2UQEM3cId91D0O6brHSTzxxCWWgz0=,Q43VvP8sALi4XgTBARkMZNcugwEWQj7TZixYsXXToOY=,lRZS0+a+NyY0Hhtz63Xk2jZWxDmVDQdyrKfIVDf9HNE=,lRZS0+a+NyY0Hhtz63Xk2jZWxDmVDQdyrKfIVDf9HNE=,lRZS0+a+NyY0Hhtz63Xk2jZWxDmVDQdyrKfIVDf9HNE=,lRZS0+a+NyY0Hhtz63Xk2jZWxDmVDQdyrKfIVDf9HNE=,aYqXLPIi7V4HQfhZqsoljpTqwr6gaMpKA+FP0/bdh+s=,Z24/0nbGI5spzFSM4KUFc9ONNLuZ/ddFcOAy3JEno6Y=,Z24/0nbGI5spzFSM4KUFc9ONNLuZ/ddFcOAy3JEno6Y=,IMgPyzAIrB6vRX9qTjzZlEEQboPgxiakMQgY4SG+D5I=,DiYfIPQn1aW3y1c0SKilXBQb0SKiR521IVmNI38vZPM=,DiYfIPQn1aW3y1c0SKilXBQb0SKiR521IVmNI38vZPM=,EEZjlKEE57ViCYPQ9ewbj+JVGZvthmdnidllO0m6WUQ=,YgZuhrQ9E0eZXu3elQmVv8M4gz3YryYxcQDTd4EsxyQ=,L9J/FQEN7D8bid7jdG3r65shQjN0X2Jrc2KBhMeImeQ=,ktzxQh3oDl2VkY8XGYbA8OcCDmZ3Ey+aSyis9JH1kUU=,g7u+fvutvoXI9m2EwbhLjKH3d3JEwuGzVGnH17OgZ/M=,dMK3uo+QKzowbAF23lNmyp+7xAFXWa1NiLa2XxOEInU=,dMK3uo+QKzowbAF23lNmyp+7xAFXWa1NiLa2XxOEInU=,6eNNAfNce/qGa9k14hw/Pb69OEbGUZlwwemVHXSYpds=,Hw4MXrEX2gfNgweUgtDDlFqCcK/HRhTTPJ8apX1kkj0=,51NBgvieu18+vCKDA8cAGOwT2hBzy+hS0otgYO1D640=,Rngqvtbmcdhiv4LBdY8SNDGmDhz0MvmWxRJuV+kSHTY=,RrlFfxBC9+xCuKmx5eZy5FyrQshldtc7y7JgMEtlpGQ=,BaJWBjIJPLs8qu2w2JCc3KOh0K+7340HyX3DvLTvHq8=,R6zCjUio9QB77Z7jzMTB58Hq9AKP0p/lggBqcR+IRrM=,vBCwbi0m4oi/g7K9eK0hApu/SzZrMM8A1GlkTFtdxgA=,zAIIcHVzSGEcJbo6PUVI9sxCf4HCBt1qJyGAC1t2IsI=,YECXNhI3qD4ezQwsza4dkvfk+IxvxwwtDTue2nlxbBg=,YECXNhI3qD4ezQwsza4dkvfk+IxvxwwtDTue2nlxbBg=,F+eP4TVjfrwY4iwyzDvjlbrNC2sjpMEkxtd7xyayndI=,aV5ehX+inDq61uW4D9P98Max2UI1HZL0o0aGKZBlz0w=,5CyNu5QdzU2WJCA+hskS9XZQxHZOA+FhIEpjlT9+jtQ=,EnvDuccJ9PBblaUNY5fHHi/exPMwCdhDcSP9xJcxo1A=,baYxaTtXgxJFmXY+YGCxD7e5fKpuZzg7EwFF94qdonw=,96K+2btjolFGy+5ZWZG1e6rgrWLi/MFDl7uRDqj+iJE=</td>\n",
       "    </tr>\n",
       "    <tr>\n",
       "      <th>25</th>\n",
       "      <td>+wBKI48Sb9UBnCAP5e9jfd4DL2Hie2cJz9GvsiylvyQ=</td>\n",
       "      <td>male</td>\n",
       "      <td>zQCxWb9sDevjUBnrGk4TOg==</td>\n",
       "      <td>SdYno7IhBPsZxFawi3VT9g==</td>\n",
       "      <td>2021-07-19</td>\n",
       "      <td>out-patient</td>\n",
       "      <td>WDiDokM3moCTG3lVg+lQmMhh+QDhtMlF/jHj3tjrSDw=</td>\n",
       "      <td>1</td>\n",
       "      <td>July 2021</td>\n",
       "      <td>XHB0+FAjJtcape6I90URgLIO5A4ipN8zjkeBpmJLc9s=,T24s2IPX1yFVoT19u944/OhjmyOXxK9Bx3iErOIo3LM=,+wBKI48Sb9UBnCAP5e9jfd4DL2Hie2cJz9GvsiylvyQ=,MPOvxX2y4Jc8/bd5d83KdtQEdeWPwIInVUHIColCyhk=,tQ/rDqu8bDyAJf/PnxQZnVu3/F+1zht1IUWuBx3I5ss=,tQ/rDqu8bDyAJf/PnxQZnVu3/F+1zht1IUWuBx3I5ss=,YTFtleDxcMOrSbBfDfWwpOLiBQLWpDZml7Y3JgN6038=,n+uvyzwXo655sNRCeYPp/jOm2CHnz7f9S5ZIhfOvIMo=,BNtTH0ScIZE3LEmVyeSI411C7ez4okV4ostU9yac/Qw=,TcVBZX95c+UtKuwyxv9y7Gd1bNfeGLHJsHTV4Nfd3a8=,TcVBZX95c+UtKuwyxv9y7Gd1bNfeGLHJsHTV4Nfd3a8=,TcVBZX95c+UtKuwyxv9y7Gd1bNfeGLHJsHTV4Nfd3a8=,hznxDbjh9jkMCqm7Q3jjPSiWtvtvunxwacmzFc1RDfE=,hznxDbjh9jkMCqm7Q3jjPSiWtvtvunxwacmzFc1RDfE=,AS79hGMKfr0Rrvvu3rOZUHVgDlUGLXKnZKJ2Zc6X7Ds=,AS79hGMKfr0Rrvvu3rOZUHVgDlUGLXKnZKJ2Zc6X7Ds=,Z6jQTveKFFz83PkJjHHrESbfBLqoMgpJr1L+DtkCaO4=,Z6jQTveKFFz83PkJjHHrESbfBLqoMgpJr1L+DtkCaO4=,Z6jQTveKFFz83PkJjHHrESbfBLqoMgpJr1L+DtkCaO4=,Z6jQTveKFFz83PkJjHHrESbfBLqoMgpJr1L+DtkCaO4=,Z6jQTveKFFz83PkJjHHrESbfBLqoMgpJr1L+DtkCaO4=,WiMNZx33Tnizxqov4EVuSxs+2otRnrcH/d0lDeNFCxQ=,WiMNZx33Tnizxqov4EVuSxs+2otRnrcH/d0lDeNFCxQ=,WiMNZx33Tnizxqov4EVuSxs+2otRnrcH/d0lDeNFCxQ=,vF9DTQe1+VsxGKQUwh23nRcBrplJ998rqnOAT0P3jKE=,mncGfoVLCx169sNN6z12MnOPxWq4prD+Y6CKuS4HP7Y=,VidFjxyDrJN26U9BoJQSqrhGkjx2LOVtmFGQzs+vJwc=,6LNYgn4Ypd0F9p1K3BoOF1/HsXQKKlv3HY+x/N0ZCyQ=,/+P65fqjgYbrAS6U5aKjhKHENn2EHodHADkKAwUwLYA=,1lXJzObcVr1UkdOKR/b/hmS9T35bYLCdk2uKVYlTlGs=,vInv88xo8vMXAlWtNMmjqDbipAGH+GoJWK2eWN6bZ/o=,0p3LgsqMNC+YswJ8ye55lLah7LZLmt8F45MMwW74yqk=,0p3LgsqMNC+YswJ8ye55lLah7LZLmt8F45MMwW74yqk=,YDjoY5pwwam3w5iKH4REdbmYH0nbZInj5sXy2WJJNV8=,fODWSpmizNnrUgi6PKn7VpIj1kUAh7xCVwFwtBtjoSE=,tZ6j3V7gRsjB3pWRJMng90mIwIW6K7uGz0KSJCokqAg=,tZ6j3V7gRsjB3pWRJMng90mIwIW6K7uGz0KSJCokqAg=,s2KroBlvK1YwnLA0pN4x5B+ZC48190bcdOAeEnu8ogU=,OJwj235ORrkduYzfIRekh6/7+2E/Vf0cHupi4Pka1n0=,yRqI+kW5HvA3dNUg0pjXpFSdYESmI6aBW1mVXIhD54w=,OcTNGd3JYpW0zJuTXDJfs6sEl7Rc+Wc2nCnF0xFszpI=,sBcu74PRagv0GwiRl9vG2nXaAnq0NwzVx3stRQNrSiU=,FsytFzwV0xaw6EtKzIoYwwl0dsnoQKKe/0wGBr/qZUA=,FsytFzwV0xaw6EtKzIoYwwl0dsnoQKKe/0wGBr/qZUA=,FsytFzwV0xaw6EtKzIoYwwl0dsnoQKKe/0wGBr/qZUA=,FsytFzwV0xaw6EtKzIoYwwl0dsnoQKKe/0wGBr/qZUA=,FsytFzwV0xaw6EtKzIoYwwl0dsnoQKKe/0wGBr/qZUA=,HZj0IqdmUBUBh2WVzsg5UQGVqp1aeio0etI0vR4mpHw=,AaSYqz1flDCNjiyWrVboufoNIYI1ejbExaI2kRTsGiI=,ZEzFRolvK0HFGLY3U26okd3jwHBuua4ndj3+5N05Tp4=,ZEzFRolvK0HFGLY3U26okd3jwHBuua4ndj3+5N05Tp4=,QRNe6y1MYK03yLIano3UBKoxko2SS46i9BBt0p8wxGY=,gs85NSXLfUJflqyP1BfNb/7hfcggpvtSvoG6BdJ1js4=,tG9oEB52RFZgr2w9dRLsokoYIMu8ltGxCKxwmBW2Gfs=,tG9oEB52RFZgr2w9dRLsokoYIMu8ltGxCKxwmBW2Gfs=,SXfDY+aUtLS3FJgd+JZz0jWcNJGcqrkKuTt1mpHbb6Q=,O1ehWJ81/FnFdgmuIc+oXnlDJqGpRWXh/sGIp9qoTXc=,HZBdcyaQ1pkdVAAVOfr4pQpnL/6fPdX7A0ZIcgmy8lo=,dda4tJ5bT+vVhzBobN6TwLuKIDXviBI6Y1lTPBgV92Y=,IzNDUbtvXfKGcHIwHwVnhoYB0o52O9GRkV6SYJAMkps=,IzNDUbtvXfKGcHIwHwVnhoYB0o52O9GRkV6SYJAMkps=,StVRfVcTAU5RJr0x6Ji1tGnx9aSfNpeSXCj1pCO3Xys=,LEJztQjZHc/aNvgOujNRFcqlgsPLMXESoL706exOsx4=,bFokb77EpcF2H1mx+LoZH0+298BBPq8gwoUWFoN/K1A=,dUoF+P3ImnRib+Wp4YGUx+GLlD2THS00bIrAVbnPYuQ=,wQFgUxb6rxUoYWUFjNoGGowK/ZFJCG9DXG0FEbVEiaQ=,BOID2T30rY0PCqqO4RBkTuUkLeo+V5QxjNjzvzSgvJw=,BOID2T30rY0PCqqO4RBkTuUkLeo+V5QxjNjzvzSgvJw=,qD3ecVOe+hvmdhOJlDyEXYv0dVLL8pn3KeB8vClLYI4=,cOn1XZ4Kfv9pWWghvZrpWL98WfVgqlFORxDMhM4Ph/c=,cOn1XZ4Kfv9pWWghvZrpWL98WfVgqlFORxDMhM4Ph/c=,cOn1XZ4Kfv9pWWghvZrpWL98WfVgqlFORxDMhM4Ph/c=,cOn1XZ4Kfv9pWWghvZrpWL98WfVgqlFORxDMhM4Ph/c=,cOn1XZ4Kfv9pWWghvZrpWL98WfVgqlFORxDMhM4Ph/c=,cOn1XZ4Kfv9pWWghvZrpWL98WfVgqlFORxDMhM4Ph/c=,jgyzmA14NE4KlN2UQEM3cId91D0O6brHSTzxxCWWgz0=,jgyzmA14NE4KlN2UQEM3cId91D0O6brHSTzxxCWWgz0=,Q43VvP8sALi4XgTBARkMZNcugwEWQj7TZixYsXXToOY=,lRZS0+a+NyY0Hhtz63Xk2jZWxDmVDQdyrKfIVDf9HNE=,lRZS0+a+NyY0Hhtz63Xk2jZWxDmVDQdyrKfIVDf9HNE=,lRZS0+a+NyY0Hhtz63Xk2jZWxDmVDQdyrKfIVDf9HNE=,lRZS0+a+NyY0Hhtz63Xk2jZWxDmVDQdyrKfIVDf9HNE=,aYqXLPIi7V4HQfhZqsoljpTqwr6gaMpKA+FP0/bdh+s=,Z24/0nbGI5spzFSM4KUFc9ONNLuZ/ddFcOAy3JEno6Y=,Z24/0nbGI5spzFSM4KUFc9ONNLuZ/ddFcOAy3JEno6Y=,IMgPyzAIrB6vRX9qTjzZlEEQboPgxiakMQgY4SG+D5I=,DiYfIPQn1aW3y1c0SKilXBQb0SKiR521IVmNI38vZPM=,DiYfIPQn1aW3y1c0SKilXBQb0SKiR521IVmNI38vZPM=,EEZjlKEE57ViCYPQ9ewbj+JVGZvthmdnidllO0m6WUQ=,YgZuhrQ9E0eZXu3elQmVv8M4gz3YryYxcQDTd4EsxyQ=,L9J/FQEN7D8bid7jdG3r65shQjN0X2Jrc2KBhMeImeQ=,ktzxQh3oDl2VkY8XGYbA8OcCDmZ3Ey+aSyis9JH1kUU=,g7u+fvutvoXI9m2EwbhLjKH3d3JEwuGzVGnH17OgZ/M=,dMK3uo+QKzowbAF23lNmyp+7xAFXWa1NiLa2XxOEInU=,dMK3uo+QKzowbAF23lNmyp+7xAFXWa1NiLa2XxOEInU=,6eNNAfNce/qGa9k14hw/Pb69OEbGUZlwwemVHXSYpds=,Hw4MXrEX2gfNgweUgtDDlFqCcK/HRhTTPJ8apX1kkj0=,51NBgvieu18+vCKDA8cAGOwT2hBzy+hS0otgYO1D640=,Rngqvtbmcdhiv4LBdY8SNDGmDhz0MvmWxRJuV+kSHTY=,RrlFfxBC9+xCuKmx5eZy5FyrQshldtc7y7JgMEtlpGQ=,BaJWBjIJPLs8qu2w2JCc3KOh0K+7340HyX3DvLTvHq8=,R6zCjUio9QB77Z7jzMTB58Hq9AKP0p/lggBqcR+IRrM=,vBCwbi0m4oi/g7K9eK0hApu/SzZrMM8A1GlkTFtdxgA=,zAIIcHVzSGEcJbo6PUVI9sxCf4HCBt1qJyGAC1t2IsI=,YECXNhI3qD4ezQwsza4dkvfk+IxvxwwtDTue2nlxbBg=,YECXNhI3qD4ezQwsza4dkvfk+IxvxwwtDTue2nlxbBg=,F+eP4TVjfrwY4iwyzDvjlbrNC2sjpMEkxtd7xyayndI=,aV5ehX+inDq61uW4D9P98Max2UI1HZL0o0aGKZBlz0w=,5CyNu5QdzU2WJCA+hskS9XZQxHZOA+FhIEpjlT9+jtQ=,EnvDuccJ9PBblaUNY5fHHi/exPMwCdhDcSP9xJcxo1A=,baYxaTtXgxJFmXY+YGCxD7e5fKpuZzg7EwFF94qdonw=,96K+2btjolFGy+5ZWZG1e6rgrWLi/MFDl7uRDqj+iJE=</td>\n",
       "    </tr>\n",
       "    <tr>\n",
       "      <th>29</th>\n",
       "      <td>MPOvxX2y4Jc8/bd5d83KdtQEdeWPwIInVUHIColCyhk=</td>\n",
       "      <td>male</td>\n",
       "      <td>okjmWBWaGboBivYciYtSHg==</td>\n",
       "      <td>SdYno7IhBPsZxFawi3VT9g==</td>\n",
       "      <td>2021-07-27</td>\n",
       "      <td>out-patient</td>\n",
       "      <td>WDiDokM3moCTG3lVg+lQmMhh+QDhtMlF/jHj3tjrSDw=</td>\n",
       "      <td>1</td>\n",
       "      <td>July 2021</td>\n",
       "      <td>XHB0+FAjJtcape6I90URgLIO5A4ipN8zjkeBpmJLc9s=,T24s2IPX1yFVoT19u944/OhjmyOXxK9Bx3iErOIo3LM=,+wBKI48Sb9UBnCAP5e9jfd4DL2Hie2cJz9GvsiylvyQ=,MPOvxX2y4Jc8/bd5d83KdtQEdeWPwIInVUHIColCyhk=,tQ/rDqu8bDyAJf/PnxQZnVu3/F+1zht1IUWuBx3I5ss=,tQ/rDqu8bDyAJf/PnxQZnVu3/F+1zht1IUWuBx3I5ss=,YTFtleDxcMOrSbBfDfWwpOLiBQLWpDZml7Y3JgN6038=,n+uvyzwXo655sNRCeYPp/jOm2CHnz7f9S5ZIhfOvIMo=,BNtTH0ScIZE3LEmVyeSI411C7ez4okV4ostU9yac/Qw=,TcVBZX95c+UtKuwyxv9y7Gd1bNfeGLHJsHTV4Nfd3a8=,TcVBZX95c+UtKuwyxv9y7Gd1bNfeGLHJsHTV4Nfd3a8=,TcVBZX95c+UtKuwyxv9y7Gd1bNfeGLHJsHTV4Nfd3a8=,hznxDbjh9jkMCqm7Q3jjPSiWtvtvunxwacmzFc1RDfE=,hznxDbjh9jkMCqm7Q3jjPSiWtvtvunxwacmzFc1RDfE=,AS79hGMKfr0Rrvvu3rOZUHVgDlUGLXKnZKJ2Zc6X7Ds=,AS79hGMKfr0Rrvvu3rOZUHVgDlUGLXKnZKJ2Zc6X7Ds=,Z6jQTveKFFz83PkJjHHrESbfBLqoMgpJr1L+DtkCaO4=,Z6jQTveKFFz83PkJjHHrESbfBLqoMgpJr1L+DtkCaO4=,Z6jQTveKFFz83PkJjHHrESbfBLqoMgpJr1L+DtkCaO4=,Z6jQTveKFFz83PkJjHHrESbfBLqoMgpJr1L+DtkCaO4=,Z6jQTveKFFz83PkJjHHrESbfBLqoMgpJr1L+DtkCaO4=,WiMNZx33Tnizxqov4EVuSxs+2otRnrcH/d0lDeNFCxQ=,WiMNZx33Tnizxqov4EVuSxs+2otRnrcH/d0lDeNFCxQ=,WiMNZx33Tnizxqov4EVuSxs+2otRnrcH/d0lDeNFCxQ=,vF9DTQe1+VsxGKQUwh23nRcBrplJ998rqnOAT0P3jKE=,mncGfoVLCx169sNN6z12MnOPxWq4prD+Y6CKuS4HP7Y=,VidFjxyDrJN26U9BoJQSqrhGkjx2LOVtmFGQzs+vJwc=,6LNYgn4Ypd0F9p1K3BoOF1/HsXQKKlv3HY+x/N0ZCyQ=,/+P65fqjgYbrAS6U5aKjhKHENn2EHodHADkKAwUwLYA=,1lXJzObcVr1UkdOKR/b/hmS9T35bYLCdk2uKVYlTlGs=,vInv88xo8vMXAlWtNMmjqDbipAGH+GoJWK2eWN6bZ/o=,0p3LgsqMNC+YswJ8ye55lLah7LZLmt8F45MMwW74yqk=,0p3LgsqMNC+YswJ8ye55lLah7LZLmt8F45MMwW74yqk=,YDjoY5pwwam3w5iKH4REdbmYH0nbZInj5sXy2WJJNV8=,fODWSpmizNnrUgi6PKn7VpIj1kUAh7xCVwFwtBtjoSE=,tZ6j3V7gRsjB3pWRJMng90mIwIW6K7uGz0KSJCokqAg=,tZ6j3V7gRsjB3pWRJMng90mIwIW6K7uGz0KSJCokqAg=,s2KroBlvK1YwnLA0pN4x5B+ZC48190bcdOAeEnu8ogU=,OJwj235ORrkduYzfIRekh6/7+2E/Vf0cHupi4Pka1n0=,yRqI+kW5HvA3dNUg0pjXpFSdYESmI6aBW1mVXIhD54w=,OcTNGd3JYpW0zJuTXDJfs6sEl7Rc+Wc2nCnF0xFszpI=,sBcu74PRagv0GwiRl9vG2nXaAnq0NwzVx3stRQNrSiU=,FsytFzwV0xaw6EtKzIoYwwl0dsnoQKKe/0wGBr/qZUA=,FsytFzwV0xaw6EtKzIoYwwl0dsnoQKKe/0wGBr/qZUA=,FsytFzwV0xaw6EtKzIoYwwl0dsnoQKKe/0wGBr/qZUA=,FsytFzwV0xaw6EtKzIoYwwl0dsnoQKKe/0wGBr/qZUA=,FsytFzwV0xaw6EtKzIoYwwl0dsnoQKKe/0wGBr/qZUA=,HZj0IqdmUBUBh2WVzsg5UQGVqp1aeio0etI0vR4mpHw=,AaSYqz1flDCNjiyWrVboufoNIYI1ejbExaI2kRTsGiI=,ZEzFRolvK0HFGLY3U26okd3jwHBuua4ndj3+5N05Tp4=,ZEzFRolvK0HFGLY3U26okd3jwHBuua4ndj3+5N05Tp4=,QRNe6y1MYK03yLIano3UBKoxko2SS46i9BBt0p8wxGY=,gs85NSXLfUJflqyP1BfNb/7hfcggpvtSvoG6BdJ1js4=,tG9oEB52RFZgr2w9dRLsokoYIMu8ltGxCKxwmBW2Gfs=,tG9oEB52RFZgr2w9dRLsokoYIMu8ltGxCKxwmBW2Gfs=,SXfDY+aUtLS3FJgd+JZz0jWcNJGcqrkKuTt1mpHbb6Q=,O1ehWJ81/FnFdgmuIc+oXnlDJqGpRWXh/sGIp9qoTXc=,HZBdcyaQ1pkdVAAVOfr4pQpnL/6fPdX7A0ZIcgmy8lo=,dda4tJ5bT+vVhzBobN6TwLuKIDXviBI6Y1lTPBgV92Y=,IzNDUbtvXfKGcHIwHwVnhoYB0o52O9GRkV6SYJAMkps=,IzNDUbtvXfKGcHIwHwVnhoYB0o52O9GRkV6SYJAMkps=,StVRfVcTAU5RJr0x6Ji1tGnx9aSfNpeSXCj1pCO3Xys=,LEJztQjZHc/aNvgOujNRFcqlgsPLMXESoL706exOsx4=,bFokb77EpcF2H1mx+LoZH0+298BBPq8gwoUWFoN/K1A=,dUoF+P3ImnRib+Wp4YGUx+GLlD2THS00bIrAVbnPYuQ=,wQFgUxb6rxUoYWUFjNoGGowK/ZFJCG9DXG0FEbVEiaQ=,BOID2T30rY0PCqqO4RBkTuUkLeo+V5QxjNjzvzSgvJw=,BOID2T30rY0PCqqO4RBkTuUkLeo+V5QxjNjzvzSgvJw=,qD3ecVOe+hvmdhOJlDyEXYv0dVLL8pn3KeB8vClLYI4=,cOn1XZ4Kfv9pWWghvZrpWL98WfVgqlFORxDMhM4Ph/c=,cOn1XZ4Kfv9pWWghvZrpWL98WfVgqlFORxDMhM4Ph/c=,cOn1XZ4Kfv9pWWghvZrpWL98WfVgqlFORxDMhM4Ph/c=,cOn1XZ4Kfv9pWWghvZrpWL98WfVgqlFORxDMhM4Ph/c=,cOn1XZ4Kfv9pWWghvZrpWL98WfVgqlFORxDMhM4Ph/c=,cOn1XZ4Kfv9pWWghvZrpWL98WfVgqlFORxDMhM4Ph/c=,jgyzmA14NE4KlN2UQEM3cId91D0O6brHSTzxxCWWgz0=,jgyzmA14NE4KlN2UQEM3cId91D0O6brHSTzxxCWWgz0=,Q43VvP8sALi4XgTBARkMZNcugwEWQj7TZixYsXXToOY=,lRZS0+a+NyY0Hhtz63Xk2jZWxDmVDQdyrKfIVDf9HNE=,lRZS0+a+NyY0Hhtz63Xk2jZWxDmVDQdyrKfIVDf9HNE=,lRZS0+a+NyY0Hhtz63Xk2jZWxDmVDQdyrKfIVDf9HNE=,lRZS0+a+NyY0Hhtz63Xk2jZWxDmVDQdyrKfIVDf9HNE=,aYqXLPIi7V4HQfhZqsoljpTqwr6gaMpKA+FP0/bdh+s=,Z24/0nbGI5spzFSM4KUFc9ONNLuZ/ddFcOAy3JEno6Y=,Z24/0nbGI5spzFSM4KUFc9ONNLuZ/ddFcOAy3JEno6Y=,IMgPyzAIrB6vRX9qTjzZlEEQboPgxiakMQgY4SG+D5I=,DiYfIPQn1aW3y1c0SKilXBQb0SKiR521IVmNI38vZPM=,DiYfIPQn1aW3y1c0SKilXBQb0SKiR521IVmNI38vZPM=,EEZjlKEE57ViCYPQ9ewbj+JVGZvthmdnidllO0m6WUQ=,YgZuhrQ9E0eZXu3elQmVv8M4gz3YryYxcQDTd4EsxyQ=,L9J/FQEN7D8bid7jdG3r65shQjN0X2Jrc2KBhMeImeQ=,ktzxQh3oDl2VkY8XGYbA8OcCDmZ3Ey+aSyis9JH1kUU=,g7u+fvutvoXI9m2EwbhLjKH3d3JEwuGzVGnH17OgZ/M=,dMK3uo+QKzowbAF23lNmyp+7xAFXWa1NiLa2XxOEInU=,dMK3uo+QKzowbAF23lNmyp+7xAFXWa1NiLa2XxOEInU=,6eNNAfNce/qGa9k14hw/Pb69OEbGUZlwwemVHXSYpds=,Hw4MXrEX2gfNgweUgtDDlFqCcK/HRhTTPJ8apX1kkj0=,51NBgvieu18+vCKDA8cAGOwT2hBzy+hS0otgYO1D640=,Rngqvtbmcdhiv4LBdY8SNDGmDhz0MvmWxRJuV+kSHTY=,RrlFfxBC9+xCuKmx5eZy5FyrQshldtc7y7JgMEtlpGQ=,BaJWBjIJPLs8qu2w2JCc3KOh0K+7340HyX3DvLTvHq8=,R6zCjUio9QB77Z7jzMTB58Hq9AKP0p/lggBqcR+IRrM=,vBCwbi0m4oi/g7K9eK0hApu/SzZrMM8A1GlkTFtdxgA=,zAIIcHVzSGEcJbo6PUVI9sxCf4HCBt1qJyGAC1t2IsI=,YECXNhI3qD4ezQwsza4dkvfk+IxvxwwtDTue2nlxbBg=,YECXNhI3qD4ezQwsza4dkvfk+IxvxwwtDTue2nlxbBg=,F+eP4TVjfrwY4iwyzDvjlbrNC2sjpMEkxtd7xyayndI=,aV5ehX+inDq61uW4D9P98Max2UI1HZL0o0aGKZBlz0w=,5CyNu5QdzU2WJCA+hskS9XZQxHZOA+FhIEpjlT9+jtQ=,EnvDuccJ9PBblaUNY5fHHi/exPMwCdhDcSP9xJcxo1A=,baYxaTtXgxJFmXY+YGCxD7e5fKpuZzg7EwFF94qdonw=,96K+2btjolFGy+5ZWZG1e6rgrWLi/MFDl7uRDqj+iJE=</td>\n",
       "    </tr>\n",
       "    <tr>\n",
       "      <th>32</th>\n",
       "      <td>JvkK05gF0vhlJhjMCS77uORDXBkJ82kArIiUNFbBVSk=</td>\n",
       "      <td>male</td>\n",
       "      <td>KM8hGc8mOsyxRW00Bch6eg==</td>\n",
       "      <td>SdYno7IhBPsZxFawi3VT9g==</td>\n",
       "      <td>2021-05-28</td>\n",
       "      <td>out-patient</td>\n",
       "      <td>WDiDokM3moCTG3lVg+lQmMhh+QDhtMlF/jHj3tjrSDw=</td>\n",
       "      <td>1</td>\n",
       "      <td>May 2021</td>\n",
       "      <td>sAgUtYoEcFqYZCure5kAaMXKLZbT6lo/mT1DXd70Q6M=,sAgUtYoEcFqYZCure5kAaMXKLZbT6lo/mT1DXd70Q6M=,JvkK05gF0vhlJhjMCS77uORDXBkJ82kArIiUNFbBVSk=,tQ/rDqu8bDyAJf/PnxQZnVu3/F+1zht1IUWuBx3I5ss=,tQ/rDqu8bDyAJf/PnxQZnVu3/F+1zht1IUWuBx3I5ss=,tQ/rDqu8bDyAJf/PnxQZnVu3/F+1zht1IUWuBx3I5ss=,tQ/rDqu8bDyAJf/PnxQZnVu3/F+1zht1IUWuBx3I5ss=,cuLmSzA0HZSRrRWSeJ7gRU/J1nsVMhxViVuHYrEYwdk=,0yVQiASirbpv+ZM2xE48t5SHjwkGEtv8s3pxXhmzYT8=,JoflRp3Q9wpbaXqplEkrs85f1U477NyDz52FwUsiANY=,S+2aN5yiznCmxfYH8rq2uLJavAN4D9gBAwUvUobyhEo=,LMdMUByx+Smr29kSgebEOH+K6ZpETVPu7N9yiPLVLdE=,8qYOGnyIX9EV7ABRrOtxXyCLLQ0OOzcIMqVFmprCgJE=,8qYOGnyIX9EV7ABRrOtxXyCLLQ0OOzcIMqVFmprCgJE=,WiMNZx33Tnizxqov4EVuSxs+2otRnrcH/d0lDeNFCxQ=,vF9DTQe1+VsxGKQUwh23nRcBrplJ998rqnOAT0P3jKE=,w/FptKloFIhQN4PS+vQW4kkvY/GQC8TP+p6gx3IU5v0=,w/FptKloFIhQN4PS+vQW4kkvY/GQC8TP+p6gx3IU5v0=,w/FptKloFIhQN4PS+vQW4kkvY/GQC8TP+p6gx3IU5v0=,w/FptKloFIhQN4PS+vQW4kkvY/GQC8TP+p6gx3IU5v0=,8XW4qrLM+AXfkeJ3RP6iES+CCLUTjsBqDbHzIkh9o6c=,0Bd558J+lSGjMhi7+LvcRo/ogpxJQs5oYExkucW5mc8=,eGUE8S3H79nkkhbtYwqokSaD9fi0cQwwdfs4zMFJ+mE=,eGUE8S3H79nkkhbtYwqokSaD9fi0cQwwdfs4zMFJ+mE=,/+P65fqjgYbrAS6U5aKjhKHENn2EHodHADkKAwUwLYA=,Dg3vPGvTaMxUOQTC8MsDPCd+q/FFd22eCviPp8oBKDA=,1lXJzObcVr1UkdOKR/b/hmS9T35bYLCdk2uKVYlTlGs=,vInv88xo8vMXAlWtNMmjqDbipAGH+GoJWK2eWN6bZ/o=,b1u+3zFPp4I9C6RHrtnBrk3cP5w08YeqNZ0AueTONK4=,vDulzcMSkm/sFigKY5webjmIY10TcP3RyQCxN2IUjdU=,ESPecLeQDa1TV3EcEwkM2NxGs18vbzBiYCercHUv9FY=,mQLOE52TAOr8V0CX4EmzTjzP+EgpMpWNLThhVbirU7E=,mQLOE52TAOr8V0CX4EmzTjzP+EgpMpWNLThhVbirU7E=,mQLOE52TAOr8V0CX4EmzTjzP+EgpMpWNLThhVbirU7E=,mQLOE52TAOr8V0CX4EmzTjzP+EgpMpWNLThhVbirU7E=,/s7c7tBKFfWGvC0SF4eH0hoObT1lN3FPBor/Mi74p5w=,/s7c7tBKFfWGvC0SF4eH0hoObT1lN3FPBor/Mi74p5w=,/s7c7tBKFfWGvC0SF4eH0hoObT1lN3FPBor/Mi74p5w=,/s7c7tBKFfWGvC0SF4eH0hoObT1lN3FPBor/Mi74p5w=,/s7c7tBKFfWGvC0SF4eH0hoObT1lN3FPBor/Mi74p5w=,pyljnOmnO9PUKw/E1So0DsMkJMQgaYU4hbnENgC5fMs=,pyljnOmnO9PUKw/E1So0DsMkJMQgaYU4hbnENgC5fMs=,yRqI+kW5HvA3dNUg0pjXpFSdYESmI6aBW1mVXIhD54w=,7EY0uoVw31m4DYtfHkqn8xZBs7fmQtMtoQMEZuKVEfg=,X9TY8ORkkGZzseSgWjCuIKJsuWrZBk16YPSly+8EXos=,YWwaIcjBsh2pGGFSS0QgvHDOZaJXBySAnMVp8F7/AVU=,YWwaIcjBsh2pGGFSS0QgvHDOZaJXBySAnMVp8F7/AVU=,YWwaIcjBsh2pGGFSS0QgvHDOZaJXBySAnMVp8F7/AVU=,KWrQaxWIk8rH+92J4lGLHA2KYvKmUcDTVfP7b/l5ZM8=,5VOxnoq2Z1ec4/DbcB2k8cB17FZk3fOX98vgL71V50c=,fQJqnZ3SlOddfhB2gkSC3mNIhEC1nXcRPA3ka2/63tU=,FsytFzwV0xaw6EtKzIoYwwl0dsnoQKKe/0wGBr/qZUA=,QRNe6y1MYK03yLIano3UBKoxko2SS46i9BBt0p8wxGY=,QIYC6I8ZFGkLzRtCpSJYBLY//X9g/juHqX7AnKk+P8Y=,QIYC6I8ZFGkLzRtCpSJYBLY//X9g/juHqX7AnKk+P8Y=,QIYC6I8ZFGkLzRtCpSJYBLY//X9g/juHqX7AnKk+P8Y=,QIYC6I8ZFGkLzRtCpSJYBLY//X9g/juHqX7AnKk+P8Y=,QIYC6I8ZFGkLzRtCpSJYBLY//X9g/juHqX7AnKk+P8Y=,QIYC6I8ZFGkLzRtCpSJYBLY//X9g/juHqX7AnKk+P8Y=,QIYC6I8ZFGkLzRtCpSJYBLY//X9g/juHqX7AnKk+P8Y=,ii0TwvP17fuUwxcXQd4wJTNuJeKUAHH0/2cKhituPTs=,gOO+qYJzDss9vSUX1t4N/oPoP/Jk+7Jj7XXcIOJlgek=,gOO+qYJzDss9vSUX1t4N/oPoP/Jk+7Jj7XXcIOJlgek=,1o78NI1FQYndVDwXQ5ElLh2Y5XKZC9H+HPCKPIIWwFI=,1o78NI1FQYndVDwXQ5ElLh2Y5XKZC9H+HPCKPIIWwFI=,erqeLmP+KyOS8d7fPNybot1fmFZKEkefCPatTdSY3Q4=,erqeLmP+KyOS8d7fPNybot1fmFZKEkefCPatTdSY3Q4=,jr64WV2Wr2gSaOviJ1ibja5/DtWiYBX7BhOHJQ8tbnw=,jr64WV2Wr2gSaOviJ1ibja5/DtWiYBX7BhOHJQ8tbnw=,jr64WV2Wr2gSaOviJ1ibja5/DtWiYBX7BhOHJQ8tbnw=,lhMB6CFtJybzTg7qUhEl1C33g4UC8ayTcOilvN39cUQ=,JBobAv4PTG4yh+FFtt4p20cVxsY3wBA+rmbT5zqD2QE=,JBobAv4PTG4yh+FFtt4p20cVxsY3wBA+rmbT5zqD2QE=,JBobAv4PTG4yh+FFtt4p20cVxsY3wBA+rmbT5zqD2QE=,OoW+9pI+I9TQ2fDl9YVU7ut51bjZnDq8Au67rSosLIM=,IgwXrdHeR1Ln60ZHFxne2jDkXslLfUUduYgP1bvmqCs=,IgwXrdHeR1Ln60ZHFxne2jDkXslLfUUduYgP1bvmqCs=,IgwXrdHeR1Ln60ZHFxne2jDkXslLfUUduYgP1bvmqCs=,IgwXrdHeR1Ln60ZHFxne2jDkXslLfUUduYgP1bvmqCs=,Zng48TZ3yijnBk6r4sgKwCz3ty703xLmte9WYaD04vI=,r3oiXm4d8wxb97spbSrNMa//2AhUJ7G8o+YDuKeunZQ=,L4IYqh1bCAJkFdOcxbES1q+v0QqPrv5h+xK4+KbbB5g=,FgpHOCrMC9/x4gkO8aXr/pN0rywLswOO4VSeMsWptXw=,TWF5Jz7TPT/ieIduPmHWpQWM7911jG65IM8qJ4Xieyo=,TWF5Jz7TPT/ieIduPmHWpQWM7911jG65IM8qJ4Xieyo=,1J4h8n/aoon7VGCrDDsTCi8yn/yJReTc0pKo1AWLUQ8=,UoPyHLWkuM4iXkbc1qF8HPe5VkXBTJEfJw+GuxKcduc=,kozRYqdhthteimJpzv3vBfXNpJAuEe5UxPhwaNxPgws=,kozRYqdhthteimJpzv3vBfXNpJAuEe5UxPhwaNxPgws=,kozRYqdhthteimJpzv3vBfXNpJAuEe5UxPhwaNxPgws=,QA3+zOvTcGTh5H70sv5A1efMKCKu0SwZwbW26b5VBVM=,O1ehWJ81/FnFdgmuIc+oXnlDJqGpRWXh/sGIp9qoTXc=,O1ehWJ81/FnFdgmuIc+oXnlDJqGpRWXh/sGIp9qoTXc=,ykRC459iJQMQmV/KsCQmy46TFtsASUhFbLfCFsWjwNA=,iaPoxc4SBEr0sT4F//B/sEQYr3IyiDfgjwy4RbQ6Kwc=,iaPoxc4SBEr0sT4F//B/sEQYr3IyiDfgjwy4RbQ6Kwc=,76+kRoO7bi3NHSt7AegUA5hvhzhWDwJYwMPJi2kd91o=,v6MHAuikHgqZeRz+fllbkYzK7O+XmXvCbL8DospyVhc=,71DcLp8udgV5Nqm4dl5VGSgLgvPQsRoX2CmWdhNoTrk=,qD3ecVOe+hvmdhOJlDyEXYv0dVLL8pn3KeB8vClLYI4=,qD3ecVOe+hvmdhOJlDyEXYv0dVLL8pn3KeB8vClLYI4=,tvFtbwlCNmvEG3Ur6tt6yHU4Aq/pIgPxrpxJa0jUXkQ=,Ky0n1Dj5YwVrecA+l5yYCuxai0TfzvMPu3KLrxFcbiM=,EdBVT/Aca1W+ykd0Koc0n9kErcLnJ6MgJbVfHVCHHls=,EdBVT/Aca1W+ykd0Koc0n9kErcLnJ6MgJbVfHVCHHls=,1wNfiB/xw1RYYUw8QZB2k+saBckgsUpc/E4FKMVigtc=,DgRXp7PfbfNj3BlqnH+hyiDXgD/8bfxy1ebi8b0bB8Q=,ujFi7EwD4HT0L2DzJGylU0+canX9DKMOktpU64eOGeo=</td>\n",
       "    </tr>\n",
       "    <tr>\n",
       "      <th>40</th>\n",
       "      <td>EAYNXzUJ7wqQxhWfsV9x7bz0mbyXBsbc73JwBAf2KCk=</td>\n",
       "      <td>male</td>\n",
       "      <td>HuLEUY1kFvygErFkAXvCJA==</td>\n",
       "      <td>SdYno7IhBPsZxFawi3VT9g==</td>\n",
       "      <td>2021-06-08</td>\n",
       "      <td>out-patient</td>\n",
       "      <td>WDiDokM3moCTG3lVg+lQmMhh+QDhtMlF/jHj3tjrSDw=</td>\n",
       "      <td>1</td>\n",
       "      <td>June 2021</td>\n",
       "      <td>sAgUtYoEcFqYZCure5kAaMXKLZbT6lo/mT1DXd70Q6M=,EAYNXzUJ7wqQxhWfsV9x7bz0mbyXBsbc73JwBAf2KCk=,WiMNZx33Tnizxqov4EVuSxs+2otRnrcH/d0lDeNFCxQ=,WiMNZx33Tnizxqov4EVuSxs+2otRnrcH/d0lDeNFCxQ=,vF9DTQe1+VsxGKQUwh23nRcBrplJ998rqnOAT0P3jKE=,t0dYhaEUwRi8x83TwxZD8bdcEZ0iAOtmq8FwauAnE+g=,8XW4qrLM+AXfkeJ3RP6iES+CCLUTjsBqDbHzIkh9o6c=,eGUE8S3H79nkkhbtYwqokSaD9fi0cQwwdfs4zMFJ+mE=,eGUE8S3H79nkkhbtYwqokSaD9fi0cQwwdfs4zMFJ+mE=,eGUE8S3H79nkkhbtYwqokSaD9fi0cQwwdfs4zMFJ+mE=,eGUE8S3H79nkkhbtYwqokSaD9fi0cQwwdfs4zMFJ+mE=,cJAToSkibD4z2ADMfiAGSoO4pFwEzL7d4SzH/t2RG+c=,0p3LgsqMNC+YswJ8ye55lLah7LZLmt8F45MMwW74yqk=,7HucRn3d6O58aBQqG98kEALvzM0z+8ki51JkBtjxQl4=,H11Dk69Jro8rLieOsLCMNQlfzCShp0MaTLaurtmPMsI=,H11Dk69Jro8rLieOsLCMNQlfzCShp0MaTLaurtmPMsI=,H11Dk69Jro8rLieOsLCMNQlfzCShp0MaTLaurtmPMsI=,H11Dk69Jro8rLieOsLCMNQlfzCShp0MaTLaurtmPMsI=,H11Dk69Jro8rLieOsLCMNQlfzCShp0MaTLaurtmPMsI=,H11Dk69Jro8rLieOsLCMNQlfzCShp0MaTLaurtmPMsI=,H11Dk69Jro8rLieOsLCMNQlfzCShp0MaTLaurtmPMsI=,yRqI+kW5HvA3dNUg0pjXpFSdYESmI6aBW1mVXIhD54w=,w7BYBL82bReXPzbWkZ3ZBWjGUj0301OGzs1ANO5+GT4=,/JMqmzGWwVGZITnBYE1cSStA8ZpliOGSHWvoJWCAwv0=,RAR9awgE+w8tN6wPFCRIDLHHrMm3Y9IWZcJGir3YdT8=,wtt5NyOgax20eYcLRfjVOWxTMJe2tv9EWaiOv2KrXbk=,1J4h8n/aoon7VGCrDDsTCi8yn/yJReTc0pKo1AWLUQ8=,y2+qElyRyZLvNJPIJrSxbdERUHdez5wYOP6F+eCP23k=,y2+qElyRyZLvNJPIJrSxbdERUHdez5wYOP6F+eCP23k=,y2+qElyRyZLvNJPIJrSxbdERUHdez5wYOP6F+eCP23k=,T8aYqayX84G0YI7UWh4D2X8tUJFdO01dXzFs5YyZRlI=,T8aYqayX84G0YI7UWh4D2X8tUJFdO01dXzFs5YyZRlI=,T8aYqayX84G0YI7UWh4D2X8tUJFdO01dXzFs5YyZRlI=,XOQDcIyR5+AbD0exLJH66Cwih8Q0S2g6ptwRqpSuEYY=,XOQDcIyR5+AbD0exLJH66Cwih8Q0S2g6ptwRqpSuEYY=,XOQDcIyR5+AbD0exLJH66Cwih8Q0S2g6ptwRqpSuEYY=,fzGZiO4b2FUDP8chv6GVWVmSPUq7+4xnZFtepyD+ODo=,XjV48rtjjze/Pwxar/80piHVa2AfmM8w73+R/sioYaA=,POoS02JRfZxjzoIX8u8jPj1mDnq05loi9IxV4fsfGVY=,0hiFVLSYslJLJWdHkS3LDCr1JisRsvsWl8MD5A0x2ec=,mYbc7wUF1QSwbg2rBEvi4odfOIsA+Hn1MNpT09UfClA=,mYbc7wUF1QSwbg2rBEvi4odfOIsA+Hn1MNpT09UfClA=,KEKNgL7+daigDPe8N9oU5sp+Bmd8Ob7IrtlIPXM1f0w=,385ZIpQiH8ZidWZBPI6YWrdiM7pbcDUbwDyVKn5ep/w=,9Ttabboo+kmtQ5RhcW3yz2hpLqxDKDQj63rD/zRAvcs=,SFwF5QzibKWlpbVRT2TpPl31GyJt9LVpTqrrLLirJuU=,SFwF5QzibKWlpbVRT2TpPl31GyJt9LVpTqrrLLirJuU=,SFwF5QzibKWlpbVRT2TpPl31GyJt9LVpTqrrLLirJuU=,SFwF5QzibKWlpbVRT2TpPl31GyJt9LVpTqrrLLirJuU=,SFwF5QzibKWlpbVRT2TpPl31GyJt9LVpTqrrLLirJuU=,RIgma+PpAlrn4yHKuVG4usfYmMqB38bXXZ5sFmfFvHU=,FMtZL6gFOmSD7YnH1sOwR7HV/aEKPUQx9MqJ7vjAvuM=,IzNDUbtvXfKGcHIwHwVnhoYB0o52O9GRkV6SYJAMkps=,IzNDUbtvXfKGcHIwHwVnhoYB0o52O9GRkV6SYJAMkps=,StVRfVcTAU5RJr0x6Ji1tGnx9aSfNpeSXCj1pCO3Xys=,StVRfVcTAU5RJr0x6Ji1tGnx9aSfNpeSXCj1pCO3Xys=,StVRfVcTAU5RJr0x6Ji1tGnx9aSfNpeSXCj1pCO3Xys=,+hP9sxIR/YXMquMAqRNzlXUp7Anz8ATODLiSyPhUQwQ=,wQFgUxb6rxUoYWUFjNoGGowK/ZFJCG9DXG0FEbVEiaQ=,0D7/GFeK4w/n95VGOn8aQ7qDM9c9mEzsY1aWHyp0Y4k=,15GkTTI81cjUmaPihs/RnDtWuppH36urHgzX/7KIK5Y=,Sl/evqJ890ScmZTV49ajYPXXdZAAUn8ckbbtfAZXZdw=,BbYiAijHAj7A2XKDzScHXpOXu/S31kVIdbUG53rYNLE=,BbYiAijHAj7A2XKDzScHXpOXu/S31kVIdbUG53rYNLE=,BbYiAijHAj7A2XKDzScHXpOXu/S31kVIdbUG53rYNLE=,jHbdfOdqg5dLhmkx/MChZONfNtqmjbiRjL8uPkPImB0=</td>\n",
       "    </tr>\n",
       "    <tr>\n",
       "      <th>42</th>\n",
       "      <td>tQ/rDqu8bDyAJf/PnxQZnVu3/F+1zht1IUWuBx3I5ss=</td>\n",
       "      <td>male</td>\n",
       "      <td>WeN+n21Gba4zENpXPaWBNQ==</td>\n",
       "      <td>SdYno7IhBPsZxFawi3VT9g==</td>\n",
       "      <td>2021-05-10</td>\n",
       "      <td>out-patient</td>\n",
       "      <td>WDiDokM3moCTG3lVg+lQmMhh+QDhtMlF/jHj3tjrSDw=</td>\n",
       "      <td>1</td>\n",
       "      <td>May 2021</td>\n",
       "      <td>sAgUtYoEcFqYZCure5kAaMXKLZbT6lo/mT1DXd70Q6M=,sAgUtYoEcFqYZCure5kAaMXKLZbT6lo/mT1DXd70Q6M=,JvkK05gF0vhlJhjMCS77uORDXBkJ82kArIiUNFbBVSk=,tQ/rDqu8bDyAJf/PnxQZnVu3/F+1zht1IUWuBx3I5ss=,tQ/rDqu8bDyAJf/PnxQZnVu3/F+1zht1IUWuBx3I5ss=,tQ/rDqu8bDyAJf/PnxQZnVu3/F+1zht1IUWuBx3I5ss=,tQ/rDqu8bDyAJf/PnxQZnVu3/F+1zht1IUWuBx3I5ss=,cuLmSzA0HZSRrRWSeJ7gRU/J1nsVMhxViVuHYrEYwdk=,0yVQiASirbpv+ZM2xE48t5SHjwkGEtv8s3pxXhmzYT8=,JoflRp3Q9wpbaXqplEkrs85f1U477NyDz52FwUsiANY=,S+2aN5yiznCmxfYH8rq2uLJavAN4D9gBAwUvUobyhEo=,LMdMUByx+Smr29kSgebEOH+K6ZpETVPu7N9yiPLVLdE=,8qYOGnyIX9EV7ABRrOtxXyCLLQ0OOzcIMqVFmprCgJE=,8qYOGnyIX9EV7ABRrOtxXyCLLQ0OOzcIMqVFmprCgJE=,WiMNZx33Tnizxqov4EVuSxs+2otRnrcH/d0lDeNFCxQ=,vF9DTQe1+VsxGKQUwh23nRcBrplJ998rqnOAT0P3jKE=,w/FptKloFIhQN4PS+vQW4kkvY/GQC8TP+p6gx3IU5v0=,w/FptKloFIhQN4PS+vQW4kkvY/GQC8TP+p6gx3IU5v0=,w/FptKloFIhQN4PS+vQW4kkvY/GQC8TP+p6gx3IU5v0=,w/FptKloFIhQN4PS+vQW4kkvY/GQC8TP+p6gx3IU5v0=,8XW4qrLM+AXfkeJ3RP6iES+CCLUTjsBqDbHzIkh9o6c=,0Bd558J+lSGjMhi7+LvcRo/ogpxJQs5oYExkucW5mc8=,eGUE8S3H79nkkhbtYwqokSaD9fi0cQwwdfs4zMFJ+mE=,eGUE8S3H79nkkhbtYwqokSaD9fi0cQwwdfs4zMFJ+mE=,/+P65fqjgYbrAS6U5aKjhKHENn2EHodHADkKAwUwLYA=,Dg3vPGvTaMxUOQTC8MsDPCd+q/FFd22eCviPp8oBKDA=,1lXJzObcVr1UkdOKR/b/hmS9T35bYLCdk2uKVYlTlGs=,vInv88xo8vMXAlWtNMmjqDbipAGH+GoJWK2eWN6bZ/o=,b1u+3zFPp4I9C6RHrtnBrk3cP5w08YeqNZ0AueTONK4=,vDulzcMSkm/sFigKY5webjmIY10TcP3RyQCxN2IUjdU=,ESPecLeQDa1TV3EcEwkM2NxGs18vbzBiYCercHUv9FY=,mQLOE52TAOr8V0CX4EmzTjzP+EgpMpWNLThhVbirU7E=,mQLOE52TAOr8V0CX4EmzTjzP+EgpMpWNLThhVbirU7E=,mQLOE52TAOr8V0CX4EmzTjzP+EgpMpWNLThhVbirU7E=,mQLOE52TAOr8V0CX4EmzTjzP+EgpMpWNLThhVbirU7E=,/s7c7tBKFfWGvC0SF4eH0hoObT1lN3FPBor/Mi74p5w=,/s7c7tBKFfWGvC0SF4eH0hoObT1lN3FPBor/Mi74p5w=,/s7c7tBKFfWGvC0SF4eH0hoObT1lN3FPBor/Mi74p5w=,/s7c7tBKFfWGvC0SF4eH0hoObT1lN3FPBor/Mi74p5w=,/s7c7tBKFfWGvC0SF4eH0hoObT1lN3FPBor/Mi74p5w=,pyljnOmnO9PUKw/E1So0DsMkJMQgaYU4hbnENgC5fMs=,pyljnOmnO9PUKw/E1So0DsMkJMQgaYU4hbnENgC5fMs=,yRqI+kW5HvA3dNUg0pjXpFSdYESmI6aBW1mVXIhD54w=,7EY0uoVw31m4DYtfHkqn8xZBs7fmQtMtoQMEZuKVEfg=,X9TY8ORkkGZzseSgWjCuIKJsuWrZBk16YPSly+8EXos=,YWwaIcjBsh2pGGFSS0QgvHDOZaJXBySAnMVp8F7/AVU=,YWwaIcjBsh2pGGFSS0QgvHDOZaJXBySAnMVp8F7/AVU=,YWwaIcjBsh2pGGFSS0QgvHDOZaJXBySAnMVp8F7/AVU=,KWrQaxWIk8rH+92J4lGLHA2KYvKmUcDTVfP7b/l5ZM8=,5VOxnoq2Z1ec4/DbcB2k8cB17FZk3fOX98vgL71V50c=,fQJqnZ3SlOddfhB2gkSC3mNIhEC1nXcRPA3ka2/63tU=,FsytFzwV0xaw6EtKzIoYwwl0dsnoQKKe/0wGBr/qZUA=,QRNe6y1MYK03yLIano3UBKoxko2SS46i9BBt0p8wxGY=,QIYC6I8ZFGkLzRtCpSJYBLY//X9g/juHqX7AnKk+P8Y=,QIYC6I8ZFGkLzRtCpSJYBLY//X9g/juHqX7AnKk+P8Y=,QIYC6I8ZFGkLzRtCpSJYBLY//X9g/juHqX7AnKk+P8Y=,QIYC6I8ZFGkLzRtCpSJYBLY//X9g/juHqX7AnKk+P8Y=,QIYC6I8ZFGkLzRtCpSJYBLY//X9g/juHqX7AnKk+P8Y=,QIYC6I8ZFGkLzRtCpSJYBLY//X9g/juHqX7AnKk+P8Y=,QIYC6I8ZFGkLzRtCpSJYBLY//X9g/juHqX7AnKk+P8Y=,ii0TwvP17fuUwxcXQd4wJTNuJeKUAHH0/2cKhituPTs=,gOO+qYJzDss9vSUX1t4N/oPoP/Jk+7Jj7XXcIOJlgek=,gOO+qYJzDss9vSUX1t4N/oPoP/Jk+7Jj7XXcIOJlgek=,1o78NI1FQYndVDwXQ5ElLh2Y5XKZC9H+HPCKPIIWwFI=,1o78NI1FQYndVDwXQ5ElLh2Y5XKZC9H+HPCKPIIWwFI=,erqeLmP+KyOS8d7fPNybot1fmFZKEkefCPatTdSY3Q4=,erqeLmP+KyOS8d7fPNybot1fmFZKEkefCPatTdSY3Q4=,jr64WV2Wr2gSaOviJ1ibja5/DtWiYBX7BhOHJQ8tbnw=,jr64WV2Wr2gSaOviJ1ibja5/DtWiYBX7BhOHJQ8tbnw=,jr64WV2Wr2gSaOviJ1ibja5/DtWiYBX7BhOHJQ8tbnw=,lhMB6CFtJybzTg7qUhEl1C33g4UC8ayTcOilvN39cUQ=,JBobAv4PTG4yh+FFtt4p20cVxsY3wBA+rmbT5zqD2QE=,JBobAv4PTG4yh+FFtt4p20cVxsY3wBA+rmbT5zqD2QE=,JBobAv4PTG4yh+FFtt4p20cVxsY3wBA+rmbT5zqD2QE=,OoW+9pI+I9TQ2fDl9YVU7ut51bjZnDq8Au67rSosLIM=,IgwXrdHeR1Ln60ZHFxne2jDkXslLfUUduYgP1bvmqCs=,IgwXrdHeR1Ln60ZHFxne2jDkXslLfUUduYgP1bvmqCs=,IgwXrdHeR1Ln60ZHFxne2jDkXslLfUUduYgP1bvmqCs=,IgwXrdHeR1Ln60ZHFxne2jDkXslLfUUduYgP1bvmqCs=,Zng48TZ3yijnBk6r4sgKwCz3ty703xLmte9WYaD04vI=,r3oiXm4d8wxb97spbSrNMa//2AhUJ7G8o+YDuKeunZQ=,L4IYqh1bCAJkFdOcxbES1q+v0QqPrv5h+xK4+KbbB5g=,FgpHOCrMC9/x4gkO8aXr/pN0rywLswOO4VSeMsWptXw=,TWF5Jz7TPT/ieIduPmHWpQWM7911jG65IM8qJ4Xieyo=,TWF5Jz7TPT/ieIduPmHWpQWM7911jG65IM8qJ4Xieyo=,1J4h8n/aoon7VGCrDDsTCi8yn/yJReTc0pKo1AWLUQ8=,UoPyHLWkuM4iXkbc1qF8HPe5VkXBTJEfJw+GuxKcduc=,kozRYqdhthteimJpzv3vBfXNpJAuEe5UxPhwaNxPgws=,kozRYqdhthteimJpzv3vBfXNpJAuEe5UxPhwaNxPgws=,kozRYqdhthteimJpzv3vBfXNpJAuEe5UxPhwaNxPgws=,QA3+zOvTcGTh5H70sv5A1efMKCKu0SwZwbW26b5VBVM=,O1ehWJ81/FnFdgmuIc+oXnlDJqGpRWXh/sGIp9qoTXc=,O1ehWJ81/FnFdgmuIc+oXnlDJqGpRWXh/sGIp9qoTXc=,ykRC459iJQMQmV/KsCQmy46TFtsASUhFbLfCFsWjwNA=,iaPoxc4SBEr0sT4F//B/sEQYr3IyiDfgjwy4RbQ6Kwc=,iaPoxc4SBEr0sT4F//B/sEQYr3IyiDfgjwy4RbQ6Kwc=,76+kRoO7bi3NHSt7AegUA5hvhzhWDwJYwMPJi2kd91o=,v6MHAuikHgqZeRz+fllbkYzK7O+XmXvCbL8DospyVhc=,71DcLp8udgV5Nqm4dl5VGSgLgvPQsRoX2CmWdhNoTrk=,qD3ecVOe+hvmdhOJlDyEXYv0dVLL8pn3KeB8vClLYI4=,qD3ecVOe+hvmdhOJlDyEXYv0dVLL8pn3KeB8vClLYI4=,tvFtbwlCNmvEG3Ur6tt6yHU4Aq/pIgPxrpxJa0jUXkQ=,Ky0n1Dj5YwVrecA+l5yYCuxai0TfzvMPu3KLrxFcbiM=,EdBVT/Aca1W+ykd0Koc0n9kErcLnJ6MgJbVfHVCHHls=,EdBVT/Aca1W+ykd0Koc0n9kErcLnJ6MgJbVfHVCHHls=,1wNfiB/xw1RYYUw8QZB2k+saBckgsUpc/E4FKMVigtc=,DgRXp7PfbfNj3BlqnH+hyiDXgD/8bfxy1ebi8b0bB8Q=,ujFi7EwD4HT0L2DzJGylU0+canX9DKMOktpU64eOGeo=</td>\n",
       "    </tr>\n",
       "  </tbody>\n",
       "</table>\n",
       "</div>"
      ],
      "text/plain": [
       "                                    Patient_Name   sex  \\\n",
       "3   XHB0+FAjJtcape6I90URgLIO5A4ipN8zjkeBpmJLc9s=  male   \n",
       "11  sAgUtYoEcFqYZCure5kAaMXKLZbT6lo/mT1DXd70Q6M=  male   \n",
       "12  sAgUtYoEcFqYZCure5kAaMXKLZbT6lo/mT1DXd70Q6M=  male   \n",
       "14  sAgUtYoEcFqYZCure5kAaMXKLZbT6lo/mT1DXd70Q6M=  male   \n",
       "17  T24s2IPX1yFVoT19u944/OhjmyOXxK9Bx3iErOIo3LM=  male   \n",
       "25  +wBKI48Sb9UBnCAP5e9jfd4DL2Hie2cJz9GvsiylvyQ=  male   \n",
       "29  MPOvxX2y4Jc8/bd5d83KdtQEdeWPwIInVUHIColCyhk=  male   \n",
       "32  JvkK05gF0vhlJhjMCS77uORDXBkJ82kArIiUNFbBVSk=  male   \n",
       "40  EAYNXzUJ7wqQxhWfsV9x7bz0mbyXBsbc73JwBAf2KCk=  male   \n",
       "42  tQ/rDqu8bDyAJf/PnxQZnVu3/F+1zht1IUWuBx3I5ss=  male   \n",
       "\n",
       "                  patient_id                 doctor_id date_of_visit  \\\n",
       "3   mIkieJ8/hFBn8WhL7obM7A==  SdYno7IhBPsZxFawi3VT9g==    2021-07-24   \n",
       "11  mNxrJP5zMwQPeROrCkYIpA==  SdYno7IhBPsZxFawi3VT9g==    2021-05-13   \n",
       "12  mNxrJP5zMwQPeROrCkYIpA==  SdYno7IhBPsZxFawi3VT9g==    2021-05-16   \n",
       "14  mNxrJP5zMwQPeROrCkYIpA==  SdYno7IhBPsZxFawi3VT9g==    2021-06-23   \n",
       "17  V7TZHOZ+xRdjBeA2EkzRSw==  SdYno7IhBPsZxFawi3VT9g==    2021-07-16   \n",
       "25  zQCxWb9sDevjUBnrGk4TOg==  SdYno7IhBPsZxFawi3VT9g==    2021-07-19   \n",
       "29  okjmWBWaGboBivYciYtSHg==  SdYno7IhBPsZxFawi3VT9g==    2021-07-27   \n",
       "32  KM8hGc8mOsyxRW00Bch6eg==  SdYno7IhBPsZxFawi3VT9g==    2021-05-28   \n",
       "40  HuLEUY1kFvygErFkAXvCJA==  SdYno7IhBPsZxFawi3VT9g==    2021-06-08   \n",
       "42  WeN+n21Gba4zENpXPaWBNQ==  SdYno7IhBPsZxFawi3VT9g==    2021-05-10   \n",
       "\n",
       "           type                                  Doctors_name  count  \\\n",
       "3   out-patient  WDiDokM3moCTG3lVg+lQmMhh+QDhtMlF/jHj3tjrSDw=      1   \n",
       "11  out-patient  WDiDokM3moCTG3lVg+lQmMhh+QDhtMlF/jHj3tjrSDw=      1   \n",
       "12  out-patient  WDiDokM3moCTG3lVg+lQmMhh+QDhtMlF/jHj3tjrSDw=      1   \n",
       "14  out-patient  WDiDokM3moCTG3lVg+lQmMhh+QDhtMlF/jHj3tjrSDw=      1   \n",
       "17  out-patient  WDiDokM3moCTG3lVg+lQmMhh+QDhtMlF/jHj3tjrSDw=      1   \n",
       "25  out-patient  WDiDokM3moCTG3lVg+lQmMhh+QDhtMlF/jHj3tjrSDw=      1   \n",
       "29  out-patient  WDiDokM3moCTG3lVg+lQmMhh+QDhtMlF/jHj3tjrSDw=      1   \n",
       "32  out-patient  WDiDokM3moCTG3lVg+lQmMhh+QDhtMlF/jHj3tjrSDw=      1   \n",
       "40  out-patient  WDiDokM3moCTG3lVg+lQmMhh+QDhtMlF/jHj3tjrSDw=      1   \n",
       "42  out-patient  WDiDokM3moCTG3lVg+lQmMhh+QDhtMlF/jHj3tjrSDw=      1   \n",
       "\n",
       "   Month_Year  \\\n",
       "3   July 2021   \n",
       "11   May 2021   \n",
       "12   May 2021   \n",
       "14  June 2021   \n",
       "17  July 2021   \n",
       "25  July 2021   \n",
       "29  July 2021   \n",
       "32   May 2021   \n",
       "40  June 2021   \n",
       "42   May 2021   \n",
       "\n",
       "                                                                                                                                                                                                                                                                                                                                                                                                                                                                                                                                                                                                                                                                                                                                                                                                                                                                                                                                                                                                                                                                                                                                                                                                                                                                                                                                                                                                                                                                                                                                                                                                                                                                                                                                                                                                                                                                                                                                                                                                                                                                                                                                                                                                                                                                                                                                                                                                                                                                                                                                                                                                                                                                                                                                                                                                                                                                                                                                                                                                                                                                                                                                                                                                                                                                                                                                                                                                                                                                                                                                                                                                                                                                                                                                                                                                                                                                                                                                                                                                                                                                                                                                                                                                                                                                                                                                                                                                                                                                                                                                                                                                                                                                                                                                                                                                                                                                                                                                                                                                                                                                                                                                                                                                                                            grouped  \n",
       "3   XHB0+FAjJtcape6I90URgLIO5A4ipN8zjkeBpmJLc9s=,T24s2IPX1yFVoT19u944/OhjmyOXxK9Bx3iErOIo3LM=,+wBKI48Sb9UBnCAP5e9jfd4DL2Hie2cJz9GvsiylvyQ=,MPOvxX2y4Jc8/bd5d83KdtQEdeWPwIInVUHIColCyhk=,tQ/rDqu8bDyAJf/PnxQZnVu3/F+1zht1IUWuBx3I5ss=,tQ/rDqu8bDyAJf/PnxQZnVu3/F+1zht1IUWuBx3I5ss=,YTFtleDxcMOrSbBfDfWwpOLiBQLWpDZml7Y3JgN6038=,n+uvyzwXo655sNRCeYPp/jOm2CHnz7f9S5ZIhfOvIMo=,BNtTH0ScIZE3LEmVyeSI411C7ez4okV4ostU9yac/Qw=,TcVBZX95c+UtKuwyxv9y7Gd1bNfeGLHJsHTV4Nfd3a8=,TcVBZX95c+UtKuwyxv9y7Gd1bNfeGLHJsHTV4Nfd3a8=,TcVBZX95c+UtKuwyxv9y7Gd1bNfeGLHJsHTV4Nfd3a8=,hznxDbjh9jkMCqm7Q3jjPSiWtvtvunxwacmzFc1RDfE=,hznxDbjh9jkMCqm7Q3jjPSiWtvtvunxwacmzFc1RDfE=,AS79hGMKfr0Rrvvu3rOZUHVgDlUGLXKnZKJ2Zc6X7Ds=,AS79hGMKfr0Rrvvu3rOZUHVgDlUGLXKnZKJ2Zc6X7Ds=,Z6jQTveKFFz83PkJjHHrESbfBLqoMgpJr1L+DtkCaO4=,Z6jQTveKFFz83PkJjHHrESbfBLqoMgpJr1L+DtkCaO4=,Z6jQTveKFFz83PkJjHHrESbfBLqoMgpJr1L+DtkCaO4=,Z6jQTveKFFz83PkJjHHrESbfBLqoMgpJr1L+DtkCaO4=,Z6jQTveKFFz83PkJjHHrESbfBLqoMgpJr1L+DtkCaO4=,WiMNZx33Tnizxqov4EVuSxs+2otRnrcH/d0lDeNFCxQ=,WiMNZx33Tnizxqov4EVuSxs+2otRnrcH/d0lDeNFCxQ=,WiMNZx33Tnizxqov4EVuSxs+2otRnrcH/d0lDeNFCxQ=,vF9DTQe1+VsxGKQUwh23nRcBrplJ998rqnOAT0P3jKE=,mncGfoVLCx169sNN6z12MnOPxWq4prD+Y6CKuS4HP7Y=,VidFjxyDrJN26U9BoJQSqrhGkjx2LOVtmFGQzs+vJwc=,6LNYgn4Ypd0F9p1K3BoOF1/HsXQKKlv3HY+x/N0ZCyQ=,/+P65fqjgYbrAS6U5aKjhKHENn2EHodHADkKAwUwLYA=,1lXJzObcVr1UkdOKR/b/hmS9T35bYLCdk2uKVYlTlGs=,vInv88xo8vMXAlWtNMmjqDbipAGH+GoJWK2eWN6bZ/o=,0p3LgsqMNC+YswJ8ye55lLah7LZLmt8F45MMwW74yqk=,0p3LgsqMNC+YswJ8ye55lLah7LZLmt8F45MMwW74yqk=,YDjoY5pwwam3w5iKH4REdbmYH0nbZInj5sXy2WJJNV8=,fODWSpmizNnrUgi6PKn7VpIj1kUAh7xCVwFwtBtjoSE=,tZ6j3V7gRsjB3pWRJMng90mIwIW6K7uGz0KSJCokqAg=,tZ6j3V7gRsjB3pWRJMng90mIwIW6K7uGz0KSJCokqAg=,s2KroBlvK1YwnLA0pN4x5B+ZC48190bcdOAeEnu8ogU=,OJwj235ORrkduYzfIRekh6/7+2E/Vf0cHupi4Pka1n0=,yRqI+kW5HvA3dNUg0pjXpFSdYESmI6aBW1mVXIhD54w=,OcTNGd3JYpW0zJuTXDJfs6sEl7Rc+Wc2nCnF0xFszpI=,sBcu74PRagv0GwiRl9vG2nXaAnq0NwzVx3stRQNrSiU=,FsytFzwV0xaw6EtKzIoYwwl0dsnoQKKe/0wGBr/qZUA=,FsytFzwV0xaw6EtKzIoYwwl0dsnoQKKe/0wGBr/qZUA=,FsytFzwV0xaw6EtKzIoYwwl0dsnoQKKe/0wGBr/qZUA=,FsytFzwV0xaw6EtKzIoYwwl0dsnoQKKe/0wGBr/qZUA=,FsytFzwV0xaw6EtKzIoYwwl0dsnoQKKe/0wGBr/qZUA=,HZj0IqdmUBUBh2WVzsg5UQGVqp1aeio0etI0vR4mpHw=,AaSYqz1flDCNjiyWrVboufoNIYI1ejbExaI2kRTsGiI=,ZEzFRolvK0HFGLY3U26okd3jwHBuua4ndj3+5N05Tp4=,ZEzFRolvK0HFGLY3U26okd3jwHBuua4ndj3+5N05Tp4=,QRNe6y1MYK03yLIano3UBKoxko2SS46i9BBt0p8wxGY=,gs85NSXLfUJflqyP1BfNb/7hfcggpvtSvoG6BdJ1js4=,tG9oEB52RFZgr2w9dRLsokoYIMu8ltGxCKxwmBW2Gfs=,tG9oEB52RFZgr2w9dRLsokoYIMu8ltGxCKxwmBW2Gfs=,SXfDY+aUtLS3FJgd+JZz0jWcNJGcqrkKuTt1mpHbb6Q=,O1ehWJ81/FnFdgmuIc+oXnlDJqGpRWXh/sGIp9qoTXc=,HZBdcyaQ1pkdVAAVOfr4pQpnL/6fPdX7A0ZIcgmy8lo=,dda4tJ5bT+vVhzBobN6TwLuKIDXviBI6Y1lTPBgV92Y=,IzNDUbtvXfKGcHIwHwVnhoYB0o52O9GRkV6SYJAMkps=,IzNDUbtvXfKGcHIwHwVnhoYB0o52O9GRkV6SYJAMkps=,StVRfVcTAU5RJr0x6Ji1tGnx9aSfNpeSXCj1pCO3Xys=,LEJztQjZHc/aNvgOujNRFcqlgsPLMXESoL706exOsx4=,bFokb77EpcF2H1mx+LoZH0+298BBPq8gwoUWFoN/K1A=,dUoF+P3ImnRib+Wp4YGUx+GLlD2THS00bIrAVbnPYuQ=,wQFgUxb6rxUoYWUFjNoGGowK/ZFJCG9DXG0FEbVEiaQ=,BOID2T30rY0PCqqO4RBkTuUkLeo+V5QxjNjzvzSgvJw=,BOID2T30rY0PCqqO4RBkTuUkLeo+V5QxjNjzvzSgvJw=,qD3ecVOe+hvmdhOJlDyEXYv0dVLL8pn3KeB8vClLYI4=,cOn1XZ4Kfv9pWWghvZrpWL98WfVgqlFORxDMhM4Ph/c=,cOn1XZ4Kfv9pWWghvZrpWL98WfVgqlFORxDMhM4Ph/c=,cOn1XZ4Kfv9pWWghvZrpWL98WfVgqlFORxDMhM4Ph/c=,cOn1XZ4Kfv9pWWghvZrpWL98WfVgqlFORxDMhM4Ph/c=,cOn1XZ4Kfv9pWWghvZrpWL98WfVgqlFORxDMhM4Ph/c=,cOn1XZ4Kfv9pWWghvZrpWL98WfVgqlFORxDMhM4Ph/c=,jgyzmA14NE4KlN2UQEM3cId91D0O6brHSTzxxCWWgz0=,jgyzmA14NE4KlN2UQEM3cId91D0O6brHSTzxxCWWgz0=,Q43VvP8sALi4XgTBARkMZNcugwEWQj7TZixYsXXToOY=,lRZS0+a+NyY0Hhtz63Xk2jZWxDmVDQdyrKfIVDf9HNE=,lRZS0+a+NyY0Hhtz63Xk2jZWxDmVDQdyrKfIVDf9HNE=,lRZS0+a+NyY0Hhtz63Xk2jZWxDmVDQdyrKfIVDf9HNE=,lRZS0+a+NyY0Hhtz63Xk2jZWxDmVDQdyrKfIVDf9HNE=,aYqXLPIi7V4HQfhZqsoljpTqwr6gaMpKA+FP0/bdh+s=,Z24/0nbGI5spzFSM4KUFc9ONNLuZ/ddFcOAy3JEno6Y=,Z24/0nbGI5spzFSM4KUFc9ONNLuZ/ddFcOAy3JEno6Y=,IMgPyzAIrB6vRX9qTjzZlEEQboPgxiakMQgY4SG+D5I=,DiYfIPQn1aW3y1c0SKilXBQb0SKiR521IVmNI38vZPM=,DiYfIPQn1aW3y1c0SKilXBQb0SKiR521IVmNI38vZPM=,EEZjlKEE57ViCYPQ9ewbj+JVGZvthmdnidllO0m6WUQ=,YgZuhrQ9E0eZXu3elQmVv8M4gz3YryYxcQDTd4EsxyQ=,L9J/FQEN7D8bid7jdG3r65shQjN0X2Jrc2KBhMeImeQ=,ktzxQh3oDl2VkY8XGYbA8OcCDmZ3Ey+aSyis9JH1kUU=,g7u+fvutvoXI9m2EwbhLjKH3d3JEwuGzVGnH17OgZ/M=,dMK3uo+QKzowbAF23lNmyp+7xAFXWa1NiLa2XxOEInU=,dMK3uo+QKzowbAF23lNmyp+7xAFXWa1NiLa2XxOEInU=,6eNNAfNce/qGa9k14hw/Pb69OEbGUZlwwemVHXSYpds=,Hw4MXrEX2gfNgweUgtDDlFqCcK/HRhTTPJ8apX1kkj0=,51NBgvieu18+vCKDA8cAGOwT2hBzy+hS0otgYO1D640=,Rngqvtbmcdhiv4LBdY8SNDGmDhz0MvmWxRJuV+kSHTY=,RrlFfxBC9+xCuKmx5eZy5FyrQshldtc7y7JgMEtlpGQ=,BaJWBjIJPLs8qu2w2JCc3KOh0K+7340HyX3DvLTvHq8=,R6zCjUio9QB77Z7jzMTB58Hq9AKP0p/lggBqcR+IRrM=,vBCwbi0m4oi/g7K9eK0hApu/SzZrMM8A1GlkTFtdxgA=,zAIIcHVzSGEcJbo6PUVI9sxCf4HCBt1qJyGAC1t2IsI=,YECXNhI3qD4ezQwsza4dkvfk+IxvxwwtDTue2nlxbBg=,YECXNhI3qD4ezQwsza4dkvfk+IxvxwwtDTue2nlxbBg=,F+eP4TVjfrwY4iwyzDvjlbrNC2sjpMEkxtd7xyayndI=,aV5ehX+inDq61uW4D9P98Max2UI1HZL0o0aGKZBlz0w=,5CyNu5QdzU2WJCA+hskS9XZQxHZOA+FhIEpjlT9+jtQ=,EnvDuccJ9PBblaUNY5fHHi/exPMwCdhDcSP9xJcxo1A=,baYxaTtXgxJFmXY+YGCxD7e5fKpuZzg7EwFF94qdonw=,96K+2btjolFGy+5ZWZG1e6rgrWLi/MFDl7uRDqj+iJE=  \n",
       "11                                                                                                                                                                                      sAgUtYoEcFqYZCure5kAaMXKLZbT6lo/mT1DXd70Q6M=,sAgUtYoEcFqYZCure5kAaMXKLZbT6lo/mT1DXd70Q6M=,JvkK05gF0vhlJhjMCS77uORDXBkJ82kArIiUNFbBVSk=,tQ/rDqu8bDyAJf/PnxQZnVu3/F+1zht1IUWuBx3I5ss=,tQ/rDqu8bDyAJf/PnxQZnVu3/F+1zht1IUWuBx3I5ss=,tQ/rDqu8bDyAJf/PnxQZnVu3/F+1zht1IUWuBx3I5ss=,tQ/rDqu8bDyAJf/PnxQZnVu3/F+1zht1IUWuBx3I5ss=,cuLmSzA0HZSRrRWSeJ7gRU/J1nsVMhxViVuHYrEYwdk=,0yVQiASirbpv+ZM2xE48t5SHjwkGEtv8s3pxXhmzYT8=,JoflRp3Q9wpbaXqplEkrs85f1U477NyDz52FwUsiANY=,S+2aN5yiznCmxfYH8rq2uLJavAN4D9gBAwUvUobyhEo=,LMdMUByx+Smr29kSgebEOH+K6ZpETVPu7N9yiPLVLdE=,8qYOGnyIX9EV7ABRrOtxXyCLLQ0OOzcIMqVFmprCgJE=,8qYOGnyIX9EV7ABRrOtxXyCLLQ0OOzcIMqVFmprCgJE=,WiMNZx33Tnizxqov4EVuSxs+2otRnrcH/d0lDeNFCxQ=,vF9DTQe1+VsxGKQUwh23nRcBrplJ998rqnOAT0P3jKE=,w/FptKloFIhQN4PS+vQW4kkvY/GQC8TP+p6gx3IU5v0=,w/FptKloFIhQN4PS+vQW4kkvY/GQC8TP+p6gx3IU5v0=,w/FptKloFIhQN4PS+vQW4kkvY/GQC8TP+p6gx3IU5v0=,w/FptKloFIhQN4PS+vQW4kkvY/GQC8TP+p6gx3IU5v0=,8XW4qrLM+AXfkeJ3RP6iES+CCLUTjsBqDbHzIkh9o6c=,0Bd558J+lSGjMhi7+LvcRo/ogpxJQs5oYExkucW5mc8=,eGUE8S3H79nkkhbtYwqokSaD9fi0cQwwdfs4zMFJ+mE=,eGUE8S3H79nkkhbtYwqokSaD9fi0cQwwdfs4zMFJ+mE=,/+P65fqjgYbrAS6U5aKjhKHENn2EHodHADkKAwUwLYA=,Dg3vPGvTaMxUOQTC8MsDPCd+q/FFd22eCviPp8oBKDA=,1lXJzObcVr1UkdOKR/b/hmS9T35bYLCdk2uKVYlTlGs=,vInv88xo8vMXAlWtNMmjqDbipAGH+GoJWK2eWN6bZ/o=,b1u+3zFPp4I9C6RHrtnBrk3cP5w08YeqNZ0AueTONK4=,vDulzcMSkm/sFigKY5webjmIY10TcP3RyQCxN2IUjdU=,ESPecLeQDa1TV3EcEwkM2NxGs18vbzBiYCercHUv9FY=,mQLOE52TAOr8V0CX4EmzTjzP+EgpMpWNLThhVbirU7E=,mQLOE52TAOr8V0CX4EmzTjzP+EgpMpWNLThhVbirU7E=,mQLOE52TAOr8V0CX4EmzTjzP+EgpMpWNLThhVbirU7E=,mQLOE52TAOr8V0CX4EmzTjzP+EgpMpWNLThhVbirU7E=,/s7c7tBKFfWGvC0SF4eH0hoObT1lN3FPBor/Mi74p5w=,/s7c7tBKFfWGvC0SF4eH0hoObT1lN3FPBor/Mi74p5w=,/s7c7tBKFfWGvC0SF4eH0hoObT1lN3FPBor/Mi74p5w=,/s7c7tBKFfWGvC0SF4eH0hoObT1lN3FPBor/Mi74p5w=,/s7c7tBKFfWGvC0SF4eH0hoObT1lN3FPBor/Mi74p5w=,pyljnOmnO9PUKw/E1So0DsMkJMQgaYU4hbnENgC5fMs=,pyljnOmnO9PUKw/E1So0DsMkJMQgaYU4hbnENgC5fMs=,yRqI+kW5HvA3dNUg0pjXpFSdYESmI6aBW1mVXIhD54w=,7EY0uoVw31m4DYtfHkqn8xZBs7fmQtMtoQMEZuKVEfg=,X9TY8ORkkGZzseSgWjCuIKJsuWrZBk16YPSly+8EXos=,YWwaIcjBsh2pGGFSS0QgvHDOZaJXBySAnMVp8F7/AVU=,YWwaIcjBsh2pGGFSS0QgvHDOZaJXBySAnMVp8F7/AVU=,YWwaIcjBsh2pGGFSS0QgvHDOZaJXBySAnMVp8F7/AVU=,KWrQaxWIk8rH+92J4lGLHA2KYvKmUcDTVfP7b/l5ZM8=,5VOxnoq2Z1ec4/DbcB2k8cB17FZk3fOX98vgL71V50c=,fQJqnZ3SlOddfhB2gkSC3mNIhEC1nXcRPA3ka2/63tU=,FsytFzwV0xaw6EtKzIoYwwl0dsnoQKKe/0wGBr/qZUA=,QRNe6y1MYK03yLIano3UBKoxko2SS46i9BBt0p8wxGY=,QIYC6I8ZFGkLzRtCpSJYBLY//X9g/juHqX7AnKk+P8Y=,QIYC6I8ZFGkLzRtCpSJYBLY//X9g/juHqX7AnKk+P8Y=,QIYC6I8ZFGkLzRtCpSJYBLY//X9g/juHqX7AnKk+P8Y=,QIYC6I8ZFGkLzRtCpSJYBLY//X9g/juHqX7AnKk+P8Y=,QIYC6I8ZFGkLzRtCpSJYBLY//X9g/juHqX7AnKk+P8Y=,QIYC6I8ZFGkLzRtCpSJYBLY//X9g/juHqX7AnKk+P8Y=,QIYC6I8ZFGkLzRtCpSJYBLY//X9g/juHqX7AnKk+P8Y=,ii0TwvP17fuUwxcXQd4wJTNuJeKUAHH0/2cKhituPTs=,gOO+qYJzDss9vSUX1t4N/oPoP/Jk+7Jj7XXcIOJlgek=,gOO+qYJzDss9vSUX1t4N/oPoP/Jk+7Jj7XXcIOJlgek=,1o78NI1FQYndVDwXQ5ElLh2Y5XKZC9H+HPCKPIIWwFI=,1o78NI1FQYndVDwXQ5ElLh2Y5XKZC9H+HPCKPIIWwFI=,erqeLmP+KyOS8d7fPNybot1fmFZKEkefCPatTdSY3Q4=,erqeLmP+KyOS8d7fPNybot1fmFZKEkefCPatTdSY3Q4=,jr64WV2Wr2gSaOviJ1ibja5/DtWiYBX7BhOHJQ8tbnw=,jr64WV2Wr2gSaOviJ1ibja5/DtWiYBX7BhOHJQ8tbnw=,jr64WV2Wr2gSaOviJ1ibja5/DtWiYBX7BhOHJQ8tbnw=,lhMB6CFtJybzTg7qUhEl1C33g4UC8ayTcOilvN39cUQ=,JBobAv4PTG4yh+FFtt4p20cVxsY3wBA+rmbT5zqD2QE=,JBobAv4PTG4yh+FFtt4p20cVxsY3wBA+rmbT5zqD2QE=,JBobAv4PTG4yh+FFtt4p20cVxsY3wBA+rmbT5zqD2QE=,OoW+9pI+I9TQ2fDl9YVU7ut51bjZnDq8Au67rSosLIM=,IgwXrdHeR1Ln60ZHFxne2jDkXslLfUUduYgP1bvmqCs=,IgwXrdHeR1Ln60ZHFxne2jDkXslLfUUduYgP1bvmqCs=,IgwXrdHeR1Ln60ZHFxne2jDkXslLfUUduYgP1bvmqCs=,IgwXrdHeR1Ln60ZHFxne2jDkXslLfUUduYgP1bvmqCs=,Zng48TZ3yijnBk6r4sgKwCz3ty703xLmte9WYaD04vI=,r3oiXm4d8wxb97spbSrNMa//2AhUJ7G8o+YDuKeunZQ=,L4IYqh1bCAJkFdOcxbES1q+v0QqPrv5h+xK4+KbbB5g=,FgpHOCrMC9/x4gkO8aXr/pN0rywLswOO4VSeMsWptXw=,TWF5Jz7TPT/ieIduPmHWpQWM7911jG65IM8qJ4Xieyo=,TWF5Jz7TPT/ieIduPmHWpQWM7911jG65IM8qJ4Xieyo=,1J4h8n/aoon7VGCrDDsTCi8yn/yJReTc0pKo1AWLUQ8=,UoPyHLWkuM4iXkbc1qF8HPe5VkXBTJEfJw+GuxKcduc=,kozRYqdhthteimJpzv3vBfXNpJAuEe5UxPhwaNxPgws=,kozRYqdhthteimJpzv3vBfXNpJAuEe5UxPhwaNxPgws=,kozRYqdhthteimJpzv3vBfXNpJAuEe5UxPhwaNxPgws=,QA3+zOvTcGTh5H70sv5A1efMKCKu0SwZwbW26b5VBVM=,O1ehWJ81/FnFdgmuIc+oXnlDJqGpRWXh/sGIp9qoTXc=,O1ehWJ81/FnFdgmuIc+oXnlDJqGpRWXh/sGIp9qoTXc=,ykRC459iJQMQmV/KsCQmy46TFtsASUhFbLfCFsWjwNA=,iaPoxc4SBEr0sT4F//B/sEQYr3IyiDfgjwy4RbQ6Kwc=,iaPoxc4SBEr0sT4F//B/sEQYr3IyiDfgjwy4RbQ6Kwc=,76+kRoO7bi3NHSt7AegUA5hvhzhWDwJYwMPJi2kd91o=,v6MHAuikHgqZeRz+fllbkYzK7O+XmXvCbL8DospyVhc=,71DcLp8udgV5Nqm4dl5VGSgLgvPQsRoX2CmWdhNoTrk=,qD3ecVOe+hvmdhOJlDyEXYv0dVLL8pn3KeB8vClLYI4=,qD3ecVOe+hvmdhOJlDyEXYv0dVLL8pn3KeB8vClLYI4=,tvFtbwlCNmvEG3Ur6tt6yHU4Aq/pIgPxrpxJa0jUXkQ=,Ky0n1Dj5YwVrecA+l5yYCuxai0TfzvMPu3KLrxFcbiM=,EdBVT/Aca1W+ykd0Koc0n9kErcLnJ6MgJbVfHVCHHls=,EdBVT/Aca1W+ykd0Koc0n9kErcLnJ6MgJbVfHVCHHls=,1wNfiB/xw1RYYUw8QZB2k+saBckgsUpc/E4FKMVigtc=,DgRXp7PfbfNj3BlqnH+hyiDXgD/8bfxy1ebi8b0bB8Q=,ujFi7EwD4HT0L2DzJGylU0+canX9DKMOktpU64eOGeo=  \n",
       "12                                                                                                                                                                                      sAgUtYoEcFqYZCure5kAaMXKLZbT6lo/mT1DXd70Q6M=,sAgUtYoEcFqYZCure5kAaMXKLZbT6lo/mT1DXd70Q6M=,JvkK05gF0vhlJhjMCS77uORDXBkJ82kArIiUNFbBVSk=,tQ/rDqu8bDyAJf/PnxQZnVu3/F+1zht1IUWuBx3I5ss=,tQ/rDqu8bDyAJf/PnxQZnVu3/F+1zht1IUWuBx3I5ss=,tQ/rDqu8bDyAJf/PnxQZnVu3/F+1zht1IUWuBx3I5ss=,tQ/rDqu8bDyAJf/PnxQZnVu3/F+1zht1IUWuBx3I5ss=,cuLmSzA0HZSRrRWSeJ7gRU/J1nsVMhxViVuHYrEYwdk=,0yVQiASirbpv+ZM2xE48t5SHjwkGEtv8s3pxXhmzYT8=,JoflRp3Q9wpbaXqplEkrs85f1U477NyDz52FwUsiANY=,S+2aN5yiznCmxfYH8rq2uLJavAN4D9gBAwUvUobyhEo=,LMdMUByx+Smr29kSgebEOH+K6ZpETVPu7N9yiPLVLdE=,8qYOGnyIX9EV7ABRrOtxXyCLLQ0OOzcIMqVFmprCgJE=,8qYOGnyIX9EV7ABRrOtxXyCLLQ0OOzcIMqVFmprCgJE=,WiMNZx33Tnizxqov4EVuSxs+2otRnrcH/d0lDeNFCxQ=,vF9DTQe1+VsxGKQUwh23nRcBrplJ998rqnOAT0P3jKE=,w/FptKloFIhQN4PS+vQW4kkvY/GQC8TP+p6gx3IU5v0=,w/FptKloFIhQN4PS+vQW4kkvY/GQC8TP+p6gx3IU5v0=,w/FptKloFIhQN4PS+vQW4kkvY/GQC8TP+p6gx3IU5v0=,w/FptKloFIhQN4PS+vQW4kkvY/GQC8TP+p6gx3IU5v0=,8XW4qrLM+AXfkeJ3RP6iES+CCLUTjsBqDbHzIkh9o6c=,0Bd558J+lSGjMhi7+LvcRo/ogpxJQs5oYExkucW5mc8=,eGUE8S3H79nkkhbtYwqokSaD9fi0cQwwdfs4zMFJ+mE=,eGUE8S3H79nkkhbtYwqokSaD9fi0cQwwdfs4zMFJ+mE=,/+P65fqjgYbrAS6U5aKjhKHENn2EHodHADkKAwUwLYA=,Dg3vPGvTaMxUOQTC8MsDPCd+q/FFd22eCviPp8oBKDA=,1lXJzObcVr1UkdOKR/b/hmS9T35bYLCdk2uKVYlTlGs=,vInv88xo8vMXAlWtNMmjqDbipAGH+GoJWK2eWN6bZ/o=,b1u+3zFPp4I9C6RHrtnBrk3cP5w08YeqNZ0AueTONK4=,vDulzcMSkm/sFigKY5webjmIY10TcP3RyQCxN2IUjdU=,ESPecLeQDa1TV3EcEwkM2NxGs18vbzBiYCercHUv9FY=,mQLOE52TAOr8V0CX4EmzTjzP+EgpMpWNLThhVbirU7E=,mQLOE52TAOr8V0CX4EmzTjzP+EgpMpWNLThhVbirU7E=,mQLOE52TAOr8V0CX4EmzTjzP+EgpMpWNLThhVbirU7E=,mQLOE52TAOr8V0CX4EmzTjzP+EgpMpWNLThhVbirU7E=,/s7c7tBKFfWGvC0SF4eH0hoObT1lN3FPBor/Mi74p5w=,/s7c7tBKFfWGvC0SF4eH0hoObT1lN3FPBor/Mi74p5w=,/s7c7tBKFfWGvC0SF4eH0hoObT1lN3FPBor/Mi74p5w=,/s7c7tBKFfWGvC0SF4eH0hoObT1lN3FPBor/Mi74p5w=,/s7c7tBKFfWGvC0SF4eH0hoObT1lN3FPBor/Mi74p5w=,pyljnOmnO9PUKw/E1So0DsMkJMQgaYU4hbnENgC5fMs=,pyljnOmnO9PUKw/E1So0DsMkJMQgaYU4hbnENgC5fMs=,yRqI+kW5HvA3dNUg0pjXpFSdYESmI6aBW1mVXIhD54w=,7EY0uoVw31m4DYtfHkqn8xZBs7fmQtMtoQMEZuKVEfg=,X9TY8ORkkGZzseSgWjCuIKJsuWrZBk16YPSly+8EXos=,YWwaIcjBsh2pGGFSS0QgvHDOZaJXBySAnMVp8F7/AVU=,YWwaIcjBsh2pGGFSS0QgvHDOZaJXBySAnMVp8F7/AVU=,YWwaIcjBsh2pGGFSS0QgvHDOZaJXBySAnMVp8F7/AVU=,KWrQaxWIk8rH+92J4lGLHA2KYvKmUcDTVfP7b/l5ZM8=,5VOxnoq2Z1ec4/DbcB2k8cB17FZk3fOX98vgL71V50c=,fQJqnZ3SlOddfhB2gkSC3mNIhEC1nXcRPA3ka2/63tU=,FsytFzwV0xaw6EtKzIoYwwl0dsnoQKKe/0wGBr/qZUA=,QRNe6y1MYK03yLIano3UBKoxko2SS46i9BBt0p8wxGY=,QIYC6I8ZFGkLzRtCpSJYBLY//X9g/juHqX7AnKk+P8Y=,QIYC6I8ZFGkLzRtCpSJYBLY//X9g/juHqX7AnKk+P8Y=,QIYC6I8ZFGkLzRtCpSJYBLY//X9g/juHqX7AnKk+P8Y=,QIYC6I8ZFGkLzRtCpSJYBLY//X9g/juHqX7AnKk+P8Y=,QIYC6I8ZFGkLzRtCpSJYBLY//X9g/juHqX7AnKk+P8Y=,QIYC6I8ZFGkLzRtCpSJYBLY//X9g/juHqX7AnKk+P8Y=,QIYC6I8ZFGkLzRtCpSJYBLY//X9g/juHqX7AnKk+P8Y=,ii0TwvP17fuUwxcXQd4wJTNuJeKUAHH0/2cKhituPTs=,gOO+qYJzDss9vSUX1t4N/oPoP/Jk+7Jj7XXcIOJlgek=,gOO+qYJzDss9vSUX1t4N/oPoP/Jk+7Jj7XXcIOJlgek=,1o78NI1FQYndVDwXQ5ElLh2Y5XKZC9H+HPCKPIIWwFI=,1o78NI1FQYndVDwXQ5ElLh2Y5XKZC9H+HPCKPIIWwFI=,erqeLmP+KyOS8d7fPNybot1fmFZKEkefCPatTdSY3Q4=,erqeLmP+KyOS8d7fPNybot1fmFZKEkefCPatTdSY3Q4=,jr64WV2Wr2gSaOviJ1ibja5/DtWiYBX7BhOHJQ8tbnw=,jr64WV2Wr2gSaOviJ1ibja5/DtWiYBX7BhOHJQ8tbnw=,jr64WV2Wr2gSaOviJ1ibja5/DtWiYBX7BhOHJQ8tbnw=,lhMB6CFtJybzTg7qUhEl1C33g4UC8ayTcOilvN39cUQ=,JBobAv4PTG4yh+FFtt4p20cVxsY3wBA+rmbT5zqD2QE=,JBobAv4PTG4yh+FFtt4p20cVxsY3wBA+rmbT5zqD2QE=,JBobAv4PTG4yh+FFtt4p20cVxsY3wBA+rmbT5zqD2QE=,OoW+9pI+I9TQ2fDl9YVU7ut51bjZnDq8Au67rSosLIM=,IgwXrdHeR1Ln60ZHFxne2jDkXslLfUUduYgP1bvmqCs=,IgwXrdHeR1Ln60ZHFxne2jDkXslLfUUduYgP1bvmqCs=,IgwXrdHeR1Ln60ZHFxne2jDkXslLfUUduYgP1bvmqCs=,IgwXrdHeR1Ln60ZHFxne2jDkXslLfUUduYgP1bvmqCs=,Zng48TZ3yijnBk6r4sgKwCz3ty703xLmte9WYaD04vI=,r3oiXm4d8wxb97spbSrNMa//2AhUJ7G8o+YDuKeunZQ=,L4IYqh1bCAJkFdOcxbES1q+v0QqPrv5h+xK4+KbbB5g=,FgpHOCrMC9/x4gkO8aXr/pN0rywLswOO4VSeMsWptXw=,TWF5Jz7TPT/ieIduPmHWpQWM7911jG65IM8qJ4Xieyo=,TWF5Jz7TPT/ieIduPmHWpQWM7911jG65IM8qJ4Xieyo=,1J4h8n/aoon7VGCrDDsTCi8yn/yJReTc0pKo1AWLUQ8=,UoPyHLWkuM4iXkbc1qF8HPe5VkXBTJEfJw+GuxKcduc=,kozRYqdhthteimJpzv3vBfXNpJAuEe5UxPhwaNxPgws=,kozRYqdhthteimJpzv3vBfXNpJAuEe5UxPhwaNxPgws=,kozRYqdhthteimJpzv3vBfXNpJAuEe5UxPhwaNxPgws=,QA3+zOvTcGTh5H70sv5A1efMKCKu0SwZwbW26b5VBVM=,O1ehWJ81/FnFdgmuIc+oXnlDJqGpRWXh/sGIp9qoTXc=,O1ehWJ81/FnFdgmuIc+oXnlDJqGpRWXh/sGIp9qoTXc=,ykRC459iJQMQmV/KsCQmy46TFtsASUhFbLfCFsWjwNA=,iaPoxc4SBEr0sT4F//B/sEQYr3IyiDfgjwy4RbQ6Kwc=,iaPoxc4SBEr0sT4F//B/sEQYr3IyiDfgjwy4RbQ6Kwc=,76+kRoO7bi3NHSt7AegUA5hvhzhWDwJYwMPJi2kd91o=,v6MHAuikHgqZeRz+fllbkYzK7O+XmXvCbL8DospyVhc=,71DcLp8udgV5Nqm4dl5VGSgLgvPQsRoX2CmWdhNoTrk=,qD3ecVOe+hvmdhOJlDyEXYv0dVLL8pn3KeB8vClLYI4=,qD3ecVOe+hvmdhOJlDyEXYv0dVLL8pn3KeB8vClLYI4=,tvFtbwlCNmvEG3Ur6tt6yHU4Aq/pIgPxrpxJa0jUXkQ=,Ky0n1Dj5YwVrecA+l5yYCuxai0TfzvMPu3KLrxFcbiM=,EdBVT/Aca1W+ykd0Koc0n9kErcLnJ6MgJbVfHVCHHls=,EdBVT/Aca1W+ykd0Koc0n9kErcLnJ6MgJbVfHVCHHls=,1wNfiB/xw1RYYUw8QZB2k+saBckgsUpc/E4FKMVigtc=,DgRXp7PfbfNj3BlqnH+hyiDXgD/8bfxy1ebi8b0bB8Q=,ujFi7EwD4HT0L2DzJGylU0+canX9DKMOktpU64eOGeo=  \n",
       "14                                                                                                                                                                                                                                                                                                                                                                                                                                                                                                                                                                                                                                                                                                                                                                                                                                                                                                                                                                                                                                                                                                                                                                                                                                                                                                                                                                                                                                                                                                                                                                                                                                                                                                                                                                                                                                                                                                                                                                                                                                                                                                                                                        sAgUtYoEcFqYZCure5kAaMXKLZbT6lo/mT1DXd70Q6M=,EAYNXzUJ7wqQxhWfsV9x7bz0mbyXBsbc73JwBAf2KCk=,WiMNZx33Tnizxqov4EVuSxs+2otRnrcH/d0lDeNFCxQ=,WiMNZx33Tnizxqov4EVuSxs+2otRnrcH/d0lDeNFCxQ=,vF9DTQe1+VsxGKQUwh23nRcBrplJ998rqnOAT0P3jKE=,t0dYhaEUwRi8x83TwxZD8bdcEZ0iAOtmq8FwauAnE+g=,8XW4qrLM+AXfkeJ3RP6iES+CCLUTjsBqDbHzIkh9o6c=,eGUE8S3H79nkkhbtYwqokSaD9fi0cQwwdfs4zMFJ+mE=,eGUE8S3H79nkkhbtYwqokSaD9fi0cQwwdfs4zMFJ+mE=,eGUE8S3H79nkkhbtYwqokSaD9fi0cQwwdfs4zMFJ+mE=,eGUE8S3H79nkkhbtYwqokSaD9fi0cQwwdfs4zMFJ+mE=,cJAToSkibD4z2ADMfiAGSoO4pFwEzL7d4SzH/t2RG+c=,0p3LgsqMNC+YswJ8ye55lLah7LZLmt8F45MMwW74yqk=,7HucRn3d6O58aBQqG98kEALvzM0z+8ki51JkBtjxQl4=,H11Dk69Jro8rLieOsLCMNQlfzCShp0MaTLaurtmPMsI=,H11Dk69Jro8rLieOsLCMNQlfzCShp0MaTLaurtmPMsI=,H11Dk69Jro8rLieOsLCMNQlfzCShp0MaTLaurtmPMsI=,H11Dk69Jro8rLieOsLCMNQlfzCShp0MaTLaurtmPMsI=,H11Dk69Jro8rLieOsLCMNQlfzCShp0MaTLaurtmPMsI=,H11Dk69Jro8rLieOsLCMNQlfzCShp0MaTLaurtmPMsI=,H11Dk69Jro8rLieOsLCMNQlfzCShp0MaTLaurtmPMsI=,yRqI+kW5HvA3dNUg0pjXpFSdYESmI6aBW1mVXIhD54w=,w7BYBL82bReXPzbWkZ3ZBWjGUj0301OGzs1ANO5+GT4=,/JMqmzGWwVGZITnBYE1cSStA8ZpliOGSHWvoJWCAwv0=,RAR9awgE+w8tN6wPFCRIDLHHrMm3Y9IWZcJGir3YdT8=,wtt5NyOgax20eYcLRfjVOWxTMJe2tv9EWaiOv2KrXbk=,1J4h8n/aoon7VGCrDDsTCi8yn/yJReTc0pKo1AWLUQ8=,y2+qElyRyZLvNJPIJrSxbdERUHdez5wYOP6F+eCP23k=,y2+qElyRyZLvNJPIJrSxbdERUHdez5wYOP6F+eCP23k=,y2+qElyRyZLvNJPIJrSxbdERUHdez5wYOP6F+eCP23k=,T8aYqayX84G0YI7UWh4D2X8tUJFdO01dXzFs5YyZRlI=,T8aYqayX84G0YI7UWh4D2X8tUJFdO01dXzFs5YyZRlI=,T8aYqayX84G0YI7UWh4D2X8tUJFdO01dXzFs5YyZRlI=,XOQDcIyR5+AbD0exLJH66Cwih8Q0S2g6ptwRqpSuEYY=,XOQDcIyR5+AbD0exLJH66Cwih8Q0S2g6ptwRqpSuEYY=,XOQDcIyR5+AbD0exLJH66Cwih8Q0S2g6ptwRqpSuEYY=,fzGZiO4b2FUDP8chv6GVWVmSPUq7+4xnZFtepyD+ODo=,XjV48rtjjze/Pwxar/80piHVa2AfmM8w73+R/sioYaA=,POoS02JRfZxjzoIX8u8jPj1mDnq05loi9IxV4fsfGVY=,0hiFVLSYslJLJWdHkS3LDCr1JisRsvsWl8MD5A0x2ec=,mYbc7wUF1QSwbg2rBEvi4odfOIsA+Hn1MNpT09UfClA=,mYbc7wUF1QSwbg2rBEvi4odfOIsA+Hn1MNpT09UfClA=,KEKNgL7+daigDPe8N9oU5sp+Bmd8Ob7IrtlIPXM1f0w=,385ZIpQiH8ZidWZBPI6YWrdiM7pbcDUbwDyVKn5ep/w=,9Ttabboo+kmtQ5RhcW3yz2hpLqxDKDQj63rD/zRAvcs=,SFwF5QzibKWlpbVRT2TpPl31GyJt9LVpTqrrLLirJuU=,SFwF5QzibKWlpbVRT2TpPl31GyJt9LVpTqrrLLirJuU=,SFwF5QzibKWlpbVRT2TpPl31GyJt9LVpTqrrLLirJuU=,SFwF5QzibKWlpbVRT2TpPl31GyJt9LVpTqrrLLirJuU=,SFwF5QzibKWlpbVRT2TpPl31GyJt9LVpTqrrLLirJuU=,RIgma+PpAlrn4yHKuVG4usfYmMqB38bXXZ5sFmfFvHU=,FMtZL6gFOmSD7YnH1sOwR7HV/aEKPUQx9MqJ7vjAvuM=,IzNDUbtvXfKGcHIwHwVnhoYB0o52O9GRkV6SYJAMkps=,IzNDUbtvXfKGcHIwHwVnhoYB0o52O9GRkV6SYJAMkps=,StVRfVcTAU5RJr0x6Ji1tGnx9aSfNpeSXCj1pCO3Xys=,StVRfVcTAU5RJr0x6Ji1tGnx9aSfNpeSXCj1pCO3Xys=,StVRfVcTAU5RJr0x6Ji1tGnx9aSfNpeSXCj1pCO3Xys=,+hP9sxIR/YXMquMAqRNzlXUp7Anz8ATODLiSyPhUQwQ=,wQFgUxb6rxUoYWUFjNoGGowK/ZFJCG9DXG0FEbVEiaQ=,0D7/GFeK4w/n95VGOn8aQ7qDM9c9mEzsY1aWHyp0Y4k=,15GkTTI81cjUmaPihs/RnDtWuppH36urHgzX/7KIK5Y=,Sl/evqJ890ScmZTV49ajYPXXdZAAUn8ckbbtfAZXZdw=,BbYiAijHAj7A2XKDzScHXpOXu/S31kVIdbUG53rYNLE=,BbYiAijHAj7A2XKDzScHXpOXu/S31kVIdbUG53rYNLE=,BbYiAijHAj7A2XKDzScHXpOXu/S31kVIdbUG53rYNLE=,jHbdfOdqg5dLhmkx/MChZONfNtqmjbiRjL8uPkPImB0=  \n",
       "17  XHB0+FAjJtcape6I90URgLIO5A4ipN8zjkeBpmJLc9s=,T24s2IPX1yFVoT19u944/OhjmyOXxK9Bx3iErOIo3LM=,+wBKI48Sb9UBnCAP5e9jfd4DL2Hie2cJz9GvsiylvyQ=,MPOvxX2y4Jc8/bd5d83KdtQEdeWPwIInVUHIColCyhk=,tQ/rDqu8bDyAJf/PnxQZnVu3/F+1zht1IUWuBx3I5ss=,tQ/rDqu8bDyAJf/PnxQZnVu3/F+1zht1IUWuBx3I5ss=,YTFtleDxcMOrSbBfDfWwpOLiBQLWpDZml7Y3JgN6038=,n+uvyzwXo655sNRCeYPp/jOm2CHnz7f9S5ZIhfOvIMo=,BNtTH0ScIZE3LEmVyeSI411C7ez4okV4ostU9yac/Qw=,TcVBZX95c+UtKuwyxv9y7Gd1bNfeGLHJsHTV4Nfd3a8=,TcVBZX95c+UtKuwyxv9y7Gd1bNfeGLHJsHTV4Nfd3a8=,TcVBZX95c+UtKuwyxv9y7Gd1bNfeGLHJsHTV4Nfd3a8=,hznxDbjh9jkMCqm7Q3jjPSiWtvtvunxwacmzFc1RDfE=,hznxDbjh9jkMCqm7Q3jjPSiWtvtvunxwacmzFc1RDfE=,AS79hGMKfr0Rrvvu3rOZUHVgDlUGLXKnZKJ2Zc6X7Ds=,AS79hGMKfr0Rrvvu3rOZUHVgDlUGLXKnZKJ2Zc6X7Ds=,Z6jQTveKFFz83PkJjHHrESbfBLqoMgpJr1L+DtkCaO4=,Z6jQTveKFFz83PkJjHHrESbfBLqoMgpJr1L+DtkCaO4=,Z6jQTveKFFz83PkJjHHrESbfBLqoMgpJr1L+DtkCaO4=,Z6jQTveKFFz83PkJjHHrESbfBLqoMgpJr1L+DtkCaO4=,Z6jQTveKFFz83PkJjHHrESbfBLqoMgpJr1L+DtkCaO4=,WiMNZx33Tnizxqov4EVuSxs+2otRnrcH/d0lDeNFCxQ=,WiMNZx33Tnizxqov4EVuSxs+2otRnrcH/d0lDeNFCxQ=,WiMNZx33Tnizxqov4EVuSxs+2otRnrcH/d0lDeNFCxQ=,vF9DTQe1+VsxGKQUwh23nRcBrplJ998rqnOAT0P3jKE=,mncGfoVLCx169sNN6z12MnOPxWq4prD+Y6CKuS4HP7Y=,VidFjxyDrJN26U9BoJQSqrhGkjx2LOVtmFGQzs+vJwc=,6LNYgn4Ypd0F9p1K3BoOF1/HsXQKKlv3HY+x/N0ZCyQ=,/+P65fqjgYbrAS6U5aKjhKHENn2EHodHADkKAwUwLYA=,1lXJzObcVr1UkdOKR/b/hmS9T35bYLCdk2uKVYlTlGs=,vInv88xo8vMXAlWtNMmjqDbipAGH+GoJWK2eWN6bZ/o=,0p3LgsqMNC+YswJ8ye55lLah7LZLmt8F45MMwW74yqk=,0p3LgsqMNC+YswJ8ye55lLah7LZLmt8F45MMwW74yqk=,YDjoY5pwwam3w5iKH4REdbmYH0nbZInj5sXy2WJJNV8=,fODWSpmizNnrUgi6PKn7VpIj1kUAh7xCVwFwtBtjoSE=,tZ6j3V7gRsjB3pWRJMng90mIwIW6K7uGz0KSJCokqAg=,tZ6j3V7gRsjB3pWRJMng90mIwIW6K7uGz0KSJCokqAg=,s2KroBlvK1YwnLA0pN4x5B+ZC48190bcdOAeEnu8ogU=,OJwj235ORrkduYzfIRekh6/7+2E/Vf0cHupi4Pka1n0=,yRqI+kW5HvA3dNUg0pjXpFSdYESmI6aBW1mVXIhD54w=,OcTNGd3JYpW0zJuTXDJfs6sEl7Rc+Wc2nCnF0xFszpI=,sBcu74PRagv0GwiRl9vG2nXaAnq0NwzVx3stRQNrSiU=,FsytFzwV0xaw6EtKzIoYwwl0dsnoQKKe/0wGBr/qZUA=,FsytFzwV0xaw6EtKzIoYwwl0dsnoQKKe/0wGBr/qZUA=,FsytFzwV0xaw6EtKzIoYwwl0dsnoQKKe/0wGBr/qZUA=,FsytFzwV0xaw6EtKzIoYwwl0dsnoQKKe/0wGBr/qZUA=,FsytFzwV0xaw6EtKzIoYwwl0dsnoQKKe/0wGBr/qZUA=,HZj0IqdmUBUBh2WVzsg5UQGVqp1aeio0etI0vR4mpHw=,AaSYqz1flDCNjiyWrVboufoNIYI1ejbExaI2kRTsGiI=,ZEzFRolvK0HFGLY3U26okd3jwHBuua4ndj3+5N05Tp4=,ZEzFRolvK0HFGLY3U26okd3jwHBuua4ndj3+5N05Tp4=,QRNe6y1MYK03yLIano3UBKoxko2SS46i9BBt0p8wxGY=,gs85NSXLfUJflqyP1BfNb/7hfcggpvtSvoG6BdJ1js4=,tG9oEB52RFZgr2w9dRLsokoYIMu8ltGxCKxwmBW2Gfs=,tG9oEB52RFZgr2w9dRLsokoYIMu8ltGxCKxwmBW2Gfs=,SXfDY+aUtLS3FJgd+JZz0jWcNJGcqrkKuTt1mpHbb6Q=,O1ehWJ81/FnFdgmuIc+oXnlDJqGpRWXh/sGIp9qoTXc=,HZBdcyaQ1pkdVAAVOfr4pQpnL/6fPdX7A0ZIcgmy8lo=,dda4tJ5bT+vVhzBobN6TwLuKIDXviBI6Y1lTPBgV92Y=,IzNDUbtvXfKGcHIwHwVnhoYB0o52O9GRkV6SYJAMkps=,IzNDUbtvXfKGcHIwHwVnhoYB0o52O9GRkV6SYJAMkps=,StVRfVcTAU5RJr0x6Ji1tGnx9aSfNpeSXCj1pCO3Xys=,LEJztQjZHc/aNvgOujNRFcqlgsPLMXESoL706exOsx4=,bFokb77EpcF2H1mx+LoZH0+298BBPq8gwoUWFoN/K1A=,dUoF+P3ImnRib+Wp4YGUx+GLlD2THS00bIrAVbnPYuQ=,wQFgUxb6rxUoYWUFjNoGGowK/ZFJCG9DXG0FEbVEiaQ=,BOID2T30rY0PCqqO4RBkTuUkLeo+V5QxjNjzvzSgvJw=,BOID2T30rY0PCqqO4RBkTuUkLeo+V5QxjNjzvzSgvJw=,qD3ecVOe+hvmdhOJlDyEXYv0dVLL8pn3KeB8vClLYI4=,cOn1XZ4Kfv9pWWghvZrpWL98WfVgqlFORxDMhM4Ph/c=,cOn1XZ4Kfv9pWWghvZrpWL98WfVgqlFORxDMhM4Ph/c=,cOn1XZ4Kfv9pWWghvZrpWL98WfVgqlFORxDMhM4Ph/c=,cOn1XZ4Kfv9pWWghvZrpWL98WfVgqlFORxDMhM4Ph/c=,cOn1XZ4Kfv9pWWghvZrpWL98WfVgqlFORxDMhM4Ph/c=,cOn1XZ4Kfv9pWWghvZrpWL98WfVgqlFORxDMhM4Ph/c=,jgyzmA14NE4KlN2UQEM3cId91D0O6brHSTzxxCWWgz0=,jgyzmA14NE4KlN2UQEM3cId91D0O6brHSTzxxCWWgz0=,Q43VvP8sALi4XgTBARkMZNcugwEWQj7TZixYsXXToOY=,lRZS0+a+NyY0Hhtz63Xk2jZWxDmVDQdyrKfIVDf9HNE=,lRZS0+a+NyY0Hhtz63Xk2jZWxDmVDQdyrKfIVDf9HNE=,lRZS0+a+NyY0Hhtz63Xk2jZWxDmVDQdyrKfIVDf9HNE=,lRZS0+a+NyY0Hhtz63Xk2jZWxDmVDQdyrKfIVDf9HNE=,aYqXLPIi7V4HQfhZqsoljpTqwr6gaMpKA+FP0/bdh+s=,Z24/0nbGI5spzFSM4KUFc9ONNLuZ/ddFcOAy3JEno6Y=,Z24/0nbGI5spzFSM4KUFc9ONNLuZ/ddFcOAy3JEno6Y=,IMgPyzAIrB6vRX9qTjzZlEEQboPgxiakMQgY4SG+D5I=,DiYfIPQn1aW3y1c0SKilXBQb0SKiR521IVmNI38vZPM=,DiYfIPQn1aW3y1c0SKilXBQb0SKiR521IVmNI38vZPM=,EEZjlKEE57ViCYPQ9ewbj+JVGZvthmdnidllO0m6WUQ=,YgZuhrQ9E0eZXu3elQmVv8M4gz3YryYxcQDTd4EsxyQ=,L9J/FQEN7D8bid7jdG3r65shQjN0X2Jrc2KBhMeImeQ=,ktzxQh3oDl2VkY8XGYbA8OcCDmZ3Ey+aSyis9JH1kUU=,g7u+fvutvoXI9m2EwbhLjKH3d3JEwuGzVGnH17OgZ/M=,dMK3uo+QKzowbAF23lNmyp+7xAFXWa1NiLa2XxOEInU=,dMK3uo+QKzowbAF23lNmyp+7xAFXWa1NiLa2XxOEInU=,6eNNAfNce/qGa9k14hw/Pb69OEbGUZlwwemVHXSYpds=,Hw4MXrEX2gfNgweUgtDDlFqCcK/HRhTTPJ8apX1kkj0=,51NBgvieu18+vCKDA8cAGOwT2hBzy+hS0otgYO1D640=,Rngqvtbmcdhiv4LBdY8SNDGmDhz0MvmWxRJuV+kSHTY=,RrlFfxBC9+xCuKmx5eZy5FyrQshldtc7y7JgMEtlpGQ=,BaJWBjIJPLs8qu2w2JCc3KOh0K+7340HyX3DvLTvHq8=,R6zCjUio9QB77Z7jzMTB58Hq9AKP0p/lggBqcR+IRrM=,vBCwbi0m4oi/g7K9eK0hApu/SzZrMM8A1GlkTFtdxgA=,zAIIcHVzSGEcJbo6PUVI9sxCf4HCBt1qJyGAC1t2IsI=,YECXNhI3qD4ezQwsza4dkvfk+IxvxwwtDTue2nlxbBg=,YECXNhI3qD4ezQwsza4dkvfk+IxvxwwtDTue2nlxbBg=,F+eP4TVjfrwY4iwyzDvjlbrNC2sjpMEkxtd7xyayndI=,aV5ehX+inDq61uW4D9P98Max2UI1HZL0o0aGKZBlz0w=,5CyNu5QdzU2WJCA+hskS9XZQxHZOA+FhIEpjlT9+jtQ=,EnvDuccJ9PBblaUNY5fHHi/exPMwCdhDcSP9xJcxo1A=,baYxaTtXgxJFmXY+YGCxD7e5fKpuZzg7EwFF94qdonw=,96K+2btjolFGy+5ZWZG1e6rgrWLi/MFDl7uRDqj+iJE=  \n",
       "25  XHB0+FAjJtcape6I90URgLIO5A4ipN8zjkeBpmJLc9s=,T24s2IPX1yFVoT19u944/OhjmyOXxK9Bx3iErOIo3LM=,+wBKI48Sb9UBnCAP5e9jfd4DL2Hie2cJz9GvsiylvyQ=,MPOvxX2y4Jc8/bd5d83KdtQEdeWPwIInVUHIColCyhk=,tQ/rDqu8bDyAJf/PnxQZnVu3/F+1zht1IUWuBx3I5ss=,tQ/rDqu8bDyAJf/PnxQZnVu3/F+1zht1IUWuBx3I5ss=,YTFtleDxcMOrSbBfDfWwpOLiBQLWpDZml7Y3JgN6038=,n+uvyzwXo655sNRCeYPp/jOm2CHnz7f9S5ZIhfOvIMo=,BNtTH0ScIZE3LEmVyeSI411C7ez4okV4ostU9yac/Qw=,TcVBZX95c+UtKuwyxv9y7Gd1bNfeGLHJsHTV4Nfd3a8=,TcVBZX95c+UtKuwyxv9y7Gd1bNfeGLHJsHTV4Nfd3a8=,TcVBZX95c+UtKuwyxv9y7Gd1bNfeGLHJsHTV4Nfd3a8=,hznxDbjh9jkMCqm7Q3jjPSiWtvtvunxwacmzFc1RDfE=,hznxDbjh9jkMCqm7Q3jjPSiWtvtvunxwacmzFc1RDfE=,AS79hGMKfr0Rrvvu3rOZUHVgDlUGLXKnZKJ2Zc6X7Ds=,AS79hGMKfr0Rrvvu3rOZUHVgDlUGLXKnZKJ2Zc6X7Ds=,Z6jQTveKFFz83PkJjHHrESbfBLqoMgpJr1L+DtkCaO4=,Z6jQTveKFFz83PkJjHHrESbfBLqoMgpJr1L+DtkCaO4=,Z6jQTveKFFz83PkJjHHrESbfBLqoMgpJr1L+DtkCaO4=,Z6jQTveKFFz83PkJjHHrESbfBLqoMgpJr1L+DtkCaO4=,Z6jQTveKFFz83PkJjHHrESbfBLqoMgpJr1L+DtkCaO4=,WiMNZx33Tnizxqov4EVuSxs+2otRnrcH/d0lDeNFCxQ=,WiMNZx33Tnizxqov4EVuSxs+2otRnrcH/d0lDeNFCxQ=,WiMNZx33Tnizxqov4EVuSxs+2otRnrcH/d0lDeNFCxQ=,vF9DTQe1+VsxGKQUwh23nRcBrplJ998rqnOAT0P3jKE=,mncGfoVLCx169sNN6z12MnOPxWq4prD+Y6CKuS4HP7Y=,VidFjxyDrJN26U9BoJQSqrhGkjx2LOVtmFGQzs+vJwc=,6LNYgn4Ypd0F9p1K3BoOF1/HsXQKKlv3HY+x/N0ZCyQ=,/+P65fqjgYbrAS6U5aKjhKHENn2EHodHADkKAwUwLYA=,1lXJzObcVr1UkdOKR/b/hmS9T35bYLCdk2uKVYlTlGs=,vInv88xo8vMXAlWtNMmjqDbipAGH+GoJWK2eWN6bZ/o=,0p3LgsqMNC+YswJ8ye55lLah7LZLmt8F45MMwW74yqk=,0p3LgsqMNC+YswJ8ye55lLah7LZLmt8F45MMwW74yqk=,YDjoY5pwwam3w5iKH4REdbmYH0nbZInj5sXy2WJJNV8=,fODWSpmizNnrUgi6PKn7VpIj1kUAh7xCVwFwtBtjoSE=,tZ6j3V7gRsjB3pWRJMng90mIwIW6K7uGz0KSJCokqAg=,tZ6j3V7gRsjB3pWRJMng90mIwIW6K7uGz0KSJCokqAg=,s2KroBlvK1YwnLA0pN4x5B+ZC48190bcdOAeEnu8ogU=,OJwj235ORrkduYzfIRekh6/7+2E/Vf0cHupi4Pka1n0=,yRqI+kW5HvA3dNUg0pjXpFSdYESmI6aBW1mVXIhD54w=,OcTNGd3JYpW0zJuTXDJfs6sEl7Rc+Wc2nCnF0xFszpI=,sBcu74PRagv0GwiRl9vG2nXaAnq0NwzVx3stRQNrSiU=,FsytFzwV0xaw6EtKzIoYwwl0dsnoQKKe/0wGBr/qZUA=,FsytFzwV0xaw6EtKzIoYwwl0dsnoQKKe/0wGBr/qZUA=,FsytFzwV0xaw6EtKzIoYwwl0dsnoQKKe/0wGBr/qZUA=,FsytFzwV0xaw6EtKzIoYwwl0dsnoQKKe/0wGBr/qZUA=,FsytFzwV0xaw6EtKzIoYwwl0dsnoQKKe/0wGBr/qZUA=,HZj0IqdmUBUBh2WVzsg5UQGVqp1aeio0etI0vR4mpHw=,AaSYqz1flDCNjiyWrVboufoNIYI1ejbExaI2kRTsGiI=,ZEzFRolvK0HFGLY3U26okd3jwHBuua4ndj3+5N05Tp4=,ZEzFRolvK0HFGLY3U26okd3jwHBuua4ndj3+5N05Tp4=,QRNe6y1MYK03yLIano3UBKoxko2SS46i9BBt0p8wxGY=,gs85NSXLfUJflqyP1BfNb/7hfcggpvtSvoG6BdJ1js4=,tG9oEB52RFZgr2w9dRLsokoYIMu8ltGxCKxwmBW2Gfs=,tG9oEB52RFZgr2w9dRLsokoYIMu8ltGxCKxwmBW2Gfs=,SXfDY+aUtLS3FJgd+JZz0jWcNJGcqrkKuTt1mpHbb6Q=,O1ehWJ81/FnFdgmuIc+oXnlDJqGpRWXh/sGIp9qoTXc=,HZBdcyaQ1pkdVAAVOfr4pQpnL/6fPdX7A0ZIcgmy8lo=,dda4tJ5bT+vVhzBobN6TwLuKIDXviBI6Y1lTPBgV92Y=,IzNDUbtvXfKGcHIwHwVnhoYB0o52O9GRkV6SYJAMkps=,IzNDUbtvXfKGcHIwHwVnhoYB0o52O9GRkV6SYJAMkps=,StVRfVcTAU5RJr0x6Ji1tGnx9aSfNpeSXCj1pCO3Xys=,LEJztQjZHc/aNvgOujNRFcqlgsPLMXESoL706exOsx4=,bFokb77EpcF2H1mx+LoZH0+298BBPq8gwoUWFoN/K1A=,dUoF+P3ImnRib+Wp4YGUx+GLlD2THS00bIrAVbnPYuQ=,wQFgUxb6rxUoYWUFjNoGGowK/ZFJCG9DXG0FEbVEiaQ=,BOID2T30rY0PCqqO4RBkTuUkLeo+V5QxjNjzvzSgvJw=,BOID2T30rY0PCqqO4RBkTuUkLeo+V5QxjNjzvzSgvJw=,qD3ecVOe+hvmdhOJlDyEXYv0dVLL8pn3KeB8vClLYI4=,cOn1XZ4Kfv9pWWghvZrpWL98WfVgqlFORxDMhM4Ph/c=,cOn1XZ4Kfv9pWWghvZrpWL98WfVgqlFORxDMhM4Ph/c=,cOn1XZ4Kfv9pWWghvZrpWL98WfVgqlFORxDMhM4Ph/c=,cOn1XZ4Kfv9pWWghvZrpWL98WfVgqlFORxDMhM4Ph/c=,cOn1XZ4Kfv9pWWghvZrpWL98WfVgqlFORxDMhM4Ph/c=,cOn1XZ4Kfv9pWWghvZrpWL98WfVgqlFORxDMhM4Ph/c=,jgyzmA14NE4KlN2UQEM3cId91D0O6brHSTzxxCWWgz0=,jgyzmA14NE4KlN2UQEM3cId91D0O6brHSTzxxCWWgz0=,Q43VvP8sALi4XgTBARkMZNcugwEWQj7TZixYsXXToOY=,lRZS0+a+NyY0Hhtz63Xk2jZWxDmVDQdyrKfIVDf9HNE=,lRZS0+a+NyY0Hhtz63Xk2jZWxDmVDQdyrKfIVDf9HNE=,lRZS0+a+NyY0Hhtz63Xk2jZWxDmVDQdyrKfIVDf9HNE=,lRZS0+a+NyY0Hhtz63Xk2jZWxDmVDQdyrKfIVDf9HNE=,aYqXLPIi7V4HQfhZqsoljpTqwr6gaMpKA+FP0/bdh+s=,Z24/0nbGI5spzFSM4KUFc9ONNLuZ/ddFcOAy3JEno6Y=,Z24/0nbGI5spzFSM4KUFc9ONNLuZ/ddFcOAy3JEno6Y=,IMgPyzAIrB6vRX9qTjzZlEEQboPgxiakMQgY4SG+D5I=,DiYfIPQn1aW3y1c0SKilXBQb0SKiR521IVmNI38vZPM=,DiYfIPQn1aW3y1c0SKilXBQb0SKiR521IVmNI38vZPM=,EEZjlKEE57ViCYPQ9ewbj+JVGZvthmdnidllO0m6WUQ=,YgZuhrQ9E0eZXu3elQmVv8M4gz3YryYxcQDTd4EsxyQ=,L9J/FQEN7D8bid7jdG3r65shQjN0X2Jrc2KBhMeImeQ=,ktzxQh3oDl2VkY8XGYbA8OcCDmZ3Ey+aSyis9JH1kUU=,g7u+fvutvoXI9m2EwbhLjKH3d3JEwuGzVGnH17OgZ/M=,dMK3uo+QKzowbAF23lNmyp+7xAFXWa1NiLa2XxOEInU=,dMK3uo+QKzowbAF23lNmyp+7xAFXWa1NiLa2XxOEInU=,6eNNAfNce/qGa9k14hw/Pb69OEbGUZlwwemVHXSYpds=,Hw4MXrEX2gfNgweUgtDDlFqCcK/HRhTTPJ8apX1kkj0=,51NBgvieu18+vCKDA8cAGOwT2hBzy+hS0otgYO1D640=,Rngqvtbmcdhiv4LBdY8SNDGmDhz0MvmWxRJuV+kSHTY=,RrlFfxBC9+xCuKmx5eZy5FyrQshldtc7y7JgMEtlpGQ=,BaJWBjIJPLs8qu2w2JCc3KOh0K+7340HyX3DvLTvHq8=,R6zCjUio9QB77Z7jzMTB58Hq9AKP0p/lggBqcR+IRrM=,vBCwbi0m4oi/g7K9eK0hApu/SzZrMM8A1GlkTFtdxgA=,zAIIcHVzSGEcJbo6PUVI9sxCf4HCBt1qJyGAC1t2IsI=,YECXNhI3qD4ezQwsza4dkvfk+IxvxwwtDTue2nlxbBg=,YECXNhI3qD4ezQwsza4dkvfk+IxvxwwtDTue2nlxbBg=,F+eP4TVjfrwY4iwyzDvjlbrNC2sjpMEkxtd7xyayndI=,aV5ehX+inDq61uW4D9P98Max2UI1HZL0o0aGKZBlz0w=,5CyNu5QdzU2WJCA+hskS9XZQxHZOA+FhIEpjlT9+jtQ=,EnvDuccJ9PBblaUNY5fHHi/exPMwCdhDcSP9xJcxo1A=,baYxaTtXgxJFmXY+YGCxD7e5fKpuZzg7EwFF94qdonw=,96K+2btjolFGy+5ZWZG1e6rgrWLi/MFDl7uRDqj+iJE=  \n",
       "29  XHB0+FAjJtcape6I90URgLIO5A4ipN8zjkeBpmJLc9s=,T24s2IPX1yFVoT19u944/OhjmyOXxK9Bx3iErOIo3LM=,+wBKI48Sb9UBnCAP5e9jfd4DL2Hie2cJz9GvsiylvyQ=,MPOvxX2y4Jc8/bd5d83KdtQEdeWPwIInVUHIColCyhk=,tQ/rDqu8bDyAJf/PnxQZnVu3/F+1zht1IUWuBx3I5ss=,tQ/rDqu8bDyAJf/PnxQZnVu3/F+1zht1IUWuBx3I5ss=,YTFtleDxcMOrSbBfDfWwpOLiBQLWpDZml7Y3JgN6038=,n+uvyzwXo655sNRCeYPp/jOm2CHnz7f9S5ZIhfOvIMo=,BNtTH0ScIZE3LEmVyeSI411C7ez4okV4ostU9yac/Qw=,TcVBZX95c+UtKuwyxv9y7Gd1bNfeGLHJsHTV4Nfd3a8=,TcVBZX95c+UtKuwyxv9y7Gd1bNfeGLHJsHTV4Nfd3a8=,TcVBZX95c+UtKuwyxv9y7Gd1bNfeGLHJsHTV4Nfd3a8=,hznxDbjh9jkMCqm7Q3jjPSiWtvtvunxwacmzFc1RDfE=,hznxDbjh9jkMCqm7Q3jjPSiWtvtvunxwacmzFc1RDfE=,AS79hGMKfr0Rrvvu3rOZUHVgDlUGLXKnZKJ2Zc6X7Ds=,AS79hGMKfr0Rrvvu3rOZUHVgDlUGLXKnZKJ2Zc6X7Ds=,Z6jQTveKFFz83PkJjHHrESbfBLqoMgpJr1L+DtkCaO4=,Z6jQTveKFFz83PkJjHHrESbfBLqoMgpJr1L+DtkCaO4=,Z6jQTveKFFz83PkJjHHrESbfBLqoMgpJr1L+DtkCaO4=,Z6jQTveKFFz83PkJjHHrESbfBLqoMgpJr1L+DtkCaO4=,Z6jQTveKFFz83PkJjHHrESbfBLqoMgpJr1L+DtkCaO4=,WiMNZx33Tnizxqov4EVuSxs+2otRnrcH/d0lDeNFCxQ=,WiMNZx33Tnizxqov4EVuSxs+2otRnrcH/d0lDeNFCxQ=,WiMNZx33Tnizxqov4EVuSxs+2otRnrcH/d0lDeNFCxQ=,vF9DTQe1+VsxGKQUwh23nRcBrplJ998rqnOAT0P3jKE=,mncGfoVLCx169sNN6z12MnOPxWq4prD+Y6CKuS4HP7Y=,VidFjxyDrJN26U9BoJQSqrhGkjx2LOVtmFGQzs+vJwc=,6LNYgn4Ypd0F9p1K3BoOF1/HsXQKKlv3HY+x/N0ZCyQ=,/+P65fqjgYbrAS6U5aKjhKHENn2EHodHADkKAwUwLYA=,1lXJzObcVr1UkdOKR/b/hmS9T35bYLCdk2uKVYlTlGs=,vInv88xo8vMXAlWtNMmjqDbipAGH+GoJWK2eWN6bZ/o=,0p3LgsqMNC+YswJ8ye55lLah7LZLmt8F45MMwW74yqk=,0p3LgsqMNC+YswJ8ye55lLah7LZLmt8F45MMwW74yqk=,YDjoY5pwwam3w5iKH4REdbmYH0nbZInj5sXy2WJJNV8=,fODWSpmizNnrUgi6PKn7VpIj1kUAh7xCVwFwtBtjoSE=,tZ6j3V7gRsjB3pWRJMng90mIwIW6K7uGz0KSJCokqAg=,tZ6j3V7gRsjB3pWRJMng90mIwIW6K7uGz0KSJCokqAg=,s2KroBlvK1YwnLA0pN4x5B+ZC48190bcdOAeEnu8ogU=,OJwj235ORrkduYzfIRekh6/7+2E/Vf0cHupi4Pka1n0=,yRqI+kW5HvA3dNUg0pjXpFSdYESmI6aBW1mVXIhD54w=,OcTNGd3JYpW0zJuTXDJfs6sEl7Rc+Wc2nCnF0xFszpI=,sBcu74PRagv0GwiRl9vG2nXaAnq0NwzVx3stRQNrSiU=,FsytFzwV0xaw6EtKzIoYwwl0dsnoQKKe/0wGBr/qZUA=,FsytFzwV0xaw6EtKzIoYwwl0dsnoQKKe/0wGBr/qZUA=,FsytFzwV0xaw6EtKzIoYwwl0dsnoQKKe/0wGBr/qZUA=,FsytFzwV0xaw6EtKzIoYwwl0dsnoQKKe/0wGBr/qZUA=,FsytFzwV0xaw6EtKzIoYwwl0dsnoQKKe/0wGBr/qZUA=,HZj0IqdmUBUBh2WVzsg5UQGVqp1aeio0etI0vR4mpHw=,AaSYqz1flDCNjiyWrVboufoNIYI1ejbExaI2kRTsGiI=,ZEzFRolvK0HFGLY3U26okd3jwHBuua4ndj3+5N05Tp4=,ZEzFRolvK0HFGLY3U26okd3jwHBuua4ndj3+5N05Tp4=,QRNe6y1MYK03yLIano3UBKoxko2SS46i9BBt0p8wxGY=,gs85NSXLfUJflqyP1BfNb/7hfcggpvtSvoG6BdJ1js4=,tG9oEB52RFZgr2w9dRLsokoYIMu8ltGxCKxwmBW2Gfs=,tG9oEB52RFZgr2w9dRLsokoYIMu8ltGxCKxwmBW2Gfs=,SXfDY+aUtLS3FJgd+JZz0jWcNJGcqrkKuTt1mpHbb6Q=,O1ehWJ81/FnFdgmuIc+oXnlDJqGpRWXh/sGIp9qoTXc=,HZBdcyaQ1pkdVAAVOfr4pQpnL/6fPdX7A0ZIcgmy8lo=,dda4tJ5bT+vVhzBobN6TwLuKIDXviBI6Y1lTPBgV92Y=,IzNDUbtvXfKGcHIwHwVnhoYB0o52O9GRkV6SYJAMkps=,IzNDUbtvXfKGcHIwHwVnhoYB0o52O9GRkV6SYJAMkps=,StVRfVcTAU5RJr0x6Ji1tGnx9aSfNpeSXCj1pCO3Xys=,LEJztQjZHc/aNvgOujNRFcqlgsPLMXESoL706exOsx4=,bFokb77EpcF2H1mx+LoZH0+298BBPq8gwoUWFoN/K1A=,dUoF+P3ImnRib+Wp4YGUx+GLlD2THS00bIrAVbnPYuQ=,wQFgUxb6rxUoYWUFjNoGGowK/ZFJCG9DXG0FEbVEiaQ=,BOID2T30rY0PCqqO4RBkTuUkLeo+V5QxjNjzvzSgvJw=,BOID2T30rY0PCqqO4RBkTuUkLeo+V5QxjNjzvzSgvJw=,qD3ecVOe+hvmdhOJlDyEXYv0dVLL8pn3KeB8vClLYI4=,cOn1XZ4Kfv9pWWghvZrpWL98WfVgqlFORxDMhM4Ph/c=,cOn1XZ4Kfv9pWWghvZrpWL98WfVgqlFORxDMhM4Ph/c=,cOn1XZ4Kfv9pWWghvZrpWL98WfVgqlFORxDMhM4Ph/c=,cOn1XZ4Kfv9pWWghvZrpWL98WfVgqlFORxDMhM4Ph/c=,cOn1XZ4Kfv9pWWghvZrpWL98WfVgqlFORxDMhM4Ph/c=,cOn1XZ4Kfv9pWWghvZrpWL98WfVgqlFORxDMhM4Ph/c=,jgyzmA14NE4KlN2UQEM3cId91D0O6brHSTzxxCWWgz0=,jgyzmA14NE4KlN2UQEM3cId91D0O6brHSTzxxCWWgz0=,Q43VvP8sALi4XgTBARkMZNcugwEWQj7TZixYsXXToOY=,lRZS0+a+NyY0Hhtz63Xk2jZWxDmVDQdyrKfIVDf9HNE=,lRZS0+a+NyY0Hhtz63Xk2jZWxDmVDQdyrKfIVDf9HNE=,lRZS0+a+NyY0Hhtz63Xk2jZWxDmVDQdyrKfIVDf9HNE=,lRZS0+a+NyY0Hhtz63Xk2jZWxDmVDQdyrKfIVDf9HNE=,aYqXLPIi7V4HQfhZqsoljpTqwr6gaMpKA+FP0/bdh+s=,Z24/0nbGI5spzFSM4KUFc9ONNLuZ/ddFcOAy3JEno6Y=,Z24/0nbGI5spzFSM4KUFc9ONNLuZ/ddFcOAy3JEno6Y=,IMgPyzAIrB6vRX9qTjzZlEEQboPgxiakMQgY4SG+D5I=,DiYfIPQn1aW3y1c0SKilXBQb0SKiR521IVmNI38vZPM=,DiYfIPQn1aW3y1c0SKilXBQb0SKiR521IVmNI38vZPM=,EEZjlKEE57ViCYPQ9ewbj+JVGZvthmdnidllO0m6WUQ=,YgZuhrQ9E0eZXu3elQmVv8M4gz3YryYxcQDTd4EsxyQ=,L9J/FQEN7D8bid7jdG3r65shQjN0X2Jrc2KBhMeImeQ=,ktzxQh3oDl2VkY8XGYbA8OcCDmZ3Ey+aSyis9JH1kUU=,g7u+fvutvoXI9m2EwbhLjKH3d3JEwuGzVGnH17OgZ/M=,dMK3uo+QKzowbAF23lNmyp+7xAFXWa1NiLa2XxOEInU=,dMK3uo+QKzowbAF23lNmyp+7xAFXWa1NiLa2XxOEInU=,6eNNAfNce/qGa9k14hw/Pb69OEbGUZlwwemVHXSYpds=,Hw4MXrEX2gfNgweUgtDDlFqCcK/HRhTTPJ8apX1kkj0=,51NBgvieu18+vCKDA8cAGOwT2hBzy+hS0otgYO1D640=,Rngqvtbmcdhiv4LBdY8SNDGmDhz0MvmWxRJuV+kSHTY=,RrlFfxBC9+xCuKmx5eZy5FyrQshldtc7y7JgMEtlpGQ=,BaJWBjIJPLs8qu2w2JCc3KOh0K+7340HyX3DvLTvHq8=,R6zCjUio9QB77Z7jzMTB58Hq9AKP0p/lggBqcR+IRrM=,vBCwbi0m4oi/g7K9eK0hApu/SzZrMM8A1GlkTFtdxgA=,zAIIcHVzSGEcJbo6PUVI9sxCf4HCBt1qJyGAC1t2IsI=,YECXNhI3qD4ezQwsza4dkvfk+IxvxwwtDTue2nlxbBg=,YECXNhI3qD4ezQwsza4dkvfk+IxvxwwtDTue2nlxbBg=,F+eP4TVjfrwY4iwyzDvjlbrNC2sjpMEkxtd7xyayndI=,aV5ehX+inDq61uW4D9P98Max2UI1HZL0o0aGKZBlz0w=,5CyNu5QdzU2WJCA+hskS9XZQxHZOA+FhIEpjlT9+jtQ=,EnvDuccJ9PBblaUNY5fHHi/exPMwCdhDcSP9xJcxo1A=,baYxaTtXgxJFmXY+YGCxD7e5fKpuZzg7EwFF94qdonw=,96K+2btjolFGy+5ZWZG1e6rgrWLi/MFDl7uRDqj+iJE=  \n",
       "32                                                                                                                                                                                      sAgUtYoEcFqYZCure5kAaMXKLZbT6lo/mT1DXd70Q6M=,sAgUtYoEcFqYZCure5kAaMXKLZbT6lo/mT1DXd70Q6M=,JvkK05gF0vhlJhjMCS77uORDXBkJ82kArIiUNFbBVSk=,tQ/rDqu8bDyAJf/PnxQZnVu3/F+1zht1IUWuBx3I5ss=,tQ/rDqu8bDyAJf/PnxQZnVu3/F+1zht1IUWuBx3I5ss=,tQ/rDqu8bDyAJf/PnxQZnVu3/F+1zht1IUWuBx3I5ss=,tQ/rDqu8bDyAJf/PnxQZnVu3/F+1zht1IUWuBx3I5ss=,cuLmSzA0HZSRrRWSeJ7gRU/J1nsVMhxViVuHYrEYwdk=,0yVQiASirbpv+ZM2xE48t5SHjwkGEtv8s3pxXhmzYT8=,JoflRp3Q9wpbaXqplEkrs85f1U477NyDz52FwUsiANY=,S+2aN5yiznCmxfYH8rq2uLJavAN4D9gBAwUvUobyhEo=,LMdMUByx+Smr29kSgebEOH+K6ZpETVPu7N9yiPLVLdE=,8qYOGnyIX9EV7ABRrOtxXyCLLQ0OOzcIMqVFmprCgJE=,8qYOGnyIX9EV7ABRrOtxXyCLLQ0OOzcIMqVFmprCgJE=,WiMNZx33Tnizxqov4EVuSxs+2otRnrcH/d0lDeNFCxQ=,vF9DTQe1+VsxGKQUwh23nRcBrplJ998rqnOAT0P3jKE=,w/FptKloFIhQN4PS+vQW4kkvY/GQC8TP+p6gx3IU5v0=,w/FptKloFIhQN4PS+vQW4kkvY/GQC8TP+p6gx3IU5v0=,w/FptKloFIhQN4PS+vQW4kkvY/GQC8TP+p6gx3IU5v0=,w/FptKloFIhQN4PS+vQW4kkvY/GQC8TP+p6gx3IU5v0=,8XW4qrLM+AXfkeJ3RP6iES+CCLUTjsBqDbHzIkh9o6c=,0Bd558J+lSGjMhi7+LvcRo/ogpxJQs5oYExkucW5mc8=,eGUE8S3H79nkkhbtYwqokSaD9fi0cQwwdfs4zMFJ+mE=,eGUE8S3H79nkkhbtYwqokSaD9fi0cQwwdfs4zMFJ+mE=,/+P65fqjgYbrAS6U5aKjhKHENn2EHodHADkKAwUwLYA=,Dg3vPGvTaMxUOQTC8MsDPCd+q/FFd22eCviPp8oBKDA=,1lXJzObcVr1UkdOKR/b/hmS9T35bYLCdk2uKVYlTlGs=,vInv88xo8vMXAlWtNMmjqDbipAGH+GoJWK2eWN6bZ/o=,b1u+3zFPp4I9C6RHrtnBrk3cP5w08YeqNZ0AueTONK4=,vDulzcMSkm/sFigKY5webjmIY10TcP3RyQCxN2IUjdU=,ESPecLeQDa1TV3EcEwkM2NxGs18vbzBiYCercHUv9FY=,mQLOE52TAOr8V0CX4EmzTjzP+EgpMpWNLThhVbirU7E=,mQLOE52TAOr8V0CX4EmzTjzP+EgpMpWNLThhVbirU7E=,mQLOE52TAOr8V0CX4EmzTjzP+EgpMpWNLThhVbirU7E=,mQLOE52TAOr8V0CX4EmzTjzP+EgpMpWNLThhVbirU7E=,/s7c7tBKFfWGvC0SF4eH0hoObT1lN3FPBor/Mi74p5w=,/s7c7tBKFfWGvC0SF4eH0hoObT1lN3FPBor/Mi74p5w=,/s7c7tBKFfWGvC0SF4eH0hoObT1lN3FPBor/Mi74p5w=,/s7c7tBKFfWGvC0SF4eH0hoObT1lN3FPBor/Mi74p5w=,/s7c7tBKFfWGvC0SF4eH0hoObT1lN3FPBor/Mi74p5w=,pyljnOmnO9PUKw/E1So0DsMkJMQgaYU4hbnENgC5fMs=,pyljnOmnO9PUKw/E1So0DsMkJMQgaYU4hbnENgC5fMs=,yRqI+kW5HvA3dNUg0pjXpFSdYESmI6aBW1mVXIhD54w=,7EY0uoVw31m4DYtfHkqn8xZBs7fmQtMtoQMEZuKVEfg=,X9TY8ORkkGZzseSgWjCuIKJsuWrZBk16YPSly+8EXos=,YWwaIcjBsh2pGGFSS0QgvHDOZaJXBySAnMVp8F7/AVU=,YWwaIcjBsh2pGGFSS0QgvHDOZaJXBySAnMVp8F7/AVU=,YWwaIcjBsh2pGGFSS0QgvHDOZaJXBySAnMVp8F7/AVU=,KWrQaxWIk8rH+92J4lGLHA2KYvKmUcDTVfP7b/l5ZM8=,5VOxnoq2Z1ec4/DbcB2k8cB17FZk3fOX98vgL71V50c=,fQJqnZ3SlOddfhB2gkSC3mNIhEC1nXcRPA3ka2/63tU=,FsytFzwV0xaw6EtKzIoYwwl0dsnoQKKe/0wGBr/qZUA=,QRNe6y1MYK03yLIano3UBKoxko2SS46i9BBt0p8wxGY=,QIYC6I8ZFGkLzRtCpSJYBLY//X9g/juHqX7AnKk+P8Y=,QIYC6I8ZFGkLzRtCpSJYBLY//X9g/juHqX7AnKk+P8Y=,QIYC6I8ZFGkLzRtCpSJYBLY//X9g/juHqX7AnKk+P8Y=,QIYC6I8ZFGkLzRtCpSJYBLY//X9g/juHqX7AnKk+P8Y=,QIYC6I8ZFGkLzRtCpSJYBLY//X9g/juHqX7AnKk+P8Y=,QIYC6I8ZFGkLzRtCpSJYBLY//X9g/juHqX7AnKk+P8Y=,QIYC6I8ZFGkLzRtCpSJYBLY//X9g/juHqX7AnKk+P8Y=,ii0TwvP17fuUwxcXQd4wJTNuJeKUAHH0/2cKhituPTs=,gOO+qYJzDss9vSUX1t4N/oPoP/Jk+7Jj7XXcIOJlgek=,gOO+qYJzDss9vSUX1t4N/oPoP/Jk+7Jj7XXcIOJlgek=,1o78NI1FQYndVDwXQ5ElLh2Y5XKZC9H+HPCKPIIWwFI=,1o78NI1FQYndVDwXQ5ElLh2Y5XKZC9H+HPCKPIIWwFI=,erqeLmP+KyOS8d7fPNybot1fmFZKEkefCPatTdSY3Q4=,erqeLmP+KyOS8d7fPNybot1fmFZKEkefCPatTdSY3Q4=,jr64WV2Wr2gSaOviJ1ibja5/DtWiYBX7BhOHJQ8tbnw=,jr64WV2Wr2gSaOviJ1ibja5/DtWiYBX7BhOHJQ8tbnw=,jr64WV2Wr2gSaOviJ1ibja5/DtWiYBX7BhOHJQ8tbnw=,lhMB6CFtJybzTg7qUhEl1C33g4UC8ayTcOilvN39cUQ=,JBobAv4PTG4yh+FFtt4p20cVxsY3wBA+rmbT5zqD2QE=,JBobAv4PTG4yh+FFtt4p20cVxsY3wBA+rmbT5zqD2QE=,JBobAv4PTG4yh+FFtt4p20cVxsY3wBA+rmbT5zqD2QE=,OoW+9pI+I9TQ2fDl9YVU7ut51bjZnDq8Au67rSosLIM=,IgwXrdHeR1Ln60ZHFxne2jDkXslLfUUduYgP1bvmqCs=,IgwXrdHeR1Ln60ZHFxne2jDkXslLfUUduYgP1bvmqCs=,IgwXrdHeR1Ln60ZHFxne2jDkXslLfUUduYgP1bvmqCs=,IgwXrdHeR1Ln60ZHFxne2jDkXslLfUUduYgP1bvmqCs=,Zng48TZ3yijnBk6r4sgKwCz3ty703xLmte9WYaD04vI=,r3oiXm4d8wxb97spbSrNMa//2AhUJ7G8o+YDuKeunZQ=,L4IYqh1bCAJkFdOcxbES1q+v0QqPrv5h+xK4+KbbB5g=,FgpHOCrMC9/x4gkO8aXr/pN0rywLswOO4VSeMsWptXw=,TWF5Jz7TPT/ieIduPmHWpQWM7911jG65IM8qJ4Xieyo=,TWF5Jz7TPT/ieIduPmHWpQWM7911jG65IM8qJ4Xieyo=,1J4h8n/aoon7VGCrDDsTCi8yn/yJReTc0pKo1AWLUQ8=,UoPyHLWkuM4iXkbc1qF8HPe5VkXBTJEfJw+GuxKcduc=,kozRYqdhthteimJpzv3vBfXNpJAuEe5UxPhwaNxPgws=,kozRYqdhthteimJpzv3vBfXNpJAuEe5UxPhwaNxPgws=,kozRYqdhthteimJpzv3vBfXNpJAuEe5UxPhwaNxPgws=,QA3+zOvTcGTh5H70sv5A1efMKCKu0SwZwbW26b5VBVM=,O1ehWJ81/FnFdgmuIc+oXnlDJqGpRWXh/sGIp9qoTXc=,O1ehWJ81/FnFdgmuIc+oXnlDJqGpRWXh/sGIp9qoTXc=,ykRC459iJQMQmV/KsCQmy46TFtsASUhFbLfCFsWjwNA=,iaPoxc4SBEr0sT4F//B/sEQYr3IyiDfgjwy4RbQ6Kwc=,iaPoxc4SBEr0sT4F//B/sEQYr3IyiDfgjwy4RbQ6Kwc=,76+kRoO7bi3NHSt7AegUA5hvhzhWDwJYwMPJi2kd91o=,v6MHAuikHgqZeRz+fllbkYzK7O+XmXvCbL8DospyVhc=,71DcLp8udgV5Nqm4dl5VGSgLgvPQsRoX2CmWdhNoTrk=,qD3ecVOe+hvmdhOJlDyEXYv0dVLL8pn3KeB8vClLYI4=,qD3ecVOe+hvmdhOJlDyEXYv0dVLL8pn3KeB8vClLYI4=,tvFtbwlCNmvEG3Ur6tt6yHU4Aq/pIgPxrpxJa0jUXkQ=,Ky0n1Dj5YwVrecA+l5yYCuxai0TfzvMPu3KLrxFcbiM=,EdBVT/Aca1W+ykd0Koc0n9kErcLnJ6MgJbVfHVCHHls=,EdBVT/Aca1W+ykd0Koc0n9kErcLnJ6MgJbVfHVCHHls=,1wNfiB/xw1RYYUw8QZB2k+saBckgsUpc/E4FKMVigtc=,DgRXp7PfbfNj3BlqnH+hyiDXgD/8bfxy1ebi8b0bB8Q=,ujFi7EwD4HT0L2DzJGylU0+canX9DKMOktpU64eOGeo=  \n",
       "40                                                                                                                                                                                                                                                                                                                                                                                                                                                                                                                                                                                                                                                                                                                                                                                                                                                                                                                                                                                                                                                                                                                                                                                                                                                                                                                                                                                                                                                                                                                                                                                                                                                                                                                                                                                                                                                                                                                                                                                                                                                                                                                                                        sAgUtYoEcFqYZCure5kAaMXKLZbT6lo/mT1DXd70Q6M=,EAYNXzUJ7wqQxhWfsV9x7bz0mbyXBsbc73JwBAf2KCk=,WiMNZx33Tnizxqov4EVuSxs+2otRnrcH/d0lDeNFCxQ=,WiMNZx33Tnizxqov4EVuSxs+2otRnrcH/d0lDeNFCxQ=,vF9DTQe1+VsxGKQUwh23nRcBrplJ998rqnOAT0P3jKE=,t0dYhaEUwRi8x83TwxZD8bdcEZ0iAOtmq8FwauAnE+g=,8XW4qrLM+AXfkeJ3RP6iES+CCLUTjsBqDbHzIkh9o6c=,eGUE8S3H79nkkhbtYwqokSaD9fi0cQwwdfs4zMFJ+mE=,eGUE8S3H79nkkhbtYwqokSaD9fi0cQwwdfs4zMFJ+mE=,eGUE8S3H79nkkhbtYwqokSaD9fi0cQwwdfs4zMFJ+mE=,eGUE8S3H79nkkhbtYwqokSaD9fi0cQwwdfs4zMFJ+mE=,cJAToSkibD4z2ADMfiAGSoO4pFwEzL7d4SzH/t2RG+c=,0p3LgsqMNC+YswJ8ye55lLah7LZLmt8F45MMwW74yqk=,7HucRn3d6O58aBQqG98kEALvzM0z+8ki51JkBtjxQl4=,H11Dk69Jro8rLieOsLCMNQlfzCShp0MaTLaurtmPMsI=,H11Dk69Jro8rLieOsLCMNQlfzCShp0MaTLaurtmPMsI=,H11Dk69Jro8rLieOsLCMNQlfzCShp0MaTLaurtmPMsI=,H11Dk69Jro8rLieOsLCMNQlfzCShp0MaTLaurtmPMsI=,H11Dk69Jro8rLieOsLCMNQlfzCShp0MaTLaurtmPMsI=,H11Dk69Jro8rLieOsLCMNQlfzCShp0MaTLaurtmPMsI=,H11Dk69Jro8rLieOsLCMNQlfzCShp0MaTLaurtmPMsI=,yRqI+kW5HvA3dNUg0pjXpFSdYESmI6aBW1mVXIhD54w=,w7BYBL82bReXPzbWkZ3ZBWjGUj0301OGzs1ANO5+GT4=,/JMqmzGWwVGZITnBYE1cSStA8ZpliOGSHWvoJWCAwv0=,RAR9awgE+w8tN6wPFCRIDLHHrMm3Y9IWZcJGir3YdT8=,wtt5NyOgax20eYcLRfjVOWxTMJe2tv9EWaiOv2KrXbk=,1J4h8n/aoon7VGCrDDsTCi8yn/yJReTc0pKo1AWLUQ8=,y2+qElyRyZLvNJPIJrSxbdERUHdez5wYOP6F+eCP23k=,y2+qElyRyZLvNJPIJrSxbdERUHdez5wYOP6F+eCP23k=,y2+qElyRyZLvNJPIJrSxbdERUHdez5wYOP6F+eCP23k=,T8aYqayX84G0YI7UWh4D2X8tUJFdO01dXzFs5YyZRlI=,T8aYqayX84G0YI7UWh4D2X8tUJFdO01dXzFs5YyZRlI=,T8aYqayX84G0YI7UWh4D2X8tUJFdO01dXzFs5YyZRlI=,XOQDcIyR5+AbD0exLJH66Cwih8Q0S2g6ptwRqpSuEYY=,XOQDcIyR5+AbD0exLJH66Cwih8Q0S2g6ptwRqpSuEYY=,XOQDcIyR5+AbD0exLJH66Cwih8Q0S2g6ptwRqpSuEYY=,fzGZiO4b2FUDP8chv6GVWVmSPUq7+4xnZFtepyD+ODo=,XjV48rtjjze/Pwxar/80piHVa2AfmM8w73+R/sioYaA=,POoS02JRfZxjzoIX8u8jPj1mDnq05loi9IxV4fsfGVY=,0hiFVLSYslJLJWdHkS3LDCr1JisRsvsWl8MD5A0x2ec=,mYbc7wUF1QSwbg2rBEvi4odfOIsA+Hn1MNpT09UfClA=,mYbc7wUF1QSwbg2rBEvi4odfOIsA+Hn1MNpT09UfClA=,KEKNgL7+daigDPe8N9oU5sp+Bmd8Ob7IrtlIPXM1f0w=,385ZIpQiH8ZidWZBPI6YWrdiM7pbcDUbwDyVKn5ep/w=,9Ttabboo+kmtQ5RhcW3yz2hpLqxDKDQj63rD/zRAvcs=,SFwF5QzibKWlpbVRT2TpPl31GyJt9LVpTqrrLLirJuU=,SFwF5QzibKWlpbVRT2TpPl31GyJt9LVpTqrrLLirJuU=,SFwF5QzibKWlpbVRT2TpPl31GyJt9LVpTqrrLLirJuU=,SFwF5QzibKWlpbVRT2TpPl31GyJt9LVpTqrrLLirJuU=,SFwF5QzibKWlpbVRT2TpPl31GyJt9LVpTqrrLLirJuU=,RIgma+PpAlrn4yHKuVG4usfYmMqB38bXXZ5sFmfFvHU=,FMtZL6gFOmSD7YnH1sOwR7HV/aEKPUQx9MqJ7vjAvuM=,IzNDUbtvXfKGcHIwHwVnhoYB0o52O9GRkV6SYJAMkps=,IzNDUbtvXfKGcHIwHwVnhoYB0o52O9GRkV6SYJAMkps=,StVRfVcTAU5RJr0x6Ji1tGnx9aSfNpeSXCj1pCO3Xys=,StVRfVcTAU5RJr0x6Ji1tGnx9aSfNpeSXCj1pCO3Xys=,StVRfVcTAU5RJr0x6Ji1tGnx9aSfNpeSXCj1pCO3Xys=,+hP9sxIR/YXMquMAqRNzlXUp7Anz8ATODLiSyPhUQwQ=,wQFgUxb6rxUoYWUFjNoGGowK/ZFJCG9DXG0FEbVEiaQ=,0D7/GFeK4w/n95VGOn8aQ7qDM9c9mEzsY1aWHyp0Y4k=,15GkTTI81cjUmaPihs/RnDtWuppH36urHgzX/7KIK5Y=,Sl/evqJ890ScmZTV49ajYPXXdZAAUn8ckbbtfAZXZdw=,BbYiAijHAj7A2XKDzScHXpOXu/S31kVIdbUG53rYNLE=,BbYiAijHAj7A2XKDzScHXpOXu/S31kVIdbUG53rYNLE=,BbYiAijHAj7A2XKDzScHXpOXu/S31kVIdbUG53rYNLE=,jHbdfOdqg5dLhmkx/MChZONfNtqmjbiRjL8uPkPImB0=  \n",
       "42                                                                                                                                                                                      sAgUtYoEcFqYZCure5kAaMXKLZbT6lo/mT1DXd70Q6M=,sAgUtYoEcFqYZCure5kAaMXKLZbT6lo/mT1DXd70Q6M=,JvkK05gF0vhlJhjMCS77uORDXBkJ82kArIiUNFbBVSk=,tQ/rDqu8bDyAJf/PnxQZnVu3/F+1zht1IUWuBx3I5ss=,tQ/rDqu8bDyAJf/PnxQZnVu3/F+1zht1IUWuBx3I5ss=,tQ/rDqu8bDyAJf/PnxQZnVu3/F+1zht1IUWuBx3I5ss=,tQ/rDqu8bDyAJf/PnxQZnVu3/F+1zht1IUWuBx3I5ss=,cuLmSzA0HZSRrRWSeJ7gRU/J1nsVMhxViVuHYrEYwdk=,0yVQiASirbpv+ZM2xE48t5SHjwkGEtv8s3pxXhmzYT8=,JoflRp3Q9wpbaXqplEkrs85f1U477NyDz52FwUsiANY=,S+2aN5yiznCmxfYH8rq2uLJavAN4D9gBAwUvUobyhEo=,LMdMUByx+Smr29kSgebEOH+K6ZpETVPu7N9yiPLVLdE=,8qYOGnyIX9EV7ABRrOtxXyCLLQ0OOzcIMqVFmprCgJE=,8qYOGnyIX9EV7ABRrOtxXyCLLQ0OOzcIMqVFmprCgJE=,WiMNZx33Tnizxqov4EVuSxs+2otRnrcH/d0lDeNFCxQ=,vF9DTQe1+VsxGKQUwh23nRcBrplJ998rqnOAT0P3jKE=,w/FptKloFIhQN4PS+vQW4kkvY/GQC8TP+p6gx3IU5v0=,w/FptKloFIhQN4PS+vQW4kkvY/GQC8TP+p6gx3IU5v0=,w/FptKloFIhQN4PS+vQW4kkvY/GQC8TP+p6gx3IU5v0=,w/FptKloFIhQN4PS+vQW4kkvY/GQC8TP+p6gx3IU5v0=,8XW4qrLM+AXfkeJ3RP6iES+CCLUTjsBqDbHzIkh9o6c=,0Bd558J+lSGjMhi7+LvcRo/ogpxJQs5oYExkucW5mc8=,eGUE8S3H79nkkhbtYwqokSaD9fi0cQwwdfs4zMFJ+mE=,eGUE8S3H79nkkhbtYwqokSaD9fi0cQwwdfs4zMFJ+mE=,/+P65fqjgYbrAS6U5aKjhKHENn2EHodHADkKAwUwLYA=,Dg3vPGvTaMxUOQTC8MsDPCd+q/FFd22eCviPp8oBKDA=,1lXJzObcVr1UkdOKR/b/hmS9T35bYLCdk2uKVYlTlGs=,vInv88xo8vMXAlWtNMmjqDbipAGH+GoJWK2eWN6bZ/o=,b1u+3zFPp4I9C6RHrtnBrk3cP5w08YeqNZ0AueTONK4=,vDulzcMSkm/sFigKY5webjmIY10TcP3RyQCxN2IUjdU=,ESPecLeQDa1TV3EcEwkM2NxGs18vbzBiYCercHUv9FY=,mQLOE52TAOr8V0CX4EmzTjzP+EgpMpWNLThhVbirU7E=,mQLOE52TAOr8V0CX4EmzTjzP+EgpMpWNLThhVbirU7E=,mQLOE52TAOr8V0CX4EmzTjzP+EgpMpWNLThhVbirU7E=,mQLOE52TAOr8V0CX4EmzTjzP+EgpMpWNLThhVbirU7E=,/s7c7tBKFfWGvC0SF4eH0hoObT1lN3FPBor/Mi74p5w=,/s7c7tBKFfWGvC0SF4eH0hoObT1lN3FPBor/Mi74p5w=,/s7c7tBKFfWGvC0SF4eH0hoObT1lN3FPBor/Mi74p5w=,/s7c7tBKFfWGvC0SF4eH0hoObT1lN3FPBor/Mi74p5w=,/s7c7tBKFfWGvC0SF4eH0hoObT1lN3FPBor/Mi74p5w=,pyljnOmnO9PUKw/E1So0DsMkJMQgaYU4hbnENgC5fMs=,pyljnOmnO9PUKw/E1So0DsMkJMQgaYU4hbnENgC5fMs=,yRqI+kW5HvA3dNUg0pjXpFSdYESmI6aBW1mVXIhD54w=,7EY0uoVw31m4DYtfHkqn8xZBs7fmQtMtoQMEZuKVEfg=,X9TY8ORkkGZzseSgWjCuIKJsuWrZBk16YPSly+8EXos=,YWwaIcjBsh2pGGFSS0QgvHDOZaJXBySAnMVp8F7/AVU=,YWwaIcjBsh2pGGFSS0QgvHDOZaJXBySAnMVp8F7/AVU=,YWwaIcjBsh2pGGFSS0QgvHDOZaJXBySAnMVp8F7/AVU=,KWrQaxWIk8rH+92J4lGLHA2KYvKmUcDTVfP7b/l5ZM8=,5VOxnoq2Z1ec4/DbcB2k8cB17FZk3fOX98vgL71V50c=,fQJqnZ3SlOddfhB2gkSC3mNIhEC1nXcRPA3ka2/63tU=,FsytFzwV0xaw6EtKzIoYwwl0dsnoQKKe/0wGBr/qZUA=,QRNe6y1MYK03yLIano3UBKoxko2SS46i9BBt0p8wxGY=,QIYC6I8ZFGkLzRtCpSJYBLY//X9g/juHqX7AnKk+P8Y=,QIYC6I8ZFGkLzRtCpSJYBLY//X9g/juHqX7AnKk+P8Y=,QIYC6I8ZFGkLzRtCpSJYBLY//X9g/juHqX7AnKk+P8Y=,QIYC6I8ZFGkLzRtCpSJYBLY//X9g/juHqX7AnKk+P8Y=,QIYC6I8ZFGkLzRtCpSJYBLY//X9g/juHqX7AnKk+P8Y=,QIYC6I8ZFGkLzRtCpSJYBLY//X9g/juHqX7AnKk+P8Y=,QIYC6I8ZFGkLzRtCpSJYBLY//X9g/juHqX7AnKk+P8Y=,ii0TwvP17fuUwxcXQd4wJTNuJeKUAHH0/2cKhituPTs=,gOO+qYJzDss9vSUX1t4N/oPoP/Jk+7Jj7XXcIOJlgek=,gOO+qYJzDss9vSUX1t4N/oPoP/Jk+7Jj7XXcIOJlgek=,1o78NI1FQYndVDwXQ5ElLh2Y5XKZC9H+HPCKPIIWwFI=,1o78NI1FQYndVDwXQ5ElLh2Y5XKZC9H+HPCKPIIWwFI=,erqeLmP+KyOS8d7fPNybot1fmFZKEkefCPatTdSY3Q4=,erqeLmP+KyOS8d7fPNybot1fmFZKEkefCPatTdSY3Q4=,jr64WV2Wr2gSaOviJ1ibja5/DtWiYBX7BhOHJQ8tbnw=,jr64WV2Wr2gSaOviJ1ibja5/DtWiYBX7BhOHJQ8tbnw=,jr64WV2Wr2gSaOviJ1ibja5/DtWiYBX7BhOHJQ8tbnw=,lhMB6CFtJybzTg7qUhEl1C33g4UC8ayTcOilvN39cUQ=,JBobAv4PTG4yh+FFtt4p20cVxsY3wBA+rmbT5zqD2QE=,JBobAv4PTG4yh+FFtt4p20cVxsY3wBA+rmbT5zqD2QE=,JBobAv4PTG4yh+FFtt4p20cVxsY3wBA+rmbT5zqD2QE=,OoW+9pI+I9TQ2fDl9YVU7ut51bjZnDq8Au67rSosLIM=,IgwXrdHeR1Ln60ZHFxne2jDkXslLfUUduYgP1bvmqCs=,IgwXrdHeR1Ln60ZHFxne2jDkXslLfUUduYgP1bvmqCs=,IgwXrdHeR1Ln60ZHFxne2jDkXslLfUUduYgP1bvmqCs=,IgwXrdHeR1Ln60ZHFxne2jDkXslLfUUduYgP1bvmqCs=,Zng48TZ3yijnBk6r4sgKwCz3ty703xLmte9WYaD04vI=,r3oiXm4d8wxb97spbSrNMa//2AhUJ7G8o+YDuKeunZQ=,L4IYqh1bCAJkFdOcxbES1q+v0QqPrv5h+xK4+KbbB5g=,FgpHOCrMC9/x4gkO8aXr/pN0rywLswOO4VSeMsWptXw=,TWF5Jz7TPT/ieIduPmHWpQWM7911jG65IM8qJ4Xieyo=,TWF5Jz7TPT/ieIduPmHWpQWM7911jG65IM8qJ4Xieyo=,1J4h8n/aoon7VGCrDDsTCi8yn/yJReTc0pKo1AWLUQ8=,UoPyHLWkuM4iXkbc1qF8HPe5VkXBTJEfJw+GuxKcduc=,kozRYqdhthteimJpzv3vBfXNpJAuEe5UxPhwaNxPgws=,kozRYqdhthteimJpzv3vBfXNpJAuEe5UxPhwaNxPgws=,kozRYqdhthteimJpzv3vBfXNpJAuEe5UxPhwaNxPgws=,QA3+zOvTcGTh5H70sv5A1efMKCKu0SwZwbW26b5VBVM=,O1ehWJ81/FnFdgmuIc+oXnlDJqGpRWXh/sGIp9qoTXc=,O1ehWJ81/FnFdgmuIc+oXnlDJqGpRWXh/sGIp9qoTXc=,ykRC459iJQMQmV/KsCQmy46TFtsASUhFbLfCFsWjwNA=,iaPoxc4SBEr0sT4F//B/sEQYr3IyiDfgjwy4RbQ6Kwc=,iaPoxc4SBEr0sT4F//B/sEQYr3IyiDfgjwy4RbQ6Kwc=,76+kRoO7bi3NHSt7AegUA5hvhzhWDwJYwMPJi2kd91o=,v6MHAuikHgqZeRz+fllbkYzK7O+XmXvCbL8DospyVhc=,71DcLp8udgV5Nqm4dl5VGSgLgvPQsRoX2CmWdhNoTrk=,qD3ecVOe+hvmdhOJlDyEXYv0dVLL8pn3KeB8vClLYI4=,qD3ecVOe+hvmdhOJlDyEXYv0dVLL8pn3KeB8vClLYI4=,tvFtbwlCNmvEG3Ur6tt6yHU4Aq/pIgPxrpxJa0jUXkQ=,Ky0n1Dj5YwVrecA+l5yYCuxai0TfzvMPu3KLrxFcbiM=,EdBVT/Aca1W+ykd0Koc0n9kErcLnJ6MgJbVfHVCHHls=,EdBVT/Aca1W+ykd0Koc0n9kErcLnJ6MgJbVfHVCHHls=,1wNfiB/xw1RYYUw8QZB2k+saBckgsUpc/E4FKMVigtc=,DgRXp7PfbfNj3BlqnH+hyiDXgD/8bfxy1ebi8b0bB8Q=,ujFi7EwD4HT0L2DzJGylU0+canX9DKMOktpU64eOGeo=  "
      ]
     },
     "execution_count": 39,
     "metadata": {},
     "output_type": "execute_result"
    }
   ],
   "source": [
    "\n",
    "patient_df[\"grouped\"]= patient_df.groupby([\"doctor_id\",\"Month_Year\"])[\"Patient_Name\"].transform(lambda x: ','.join(x))\n",
    "patient_df.head(10)"
   ]
  },
  {
   "cell_type": "code",
   "execution_count": 40,
   "metadata": {},
   "outputs": [
    {
     "data": {
      "text/html": [
       "<div>\n",
       "<style scoped>\n",
       "    .dataframe tbody tr th:only-of-type {\n",
       "        vertical-align: middle;\n",
       "    }\n",
       "\n",
       "    .dataframe tbody tr th {\n",
       "        vertical-align: top;\n",
       "    }\n",
       "\n",
       "    .dataframe thead th {\n",
       "        text-align: right;\n",
       "    }\n",
       "</style>\n",
       "<table border=\"1\" class=\"dataframe\">\n",
       "  <thead>\n",
       "    <tr style=\"text-align: right;\">\n",
       "      <th></th>\n",
       "      <th>doctor_id</th>\n",
       "      <th>Month_Year</th>\n",
       "      <th>grouped</th>\n",
       "      <th>count</th>\n",
       "    </tr>\n",
       "  </thead>\n",
       "  <tbody>\n",
       "    <tr>\n",
       "      <th>0</th>\n",
       "      <td>3TB6T8CT/m/sBtYXy8XpTg==</td>\n",
       "      <td>July 2021</td>\n",
       "      <td>T24s2IPX1yFVoT19u944/OhjmyOXxK9Bx3iErOIo3LM=,1vbeI+TzP2v2CHMaWSdVpSrbwzihSJv//7eqjZk2nOs=,rEHuUa8V1hBvLFAe4Ri0B3Hl7gSEl3mOE8Uj2SEjotw=,hznxDbjh9jkMCqm7Q3jjPSiWtvtvunxwacmzFc1RDfE=,s2oj6p+Ub7XtmPswDvvRYaHBCHISGmcFK/1L/cowrdk=,pyljnOmnO9PUKw/E1So0DsMkJMQgaYU4hbnENgC5fMs=,GKQINGs2vns7Ocrd9x/FAMAm6jdgzGUNgPFtdjrI8g4=,om6e09W6eGp1+AcaWTEZixVvOWA5EXN4ZSVgZ7sMGlQ=,u+cUNs32hUi8b4NpN5gLQuawitNvtuYTcTFtXB1stZQ=,5CyNu5QdzU2WJCA+hskS9XZQxHZOA+FhIEpjlT9+jtQ=</td>\n",
       "      <td>10</td>\n",
       "    </tr>\n",
       "    <tr>\n",
       "      <th>1</th>\n",
       "      <td>3TB6T8CT/m/sBtYXy8XpTg==</td>\n",
       "      <td>June 2021</td>\n",
       "      <td>WOT8SypkGrG3diUySsRkALqLMBElbjv9ukGpeyYGKm0=,b1u+3zFPp4I9C6RHrtnBrk3cP5w08YeqNZ0AueTONK4=,7HucRn3d6O58aBQqG98kEALvzM0z+8ki51JkBtjxQl4=,OKZacDmLVGxQDoUeS0Qbu/M5ICoGLjCQOoOhdgm7guI=,H11Dk69Jro8rLieOsLCMNQlfzCShp0MaTLaurtmPMsI=,vwNzJDXt6M7gmT5szuaRX+7dwCD5rGuhkNW2d35Xm2s=,pyljnOmnO9PUKw/E1So0DsMkJMQgaYU4hbnENgC5fMs=,e9cTC5eCXW/Zub9qupNrPl/KoBNQvMH2IDUiEBS9cKw=,mB3ehPc/P5rgYswI70L7zN9+sJ8elJKnpxHbqxWon98=,gyf1oTfIrkD5v3GmkPb4EVwImCbXVLURFjaLJliQsd8=,KtqqR5iUMimiTfYiFVtnoQFv296U1Nw2g0ClE94WK2o=,KtqqR5iUMimiTfYiFVtnoQFv296U1Nw2g0ClE94WK2o=,22WGa270+CUzo/ab5cPxD59NY/y9nE3dyeKd5Ds2FsI=,mYbc7wUF1QSwbg2rBEvi4odfOIsA+Hn1MNpT09UfClA=,9Ttabboo+kmtQ5RhcW3yz2hpLqxDKDQj63rD/zRAvcs=,IzNDUbtvXfKGcHIwHwVnhoYB0o52O9GRkV6SYJAMkps=,StVRfVcTAU5RJr0x6Ji1tGnx9aSfNpeSXCj1pCO3Xys=,Eno0xhuOYmq/qf5Lhk61tBKpCJY1LrPHX/BTVxpAG98=,vVRzZ++ukBCOiDZCB+nz/etA2uxNmJUNkTrO3c08JIM=,15GkTTI81cjUmaPihs/RnDtWuppH36urHgzX/7KIK5Y=,26K9iX4Es+Xo9eMgrKTUmJo0kFieRsjtWvv4riA7kXk=,BbYiAijHAj7A2XKDzScHXpOXu/S31kVIdbUG53rYNLE=,jHbdfOdqg5dLhmkx/MChZONfNtqmjbiRjL8uPkPImB0=</td>\n",
       "      <td>23</td>\n",
       "    </tr>\n",
       "    <tr>\n",
       "      <th>2</th>\n",
       "      <td>3TB6T8CT/m/sBtYXy8XpTg==</td>\n",
       "      <td>May 2021</td>\n",
       "      <td>VrM1KAmU93/ptO3fHOzxCSivOjFWZ9mdvVBks8Ro4pw=,OpGSQ51uE3m6afSTQzasAKXBLdLG02AhSOs4RyQS5Sc=,0Bd558J+lSGjMhi7+LvcRo/ogpxJQs5oYExkucW5mc8=,8z4W/B9BON1gK0pkR7FEheBjpH1ztsM2agYAbfQPlAc=,QIYC6I8ZFGkLzRtCpSJYBLY//X9g/juHqX7AnKk+P8Y=,gOO+qYJzDss9vSUX1t4N/oPoP/Jk+7Jj7XXcIOJlgek=,CiORm3vSGQjy0j2lHS/WLzrCPCwI/6I+5xU4fg6tE6k=,+EK1OkhDOgwqTwDrDV0vludQ5Aj2Pkf62UzC4ZQQ3bg=,Rmpw89UzKMnB15feVq3tydelRIfYeIuArd5ojSDRmlA=</td>\n",
       "      <td>9</td>\n",
       "    </tr>\n",
       "    <tr>\n",
       "      <th>3</th>\n",
       "      <td>4/de+E7w0FRjaRuXcf1Zag==</td>\n",
       "      <td>July 2021</td>\n",
       "      <td>ZbK4yv+NmIji9cDj7oqihR9fEMoO9phPFibiwbmvk8U=,bMtLpY4ESZ+GpJrxG4f+Ug0sRdpPRwadzF6SFek4RtY=,ESPecLeQDa1TV3EcEwkM2NxGs18vbzBiYCercHUv9FY=,y1BBWWuDXC8v5B5rr2kSvf9kunlS6ZyFzBRIhXP9kbI=,83xy5lZEOhVMW9euw/7N+Kfv5DmemCcpbSSGb8B3xWE=,cOn1XZ4Kfv9pWWghvZrpWL98WfVgqlFORxDMhM4Ph/c=,F+eP4TVjfrwY4iwyzDvjlbrNC2sjpMEkxtd7xyayndI=</td>\n",
       "      <td>7</td>\n",
       "    </tr>\n",
       "    <tr>\n",
       "      <th>4</th>\n",
       "      <td>7HLGJ96/7ZNNHLQao48zbg==</td>\n",
       "      <td>July 2021</td>\n",
       "      <td>2K59RgmzY2u2Jjq9ktlaSdgxn3my1osYUspxze6dhQE=,qDEWQmcGH2P3TEpEkzLlvniAqhk0VCt80e7ugRoXYxA=,DiYfIPQn1aW3y1c0SKilXBQb0SKiR521IVmNI38vZPM=</td>\n",
       "      <td>3</td>\n",
       "    </tr>\n",
       "    <tr>\n",
       "      <th>5</th>\n",
       "      <td>7HLGJ96/7ZNNHLQao48zbg==</td>\n",
       "      <td>June 2021</td>\n",
       "      <td>EAYNXzUJ7wqQxhWfsV9x7bz0mbyXBsbc73JwBAf2KCk=,5vp0ffvjOCHO0y5c8pj35aO6JBIdFKkVXX7ZI07NnJE=,5vp0ffvjOCHO0y5c8pj35aO6JBIdFKkVXX7ZI07NnJE=,XOQDcIyR5+AbD0exLJH66Cwih8Q0S2g6ptwRqpSuEYY=</td>\n",
       "      <td>4</td>\n",
       "    </tr>\n",
       "    <tr>\n",
       "      <th>6</th>\n",
       "      <td>7HLGJ96/7ZNNHLQao48zbg==</td>\n",
       "      <td>May 2021</td>\n",
       "      <td>/NsqHJd0vGw34zi3EMYl0sQHXioThuJId1Ju+RYoq9U=</td>\n",
       "      <td>1</td>\n",
       "    </tr>\n",
       "    <tr>\n",
       "      <th>7</th>\n",
       "      <td>9nnTmV6ViwHCyg4C8WEkzg==</td>\n",
       "      <td>July 2021</td>\n",
       "      <td>+wBKI48Sb9UBnCAP5e9jfd4DL2Hie2cJz9GvsiylvyQ=,tQ/rDqu8bDyAJf/PnxQZnVu3/F+1zht1IUWuBx3I5ss=,ACVG0DzF5imKzX2RchviuIOL6nBrWhhXnHBA5D+lpVw=,0O3Apdzs1bf5CWhWcLaXe1xaQ25GeWuAYWtTAYdMsuY=,JBobAv4PTG4yh+FFtt4p20cVxsY3wBA+rmbT5zqD2QE=,dda4tJ5bT+vVhzBobN6TwLuKIDXviBI6Y1lTPBgV92Y=,mtO4G/dkIzYCBfthsX5RDTG2kIiyFTZYRcPmZA4tQJw=,om6e09W6eGp1+AcaWTEZixVvOWA5EXN4ZSVgZ7sMGlQ=,aIoniH5rEXjP2yFUogVX4ELdjXwAltQhL01sDE4CnvU=</td>\n",
       "      <td>9</td>\n",
       "    </tr>\n",
       "    <tr>\n",
       "      <th>8</th>\n",
       "      <td>9nnTmV6ViwHCyg4C8WEkzg==</td>\n",
       "      <td>June 2021</td>\n",
       "      <td>EAYNXzUJ7wqQxhWfsV9x7bz0mbyXBsbc73JwBAf2KCk=,rEHuUa8V1hBvLFAe4Ri0B3Hl7gSEl3mOE8Uj2SEjotw=,Tj60jjO5aXI7uzRf9DXpf3bN/rb1PUrirVMTKFgodpw=,F+12TZEQOzriVac39rA22tZXF3vXoQkrI7xGfrXhHdg=,lhMB6CFtJybzTg7qUhEl1C33g4UC8ayTcOilvN39cUQ=,kW3GtHnbo9CFidEEbdhlO/b5SHER2yu8gUCiQSTXh44=,3P8atYPEuRqk4y7Nb9MCGW9nP1GpRPvOKaeE3aOq/ZU=,BOID2T30rY0PCqqO4RBkTuUkLeo+V5QxjNjzvzSgvJw=,n2COh6a0d4Wy0rxhZZmkPaHepnNYGmSPD3Qx8u8WMzs=,26K9iX4Es+Xo9eMgrKTUmJo0kFieRsjtWvv4riA7kXk=</td>\n",
       "      <td>10</td>\n",
       "    </tr>\n",
       "    <tr>\n",
       "      <th>9</th>\n",
       "      <td>9nnTmV6ViwHCyg4C8WEkzg==</td>\n",
       "      <td>May 2021</td>\n",
       "      <td>q9467KIsS8F1eYnsg0llV0ZjD+78QH4Hb1WpJmi/2/U=,pteLlWk/C9aIySolrZNPEhg7fnBtcAZMpwDwS6UuOpk=,cuLmSzA0HZSRrRWSeJ7gRU/J1nsVMhxViVuHYrEYwdk=,/OwCOONeE1eQWlmtFuYEtpHIMdeC1o3VLNpONMF4IJo=,/+P65fqjgYbrAS6U5aKjhKHENn2EHodHADkKAwUwLYA=,Dg3vPGvTaMxUOQTC8MsDPCd+q/FFd22eCviPp8oBKDA=,ppXKzKM78j2n3ZWYDHUyK3GUO++t5Jdmifcyj2sZZz0=,ppXKzKM78j2n3ZWYDHUyK3GUO++t5Jdmifcyj2sZZz0=,WMEjJm8970AxsnlMnSWiZbfe7f93cK4Pp0YnXgRfHNA=,OUfPLAhKdf+LqfhDCI1DNVjiRUSP72aIMpa5GZ7B23A=,1o78NI1FQYndVDwXQ5ElLh2Y5XKZC9H+HPCKPIIWwFI=,erqeLmP+KyOS8d7fPNybot1fmFZKEkefCPatTdSY3Q4=,JBobAv4PTG4yh+FFtt4p20cVxsY3wBA+rmbT5zqD2QE=,IgwXrdHeR1Ln60ZHFxne2jDkXslLfUUduYgP1bvmqCs=,0VmDjRq+L6WthenwP6cvBi+h9ncL25kYi6xj40a6veE=,UoPyHLWkuM4iXkbc1qF8HPe5VkXBTJEfJw+GuxKcduc=,nrp4OiQyFQWCIWJB306xbrLRah87iZ0+eNeu6LF+sO4=</td>\n",
       "      <td>17</td>\n",
       "    </tr>\n",
       "  </tbody>\n",
       "</table>\n",
       "</div>"
      ],
      "text/plain": [
       "                  doctor_id Month_Year  \\\n",
       "0  3TB6T8CT/m/sBtYXy8XpTg==  July 2021   \n",
       "1  3TB6T8CT/m/sBtYXy8XpTg==  June 2021   \n",
       "2  3TB6T8CT/m/sBtYXy8XpTg==   May 2021   \n",
       "3  4/de+E7w0FRjaRuXcf1Zag==  July 2021   \n",
       "4  7HLGJ96/7ZNNHLQao48zbg==  July 2021   \n",
       "5  7HLGJ96/7ZNNHLQao48zbg==  June 2021   \n",
       "6  7HLGJ96/7ZNNHLQao48zbg==   May 2021   \n",
       "7  9nnTmV6ViwHCyg4C8WEkzg==  July 2021   \n",
       "8  9nnTmV6ViwHCyg4C8WEkzg==  June 2021   \n",
       "9  9nnTmV6ViwHCyg4C8WEkzg==   May 2021   \n",
       "\n",
       "                                                                                                                                                                                                                                                                                                                                                                                                                                                                                                                                                                                                                                                                                                                                                                                                                                                                                                                                                                                                                                                                      grouped  \\\n",
       "0                                                                                                                                                                                                                                                                                                                                                                                                                                                                                                                                                                                                           T24s2IPX1yFVoT19u944/OhjmyOXxK9Bx3iErOIo3LM=,1vbeI+TzP2v2CHMaWSdVpSrbwzihSJv//7eqjZk2nOs=,rEHuUa8V1hBvLFAe4Ri0B3Hl7gSEl3mOE8Uj2SEjotw=,hznxDbjh9jkMCqm7Q3jjPSiWtvtvunxwacmzFc1RDfE=,s2oj6p+Ub7XtmPswDvvRYaHBCHISGmcFK/1L/cowrdk=,pyljnOmnO9PUKw/E1So0DsMkJMQgaYU4hbnENgC5fMs=,GKQINGs2vns7Ocrd9x/FAMAm6jdgzGUNgPFtdjrI8g4=,om6e09W6eGp1+AcaWTEZixVvOWA5EXN4ZSVgZ7sMGlQ=,u+cUNs32hUi8b4NpN5gLQuawitNvtuYTcTFtXB1stZQ=,5CyNu5QdzU2WJCA+hskS9XZQxHZOA+FhIEpjlT9+jtQ=   \n",
       "1  WOT8SypkGrG3diUySsRkALqLMBElbjv9ukGpeyYGKm0=,b1u+3zFPp4I9C6RHrtnBrk3cP5w08YeqNZ0AueTONK4=,7HucRn3d6O58aBQqG98kEALvzM0z+8ki51JkBtjxQl4=,OKZacDmLVGxQDoUeS0Qbu/M5ICoGLjCQOoOhdgm7guI=,H11Dk69Jro8rLieOsLCMNQlfzCShp0MaTLaurtmPMsI=,vwNzJDXt6M7gmT5szuaRX+7dwCD5rGuhkNW2d35Xm2s=,pyljnOmnO9PUKw/E1So0DsMkJMQgaYU4hbnENgC5fMs=,e9cTC5eCXW/Zub9qupNrPl/KoBNQvMH2IDUiEBS9cKw=,mB3ehPc/P5rgYswI70L7zN9+sJ8elJKnpxHbqxWon98=,gyf1oTfIrkD5v3GmkPb4EVwImCbXVLURFjaLJliQsd8=,KtqqR5iUMimiTfYiFVtnoQFv296U1Nw2g0ClE94WK2o=,KtqqR5iUMimiTfYiFVtnoQFv296U1Nw2g0ClE94WK2o=,22WGa270+CUzo/ab5cPxD59NY/y9nE3dyeKd5Ds2FsI=,mYbc7wUF1QSwbg2rBEvi4odfOIsA+Hn1MNpT09UfClA=,9Ttabboo+kmtQ5RhcW3yz2hpLqxDKDQj63rD/zRAvcs=,IzNDUbtvXfKGcHIwHwVnhoYB0o52O9GRkV6SYJAMkps=,StVRfVcTAU5RJr0x6Ji1tGnx9aSfNpeSXCj1pCO3Xys=,Eno0xhuOYmq/qf5Lhk61tBKpCJY1LrPHX/BTVxpAG98=,vVRzZ++ukBCOiDZCB+nz/etA2uxNmJUNkTrO3c08JIM=,15GkTTI81cjUmaPihs/RnDtWuppH36urHgzX/7KIK5Y=,26K9iX4Es+Xo9eMgrKTUmJo0kFieRsjtWvv4riA7kXk=,BbYiAijHAj7A2XKDzScHXpOXu/S31kVIdbUG53rYNLE=,jHbdfOdqg5dLhmkx/MChZONfNtqmjbiRjL8uPkPImB0=   \n",
       "2                                                                                                                                                                                                                                                                                                                                                                                                                                                                                                                                                                                                                                                        VrM1KAmU93/ptO3fHOzxCSivOjFWZ9mdvVBks8Ro4pw=,OpGSQ51uE3m6afSTQzasAKXBLdLG02AhSOs4RyQS5Sc=,0Bd558J+lSGjMhi7+LvcRo/ogpxJQs5oYExkucW5mc8=,8z4W/B9BON1gK0pkR7FEheBjpH1ztsM2agYAbfQPlAc=,QIYC6I8ZFGkLzRtCpSJYBLY//X9g/juHqX7AnKk+P8Y=,gOO+qYJzDss9vSUX1t4N/oPoP/Jk+7Jj7XXcIOJlgek=,CiORm3vSGQjy0j2lHS/WLzrCPCwI/6I+5xU4fg6tE6k=,+EK1OkhDOgwqTwDrDV0vludQ5Aj2Pkf62UzC4ZQQ3bg=,Rmpw89UzKMnB15feVq3tydelRIfYeIuArd5ojSDRmlA=   \n",
       "3                                                                                                                                                                                                                                                                                                                                                                                                                                                                                                                                                                                                                                                                                                                                                  ZbK4yv+NmIji9cDj7oqihR9fEMoO9phPFibiwbmvk8U=,bMtLpY4ESZ+GpJrxG4f+Ug0sRdpPRwadzF6SFek4RtY=,ESPecLeQDa1TV3EcEwkM2NxGs18vbzBiYCercHUv9FY=,y1BBWWuDXC8v5B5rr2kSvf9kunlS6ZyFzBRIhXP9kbI=,83xy5lZEOhVMW9euw/7N+Kfv5DmemCcpbSSGb8B3xWE=,cOn1XZ4Kfv9pWWghvZrpWL98WfVgqlFORxDMhM4Ph/c=,F+eP4TVjfrwY4iwyzDvjlbrNC2sjpMEkxtd7xyayndI=   \n",
       "4                                                                                                                                                                                                                                                                                                                                                                                                                                                                                                                                                                                                                                                                                                                                                                                                                                                                                                                                      2K59RgmzY2u2Jjq9ktlaSdgxn3my1osYUspxze6dhQE=,qDEWQmcGH2P3TEpEkzLlvniAqhk0VCt80e7ugRoXYxA=,DiYfIPQn1aW3y1c0SKilXBQb0SKiR521IVmNI38vZPM=   \n",
       "5                                                                                                                                                                                                                                                                                                                                                                                                                                                                                                                                                                                                                                                                                                                                                                                                                                                                                         EAYNXzUJ7wqQxhWfsV9x7bz0mbyXBsbc73JwBAf2KCk=,5vp0ffvjOCHO0y5c8pj35aO6JBIdFKkVXX7ZI07NnJE=,5vp0ffvjOCHO0y5c8pj35aO6JBIdFKkVXX7ZI07NnJE=,XOQDcIyR5+AbD0exLJH66Cwih8Q0S2g6ptwRqpSuEYY=   \n",
       "6                                                                                                                                                                                                                                                                                                                                                                                                                                                                                                                                                                                                                                                                                                                                                                                                                                                                                                                                                                                                                                /NsqHJd0vGw34zi3EMYl0sQHXioThuJId1Ju+RYoq9U=   \n",
       "7                                                                                                                                                                                                                                                                                                                                                                                                                                                                                                                                                                                                                                                        +wBKI48Sb9UBnCAP5e9jfd4DL2Hie2cJz9GvsiylvyQ=,tQ/rDqu8bDyAJf/PnxQZnVu3/F+1zht1IUWuBx3I5ss=,ACVG0DzF5imKzX2RchviuIOL6nBrWhhXnHBA5D+lpVw=,0O3Apdzs1bf5CWhWcLaXe1xaQ25GeWuAYWtTAYdMsuY=,JBobAv4PTG4yh+FFtt4p20cVxsY3wBA+rmbT5zqD2QE=,dda4tJ5bT+vVhzBobN6TwLuKIDXviBI6Y1lTPBgV92Y=,mtO4G/dkIzYCBfthsX5RDTG2kIiyFTZYRcPmZA4tQJw=,om6e09W6eGp1+AcaWTEZixVvOWA5EXN4ZSVgZ7sMGlQ=,aIoniH5rEXjP2yFUogVX4ELdjXwAltQhL01sDE4CnvU=   \n",
       "8                                                                                                                                                                                                                                                                                                                                                                                                                                                                                                                                                                                                           EAYNXzUJ7wqQxhWfsV9x7bz0mbyXBsbc73JwBAf2KCk=,rEHuUa8V1hBvLFAe4Ri0B3Hl7gSEl3mOE8Uj2SEjotw=,Tj60jjO5aXI7uzRf9DXpf3bN/rb1PUrirVMTKFgodpw=,F+12TZEQOzriVac39rA22tZXF3vXoQkrI7xGfrXhHdg=,lhMB6CFtJybzTg7qUhEl1C33g4UC8ayTcOilvN39cUQ=,kW3GtHnbo9CFidEEbdhlO/b5SHER2yu8gUCiQSTXh44=,3P8atYPEuRqk4y7Nb9MCGW9nP1GpRPvOKaeE3aOq/ZU=,BOID2T30rY0PCqqO4RBkTuUkLeo+V5QxjNjzvzSgvJw=,n2COh6a0d4Wy0rxhZZmkPaHepnNYGmSPD3Qx8u8WMzs=,26K9iX4Es+Xo9eMgrKTUmJo0kFieRsjtWvv4riA7kXk=   \n",
       "9                                                                                                                                                                                                                                                                                q9467KIsS8F1eYnsg0llV0ZjD+78QH4Hb1WpJmi/2/U=,pteLlWk/C9aIySolrZNPEhg7fnBtcAZMpwDwS6UuOpk=,cuLmSzA0HZSRrRWSeJ7gRU/J1nsVMhxViVuHYrEYwdk=,/OwCOONeE1eQWlmtFuYEtpHIMdeC1o3VLNpONMF4IJo=,/+P65fqjgYbrAS6U5aKjhKHENn2EHodHADkKAwUwLYA=,Dg3vPGvTaMxUOQTC8MsDPCd+q/FFd22eCviPp8oBKDA=,ppXKzKM78j2n3ZWYDHUyK3GUO++t5Jdmifcyj2sZZz0=,ppXKzKM78j2n3ZWYDHUyK3GUO++t5Jdmifcyj2sZZz0=,WMEjJm8970AxsnlMnSWiZbfe7f93cK4Pp0YnXgRfHNA=,OUfPLAhKdf+LqfhDCI1DNVjiRUSP72aIMpa5GZ7B23A=,1o78NI1FQYndVDwXQ5ElLh2Y5XKZC9H+HPCKPIIWwFI=,erqeLmP+KyOS8d7fPNybot1fmFZKEkefCPatTdSY3Q4=,JBobAv4PTG4yh+FFtt4p20cVxsY3wBA+rmbT5zqD2QE=,IgwXrdHeR1Ln60ZHFxne2jDkXslLfUUduYgP1bvmqCs=,0VmDjRq+L6WthenwP6cvBi+h9ncL25kYi6xj40a6veE=,UoPyHLWkuM4iXkbc1qF8HPe5VkXBTJEfJw+GuxKcduc=,nrp4OiQyFQWCIWJB306xbrLRah87iZ0+eNeu6LF+sO4=   \n",
       "\n",
       "   count  \n",
       "0     10  \n",
       "1     23  \n",
       "2      9  \n",
       "3      7  \n",
       "4      3  \n",
       "5      4  \n",
       "6      1  \n",
       "7      9  \n",
       "8     10  \n",
       "9     17  "
      ]
     },
     "execution_count": 40,
     "metadata": {},
     "output_type": "execute_result"
    }
   ],
   "source": [
    "\n",
    "patient_df_group =patient_df.groupby(['doctor_id','Month_Year','grouped']).sum().reset_index()\n",
    "patient_df_group.head(10)"
   ]
  },
  {
   "cell_type": "markdown",
   "metadata": {},
   "source": [
    "### Show the names of the clients seperated by comma"
   ]
  },
  {
   "cell_type": "code",
   "execution_count": 41,
   "metadata": {},
   "outputs": [
    {
     "data": {
      "text/html": [
       "<div>\n",
       "<style scoped>\n",
       "    .dataframe tbody tr th:only-of-type {\n",
       "        vertical-align: middle;\n",
       "    }\n",
       "\n",
       "    .dataframe tbody tr th {\n",
       "        vertical-align: top;\n",
       "    }\n",
       "\n",
       "    .dataframe thead th {\n",
       "        text-align: right;\n",
       "    }\n",
       "</style>\n",
       "<table border=\"1\" class=\"dataframe\">\n",
       "  <thead>\n",
       "    <tr style=\"text-align: right;\">\n",
       "      <th></th>\n",
       "      <th>count</th>\n",
       "      <th>grouped</th>\n",
       "    </tr>\n",
       "  </thead>\n",
       "  <tbody>\n",
       "    <tr>\n",
       "      <th>0</th>\n",
       "      <td>10</td>\n",
       "      <td>T24s2IPX1yFVoT19u944/OhjmyOXxK9Bx3iErOIo3LM=,1vbeI+TzP2v2CHMaWSdVpSrbwzihSJv//7eqjZk2nOs=,rEHuUa8V1hBvLFAe4Ri0B3Hl7gSEl3mOE8Uj2SEjotw=,hznxDbjh9jkMCqm7Q3jjPSiWtvtvunxwacmzFc1RDfE=,s2oj6p+Ub7XtmPswDvvRYaHBCHISGmcFK/1L/cowrdk=,pyljnOmnO9PUKw/E1So0DsMkJMQgaYU4hbnENgC5fMs=,GKQINGs2vns7Ocrd9x/FAMAm6jdgzGUNgPFtdjrI8g4=,om6e09W6eGp1+AcaWTEZixVvOWA5EXN4ZSVgZ7sMGlQ=,u+cUNs32hUi8b4NpN5gLQuawitNvtuYTcTFtXB1stZQ=,5CyNu5QdzU2WJCA+hskS9XZQxHZOA+FhIEpjlT9+jtQ=</td>\n",
       "    </tr>\n",
       "    <tr>\n",
       "      <th>1</th>\n",
       "      <td>23</td>\n",
       "      <td>WOT8SypkGrG3diUySsRkALqLMBElbjv9ukGpeyYGKm0=,b1u+3zFPp4I9C6RHrtnBrk3cP5w08YeqNZ0AueTONK4=,7HucRn3d6O58aBQqG98kEALvzM0z+8ki51JkBtjxQl4=,OKZacDmLVGxQDoUeS0Qbu/M5ICoGLjCQOoOhdgm7guI=,H11Dk69Jro8rLieOsLCMNQlfzCShp0MaTLaurtmPMsI=,vwNzJDXt6M7gmT5szuaRX+7dwCD5rGuhkNW2d35Xm2s=,pyljnOmnO9PUKw/E1So0DsMkJMQgaYU4hbnENgC5fMs=,e9cTC5eCXW/Zub9qupNrPl/KoBNQvMH2IDUiEBS9cKw=,mB3ehPc/P5rgYswI70L7zN9+sJ8elJKnpxHbqxWon98=,gyf1oTfIrkD5v3GmkPb4EVwImCbXVLURFjaLJliQsd8=,KtqqR5iUMimiTfYiFVtnoQFv296U1Nw2g0ClE94WK2o=,KtqqR5iUMimiTfYiFVtnoQFv296U1Nw2g0ClE94WK2o=,22WGa270+CUzo/ab5cPxD59NY/y9nE3dyeKd5Ds2FsI=,mYbc7wUF1QSwbg2rBEvi4odfOIsA+Hn1MNpT09UfClA=,9Ttabboo+kmtQ5RhcW3yz2hpLqxDKDQj63rD/zRAvcs=,IzNDUbtvXfKGcHIwHwVnhoYB0o52O9GRkV6SYJAMkps=,StVRfVcTAU5RJr0x6Ji1tGnx9aSfNpeSXCj1pCO3Xys=,Eno0xhuOYmq/qf5Lhk61tBKpCJY1LrPHX/BTVxpAG98=,vVRzZ++ukBCOiDZCB+nz/etA2uxNmJUNkTrO3c08JIM=,15GkTTI81cjUmaPihs/RnDtWuppH36urHgzX/7KIK5Y=,26K9iX4Es+Xo9eMgrKTUmJo0kFieRsjtWvv4riA7kXk=,BbYiAijHAj7A2XKDzScHXpOXu/S31kVIdbUG53rYNLE=,jHbdfOdqg5dLhmkx/MChZONfNtqmjbiRjL8uPkPImB0=</td>\n",
       "    </tr>\n",
       "    <tr>\n",
       "      <th>2</th>\n",
       "      <td>9</td>\n",
       "      <td>VrM1KAmU93/ptO3fHOzxCSivOjFWZ9mdvVBks8Ro4pw=,OpGSQ51uE3m6afSTQzasAKXBLdLG02AhSOs4RyQS5Sc=,0Bd558J+lSGjMhi7+LvcRo/ogpxJQs5oYExkucW5mc8=,8z4W/B9BON1gK0pkR7FEheBjpH1ztsM2agYAbfQPlAc=,QIYC6I8ZFGkLzRtCpSJYBLY//X9g/juHqX7AnKk+P8Y=,gOO+qYJzDss9vSUX1t4N/oPoP/Jk+7Jj7XXcIOJlgek=,CiORm3vSGQjy0j2lHS/WLzrCPCwI/6I+5xU4fg6tE6k=,+EK1OkhDOgwqTwDrDV0vludQ5Aj2Pkf62UzC4ZQQ3bg=,Rmpw89UzKMnB15feVq3tydelRIfYeIuArd5ojSDRmlA=</td>\n",
       "    </tr>\n",
       "    <tr>\n",
       "      <th>3</th>\n",
       "      <td>7</td>\n",
       "      <td>ZbK4yv+NmIji9cDj7oqihR9fEMoO9phPFibiwbmvk8U=,bMtLpY4ESZ+GpJrxG4f+Ug0sRdpPRwadzF6SFek4RtY=,ESPecLeQDa1TV3EcEwkM2NxGs18vbzBiYCercHUv9FY=,y1BBWWuDXC8v5B5rr2kSvf9kunlS6ZyFzBRIhXP9kbI=,83xy5lZEOhVMW9euw/7N+Kfv5DmemCcpbSSGb8B3xWE=,cOn1XZ4Kfv9pWWghvZrpWL98WfVgqlFORxDMhM4Ph/c=,F+eP4TVjfrwY4iwyzDvjlbrNC2sjpMEkxtd7xyayndI=</td>\n",
       "    </tr>\n",
       "    <tr>\n",
       "      <th>4</th>\n",
       "      <td>3</td>\n",
       "      <td>2K59RgmzY2u2Jjq9ktlaSdgxn3my1osYUspxze6dhQE=,qDEWQmcGH2P3TEpEkzLlvniAqhk0VCt80e7ugRoXYxA=,DiYfIPQn1aW3y1c0SKilXBQb0SKiR521IVmNI38vZPM=</td>\n",
       "    </tr>\n",
       "    <tr>\n",
       "      <th>5</th>\n",
       "      <td>4</td>\n",
       "      <td>EAYNXzUJ7wqQxhWfsV9x7bz0mbyXBsbc73JwBAf2KCk=,5vp0ffvjOCHO0y5c8pj35aO6JBIdFKkVXX7ZI07NnJE=,5vp0ffvjOCHO0y5c8pj35aO6JBIdFKkVXX7ZI07NnJE=,XOQDcIyR5+AbD0exLJH66Cwih8Q0S2g6ptwRqpSuEYY=</td>\n",
       "    </tr>\n",
       "    <tr>\n",
       "      <th>6</th>\n",
       "      <td>1</td>\n",
       "      <td>/NsqHJd0vGw34zi3EMYl0sQHXioThuJId1Ju+RYoq9U=</td>\n",
       "    </tr>\n",
       "    <tr>\n",
       "      <th>7</th>\n",
       "      <td>9</td>\n",
       "      <td>+wBKI48Sb9UBnCAP5e9jfd4DL2Hie2cJz9GvsiylvyQ=,tQ/rDqu8bDyAJf/PnxQZnVu3/F+1zht1IUWuBx3I5ss=,ACVG0DzF5imKzX2RchviuIOL6nBrWhhXnHBA5D+lpVw=,0O3Apdzs1bf5CWhWcLaXe1xaQ25GeWuAYWtTAYdMsuY=,JBobAv4PTG4yh+FFtt4p20cVxsY3wBA+rmbT5zqD2QE=,dda4tJ5bT+vVhzBobN6TwLuKIDXviBI6Y1lTPBgV92Y=,mtO4G/dkIzYCBfthsX5RDTG2kIiyFTZYRcPmZA4tQJw=,om6e09W6eGp1+AcaWTEZixVvOWA5EXN4ZSVgZ7sMGlQ=,aIoniH5rEXjP2yFUogVX4ELdjXwAltQhL01sDE4CnvU=</td>\n",
       "    </tr>\n",
       "    <tr>\n",
       "      <th>8</th>\n",
       "      <td>10</td>\n",
       "      <td>EAYNXzUJ7wqQxhWfsV9x7bz0mbyXBsbc73JwBAf2KCk=,rEHuUa8V1hBvLFAe4Ri0B3Hl7gSEl3mOE8Uj2SEjotw=,Tj60jjO5aXI7uzRf9DXpf3bN/rb1PUrirVMTKFgodpw=,F+12TZEQOzriVac39rA22tZXF3vXoQkrI7xGfrXhHdg=,lhMB6CFtJybzTg7qUhEl1C33g4UC8ayTcOilvN39cUQ=,kW3GtHnbo9CFidEEbdhlO/b5SHER2yu8gUCiQSTXh44=,3P8atYPEuRqk4y7Nb9MCGW9nP1GpRPvOKaeE3aOq/ZU=,BOID2T30rY0PCqqO4RBkTuUkLeo+V5QxjNjzvzSgvJw=,n2COh6a0d4Wy0rxhZZmkPaHepnNYGmSPD3Qx8u8WMzs=,26K9iX4Es+Xo9eMgrKTUmJo0kFieRsjtWvv4riA7kXk=</td>\n",
       "    </tr>\n",
       "    <tr>\n",
       "      <th>9</th>\n",
       "      <td>17</td>\n",
       "      <td>q9467KIsS8F1eYnsg0llV0ZjD+78QH4Hb1WpJmi/2/U=,pteLlWk/C9aIySolrZNPEhg7fnBtcAZMpwDwS6UuOpk=,cuLmSzA0HZSRrRWSeJ7gRU/J1nsVMhxViVuHYrEYwdk=,/OwCOONeE1eQWlmtFuYEtpHIMdeC1o3VLNpONMF4IJo=,/+P65fqjgYbrAS6U5aKjhKHENn2EHodHADkKAwUwLYA=,Dg3vPGvTaMxUOQTC8MsDPCd+q/FFd22eCviPp8oBKDA=,ppXKzKM78j2n3ZWYDHUyK3GUO++t5Jdmifcyj2sZZz0=,ppXKzKM78j2n3ZWYDHUyK3GUO++t5Jdmifcyj2sZZz0=,WMEjJm8970AxsnlMnSWiZbfe7f93cK4Pp0YnXgRfHNA=,OUfPLAhKdf+LqfhDCI1DNVjiRUSP72aIMpa5GZ7B23A=,1o78NI1FQYndVDwXQ5ElLh2Y5XKZC9H+HPCKPIIWwFI=,erqeLmP+KyOS8d7fPNybot1fmFZKEkefCPatTdSY3Q4=,JBobAv4PTG4yh+FFtt4p20cVxsY3wBA+rmbT5zqD2QE=,IgwXrdHeR1Ln60ZHFxne2jDkXslLfUUduYgP1bvmqCs=,0VmDjRq+L6WthenwP6cvBi+h9ncL25kYi6xj40a6veE=,UoPyHLWkuM4iXkbc1qF8HPe5VkXBTJEfJw+GuxKcduc=,nrp4OiQyFQWCIWJB306xbrLRah87iZ0+eNeu6LF+sO4=</td>\n",
       "    </tr>\n",
       "    <tr>\n",
       "      <th>10</th>\n",
       "      <td>3</td>\n",
       "      <td>Bg2Ki0yiu0cUyUmMtCO1MfzSBPfXk/dT1ftLISBn5m0=,abru8oHrxkWghjhXjJSwkkdlqvZHaTTOw7EJS5Fzjns=,xLFW4rl5IID1fww7LBH9PivTkZDyhlyNtL+qfSOaUjo=</td>\n",
       "    </tr>\n",
       "    <tr>\n",
       "      <th>11</th>\n",
       "      <td>2</td>\n",
       "      <td>4uJnt1OCsNQUcuGg0wA5ZHTvLHu3B5jFny0nnGTz9BE=,OIih+DRybmURXrvEGpSoCFwCAC2epb2J27rkKrpV8Kc=</td>\n",
       "    </tr>\n",
       "    <tr>\n",
       "      <th>12</th>\n",
       "      <td>2</td>\n",
       "      <td>2wUYrwvm9Msmij2H/t1rCh8M7Fkff+I7gl8oXHxvlp4=,jr64WV2Wr2gSaOviJ1ibja5/DtWiYBX7BhOHJQ8tbnw=</td>\n",
       "    </tr>\n",
       "    <tr>\n",
       "      <th>13</th>\n",
       "      <td>6</td>\n",
       "      <td>LwoRec8sXbMrpbR71C018fAz4k68n61JuJe2HtKC98U=,kW3GtHnbo9CFidEEbdhlO/b5SHER2yu8gUCiQSTXh44=,2xh00G878CJuEwkaWklgLAxzSuiMRcTqaF9YhbsEbJk=,z56Pk3HAklMuT4WeAswfuD+HV4/xXXtbZIv6+dUNE2A=,mCpr5p7eJEe2i9YU9ZkGeA01xUi16Lig/nvmwJ3ZEc0=,2baXNfhJgScKsbXzI2hgF7m+4T7cw3xsNUSOzfjVo38=</td>\n",
       "    </tr>\n",
       "    <tr>\n",
       "      <th>14</th>\n",
       "      <td>1</td>\n",
       "      <td>QIYC6I8ZFGkLzRtCpSJYBLY//X9g/juHqX7AnKk+P8Y=</td>\n",
       "    </tr>\n",
       "    <tr>\n",
       "      <th>15</th>\n",
       "      <td>17</td>\n",
       "      <td>k28WOw7/VLAuGVzzlT4f0wOz12AMtcvbuF1sGzg+9FE=,LMdMUByx+Smr29kSgebEOH+K6ZpETVPu7N9yiPLVLdE=,DqahIDTVfFSkt45HHY29PdV5wfulLeINxZMBEAKVMJE=,Wb6K237Bp1OsTTteL63eWXoWdTse25824AOK5tLWNgk=,Wb6K237Bp1OsTTteL63eWXoWdTse25824AOK5tLWNgk=,s2KroBlvK1YwnLA0pN4x5B+ZC48190bcdOAeEnu8ogU=,55aFZdjYLrZ0ikrCEqWRskTPVEEL0i6MlbnTOkRBYhw=,FgpHOCrMC9/x4gkO8aXr/pN0rywLswOO4VSeMsWptXw=,SFwF5QzibKWlpbVRT2TpPl31GyJt9LVpTqrrLLirJuU=,mCpr5p7eJEe2i9YU9ZkGeA01xUi16Lig/nvmwJ3ZEc0=,G2AWs19wyMkmT0iyghoLNuUe8cY2mRvf7SVWcyIiG0o=,8fSQvSuwPSei88Kj/g8uAVU3Bv6R2TMrD8Bz1DC1V14=,DiYfIPQn1aW3y1c0SKilXBQb0SKiR521IVmNI38vZPM=,eVhcPcqQeVLTk+62CYN90Ggm+4bo5aHIqcM787z7/m0=,A/392HgHCyU2oYI3qaB9TtXFYHIWXChbWpjVg95dGX4=,sQVbubo9bZZkcUf1Yzfi9TYfrjGOvOVsIFomZ9koACk=,Rmpw89UzKMnB15feVq3tydelRIfYeIuArd5ojSDRmlA=</td>\n",
       "    </tr>\n",
       "    <tr>\n",
       "      <th>16</th>\n",
       "      <td>20</td>\n",
       "      <td>rEHuUa8V1hBvLFAe4Ri0B3Hl7gSEl3mOE8Uj2SEjotw=,5vp0ffvjOCHO0y5c8pj35aO6JBIdFKkVXX7ZI07NnJE=,LVkpW1QwT9yTuZQurfL1KSE2Sje/YliNIBof0qX6byo=,OpGSQ51uE3m6afSTQzasAKXBLdLG02AhSOs4RyQS5Sc=,/OwCOONeE1eQWlmtFuYEtpHIMdeC1o3VLNpONMF4IJo=,mncGfoVLCx169sNN6z12MnOPxWq4prD+Y6CKuS4HP7Y=,/+P65fqjgYbrAS6U5aKjhKHENn2EHodHADkKAwUwLYA=,FRYB53/l2fTKeuXARNc5J2Tze06h8GX0HiGnduP2LFg=,FcfaqVcL5f3BQ1J2VdqGWvEjahZPdM3e8lOtehUP7rA=,C09sPdzFF2eUIst344Qm+OSih7ONRlzqS/nDCF0cNNs=,AaSYqz1flDCNjiyWrVboufoNIYI1ejbExaI2kRTsGiI=,r3oiXm4d8wxb97spbSrNMa//2AhUJ7G8o+YDuKeunZQ=,mB3ehPc/P5rgYswI70L7zN9+sJ8elJKnpxHbqxWon98=,22WGa270+CUzo/ab5cPxD59NY/y9nE3dyeKd5Ds2FsI=,QtIo03XLKfzraa2QcSJYTv8JzylR9wR2eLA+4+X8bSs=,wQFgUxb6rxUoYWUFjNoGGowK/ZFJCG9DXG0FEbVEiaQ=,ksSOckfc0C5urn16I0xXIF64hZ11izn2GtE6j2CdSCo=,mCpr5p7eJEe2i9YU9ZkGeA01xUi16Lig/nvmwJ3ZEc0=,U32SPhD+QDxZ11oF7Ih4ZadQDaelY+CNdtUGrP7mxd0=,wYuLtzFqmrqDMg9zXD1C6Br4gY6ntFRhr+Nj3d45VwU=</td>\n",
       "    </tr>\n",
       "    <tr>\n",
       "      <th>17</th>\n",
       "      <td>16</td>\n",
       "      <td>CszE3tpg11J2X/1wkjni/BX5yycJqpf/XKD7D+p9Un0=,XY6wc/r9ctz6bpCHEUcRL2tc2ohe2v0YxFvplaOfXFE=,cuLmSzA0HZSRrRWSeJ7gRU/J1nsVMhxViVuHYrEYwdk=,kYh/q2A8CxVgFw/fzkAByeuKOYKNNFP3P0RPjn0ZTHk=,/+P65fqjgYbrAS6U5aKjhKHENn2EHodHADkKAwUwLYA=,7EY0uoVw31m4DYtfHkqn8xZBs7fmQtMtoQMEZuKVEfg=,KWrQaxWIk8rH+92J4lGLHA2KYvKmUcDTVfP7b/l5ZM8=,jr64WV2Wr2gSaOviJ1ibja5/DtWiYBX7BhOHJQ8tbnw=,IgwXrdHeR1Ln60ZHFxne2jDkXslLfUUduYgP1bvmqCs=,Zng48TZ3yijnBk6r4sgKwCz3ty703xLmte9WYaD04vI=,rwNjvr2mV04ASRTcH0op5fR5EjBPCzNPBir5lgh26rM=,SUrr82guc+zkcLVXlaKSoNtlfd1yQu9mfhJXDJvTSTc=,ouyAC8tg2ACPa8kuR0VJ7wjfpcjibIKEYaR+ogstsIc=,+RSmZxgH9QdX1NQfEB4gruI2ap1AMfQMVX/vDsjKKxY=,v6MHAuikHgqZeRz+fllbkYzK7O+XmXvCbL8DospyVhc=,v6MHAuikHgqZeRz+fllbkYzK7O+XmXvCbL8DospyVhc=</td>\n",
       "    </tr>\n",
       "    <tr>\n",
       "      <th>18</th>\n",
       "      <td>10</td>\n",
       "      <td>O/Sl2Tdkj01WcVoUsDIX6Pp1zSS8Gy6BY2Mvb5naPUs=,etIDFbNcFBvCL7Sv3bR7Yt1++lQzLkJcJARO0CGr58s=,etIDFbNcFBvCL7Sv3bR7Yt1++lQzLkJcJARO0CGr58s=,cOn1XZ4Kfv9pWWghvZrpWL98WfVgqlFORxDMhM4Ph/c=,jgyzmA14NE4KlN2UQEM3cId91D0O6brHSTzxxCWWgz0=,Z24/0nbGI5spzFSM4KUFc9ONNLuZ/ddFcOAy3JEno6Y=,BuD0WOt+fPEd1m5A2Fr590sX3rbNKvp73okK89mEV0E=,TCdPYN6KpVHUk552OxC7WnpCzHXBpI2cxxAR8SIpD1w=,TCdPYN6KpVHUk552OxC7WnpCzHXBpI2cxxAR8SIpD1w=,UXtOWVRxboNiWNu5XxuyFvoU1Y53U/Yw3zW0qt81ojM=</td>\n",
       "    </tr>\n",
       "    <tr>\n",
       "      <th>19</th>\n",
       "      <td>5</td>\n",
       "      <td>z6Zjsx2wjAEt5BHDXwJyevptD46W4cKn3x7qepg6ppc=,JvkK05gF0vhlJhjMCS77uORDXBkJ82kArIiUNFbBVSk=,EAYNXzUJ7wqQxhWfsV9x7bz0mbyXBsbc73JwBAf2KCk=,bqeeSjbn+2jgTPF5Qu4yCJL7FsOMf7myeThBcZ18SNc=,22WGa270+CUzo/ab5cPxD59NY/y9nE3dyeKd5Ds2FsI=</td>\n",
       "    </tr>\n",
       "  </tbody>\n",
       "</table>\n",
       "</div>"
      ],
      "text/plain": [
       "    count  \\\n",
       "0      10   \n",
       "1      23   \n",
       "2       9   \n",
       "3       7   \n",
       "4       3   \n",
       "5       4   \n",
       "6       1   \n",
       "7       9   \n",
       "8      10   \n",
       "9      17   \n",
       "10      3   \n",
       "11      2   \n",
       "12      2   \n",
       "13      6   \n",
       "14      1   \n",
       "15     17   \n",
       "16     20   \n",
       "17     16   \n",
       "18     10   \n",
       "19      5   \n",
       "\n",
       "                                                                                                                                                                                                                                                                                                                                                                                                                                                                                                                                                                                                                                                                                                                                                                                                                                                                                                                                                                                                                                                                       grouped  \n",
       "0                                                                                                                                                                                                                                                                                                                                                                                                                                                                                                                                                                                                            T24s2IPX1yFVoT19u944/OhjmyOXxK9Bx3iErOIo3LM=,1vbeI+TzP2v2CHMaWSdVpSrbwzihSJv//7eqjZk2nOs=,rEHuUa8V1hBvLFAe4Ri0B3Hl7gSEl3mOE8Uj2SEjotw=,hznxDbjh9jkMCqm7Q3jjPSiWtvtvunxwacmzFc1RDfE=,s2oj6p+Ub7XtmPswDvvRYaHBCHISGmcFK/1L/cowrdk=,pyljnOmnO9PUKw/E1So0DsMkJMQgaYU4hbnENgC5fMs=,GKQINGs2vns7Ocrd9x/FAMAm6jdgzGUNgPFtdjrI8g4=,om6e09W6eGp1+AcaWTEZixVvOWA5EXN4ZSVgZ7sMGlQ=,u+cUNs32hUi8b4NpN5gLQuawitNvtuYTcTFtXB1stZQ=,5CyNu5QdzU2WJCA+hskS9XZQxHZOA+FhIEpjlT9+jtQ=  \n",
       "1   WOT8SypkGrG3diUySsRkALqLMBElbjv9ukGpeyYGKm0=,b1u+3zFPp4I9C6RHrtnBrk3cP5w08YeqNZ0AueTONK4=,7HucRn3d6O58aBQqG98kEALvzM0z+8ki51JkBtjxQl4=,OKZacDmLVGxQDoUeS0Qbu/M5ICoGLjCQOoOhdgm7guI=,H11Dk69Jro8rLieOsLCMNQlfzCShp0MaTLaurtmPMsI=,vwNzJDXt6M7gmT5szuaRX+7dwCD5rGuhkNW2d35Xm2s=,pyljnOmnO9PUKw/E1So0DsMkJMQgaYU4hbnENgC5fMs=,e9cTC5eCXW/Zub9qupNrPl/KoBNQvMH2IDUiEBS9cKw=,mB3ehPc/P5rgYswI70L7zN9+sJ8elJKnpxHbqxWon98=,gyf1oTfIrkD5v3GmkPb4EVwImCbXVLURFjaLJliQsd8=,KtqqR5iUMimiTfYiFVtnoQFv296U1Nw2g0ClE94WK2o=,KtqqR5iUMimiTfYiFVtnoQFv296U1Nw2g0ClE94WK2o=,22WGa270+CUzo/ab5cPxD59NY/y9nE3dyeKd5Ds2FsI=,mYbc7wUF1QSwbg2rBEvi4odfOIsA+Hn1MNpT09UfClA=,9Ttabboo+kmtQ5RhcW3yz2hpLqxDKDQj63rD/zRAvcs=,IzNDUbtvXfKGcHIwHwVnhoYB0o52O9GRkV6SYJAMkps=,StVRfVcTAU5RJr0x6Ji1tGnx9aSfNpeSXCj1pCO3Xys=,Eno0xhuOYmq/qf5Lhk61tBKpCJY1LrPHX/BTVxpAG98=,vVRzZ++ukBCOiDZCB+nz/etA2uxNmJUNkTrO3c08JIM=,15GkTTI81cjUmaPihs/RnDtWuppH36urHgzX/7KIK5Y=,26K9iX4Es+Xo9eMgrKTUmJo0kFieRsjtWvv4riA7kXk=,BbYiAijHAj7A2XKDzScHXpOXu/S31kVIdbUG53rYNLE=,jHbdfOdqg5dLhmkx/MChZONfNtqmjbiRjL8uPkPImB0=  \n",
       "2                                                                                                                                                                                                                                                                                                                                                                                                                                                                                                                                                                                                                                                         VrM1KAmU93/ptO3fHOzxCSivOjFWZ9mdvVBks8Ro4pw=,OpGSQ51uE3m6afSTQzasAKXBLdLG02AhSOs4RyQS5Sc=,0Bd558J+lSGjMhi7+LvcRo/ogpxJQs5oYExkucW5mc8=,8z4W/B9BON1gK0pkR7FEheBjpH1ztsM2agYAbfQPlAc=,QIYC6I8ZFGkLzRtCpSJYBLY//X9g/juHqX7AnKk+P8Y=,gOO+qYJzDss9vSUX1t4N/oPoP/Jk+7Jj7XXcIOJlgek=,CiORm3vSGQjy0j2lHS/WLzrCPCwI/6I+5xU4fg6tE6k=,+EK1OkhDOgwqTwDrDV0vludQ5Aj2Pkf62UzC4ZQQ3bg=,Rmpw89UzKMnB15feVq3tydelRIfYeIuArd5ojSDRmlA=  \n",
       "3                                                                                                                                                                                                                                                                                                                                                                                                                                                                                                                                                                                                                                                                                                                                                   ZbK4yv+NmIji9cDj7oqihR9fEMoO9phPFibiwbmvk8U=,bMtLpY4ESZ+GpJrxG4f+Ug0sRdpPRwadzF6SFek4RtY=,ESPecLeQDa1TV3EcEwkM2NxGs18vbzBiYCercHUv9FY=,y1BBWWuDXC8v5B5rr2kSvf9kunlS6ZyFzBRIhXP9kbI=,83xy5lZEOhVMW9euw/7N+Kfv5DmemCcpbSSGb8B3xWE=,cOn1XZ4Kfv9pWWghvZrpWL98WfVgqlFORxDMhM4Ph/c=,F+eP4TVjfrwY4iwyzDvjlbrNC2sjpMEkxtd7xyayndI=  \n",
       "4                                                                                                                                                                                                                                                                                                                                                                                                                                                                                                                                                                                                                                                                                                                                                                                                                                                                                                                                       2K59RgmzY2u2Jjq9ktlaSdgxn3my1osYUspxze6dhQE=,qDEWQmcGH2P3TEpEkzLlvniAqhk0VCt80e7ugRoXYxA=,DiYfIPQn1aW3y1c0SKilXBQb0SKiR521IVmNI38vZPM=  \n",
       "5                                                                                                                                                                                                                                                                                                                                                                                                                                                                                                                                                                                                                                                                                                                                                                                                                                                                                          EAYNXzUJ7wqQxhWfsV9x7bz0mbyXBsbc73JwBAf2KCk=,5vp0ffvjOCHO0y5c8pj35aO6JBIdFKkVXX7ZI07NnJE=,5vp0ffvjOCHO0y5c8pj35aO6JBIdFKkVXX7ZI07NnJE=,XOQDcIyR5+AbD0exLJH66Cwih8Q0S2g6ptwRqpSuEYY=  \n",
       "6                                                                                                                                                                                                                                                                                                                                                                                                                                                                                                                                                                                                                                                                                                                                                                                                                                                                                                                                                                                                                                 /NsqHJd0vGw34zi3EMYl0sQHXioThuJId1Ju+RYoq9U=  \n",
       "7                                                                                                                                                                                                                                                                                                                                                                                                                                                                                                                                                                                                                                                         +wBKI48Sb9UBnCAP5e9jfd4DL2Hie2cJz9GvsiylvyQ=,tQ/rDqu8bDyAJf/PnxQZnVu3/F+1zht1IUWuBx3I5ss=,ACVG0DzF5imKzX2RchviuIOL6nBrWhhXnHBA5D+lpVw=,0O3Apdzs1bf5CWhWcLaXe1xaQ25GeWuAYWtTAYdMsuY=,JBobAv4PTG4yh+FFtt4p20cVxsY3wBA+rmbT5zqD2QE=,dda4tJ5bT+vVhzBobN6TwLuKIDXviBI6Y1lTPBgV92Y=,mtO4G/dkIzYCBfthsX5RDTG2kIiyFTZYRcPmZA4tQJw=,om6e09W6eGp1+AcaWTEZixVvOWA5EXN4ZSVgZ7sMGlQ=,aIoniH5rEXjP2yFUogVX4ELdjXwAltQhL01sDE4CnvU=  \n",
       "8                                                                                                                                                                                                                                                                                                                                                                                                                                                                                                                                                                                                            EAYNXzUJ7wqQxhWfsV9x7bz0mbyXBsbc73JwBAf2KCk=,rEHuUa8V1hBvLFAe4Ri0B3Hl7gSEl3mOE8Uj2SEjotw=,Tj60jjO5aXI7uzRf9DXpf3bN/rb1PUrirVMTKFgodpw=,F+12TZEQOzriVac39rA22tZXF3vXoQkrI7xGfrXhHdg=,lhMB6CFtJybzTg7qUhEl1C33g4UC8ayTcOilvN39cUQ=,kW3GtHnbo9CFidEEbdhlO/b5SHER2yu8gUCiQSTXh44=,3P8atYPEuRqk4y7Nb9MCGW9nP1GpRPvOKaeE3aOq/ZU=,BOID2T30rY0PCqqO4RBkTuUkLeo+V5QxjNjzvzSgvJw=,n2COh6a0d4Wy0rxhZZmkPaHepnNYGmSPD3Qx8u8WMzs=,26K9iX4Es+Xo9eMgrKTUmJo0kFieRsjtWvv4riA7kXk=  \n",
       "9                                                                                                                                                                                                                                                                                 q9467KIsS8F1eYnsg0llV0ZjD+78QH4Hb1WpJmi/2/U=,pteLlWk/C9aIySolrZNPEhg7fnBtcAZMpwDwS6UuOpk=,cuLmSzA0HZSRrRWSeJ7gRU/J1nsVMhxViVuHYrEYwdk=,/OwCOONeE1eQWlmtFuYEtpHIMdeC1o3VLNpONMF4IJo=,/+P65fqjgYbrAS6U5aKjhKHENn2EHodHADkKAwUwLYA=,Dg3vPGvTaMxUOQTC8MsDPCd+q/FFd22eCviPp8oBKDA=,ppXKzKM78j2n3ZWYDHUyK3GUO++t5Jdmifcyj2sZZz0=,ppXKzKM78j2n3ZWYDHUyK3GUO++t5Jdmifcyj2sZZz0=,WMEjJm8970AxsnlMnSWiZbfe7f93cK4Pp0YnXgRfHNA=,OUfPLAhKdf+LqfhDCI1DNVjiRUSP72aIMpa5GZ7B23A=,1o78NI1FQYndVDwXQ5ElLh2Y5XKZC9H+HPCKPIIWwFI=,erqeLmP+KyOS8d7fPNybot1fmFZKEkefCPatTdSY3Q4=,JBobAv4PTG4yh+FFtt4p20cVxsY3wBA+rmbT5zqD2QE=,IgwXrdHeR1Ln60ZHFxne2jDkXslLfUUduYgP1bvmqCs=,0VmDjRq+L6WthenwP6cvBi+h9ncL25kYi6xj40a6veE=,UoPyHLWkuM4iXkbc1qF8HPe5VkXBTJEfJw+GuxKcduc=,nrp4OiQyFQWCIWJB306xbrLRah87iZ0+eNeu6LF+sO4=  \n",
       "10                                                                                                                                                                                                                                                                                                                                                                                                                                                                                                                                                                                                                                                                                                                                                                                                                                                                                                                                      Bg2Ki0yiu0cUyUmMtCO1MfzSBPfXk/dT1ftLISBn5m0=,abru8oHrxkWghjhXjJSwkkdlqvZHaTTOw7EJS5Fzjns=,xLFW4rl5IID1fww7LBH9PivTkZDyhlyNtL+qfSOaUjo=  \n",
       "11                                                                                                                                                                                                                                                                                                                                                                                                                                                                                                                                                                                                                                                                                                                                                                                                                                                                                                                                                                                   4uJnt1OCsNQUcuGg0wA5ZHTvLHu3B5jFny0nnGTz9BE=,OIih+DRybmURXrvEGpSoCFwCAC2epb2J27rkKrpV8Kc=  \n",
       "12                                                                                                                                                                                                                                                                                                                                                                                                                                                                                                                                                                                                                                                                                                                                                                                                                                                                                                                                                                                   2wUYrwvm9Msmij2H/t1rCh8M7Fkff+I7gl8oXHxvlp4=,jr64WV2Wr2gSaOviJ1ibja5/DtWiYBX7BhOHJQ8tbnw=  \n",
       "13                                                                                                                                                                                                                                                                                                                                                                                                                                                                                                                                                                                                                                                                                                                                                                                               LwoRec8sXbMrpbR71C018fAz4k68n61JuJe2HtKC98U=,kW3GtHnbo9CFidEEbdhlO/b5SHER2yu8gUCiQSTXh44=,2xh00G878CJuEwkaWklgLAxzSuiMRcTqaF9YhbsEbJk=,z56Pk3HAklMuT4WeAswfuD+HV4/xXXtbZIv6+dUNE2A=,mCpr5p7eJEe2i9YU9ZkGeA01xUi16Lig/nvmwJ3ZEc0=,2baXNfhJgScKsbXzI2hgF7m+4T7cw3xsNUSOzfjVo38=  \n",
       "14                                                                                                                                                                                                                                                                                                                                                                                                                                                                                                                                                                                                                                                                                                                                                                                                                                                                                                                                                                                                                                QIYC6I8ZFGkLzRtCpSJYBLY//X9g/juHqX7AnKk+P8Y=  \n",
       "15                                                                                                                                                                                                                                                                                k28WOw7/VLAuGVzzlT4f0wOz12AMtcvbuF1sGzg+9FE=,LMdMUByx+Smr29kSgebEOH+K6ZpETVPu7N9yiPLVLdE=,DqahIDTVfFSkt45HHY29PdV5wfulLeINxZMBEAKVMJE=,Wb6K237Bp1OsTTteL63eWXoWdTse25824AOK5tLWNgk=,Wb6K237Bp1OsTTteL63eWXoWdTse25824AOK5tLWNgk=,s2KroBlvK1YwnLA0pN4x5B+ZC48190bcdOAeEnu8ogU=,55aFZdjYLrZ0ikrCEqWRskTPVEEL0i6MlbnTOkRBYhw=,FgpHOCrMC9/x4gkO8aXr/pN0rywLswOO4VSeMsWptXw=,SFwF5QzibKWlpbVRT2TpPl31GyJt9LVpTqrrLLirJuU=,mCpr5p7eJEe2i9YU9ZkGeA01xUi16Lig/nvmwJ3ZEc0=,G2AWs19wyMkmT0iyghoLNuUe8cY2mRvf7SVWcyIiG0o=,8fSQvSuwPSei88Kj/g8uAVU3Bv6R2TMrD8Bz1DC1V14=,DiYfIPQn1aW3y1c0SKilXBQb0SKiR521IVmNI38vZPM=,eVhcPcqQeVLTk+62CYN90Ggm+4bo5aHIqcM787z7/m0=,A/392HgHCyU2oYI3qaB9TtXFYHIWXChbWpjVg95dGX4=,sQVbubo9bZZkcUf1Yzfi9TYfrjGOvOVsIFomZ9koACk=,Rmpw89UzKMnB15feVq3tydelRIfYeIuArd5ojSDRmlA=  \n",
       "16                                                                                                                                         rEHuUa8V1hBvLFAe4Ri0B3Hl7gSEl3mOE8Uj2SEjotw=,5vp0ffvjOCHO0y5c8pj35aO6JBIdFKkVXX7ZI07NnJE=,LVkpW1QwT9yTuZQurfL1KSE2Sje/YliNIBof0qX6byo=,OpGSQ51uE3m6afSTQzasAKXBLdLG02AhSOs4RyQS5Sc=,/OwCOONeE1eQWlmtFuYEtpHIMdeC1o3VLNpONMF4IJo=,mncGfoVLCx169sNN6z12MnOPxWq4prD+Y6CKuS4HP7Y=,/+P65fqjgYbrAS6U5aKjhKHENn2EHodHADkKAwUwLYA=,FRYB53/l2fTKeuXARNc5J2Tze06h8GX0HiGnduP2LFg=,FcfaqVcL5f3BQ1J2VdqGWvEjahZPdM3e8lOtehUP7rA=,C09sPdzFF2eUIst344Qm+OSih7ONRlzqS/nDCF0cNNs=,AaSYqz1flDCNjiyWrVboufoNIYI1ejbExaI2kRTsGiI=,r3oiXm4d8wxb97spbSrNMa//2AhUJ7G8o+YDuKeunZQ=,mB3ehPc/P5rgYswI70L7zN9+sJ8elJKnpxHbqxWon98=,22WGa270+CUzo/ab5cPxD59NY/y9nE3dyeKd5Ds2FsI=,QtIo03XLKfzraa2QcSJYTv8JzylR9wR2eLA+4+X8bSs=,wQFgUxb6rxUoYWUFjNoGGowK/ZFJCG9DXG0FEbVEiaQ=,ksSOckfc0C5urn16I0xXIF64hZ11izn2GtE6j2CdSCo=,mCpr5p7eJEe2i9YU9ZkGeA01xUi16Lig/nvmwJ3ZEc0=,U32SPhD+QDxZ11oF7Ih4ZadQDaelY+CNdtUGrP7mxd0=,wYuLtzFqmrqDMg9zXD1C6Br4gY6ntFRhr+Nj3d45VwU=  \n",
       "17                                                                                                                                                                                                                                                                                                                             CszE3tpg11J2X/1wkjni/BX5yycJqpf/XKD7D+p9Un0=,XY6wc/r9ctz6bpCHEUcRL2tc2ohe2v0YxFvplaOfXFE=,cuLmSzA0HZSRrRWSeJ7gRU/J1nsVMhxViVuHYrEYwdk=,kYh/q2A8CxVgFw/fzkAByeuKOYKNNFP3P0RPjn0ZTHk=,/+P65fqjgYbrAS6U5aKjhKHENn2EHodHADkKAwUwLYA=,7EY0uoVw31m4DYtfHkqn8xZBs7fmQtMtoQMEZuKVEfg=,KWrQaxWIk8rH+92J4lGLHA2KYvKmUcDTVfP7b/l5ZM8=,jr64WV2Wr2gSaOviJ1ibja5/DtWiYBX7BhOHJQ8tbnw=,IgwXrdHeR1Ln60ZHFxne2jDkXslLfUUduYgP1bvmqCs=,Zng48TZ3yijnBk6r4sgKwCz3ty703xLmte9WYaD04vI=,rwNjvr2mV04ASRTcH0op5fR5EjBPCzNPBir5lgh26rM=,SUrr82guc+zkcLVXlaKSoNtlfd1yQu9mfhJXDJvTSTc=,ouyAC8tg2ACPa8kuR0VJ7wjfpcjibIKEYaR+ogstsIc=,+RSmZxgH9QdX1NQfEB4gruI2ap1AMfQMVX/vDsjKKxY=,v6MHAuikHgqZeRz+fllbkYzK7O+XmXvCbL8DospyVhc=,v6MHAuikHgqZeRz+fllbkYzK7O+XmXvCbL8DospyVhc=  \n",
       "18                                                                                                                                                                                                                                                                                                                                                                                                                                                                                                                                                                                                           O/Sl2Tdkj01WcVoUsDIX6Pp1zSS8Gy6BY2Mvb5naPUs=,etIDFbNcFBvCL7Sv3bR7Yt1++lQzLkJcJARO0CGr58s=,etIDFbNcFBvCL7Sv3bR7Yt1++lQzLkJcJARO0CGr58s=,cOn1XZ4Kfv9pWWghvZrpWL98WfVgqlFORxDMhM4Ph/c=,jgyzmA14NE4KlN2UQEM3cId91D0O6brHSTzxxCWWgz0=,Z24/0nbGI5spzFSM4KUFc9ONNLuZ/ddFcOAy3JEno6Y=,BuD0WOt+fPEd1m5A2Fr590sX3rbNKvp73okK89mEV0E=,TCdPYN6KpVHUk552OxC7WnpCzHXBpI2cxxAR8SIpD1w=,TCdPYN6KpVHUk552OxC7WnpCzHXBpI2cxxAR8SIpD1w=,UXtOWVRxboNiWNu5XxuyFvoU1Y53U/Yw3zW0qt81ojM=  \n",
       "19                                                                                                                                                                                                                                                                                                                                                                                                                                                                                                                                                                                                                                                                                                                                                                                                                                            z6Zjsx2wjAEt5BHDXwJyevptD46W4cKn3x7qepg6ppc=,JvkK05gF0vhlJhjMCS77uORDXBkJ82kArIiUNFbBVSk=,EAYNXzUJ7wqQxhWfsV9x7bz0mbyXBsbc73JwBAf2KCk=,bqeeSjbn+2jgTPF5Qu4yCJL7FsOMf7myeThBcZ18SNc=,22WGa270+CUzo/ab5cPxD59NY/y9nE3dyeKd5Ds2FsI=  "
      ]
     },
     "execution_count": 41,
     "metadata": {},
     "output_type": "execute_result"
    }
   ],
   "source": [
    "pd.set_option('display.max_colwidth', None)\n",
    "patient_df_group[['count', 'grouped']].head(20)\n"
   ]
  },
  {
   "cell_type": "code",
   "execution_count": 42,
   "metadata": {},
   "outputs": [
    {
     "data": {
      "application/vnd.plotly.v1+json": {
       "config": {
        "plotlyServerURL": "https://plot.ly"
       },
       "data": [
        {
         "alignmentgroup": "True",
         "customdata": [
          [
           "3TB6T8CT/m/sBtYXy8XpTg=="
          ],
          [
           "3TB6T8CT/m/sBtYXy8XpTg=="
          ],
          [
           "3TB6T8CT/m/sBtYXy8XpTg=="
          ]
         ],
         "hovertemplate": "doctor_id=%{customdata[0]}<br>Month_Year=%{x}<br>count=%{y}<extra></extra>",
         "legendgroup": "3TB6T8CT/m/sBtYXy8XpTg==",
         "marker": {
          "color": "#636efa",
          "pattern": {
           "shape": ""
          }
         },
         "name": "3TB6T8CT/m/sBtYXy8XpTg==",
         "offsetgroup": "3TB6T8CT/m/sBtYXy8XpTg==",
         "orientation": "v",
         "showlegend": true,
         "textposition": "auto",
         "texttemplate": "%{y:count}",
         "type": "bar",
         "x": [
          "July 2021",
          "June 2021",
          "May 2021"
         ],
         "xaxis": "x",
         "y": [
          10,
          23,
          9
         ],
         "yaxis": "y"
        },
        {
         "alignmentgroup": "True",
         "customdata": [
          [
           "4/de+E7w0FRjaRuXcf1Zag=="
          ]
         ],
         "hovertemplate": "doctor_id=%{customdata[0]}<br>Month_Year=%{x}<br>count=%{y}<extra></extra>",
         "legendgroup": "4/de+E7w0FRjaRuXcf1Zag==",
         "marker": {
          "color": "#EF553B",
          "pattern": {
           "shape": ""
          }
         },
         "name": "4/de+E7w0FRjaRuXcf1Zag==",
         "offsetgroup": "4/de+E7w0FRjaRuXcf1Zag==",
         "orientation": "v",
         "showlegend": true,
         "textposition": "auto",
         "texttemplate": "%{y:count}",
         "type": "bar",
         "x": [
          "July 2021"
         ],
         "xaxis": "x",
         "y": [
          7
         ],
         "yaxis": "y"
        },
        {
         "alignmentgroup": "True",
         "customdata": [
          [
           "7HLGJ96/7ZNNHLQao48zbg=="
          ],
          [
           "7HLGJ96/7ZNNHLQao48zbg=="
          ],
          [
           "7HLGJ96/7ZNNHLQao48zbg=="
          ]
         ],
         "hovertemplate": "doctor_id=%{customdata[0]}<br>Month_Year=%{x}<br>count=%{y}<extra></extra>",
         "legendgroup": "7HLGJ96/7ZNNHLQao48zbg==",
         "marker": {
          "color": "#00cc96",
          "pattern": {
           "shape": ""
          }
         },
         "name": "7HLGJ96/7ZNNHLQao48zbg==",
         "offsetgroup": "7HLGJ96/7ZNNHLQao48zbg==",
         "orientation": "v",
         "showlegend": true,
         "textposition": "auto",
         "texttemplate": "%{y:count}",
         "type": "bar",
         "x": [
          "July 2021",
          "June 2021",
          "May 2021"
         ],
         "xaxis": "x",
         "y": [
          3,
          4,
          1
         ],
         "yaxis": "y"
        },
        {
         "alignmentgroup": "True",
         "customdata": [
          [
           "9nnTmV6ViwHCyg4C8WEkzg=="
          ],
          [
           "9nnTmV6ViwHCyg4C8WEkzg=="
          ],
          [
           "9nnTmV6ViwHCyg4C8WEkzg=="
          ]
         ],
         "hovertemplate": "doctor_id=%{customdata[0]}<br>Month_Year=%{x}<br>count=%{y}<extra></extra>",
         "legendgroup": "9nnTmV6ViwHCyg4C8WEkzg==",
         "marker": {
          "color": "#ab63fa",
          "pattern": {
           "shape": ""
          }
         },
         "name": "9nnTmV6ViwHCyg4C8WEkzg==",
         "offsetgroup": "9nnTmV6ViwHCyg4C8WEkzg==",
         "orientation": "v",
         "showlegend": true,
         "textposition": "auto",
         "texttemplate": "%{y:count}",
         "type": "bar",
         "x": [
          "July 2021",
          "June 2021",
          "May 2021"
         ],
         "xaxis": "x",
         "y": [
          9,
          10,
          17
         ],
         "yaxis": "y"
        },
        {
         "alignmentgroup": "True",
         "customdata": [
          [
           "DsTVQOTgLPdRiMumt+6lfw=="
          ],
          [
           "DsTVQOTgLPdRiMumt+6lfw=="
          ],
          [
           "DsTVQOTgLPdRiMumt+6lfw=="
          ]
         ],
         "hovertemplate": "doctor_id=%{customdata[0]}<br>Month_Year=%{x}<br>count=%{y}<extra></extra>",
         "legendgroup": "DsTVQOTgLPdRiMumt+6lfw==",
         "marker": {
          "color": "#FFA15A",
          "pattern": {
           "shape": ""
          }
         },
         "name": "DsTVQOTgLPdRiMumt+6lfw==",
         "offsetgroup": "DsTVQOTgLPdRiMumt+6lfw==",
         "orientation": "v",
         "showlegend": true,
         "textposition": "auto",
         "texttemplate": "%{y:count}",
         "type": "bar",
         "x": [
          "July 2021",
          "June 2021",
          "May 2021"
         ],
         "xaxis": "x",
         "y": [
          3,
          2,
          2
         ],
         "yaxis": "y"
        },
        {
         "alignmentgroup": "True",
         "customdata": [
          [
           "Jtyye8Qcrahu57GsxVmwgg=="
          ],
          [
           "Jtyye8Qcrahu57GsxVmwgg=="
          ]
         ],
         "hovertemplate": "doctor_id=%{customdata[0]}<br>Month_Year=%{x}<br>count=%{y}<extra></extra>",
         "legendgroup": "Jtyye8Qcrahu57GsxVmwgg==",
         "marker": {
          "color": "#19d3f3",
          "pattern": {
           "shape": ""
          }
         },
         "name": "Jtyye8Qcrahu57GsxVmwgg==",
         "offsetgroup": "Jtyye8Qcrahu57GsxVmwgg==",
         "orientation": "v",
         "showlegend": true,
         "textposition": "auto",
         "texttemplate": "%{y:count}",
         "type": "bar",
         "x": [
          "June 2021",
          "May 2021"
         ],
         "xaxis": "x",
         "y": [
          6,
          1
         ],
         "yaxis": "y"
        },
        {
         "alignmentgroup": "True",
         "customdata": [
          [
           "Qu26Efdlnp3ZZkjt/BQfSQ=="
          ],
          [
           "Qu26Efdlnp3ZZkjt/BQfSQ=="
          ],
          [
           "Qu26Efdlnp3ZZkjt/BQfSQ=="
          ]
         ],
         "hovertemplate": "doctor_id=%{customdata[0]}<br>Month_Year=%{x}<br>count=%{y}<extra></extra>",
         "legendgroup": "Qu26Efdlnp3ZZkjt/BQfSQ==",
         "marker": {
          "color": "#FF6692",
          "pattern": {
           "shape": ""
          }
         },
         "name": "Qu26Efdlnp3ZZkjt/BQfSQ==",
         "offsetgroup": "Qu26Efdlnp3ZZkjt/BQfSQ==",
         "orientation": "v",
         "showlegend": true,
         "textposition": "auto",
         "texttemplate": "%{y:count}",
         "type": "bar",
         "x": [
          "July 2021",
          "June 2021",
          "May 2021"
         ],
         "xaxis": "x",
         "y": [
          17,
          20,
          16
         ],
         "yaxis": "y"
        },
        {
         "alignmentgroup": "True",
         "customdata": [
          [
           "RAqzxSJcl7Oqwft0WcZdPA=="
          ],
          [
           "RAqzxSJcl7Oqwft0WcZdPA=="
          ],
          [
           "RAqzxSJcl7Oqwft0WcZdPA=="
          ]
         ],
         "hovertemplate": "doctor_id=%{customdata[0]}<br>Month_Year=%{x}<br>count=%{y}<extra></extra>",
         "legendgroup": "RAqzxSJcl7Oqwft0WcZdPA==",
         "marker": {
          "color": "#B6E880",
          "pattern": {
           "shape": ""
          }
         },
         "name": "RAqzxSJcl7Oqwft0WcZdPA==",
         "offsetgroup": "RAqzxSJcl7Oqwft0WcZdPA==",
         "orientation": "v",
         "showlegend": true,
         "textposition": "auto",
         "texttemplate": "%{y:count}",
         "type": "bar",
         "x": [
          "July 2021",
          "June 2021",
          "May 2021"
         ],
         "xaxis": "x",
         "y": [
          10,
          5,
          7
         ],
         "yaxis": "y"
        },
        {
         "alignmentgroup": "True",
         "customdata": [
          [
           "SdYno7IhBPsZxFawi3VT9g=="
          ],
          [
           "SdYno7IhBPsZxFawi3VT9g=="
          ],
          [
           "SdYno7IhBPsZxFawi3VT9g=="
          ]
         ],
         "hovertemplate": "doctor_id=%{customdata[0]}<br>Month_Year=%{x}<br>count=%{y}<extra></extra>",
         "legendgroup": "SdYno7IhBPsZxFawi3VT9g==",
         "marker": {
          "color": "#FF97FF",
          "pattern": {
           "shape": ""
          }
         },
         "name": "SdYno7IhBPsZxFawi3VT9g==",
         "offsetgroup": "SdYno7IhBPsZxFawi3VT9g==",
         "orientation": "v",
         "showlegend": true,
         "textposition": "auto",
         "texttemplate": "%{y:count}",
         "type": "bar",
         "x": [
          "July 2021",
          "June 2021",
          "May 2021"
         ],
         "xaxis": "x",
         "y": [
          112,
          66,
          108
         ],
         "yaxis": "y"
        },
        {
         "alignmentgroup": "True",
         "customdata": [
          [
           "Sq5biamKXyops8mpbgXZqw=="
          ],
          [
           "Sq5biamKXyops8mpbgXZqw=="
          ],
          [
           "Sq5biamKXyops8mpbgXZqw=="
          ]
         ],
         "hovertemplate": "doctor_id=%{customdata[0]}<br>Month_Year=%{x}<br>count=%{y}<extra></extra>",
         "legendgroup": "Sq5biamKXyops8mpbgXZqw==",
         "marker": {
          "color": "#FECB52",
          "pattern": {
           "shape": ""
          }
         },
         "name": "Sq5biamKXyops8mpbgXZqw==",
         "offsetgroup": "Sq5biamKXyops8mpbgXZqw==",
         "orientation": "v",
         "showlegend": true,
         "textposition": "auto",
         "texttemplate": "%{y:count}",
         "type": "bar",
         "x": [
          "July 2021",
          "June 2021",
          "May 2021"
         ],
         "xaxis": "x",
         "y": [
          28,
          33,
          18
         ],
         "yaxis": "y"
        },
        {
         "alignmentgroup": "True",
         "customdata": [
          [
           "f8HzZg+sMK4u23MXtYupzw=="
          ],
          [
           "f8HzZg+sMK4u23MXtYupzw=="
          ],
          [
           "f8HzZg+sMK4u23MXtYupzw=="
          ]
         ],
         "hovertemplate": "doctor_id=%{customdata[0]}<br>Month_Year=%{x}<br>count=%{y}<extra></extra>",
         "legendgroup": "f8HzZg+sMK4u23MXtYupzw==",
         "marker": {
          "color": "#636efa",
          "pattern": {
           "shape": ""
          }
         },
         "name": "f8HzZg+sMK4u23MXtYupzw==",
         "offsetgroup": "f8HzZg+sMK4u23MXtYupzw==",
         "orientation": "v",
         "showlegend": true,
         "textposition": "auto",
         "texttemplate": "%{y:count}",
         "type": "bar",
         "x": [
          "July 2021",
          "June 2021",
          "May 2021"
         ],
         "xaxis": "x",
         "y": [
          24,
          12,
          2
         ],
         "yaxis": "y"
        },
        {
         "alignmentgroup": "True",
         "customdata": [
          [
           "fC+1IQ/LcI/4tuFw4ADAYQ=="
          ],
          [
           "fC+1IQ/LcI/4tuFw4ADAYQ=="
          ],
          [
           "fC+1IQ/LcI/4tuFw4ADAYQ=="
          ]
         ],
         "hovertemplate": "doctor_id=%{customdata[0]}<br>Month_Year=%{x}<br>count=%{y}<extra></extra>",
         "legendgroup": "fC+1IQ/LcI/4tuFw4ADAYQ==",
         "marker": {
          "color": "#EF553B",
          "pattern": {
           "shape": ""
          }
         },
         "name": "fC+1IQ/LcI/4tuFw4ADAYQ==",
         "offsetgroup": "fC+1IQ/LcI/4tuFw4ADAYQ==",
         "orientation": "v",
         "showlegend": true,
         "textposition": "auto",
         "texttemplate": "%{y:count}",
         "type": "bar",
         "x": [
          "July 2021",
          "June 2021",
          "May 2021"
         ],
         "xaxis": "x",
         "y": [
          3,
          2,
          2
         ],
         "yaxis": "y"
        },
        {
         "alignmentgroup": "True",
         "customdata": [
          [
           "fcs9hrjnEV611eMkVezAnw=="
          ],
          [
           "fcs9hrjnEV611eMkVezAnw=="
          ],
          [
           "fcs9hrjnEV611eMkVezAnw=="
          ]
         ],
         "hovertemplate": "doctor_id=%{customdata[0]}<br>Month_Year=%{x}<br>count=%{y}<extra></extra>",
         "legendgroup": "fcs9hrjnEV611eMkVezAnw==",
         "marker": {
          "color": "#00cc96",
          "pattern": {
           "shape": ""
          }
         },
         "name": "fcs9hrjnEV611eMkVezAnw==",
         "offsetgroup": "fcs9hrjnEV611eMkVezAnw==",
         "orientation": "v",
         "showlegend": true,
         "textposition": "auto",
         "texttemplate": "%{y:count}",
         "type": "bar",
         "x": [
          "July 2021",
          "June 2021",
          "May 2021"
         ],
         "xaxis": "x",
         "y": [
          22,
          26,
          37
         ],
         "yaxis": "y"
        },
        {
         "alignmentgroup": "True",
         "customdata": [
          [
           "i1fdGrqzz6Uys2R3FUjpPA=="
          ],
          [
           "i1fdGrqzz6Uys2R3FUjpPA=="
          ],
          [
           "i1fdGrqzz6Uys2R3FUjpPA=="
          ]
         ],
         "hovertemplate": "doctor_id=%{customdata[0]}<br>Month_Year=%{x}<br>count=%{y}<extra></extra>",
         "legendgroup": "i1fdGrqzz6Uys2R3FUjpPA==",
         "marker": {
          "color": "#ab63fa",
          "pattern": {
           "shape": ""
          }
         },
         "name": "i1fdGrqzz6Uys2R3FUjpPA==",
         "offsetgroup": "i1fdGrqzz6Uys2R3FUjpPA==",
         "orientation": "v",
         "showlegend": true,
         "textposition": "auto",
         "texttemplate": "%{y:count}",
         "type": "bar",
         "x": [
          "July 2021",
          "June 2021",
          "May 2021"
         ],
         "xaxis": "x",
         "y": [
          28,
          41,
          48
         ],
         "yaxis": "y"
        },
        {
         "alignmentgroup": "True",
         "customdata": [
          [
           "snbLmnJ0Y8Ogua2/DV+31A=="
          ],
          [
           "snbLmnJ0Y8Ogua2/DV+31A=="
          ],
          [
           "snbLmnJ0Y8Ogua2/DV+31A=="
          ]
         ],
         "hovertemplate": "doctor_id=%{customdata[0]}<br>Month_Year=%{x}<br>count=%{y}<extra></extra>",
         "legendgroup": "snbLmnJ0Y8Ogua2/DV+31A==",
         "marker": {
          "color": "#FFA15A",
          "pattern": {
           "shape": ""
          }
         },
         "name": "snbLmnJ0Y8Ogua2/DV+31A==",
         "offsetgroup": "snbLmnJ0Y8Ogua2/DV+31A==",
         "orientation": "v",
         "showlegend": true,
         "textposition": "auto",
         "texttemplate": "%{y:count}",
         "type": "bar",
         "x": [
          "July 2021",
          "June 2021",
          "May 2021"
         ],
         "xaxis": "x",
         "y": [
          2,
          4,
          4
         ],
         "yaxis": "y"
        },
        {
         "alignmentgroup": "True",
         "customdata": [
          [
           "whYS6yKN/9cyyB/l649ong=="
          ]
         ],
         "hovertemplate": "doctor_id=%{customdata[0]}<br>Month_Year=%{x}<br>count=%{y}<extra></extra>",
         "legendgroup": "whYS6yKN/9cyyB/l649ong==",
         "marker": {
          "color": "#19d3f3",
          "pattern": {
           "shape": ""
          }
         },
         "name": "whYS6yKN/9cyyB/l649ong==",
         "offsetgroup": "whYS6yKN/9cyyB/l649ong==",
         "orientation": "v",
         "showlegend": true,
         "textposition": "auto",
         "texttemplate": "%{y:count}",
         "type": "bar",
         "x": [
          "July 2021"
         ],
         "xaxis": "x",
         "y": [
          1
         ],
         "yaxis": "y"
        },
        {
         "alignmentgroup": "True",
         "customdata": [
          [
           "yLvV4o7K0RwRSibznUFaCg=="
          ],
          [
           "yLvV4o7K0RwRSibznUFaCg=="
          ],
          [
           "yLvV4o7K0RwRSibznUFaCg=="
          ]
         ],
         "hovertemplate": "doctor_id=%{customdata[0]}<br>Month_Year=%{x}<br>count=%{y}<extra></extra>",
         "legendgroup": "yLvV4o7K0RwRSibznUFaCg==",
         "marker": {
          "color": "#FF6692",
          "pattern": {
           "shape": ""
          }
         },
         "name": "yLvV4o7K0RwRSibznUFaCg==",
         "offsetgroup": "yLvV4o7K0RwRSibznUFaCg==",
         "orientation": "v",
         "showlegend": true,
         "textposition": "auto",
         "texttemplate": "%{y:count}",
         "type": "bar",
         "x": [
          "July 2021",
          "June 2021",
          "May 2021"
         ],
         "xaxis": "x",
         "y": [
          3,
          11,
          18
         ],
         "yaxis": "y"
        }
       ],
       "layout": {
        "barmode": "stack",
        "legend": {
         "title": {
          "text": "doctor_id"
         },
         "tracegroupgap": 0
        },
        "template": {
         "data": {
          "bar": [
           {
            "error_x": {
             "color": "#2a3f5f"
            },
            "error_y": {
             "color": "#2a3f5f"
            },
            "marker": {
             "line": {
              "color": "#E5ECF6",
              "width": 0.5
             },
             "pattern": {
              "fillmode": "overlay",
              "size": 10,
              "solidity": 0.2
             }
            },
            "type": "bar"
           }
          ],
          "barpolar": [
           {
            "marker": {
             "line": {
              "color": "#E5ECF6",
              "width": 0.5
             },
             "pattern": {
              "fillmode": "overlay",
              "size": 10,
              "solidity": 0.2
             }
            },
            "type": "barpolar"
           }
          ],
          "carpet": [
           {
            "aaxis": {
             "endlinecolor": "#2a3f5f",
             "gridcolor": "white",
             "linecolor": "white",
             "minorgridcolor": "white",
             "startlinecolor": "#2a3f5f"
            },
            "baxis": {
             "endlinecolor": "#2a3f5f",
             "gridcolor": "white",
             "linecolor": "white",
             "minorgridcolor": "white",
             "startlinecolor": "#2a3f5f"
            },
            "type": "carpet"
           }
          ],
          "choropleth": [
           {
            "colorbar": {
             "outlinewidth": 0,
             "ticks": ""
            },
            "type": "choropleth"
           }
          ],
          "contour": [
           {
            "colorbar": {
             "outlinewidth": 0,
             "ticks": ""
            },
            "colorscale": [
             [
              0,
              "#0d0887"
             ],
             [
              0.1111111111111111,
              "#46039f"
             ],
             [
              0.2222222222222222,
              "#7201a8"
             ],
             [
              0.3333333333333333,
              "#9c179e"
             ],
             [
              0.4444444444444444,
              "#bd3786"
             ],
             [
              0.5555555555555556,
              "#d8576b"
             ],
             [
              0.6666666666666666,
              "#ed7953"
             ],
             [
              0.7777777777777778,
              "#fb9f3a"
             ],
             [
              0.8888888888888888,
              "#fdca26"
             ],
             [
              1,
              "#f0f921"
             ]
            ],
            "type": "contour"
           }
          ],
          "contourcarpet": [
           {
            "colorbar": {
             "outlinewidth": 0,
             "ticks": ""
            },
            "type": "contourcarpet"
           }
          ],
          "heatmap": [
           {
            "colorbar": {
             "outlinewidth": 0,
             "ticks": ""
            },
            "colorscale": [
             [
              0,
              "#0d0887"
             ],
             [
              0.1111111111111111,
              "#46039f"
             ],
             [
              0.2222222222222222,
              "#7201a8"
             ],
             [
              0.3333333333333333,
              "#9c179e"
             ],
             [
              0.4444444444444444,
              "#bd3786"
             ],
             [
              0.5555555555555556,
              "#d8576b"
             ],
             [
              0.6666666666666666,
              "#ed7953"
             ],
             [
              0.7777777777777778,
              "#fb9f3a"
             ],
             [
              0.8888888888888888,
              "#fdca26"
             ],
             [
              1,
              "#f0f921"
             ]
            ],
            "type": "heatmap"
           }
          ],
          "heatmapgl": [
           {
            "colorbar": {
             "outlinewidth": 0,
             "ticks": ""
            },
            "colorscale": [
             [
              0,
              "#0d0887"
             ],
             [
              0.1111111111111111,
              "#46039f"
             ],
             [
              0.2222222222222222,
              "#7201a8"
             ],
             [
              0.3333333333333333,
              "#9c179e"
             ],
             [
              0.4444444444444444,
              "#bd3786"
             ],
             [
              0.5555555555555556,
              "#d8576b"
             ],
             [
              0.6666666666666666,
              "#ed7953"
             ],
             [
              0.7777777777777778,
              "#fb9f3a"
             ],
             [
              0.8888888888888888,
              "#fdca26"
             ],
             [
              1,
              "#f0f921"
             ]
            ],
            "type": "heatmapgl"
           }
          ],
          "histogram": [
           {
            "marker": {
             "pattern": {
              "fillmode": "overlay",
              "size": 10,
              "solidity": 0.2
             }
            },
            "type": "histogram"
           }
          ],
          "histogram2d": [
           {
            "colorbar": {
             "outlinewidth": 0,
             "ticks": ""
            },
            "colorscale": [
             [
              0,
              "#0d0887"
             ],
             [
              0.1111111111111111,
              "#46039f"
             ],
             [
              0.2222222222222222,
              "#7201a8"
             ],
             [
              0.3333333333333333,
              "#9c179e"
             ],
             [
              0.4444444444444444,
              "#bd3786"
             ],
             [
              0.5555555555555556,
              "#d8576b"
             ],
             [
              0.6666666666666666,
              "#ed7953"
             ],
             [
              0.7777777777777778,
              "#fb9f3a"
             ],
             [
              0.8888888888888888,
              "#fdca26"
             ],
             [
              1,
              "#f0f921"
             ]
            ],
            "type": "histogram2d"
           }
          ],
          "histogram2dcontour": [
           {
            "colorbar": {
             "outlinewidth": 0,
             "ticks": ""
            },
            "colorscale": [
             [
              0,
              "#0d0887"
             ],
             [
              0.1111111111111111,
              "#46039f"
             ],
             [
              0.2222222222222222,
              "#7201a8"
             ],
             [
              0.3333333333333333,
              "#9c179e"
             ],
             [
              0.4444444444444444,
              "#bd3786"
             ],
             [
              0.5555555555555556,
              "#d8576b"
             ],
             [
              0.6666666666666666,
              "#ed7953"
             ],
             [
              0.7777777777777778,
              "#fb9f3a"
             ],
             [
              0.8888888888888888,
              "#fdca26"
             ],
             [
              1,
              "#f0f921"
             ]
            ],
            "type": "histogram2dcontour"
           }
          ],
          "mesh3d": [
           {
            "colorbar": {
             "outlinewidth": 0,
             "ticks": ""
            },
            "type": "mesh3d"
           }
          ],
          "parcoords": [
           {
            "line": {
             "colorbar": {
              "outlinewidth": 0,
              "ticks": ""
             }
            },
            "type": "parcoords"
           }
          ],
          "pie": [
           {
            "automargin": true,
            "type": "pie"
           }
          ],
          "scatter": [
           {
            "marker": {
             "colorbar": {
              "outlinewidth": 0,
              "ticks": ""
             }
            },
            "type": "scatter"
           }
          ],
          "scatter3d": [
           {
            "line": {
             "colorbar": {
              "outlinewidth": 0,
              "ticks": ""
             }
            },
            "marker": {
             "colorbar": {
              "outlinewidth": 0,
              "ticks": ""
             }
            },
            "type": "scatter3d"
           }
          ],
          "scattercarpet": [
           {
            "marker": {
             "colorbar": {
              "outlinewidth": 0,
              "ticks": ""
             }
            },
            "type": "scattercarpet"
           }
          ],
          "scattergeo": [
           {
            "marker": {
             "colorbar": {
              "outlinewidth": 0,
              "ticks": ""
             }
            },
            "type": "scattergeo"
           }
          ],
          "scattergl": [
           {
            "marker": {
             "colorbar": {
              "outlinewidth": 0,
              "ticks": ""
             }
            },
            "type": "scattergl"
           }
          ],
          "scattermapbox": [
           {
            "marker": {
             "colorbar": {
              "outlinewidth": 0,
              "ticks": ""
             }
            },
            "type": "scattermapbox"
           }
          ],
          "scatterpolar": [
           {
            "marker": {
             "colorbar": {
              "outlinewidth": 0,
              "ticks": ""
             }
            },
            "type": "scatterpolar"
           }
          ],
          "scatterpolargl": [
           {
            "marker": {
             "colorbar": {
              "outlinewidth": 0,
              "ticks": ""
             }
            },
            "type": "scatterpolargl"
           }
          ],
          "scatterternary": [
           {
            "marker": {
             "colorbar": {
              "outlinewidth": 0,
              "ticks": ""
             }
            },
            "type": "scatterternary"
           }
          ],
          "surface": [
           {
            "colorbar": {
             "outlinewidth": 0,
             "ticks": ""
            },
            "colorscale": [
             [
              0,
              "#0d0887"
             ],
             [
              0.1111111111111111,
              "#46039f"
             ],
             [
              0.2222222222222222,
              "#7201a8"
             ],
             [
              0.3333333333333333,
              "#9c179e"
             ],
             [
              0.4444444444444444,
              "#bd3786"
             ],
             [
              0.5555555555555556,
              "#d8576b"
             ],
             [
              0.6666666666666666,
              "#ed7953"
             ],
             [
              0.7777777777777778,
              "#fb9f3a"
             ],
             [
              0.8888888888888888,
              "#fdca26"
             ],
             [
              1,
              "#f0f921"
             ]
            ],
            "type": "surface"
           }
          ],
          "table": [
           {
            "cells": {
             "fill": {
              "color": "#EBF0F8"
             },
             "line": {
              "color": "white"
             }
            },
            "header": {
             "fill": {
              "color": "#C8D4E3"
             },
             "line": {
              "color": "white"
             }
            },
            "type": "table"
           }
          ]
         },
         "layout": {
          "annotationdefaults": {
           "arrowcolor": "#2a3f5f",
           "arrowhead": 0,
           "arrowwidth": 1
          },
          "autotypenumbers": "strict",
          "coloraxis": {
           "colorbar": {
            "outlinewidth": 0,
            "ticks": ""
           }
          },
          "colorscale": {
           "diverging": [
            [
             0,
             "#8e0152"
            ],
            [
             0.1,
             "#c51b7d"
            ],
            [
             0.2,
             "#de77ae"
            ],
            [
             0.3,
             "#f1b6da"
            ],
            [
             0.4,
             "#fde0ef"
            ],
            [
             0.5,
             "#f7f7f7"
            ],
            [
             0.6,
             "#e6f5d0"
            ],
            [
             0.7,
             "#b8e186"
            ],
            [
             0.8,
             "#7fbc41"
            ],
            [
             0.9,
             "#4d9221"
            ],
            [
             1,
             "#276419"
            ]
           ],
           "sequential": [
            [
             0,
             "#0d0887"
            ],
            [
             0.1111111111111111,
             "#46039f"
            ],
            [
             0.2222222222222222,
             "#7201a8"
            ],
            [
             0.3333333333333333,
             "#9c179e"
            ],
            [
             0.4444444444444444,
             "#bd3786"
            ],
            [
             0.5555555555555556,
             "#d8576b"
            ],
            [
             0.6666666666666666,
             "#ed7953"
            ],
            [
             0.7777777777777778,
             "#fb9f3a"
            ],
            [
             0.8888888888888888,
             "#fdca26"
            ],
            [
             1,
             "#f0f921"
            ]
           ],
           "sequentialminus": [
            [
             0,
             "#0d0887"
            ],
            [
             0.1111111111111111,
             "#46039f"
            ],
            [
             0.2222222222222222,
             "#7201a8"
            ],
            [
             0.3333333333333333,
             "#9c179e"
            ],
            [
             0.4444444444444444,
             "#bd3786"
            ],
            [
             0.5555555555555556,
             "#d8576b"
            ],
            [
             0.6666666666666666,
             "#ed7953"
            ],
            [
             0.7777777777777778,
             "#fb9f3a"
            ],
            [
             0.8888888888888888,
             "#fdca26"
            ],
            [
             1,
             "#f0f921"
            ]
           ]
          },
          "colorway": [
           "#636efa",
           "#EF553B",
           "#00cc96",
           "#ab63fa",
           "#FFA15A",
           "#19d3f3",
           "#FF6692",
           "#B6E880",
           "#FF97FF",
           "#FECB52"
          ],
          "font": {
           "color": "#2a3f5f"
          },
          "geo": {
           "bgcolor": "white",
           "lakecolor": "white",
           "landcolor": "#E5ECF6",
           "showlakes": true,
           "showland": true,
           "subunitcolor": "white"
          },
          "hoverlabel": {
           "align": "left"
          },
          "hovermode": "closest",
          "mapbox": {
           "style": "light"
          },
          "paper_bgcolor": "white",
          "plot_bgcolor": "#E5ECF6",
          "polar": {
           "angularaxis": {
            "gridcolor": "white",
            "linecolor": "white",
            "ticks": ""
           },
           "bgcolor": "#E5ECF6",
           "radialaxis": {
            "gridcolor": "white",
            "linecolor": "white",
            "ticks": ""
           }
          },
          "scene": {
           "xaxis": {
            "backgroundcolor": "#E5ECF6",
            "gridcolor": "white",
            "gridwidth": 2,
            "linecolor": "white",
            "showbackground": true,
            "ticks": "",
            "zerolinecolor": "white"
           },
           "yaxis": {
            "backgroundcolor": "#E5ECF6",
            "gridcolor": "white",
            "gridwidth": 2,
            "linecolor": "white",
            "showbackground": true,
            "ticks": "",
            "zerolinecolor": "white"
           },
           "zaxis": {
            "backgroundcolor": "#E5ECF6",
            "gridcolor": "white",
            "gridwidth": 2,
            "linecolor": "white",
            "showbackground": true,
            "ticks": "",
            "zerolinecolor": "white"
           }
          },
          "shapedefaults": {
           "line": {
            "color": "#2a3f5f"
           }
          },
          "ternary": {
           "aaxis": {
            "gridcolor": "white",
            "linecolor": "white",
            "ticks": ""
           },
           "baxis": {
            "gridcolor": "white",
            "linecolor": "white",
            "ticks": ""
           },
           "bgcolor": "#E5ECF6",
           "caxis": {
            "gridcolor": "white",
            "linecolor": "white",
            "ticks": ""
           }
          },
          "title": {
           "x": 0.05
          },
          "xaxis": {
           "automargin": true,
           "gridcolor": "white",
           "linecolor": "white",
           "ticks": "",
           "title": {
            "standoff": 15
           },
           "zerolinecolor": "white",
           "zerolinewidth": 2
          },
          "yaxis": {
           "automargin": true,
           "gridcolor": "white",
           "linecolor": "white",
           "ticks": "",
           "title": {
            "standoff": 15
           },
           "zerolinecolor": "white",
           "zerolinewidth": 2
          }
         }
        },
        "title": {
         "text": "Plot of No. of patients attended to per doctor per month"
        },
        "xaxis": {
         "anchor": "y",
         "domain": [
          0,
          1
         ],
         "title": {
          "text": "Month_Year"
         }
        },
        "yaxis": {
         "anchor": "x",
         "domain": [
          0,
          1
         ],
         "title": {
          "text": "count"
         }
        }
       }
      }
     },
     "metadata": {},
     "output_type": "display_data"
    }
   ],
   "source": [
    "fig = px.bar(patient_df_group, x=\"Month_Year\", y=\"count\", color=\"doctor_id\",  \n",
    "            hover_data=[\"count\",\"Month_Year\",\"doctor_id\"], barmode = 'stack', text_auto=\"count\",title=\"Plot of No. of patients attended to per doctor per month\") \n",
    "\n",
    "fig.show()"
   ]
  },
  {
   "cell_type": "markdown",
   "metadata": {},
   "source": []
  },
  {
   "cell_type": "code",
   "execution_count": 43,
   "metadata": {},
   "outputs": [
    {
     "data": {
      "text/html": [
       "<div>\n",
       "<style scoped>\n",
       "    .dataframe tbody tr th:only-of-type {\n",
       "        vertical-align: middle;\n",
       "    }\n",
       "\n",
       "    .dataframe tbody tr th {\n",
       "        vertical-align: top;\n",
       "    }\n",
       "\n",
       "    .dataframe thead th {\n",
       "        text-align: right;\n",
       "    }\n",
       "</style>\n",
       "<table border=\"1\" class=\"dataframe\">\n",
       "  <thead>\n",
       "    <tr style=\"text-align: right;\">\n",
       "      <th></th>\n",
       "      <th>Month_Year</th>\n",
       "      <th>sex</th>\n",
       "      <th>count</th>\n",
       "    </tr>\n",
       "  </thead>\n",
       "  <tbody>\n",
       "    <tr>\n",
       "      <th>0</th>\n",
       "      <td>July 2021</td>\n",
       "      <td>female</td>\n",
       "      <td>151</td>\n",
       "    </tr>\n",
       "    <tr>\n",
       "      <th>1</th>\n",
       "      <td>July 2021</td>\n",
       "      <td>male</td>\n",
       "      <td>131</td>\n",
       "    </tr>\n",
       "    <tr>\n",
       "      <th>2</th>\n",
       "      <td>June 2021</td>\n",
       "      <td>female</td>\n",
       "      <td>161</td>\n",
       "    </tr>\n",
       "    <tr>\n",
       "      <th>3</th>\n",
       "      <td>June 2021</td>\n",
       "      <td>male</td>\n",
       "      <td>104</td>\n",
       "    </tr>\n",
       "    <tr>\n",
       "      <th>4</th>\n",
       "      <td>May 2021</td>\n",
       "      <td>female</td>\n",
       "      <td>182</td>\n",
       "    </tr>\n",
       "  </tbody>\n",
       "</table>\n",
       "</div>"
      ],
      "text/plain": [
       "  Month_Year     sex  count\n",
       "0  July 2021  female    151\n",
       "1  July 2021    male    131\n",
       "2  June 2021  female    161\n",
       "3  June 2021    male    104\n",
       "4   May 2021  female    182"
      ]
     },
     "execution_count": 43,
     "metadata": {},
     "output_type": "execute_result"
    }
   ],
   "source": [
    "male_female_df = patient_df.groupby(['Month_Year','sex']).sum().reset_index()\n",
    "\n",
    "male_female_df.head()"
   ]
  },
  {
   "cell_type": "code",
   "execution_count": 62,
   "metadata": {},
   "outputs": [
    {
     "data": {
      "text/html": [
       "<div>\n",
       "<style scoped>\n",
       "    .dataframe tbody tr th:only-of-type {\n",
       "        vertical-align: middle;\n",
       "    }\n",
       "\n",
       "    .dataframe tbody tr th {\n",
       "        vertical-align: top;\n",
       "    }\n",
       "\n",
       "    .dataframe thead th {\n",
       "        text-align: right;\n",
       "    }\n",
       "</style>\n",
       "<table border=\"1\" class=\"dataframe\">\n",
       "  <thead>\n",
       "    <tr style=\"text-align: right;\">\n",
       "      <th>sex</th>\n",
       "      <th>Month_Year</th>\n",
       "      <th>female</th>\n",
       "      <th>male</th>\n",
       "    </tr>\n",
       "  </thead>\n",
       "  <tbody>\n",
       "    <tr>\n",
       "      <th>0</th>\n",
       "      <td>July 2021</td>\n",
       "      <td>151</td>\n",
       "      <td>131</td>\n",
       "    </tr>\n",
       "    <tr>\n",
       "      <th>1</th>\n",
       "      <td>June 2021</td>\n",
       "      <td>161</td>\n",
       "      <td>104</td>\n",
       "    </tr>\n",
       "    <tr>\n",
       "      <th>2</th>\n",
       "      <td>May 2021</td>\n",
       "      <td>182</td>\n",
       "      <td>108</td>\n",
       "    </tr>\n",
       "  </tbody>\n",
       "</table>\n",
       "</div>"
      ],
      "text/plain": [
       "sex Month_Year  female  male\n",
       "0    July 2021     151   131\n",
       "1    June 2021     161   104\n",
       "2     May 2021     182   108"
      ]
     },
     "execution_count": 62,
     "metadata": {},
     "output_type": "execute_result"
    }
   ],
   "source": [
    "male_female_df_pivot = male_female_df.pivot(index='Month_Year',columns='sex',values='count').reset_index()\n",
    "male_female_df_pivot"
   ]
  },
  {
   "cell_type": "markdown",
   "metadata": {},
   "source": [
    "###  Answer 3: The ratio of female to male patient visits per month"
   ]
  },
  {
   "cell_type": "code",
   "execution_count": 65,
   "metadata": {},
   "outputs": [
    {
     "data": {
      "text/html": [
       "<div>\n",
       "<style scoped>\n",
       "    .dataframe tbody tr th:only-of-type {\n",
       "        vertical-align: middle;\n",
       "    }\n",
       "\n",
       "    .dataframe tbody tr th {\n",
       "        vertical-align: top;\n",
       "    }\n",
       "\n",
       "    .dataframe thead th {\n",
       "        text-align: right;\n",
       "    }\n",
       "</style>\n",
       "<table border=\"1\" class=\"dataframe\">\n",
       "  <thead>\n",
       "    <tr style=\"text-align: right;\">\n",
       "      <th>sex</th>\n",
       "      <th>Month_Year</th>\n",
       "      <th>female</th>\n",
       "      <th>male</th>\n",
       "      <th>Male_female_Ratio</th>\n",
       "    </tr>\n",
       "  </thead>\n",
       "  <tbody>\n",
       "    <tr>\n",
       "      <th>0</th>\n",
       "      <td>July 2021</td>\n",
       "      <td>151</td>\n",
       "      <td>131</td>\n",
       "      <td>0.867550</td>\n",
       "    </tr>\n",
       "    <tr>\n",
       "      <th>1</th>\n",
       "      <td>June 2021</td>\n",
       "      <td>161</td>\n",
       "      <td>104</td>\n",
       "      <td>0.645963</td>\n",
       "    </tr>\n",
       "    <tr>\n",
       "      <th>2</th>\n",
       "      <td>May 2021</td>\n",
       "      <td>182</td>\n",
       "      <td>108</td>\n",
       "      <td>0.593407</td>\n",
       "    </tr>\n",
       "  </tbody>\n",
       "</table>\n",
       "</div>"
      ],
      "text/plain": [
       "sex Month_Year  female  male  Male_female_Ratio\n",
       "0    July 2021     151   131           0.867550\n",
       "1    June 2021     161   104           0.645963\n",
       "2     May 2021     182   108           0.593407"
      ]
     },
     "execution_count": 65,
     "metadata": {},
     "output_type": "execute_result"
    }
   ],
   "source": [
    "male_female_df_pivot[\"Male_female_Ratio\"] = male_female_df_pivot[\"male\"]/male_female_df_pivot[\"female\"]\n",
    "\n",
    "male_female_df_pivot"
   ]
  },
  {
   "cell_type": "markdown",
   "metadata": {},
   "source": [
    "### To get Visualization"
   ]
  },
  {
   "cell_type": "code",
   "execution_count": 44,
   "metadata": {},
   "outputs": [
    {
     "data": {
      "application/vnd.plotly.v1+json": {
       "config": {
        "plotlyServerURL": "https://plot.ly"
       },
       "data": [
        {
         "alignmentgroup": "True",
         "hovertemplate": "sex=female<br>Month_Year=%{x}<br>count=%{y}<extra></extra>",
         "legendgroup": "female",
         "marker": {
          "color": "#636efa",
          "pattern": {
           "shape": ""
          }
         },
         "name": "female",
         "offsetgroup": "female",
         "orientation": "v",
         "showlegend": true,
         "textposition": "auto",
         "texttemplate": "%{y:count}",
         "type": "bar",
         "x": [
          "July 2021",
          "June 2021",
          "May 2021"
         ],
         "xaxis": "x",
         "y": [
          151,
          161,
          182
         ],
         "yaxis": "y"
        },
        {
         "alignmentgroup": "True",
         "hovertemplate": "sex=male<br>Month_Year=%{x}<br>count=%{y}<extra></extra>",
         "legendgroup": "male",
         "marker": {
          "color": "#EF553B",
          "pattern": {
           "shape": ""
          }
         },
         "name": "male",
         "offsetgroup": "male",
         "orientation": "v",
         "showlegend": true,
         "textposition": "auto",
         "texttemplate": "%{y:count}",
         "type": "bar",
         "x": [
          "July 2021",
          "June 2021",
          "May 2021"
         ],
         "xaxis": "x",
         "y": [
          131,
          104,
          108
         ],
         "yaxis": "y"
        }
       ],
       "layout": {
        "barmode": "stack",
        "legend": {
         "title": {
          "text": "sex"
         },
         "tracegroupgap": 0
        },
        "template": {
         "data": {
          "bar": [
           {
            "error_x": {
             "color": "#2a3f5f"
            },
            "error_y": {
             "color": "#2a3f5f"
            },
            "marker": {
             "line": {
              "color": "#E5ECF6",
              "width": 0.5
             },
             "pattern": {
              "fillmode": "overlay",
              "size": 10,
              "solidity": 0.2
             }
            },
            "type": "bar"
           }
          ],
          "barpolar": [
           {
            "marker": {
             "line": {
              "color": "#E5ECF6",
              "width": 0.5
             },
             "pattern": {
              "fillmode": "overlay",
              "size": 10,
              "solidity": 0.2
             }
            },
            "type": "barpolar"
           }
          ],
          "carpet": [
           {
            "aaxis": {
             "endlinecolor": "#2a3f5f",
             "gridcolor": "white",
             "linecolor": "white",
             "minorgridcolor": "white",
             "startlinecolor": "#2a3f5f"
            },
            "baxis": {
             "endlinecolor": "#2a3f5f",
             "gridcolor": "white",
             "linecolor": "white",
             "minorgridcolor": "white",
             "startlinecolor": "#2a3f5f"
            },
            "type": "carpet"
           }
          ],
          "choropleth": [
           {
            "colorbar": {
             "outlinewidth": 0,
             "ticks": ""
            },
            "type": "choropleth"
           }
          ],
          "contour": [
           {
            "colorbar": {
             "outlinewidth": 0,
             "ticks": ""
            },
            "colorscale": [
             [
              0,
              "#0d0887"
             ],
             [
              0.1111111111111111,
              "#46039f"
             ],
             [
              0.2222222222222222,
              "#7201a8"
             ],
             [
              0.3333333333333333,
              "#9c179e"
             ],
             [
              0.4444444444444444,
              "#bd3786"
             ],
             [
              0.5555555555555556,
              "#d8576b"
             ],
             [
              0.6666666666666666,
              "#ed7953"
             ],
             [
              0.7777777777777778,
              "#fb9f3a"
             ],
             [
              0.8888888888888888,
              "#fdca26"
             ],
             [
              1,
              "#f0f921"
             ]
            ],
            "type": "contour"
           }
          ],
          "contourcarpet": [
           {
            "colorbar": {
             "outlinewidth": 0,
             "ticks": ""
            },
            "type": "contourcarpet"
           }
          ],
          "heatmap": [
           {
            "colorbar": {
             "outlinewidth": 0,
             "ticks": ""
            },
            "colorscale": [
             [
              0,
              "#0d0887"
             ],
             [
              0.1111111111111111,
              "#46039f"
             ],
             [
              0.2222222222222222,
              "#7201a8"
             ],
             [
              0.3333333333333333,
              "#9c179e"
             ],
             [
              0.4444444444444444,
              "#bd3786"
             ],
             [
              0.5555555555555556,
              "#d8576b"
             ],
             [
              0.6666666666666666,
              "#ed7953"
             ],
             [
              0.7777777777777778,
              "#fb9f3a"
             ],
             [
              0.8888888888888888,
              "#fdca26"
             ],
             [
              1,
              "#f0f921"
             ]
            ],
            "type": "heatmap"
           }
          ],
          "heatmapgl": [
           {
            "colorbar": {
             "outlinewidth": 0,
             "ticks": ""
            },
            "colorscale": [
             [
              0,
              "#0d0887"
             ],
             [
              0.1111111111111111,
              "#46039f"
             ],
             [
              0.2222222222222222,
              "#7201a8"
             ],
             [
              0.3333333333333333,
              "#9c179e"
             ],
             [
              0.4444444444444444,
              "#bd3786"
             ],
             [
              0.5555555555555556,
              "#d8576b"
             ],
             [
              0.6666666666666666,
              "#ed7953"
             ],
             [
              0.7777777777777778,
              "#fb9f3a"
             ],
             [
              0.8888888888888888,
              "#fdca26"
             ],
             [
              1,
              "#f0f921"
             ]
            ],
            "type": "heatmapgl"
           }
          ],
          "histogram": [
           {
            "marker": {
             "pattern": {
              "fillmode": "overlay",
              "size": 10,
              "solidity": 0.2
             }
            },
            "type": "histogram"
           }
          ],
          "histogram2d": [
           {
            "colorbar": {
             "outlinewidth": 0,
             "ticks": ""
            },
            "colorscale": [
             [
              0,
              "#0d0887"
             ],
             [
              0.1111111111111111,
              "#46039f"
             ],
             [
              0.2222222222222222,
              "#7201a8"
             ],
             [
              0.3333333333333333,
              "#9c179e"
             ],
             [
              0.4444444444444444,
              "#bd3786"
             ],
             [
              0.5555555555555556,
              "#d8576b"
             ],
             [
              0.6666666666666666,
              "#ed7953"
             ],
             [
              0.7777777777777778,
              "#fb9f3a"
             ],
             [
              0.8888888888888888,
              "#fdca26"
             ],
             [
              1,
              "#f0f921"
             ]
            ],
            "type": "histogram2d"
           }
          ],
          "histogram2dcontour": [
           {
            "colorbar": {
             "outlinewidth": 0,
             "ticks": ""
            },
            "colorscale": [
             [
              0,
              "#0d0887"
             ],
             [
              0.1111111111111111,
              "#46039f"
             ],
             [
              0.2222222222222222,
              "#7201a8"
             ],
             [
              0.3333333333333333,
              "#9c179e"
             ],
             [
              0.4444444444444444,
              "#bd3786"
             ],
             [
              0.5555555555555556,
              "#d8576b"
             ],
             [
              0.6666666666666666,
              "#ed7953"
             ],
             [
              0.7777777777777778,
              "#fb9f3a"
             ],
             [
              0.8888888888888888,
              "#fdca26"
             ],
             [
              1,
              "#f0f921"
             ]
            ],
            "type": "histogram2dcontour"
           }
          ],
          "mesh3d": [
           {
            "colorbar": {
             "outlinewidth": 0,
             "ticks": ""
            },
            "type": "mesh3d"
           }
          ],
          "parcoords": [
           {
            "line": {
             "colorbar": {
              "outlinewidth": 0,
              "ticks": ""
             }
            },
            "type": "parcoords"
           }
          ],
          "pie": [
           {
            "automargin": true,
            "type": "pie"
           }
          ],
          "scatter": [
           {
            "marker": {
             "colorbar": {
              "outlinewidth": 0,
              "ticks": ""
             }
            },
            "type": "scatter"
           }
          ],
          "scatter3d": [
           {
            "line": {
             "colorbar": {
              "outlinewidth": 0,
              "ticks": ""
             }
            },
            "marker": {
             "colorbar": {
              "outlinewidth": 0,
              "ticks": ""
             }
            },
            "type": "scatter3d"
           }
          ],
          "scattercarpet": [
           {
            "marker": {
             "colorbar": {
              "outlinewidth": 0,
              "ticks": ""
             }
            },
            "type": "scattercarpet"
           }
          ],
          "scattergeo": [
           {
            "marker": {
             "colorbar": {
              "outlinewidth": 0,
              "ticks": ""
             }
            },
            "type": "scattergeo"
           }
          ],
          "scattergl": [
           {
            "marker": {
             "colorbar": {
              "outlinewidth": 0,
              "ticks": ""
             }
            },
            "type": "scattergl"
           }
          ],
          "scattermapbox": [
           {
            "marker": {
             "colorbar": {
              "outlinewidth": 0,
              "ticks": ""
             }
            },
            "type": "scattermapbox"
           }
          ],
          "scatterpolar": [
           {
            "marker": {
             "colorbar": {
              "outlinewidth": 0,
              "ticks": ""
             }
            },
            "type": "scatterpolar"
           }
          ],
          "scatterpolargl": [
           {
            "marker": {
             "colorbar": {
              "outlinewidth": 0,
              "ticks": ""
             }
            },
            "type": "scatterpolargl"
           }
          ],
          "scatterternary": [
           {
            "marker": {
             "colorbar": {
              "outlinewidth": 0,
              "ticks": ""
             }
            },
            "type": "scatterternary"
           }
          ],
          "surface": [
           {
            "colorbar": {
             "outlinewidth": 0,
             "ticks": ""
            },
            "colorscale": [
             [
              0,
              "#0d0887"
             ],
             [
              0.1111111111111111,
              "#46039f"
             ],
             [
              0.2222222222222222,
              "#7201a8"
             ],
             [
              0.3333333333333333,
              "#9c179e"
             ],
             [
              0.4444444444444444,
              "#bd3786"
             ],
             [
              0.5555555555555556,
              "#d8576b"
             ],
             [
              0.6666666666666666,
              "#ed7953"
             ],
             [
              0.7777777777777778,
              "#fb9f3a"
             ],
             [
              0.8888888888888888,
              "#fdca26"
             ],
             [
              1,
              "#f0f921"
             ]
            ],
            "type": "surface"
           }
          ],
          "table": [
           {
            "cells": {
             "fill": {
              "color": "#EBF0F8"
             },
             "line": {
              "color": "white"
             }
            },
            "header": {
             "fill": {
              "color": "#C8D4E3"
             },
             "line": {
              "color": "white"
             }
            },
            "type": "table"
           }
          ]
         },
         "layout": {
          "annotationdefaults": {
           "arrowcolor": "#2a3f5f",
           "arrowhead": 0,
           "arrowwidth": 1
          },
          "autotypenumbers": "strict",
          "coloraxis": {
           "colorbar": {
            "outlinewidth": 0,
            "ticks": ""
           }
          },
          "colorscale": {
           "diverging": [
            [
             0,
             "#8e0152"
            ],
            [
             0.1,
             "#c51b7d"
            ],
            [
             0.2,
             "#de77ae"
            ],
            [
             0.3,
             "#f1b6da"
            ],
            [
             0.4,
             "#fde0ef"
            ],
            [
             0.5,
             "#f7f7f7"
            ],
            [
             0.6,
             "#e6f5d0"
            ],
            [
             0.7,
             "#b8e186"
            ],
            [
             0.8,
             "#7fbc41"
            ],
            [
             0.9,
             "#4d9221"
            ],
            [
             1,
             "#276419"
            ]
           ],
           "sequential": [
            [
             0,
             "#0d0887"
            ],
            [
             0.1111111111111111,
             "#46039f"
            ],
            [
             0.2222222222222222,
             "#7201a8"
            ],
            [
             0.3333333333333333,
             "#9c179e"
            ],
            [
             0.4444444444444444,
             "#bd3786"
            ],
            [
             0.5555555555555556,
             "#d8576b"
            ],
            [
             0.6666666666666666,
             "#ed7953"
            ],
            [
             0.7777777777777778,
             "#fb9f3a"
            ],
            [
             0.8888888888888888,
             "#fdca26"
            ],
            [
             1,
             "#f0f921"
            ]
           ],
           "sequentialminus": [
            [
             0,
             "#0d0887"
            ],
            [
             0.1111111111111111,
             "#46039f"
            ],
            [
             0.2222222222222222,
             "#7201a8"
            ],
            [
             0.3333333333333333,
             "#9c179e"
            ],
            [
             0.4444444444444444,
             "#bd3786"
            ],
            [
             0.5555555555555556,
             "#d8576b"
            ],
            [
             0.6666666666666666,
             "#ed7953"
            ],
            [
             0.7777777777777778,
             "#fb9f3a"
            ],
            [
             0.8888888888888888,
             "#fdca26"
            ],
            [
             1,
             "#f0f921"
            ]
           ]
          },
          "colorway": [
           "#636efa",
           "#EF553B",
           "#00cc96",
           "#ab63fa",
           "#FFA15A",
           "#19d3f3",
           "#FF6692",
           "#B6E880",
           "#FF97FF",
           "#FECB52"
          ],
          "font": {
           "color": "#2a3f5f"
          },
          "geo": {
           "bgcolor": "white",
           "lakecolor": "white",
           "landcolor": "#E5ECF6",
           "showlakes": true,
           "showland": true,
           "subunitcolor": "white"
          },
          "hoverlabel": {
           "align": "left"
          },
          "hovermode": "closest",
          "mapbox": {
           "style": "light"
          },
          "paper_bgcolor": "white",
          "plot_bgcolor": "#E5ECF6",
          "polar": {
           "angularaxis": {
            "gridcolor": "white",
            "linecolor": "white",
            "ticks": ""
           },
           "bgcolor": "#E5ECF6",
           "radialaxis": {
            "gridcolor": "white",
            "linecolor": "white",
            "ticks": ""
           }
          },
          "scene": {
           "xaxis": {
            "backgroundcolor": "#E5ECF6",
            "gridcolor": "white",
            "gridwidth": 2,
            "linecolor": "white",
            "showbackground": true,
            "ticks": "",
            "zerolinecolor": "white"
           },
           "yaxis": {
            "backgroundcolor": "#E5ECF6",
            "gridcolor": "white",
            "gridwidth": 2,
            "linecolor": "white",
            "showbackground": true,
            "ticks": "",
            "zerolinecolor": "white"
           },
           "zaxis": {
            "backgroundcolor": "#E5ECF6",
            "gridcolor": "white",
            "gridwidth": 2,
            "linecolor": "white",
            "showbackground": true,
            "ticks": "",
            "zerolinecolor": "white"
           }
          },
          "shapedefaults": {
           "line": {
            "color": "#2a3f5f"
           }
          },
          "ternary": {
           "aaxis": {
            "gridcolor": "white",
            "linecolor": "white",
            "ticks": ""
           },
           "baxis": {
            "gridcolor": "white",
            "linecolor": "white",
            "ticks": ""
           },
           "bgcolor": "#E5ECF6",
           "caxis": {
            "gridcolor": "white",
            "linecolor": "white",
            "ticks": ""
           }
          },
          "title": {
           "x": 0.05
          },
          "xaxis": {
           "automargin": true,
           "gridcolor": "white",
           "linecolor": "white",
           "ticks": "",
           "title": {
            "standoff": 15
           },
           "zerolinecolor": "white",
           "zerolinewidth": 2
          },
          "yaxis": {
           "automargin": true,
           "gridcolor": "white",
           "linecolor": "white",
           "ticks": "",
           "title": {
            "standoff": 15
           },
           "zerolinecolor": "white",
           "zerolinewidth": 2
          }
         }
        },
        "title": {
         "text": "Plot of Patient Vists vs Date of Visits (Line Chart)"
        },
        "xaxis": {
         "anchor": "y",
         "domain": [
          0,
          1
         ],
         "title": {
          "text": "Month_Year"
         }
        },
        "yaxis": {
         "anchor": "x",
         "domain": [
          0,
          1
         ],
         "title": {
          "text": "count"
         }
        }
       }
      }
     },
     "metadata": {},
     "output_type": "display_data"
    }
   ],
   "source": [
    "fig = px.bar(male_female_df, x=\"Month_Year\", y=\"count\", color=\"sex\",  \n",
    "            hover_data=['count'], barmode = 'stack', text_auto=\"count\",title=\"Plot of Patient Vists vs Date of Visits (Line Chart)\") \n",
    " \n",
    "\n",
    "fig.show()"
   ]
  },
  {
   "cell_type": "code",
   "execution_count": null,
   "metadata": {},
   "outputs": [],
   "source": []
  }
 ],
 "metadata": {
  "interpreter": {
   "hash": "dc2c56bb5d44305fcf2218bbd1909de56720ac91a928af8aee1fa6afa8b4e4a2"
  },
  "kernelspec": {
   "display_name": "Python 3.9.6 64-bit",
   "language": "python",
   "name": "python3"
  },
  "language_info": {
   "codemirror_mode": {
    "name": "ipython",
    "version": 3
   },
   "file_extension": ".py",
   "mimetype": "text/x-python",
   "name": "python",
   "nbconvert_exporter": "python",
   "pygments_lexer": "ipython3",
   "version": "3.9.6"
  },
  "orig_nbformat": 4
 },
 "nbformat": 4,
 "nbformat_minor": 2
}
